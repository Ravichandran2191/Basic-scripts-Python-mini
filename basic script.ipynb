{
 "cells": [
  {
   "cell_type": "code",
   "execution_count": 1,
   "id": "79c5d120",
   "metadata": {},
   "outputs": [
    {
     "data": {
      "text/plain": [
       "4"
      ]
     },
     "execution_count": 1,
     "metadata": {},
     "output_type": "execute_result"
    }
   ],
   "source": [
    "2+2"
   ]
  },
  {
   "cell_type": "code",
   "execution_count": 2,
   "id": "60f8c3a8",
   "metadata": {},
   "outputs": [
    {
     "data": {
      "text/plain": [
       "4"
      ]
     },
     "execution_count": 2,
     "metadata": {},
     "output_type": "execute_result"
    }
   ],
   "source": [
    "2*2"
   ]
  },
  {
   "cell_type": "code",
   "execution_count": 3,
   "id": "4eaab976",
   "metadata": {},
   "outputs": [
    {
     "data": {
      "text/plain": [
       "3"
      ]
     },
     "execution_count": 3,
     "metadata": {},
     "output_type": "execute_result"
    }
   ],
   "source": [
    "4-1"
   ]
  },
  {
   "cell_type": "code",
   "execution_count": 4,
   "id": "cdfd1429",
   "metadata": {},
   "outputs": [
    {
     "data": {
      "text/plain": [
       "2.0"
      ]
     },
     "execution_count": 4,
     "metadata": {},
     "output_type": "execute_result"
    }
   ],
   "source": [
    "4/2"
   ]
  },
  {
   "cell_type": "code",
   "execution_count": 1,
   "id": "097ede10",
   "metadata": {},
   "outputs": [
    {
     "data": {
      "text/plain": [
       "25"
      ]
     },
     "execution_count": 1,
     "metadata": {},
     "output_type": "execute_result"
    }
   ],
   "source": [
    "5 ** 2"
   ]
  },
  {
   "cell_type": "code",
   "execution_count": 6,
   "id": "425a4edf",
   "metadata": {},
   "outputs": [],
   "source": [
    "import numpy as np"
   ]
  },
  {
   "cell_type": "code",
   "execution_count": 3,
   "id": "56ec5b39",
   "metadata": {},
   "outputs": [
    {
     "name": "stdout",
     "output_type": "stream",
     "text": [
      "3\n"
     ]
    }
   ],
   "source": [
    "import numpy as np\n",
    "np.sqrt(9)\n",
    "\n",
    "x = 3\n",
    "print(x)\n"
   ]
  },
  {
   "cell_type": "code",
   "execution_count": 2,
   "id": "d6f328e5",
   "metadata": {},
   "outputs": [
    {
     "name": "stdout",
     "output_type": "stream",
     "text": [
      "3\n"
     ]
    }
   ],
   "source": [
    "x = 3\n",
    "print(x)"
   ]
  },
  {
   "cell_type": "code",
   "execution_count": 14,
   "id": "e689f935",
   "metadata": {},
   "outputs": [],
   "source": [
    "y = 3j"
   ]
  },
  {
   "cell_type": "code",
   "execution_count": 15,
   "id": "7de52286",
   "metadata": {},
   "outputs": [
    {
     "data": {
      "text/plain": [
       "complex"
      ]
     },
     "execution_count": 15,
     "metadata": {},
     "output_type": "execute_result"
    }
   ],
   "source": [
    "type(y)"
   ]
  },
  {
   "cell_type": "code",
   "execution_count": 5,
   "id": "faa36aee",
   "metadata": {},
   "outputs": [
    {
     "data": {
      "text/plain": [
       "array([  1,   4,   9,  16,  25,  36,  49,  64,  81, 100], dtype=int32)"
      ]
     },
     "execution_count": 5,
     "metadata": {},
     "output_type": "execute_result"
    }
   ],
   "source": [
    "import numpy\n",
    "\n",
    "numpy.square([1,2,3,4,5,6,7,8,9,10])\n"
   ]
  },
  {
   "cell_type": "code",
   "execution_count": 4,
   "id": "3922d931",
   "metadata": {},
   "outputs": [
    {
     "data": {
      "text/plain": [
       "array([5., 4., 7.])"
      ]
     },
     "execution_count": 4,
     "metadata": {},
     "output_type": "execute_result"
    }
   ],
   "source": [
    "numpy.sqrt([25,16,49])"
   ]
  },
  {
   "cell_type": "code",
   "execution_count": 10,
   "id": "0b35b07f",
   "metadata": {},
   "outputs": [
    {
     "data": {
      "text/plain": [
       "array([5., 4., 7., 8.])"
      ]
     },
     "execution_count": 10,
     "metadata": {},
     "output_type": "execute_result"
    }
   ],
   "source": [
    "np.sqrt([25,16,49,64])"
   ]
  },
  {
   "cell_type": "code",
   "execution_count": 4,
   "id": "098b0e0e",
   "metadata": {},
   "outputs": [
    {
     "name": "stdout",
     "output_type": "stream",
     "text": [
      " we are learning python\n"
     ]
    }
   ],
   "source": [
    "# we are learning python\n",
    "\n",
    "print(\" we are learning python\")\n"
   ]
  },
  {
   "cell_type": "code",
   "execution_count": 5,
   "id": "4a696440",
   "metadata": {},
   "outputs": [],
   "source": [
    "x = np.sqrt(9)"
   ]
  },
  {
   "cell_type": "code",
   "execution_count": 6,
   "id": "02b3015d",
   "metadata": {},
   "outputs": [
    {
     "name": "stdout",
     "output_type": "stream",
     "text": [
      "3.0\n"
     ]
    }
   ],
   "source": [
    "print(x)"
   ]
  },
  {
   "cell_type": "code",
   "execution_count": 7,
   "id": "4e217812",
   "metadata": {},
   "outputs": [
    {
     "data": {
      "text/plain": [
       "numpy.float64"
      ]
     },
     "execution_count": 7,
     "metadata": {},
     "output_type": "execute_result"
    }
   ],
   "source": [
    "type(x)"
   ]
  },
  {
   "cell_type": "code",
   "execution_count": 576,
   "id": "e9f12c03",
   "metadata": {},
   "outputs": [],
   "source": [
    "import numpy as np"
   ]
  },
  {
   "cell_type": "code",
   "execution_count": 578,
   "id": "355315b0",
   "metadata": {},
   "outputs": [],
   "source": [
    "x = np.array([1,2])"
   ]
  },
  {
   "cell_type": "code",
   "execution_count": 579,
   "id": "6cd6cfc7",
   "metadata": {},
   "outputs": [
    {
     "data": {
      "text/plain": [
       "array([1, 2])"
      ]
     },
     "execution_count": 579,
     "metadata": {},
     "output_type": "execute_result"
    }
   ],
   "source": [
    "x"
   ]
  },
  {
   "cell_type": "code",
   "execution_count": 582,
   "id": "4f46fc0d",
   "metadata": {},
   "outputs": [
    {
     "data": {
      "text/plain": [
       "5.34"
      ]
     },
     "execution_count": 582,
     "metadata": {},
     "output_type": "execute_result"
    }
   ],
   "source": [
    "x = round(5.345,2)\n",
    "x"
   ]
  },
  {
   "cell_type": "code",
   "execution_count": null,
   "id": "68a0b3e0",
   "metadata": {},
   "outputs": [],
   "source": [
    "int , float , string \n",
    "\n",
    "list , dict"
   ]
  },
  {
   "cell_type": "code",
   "execution_count": 583,
   "id": "d3911446",
   "metadata": {},
   "outputs": [
    {
     "data": {
      "text/plain": [
       "1"
      ]
     },
     "execution_count": 583,
     "metadata": {},
     "output_type": "execute_result"
    }
   ],
   "source": [
    "x = 5"
   ]
  },
  {
   "cell_type": "code",
   "execution_count": 584,
   "id": "20bd8052",
   "metadata": {},
   "outputs": [
    {
     "data": {
      "text/plain": [
       "1"
      ]
     },
     "execution_count": 584,
     "metadata": {},
     "output_type": "execute_result"
    }
   ],
   "source": [
    "9%2"
   ]
  },
  {
   "cell_type": "code",
   "execution_count": 586,
   "id": "dbc3a240",
   "metadata": {},
   "outputs": [
    {
     "data": {
      "text/plain": [
       "2"
      ]
     },
     "execution_count": 586,
     "metadata": {},
     "output_type": "execute_result"
    }
   ],
   "source": [
    "int(5/2)"
   ]
  },
  {
   "cell_type": "code",
   "execution_count": 593,
   "id": "07dde4bd",
   "metadata": {},
   "outputs": [],
   "source": [
    "x = 2\n",
    "x = int(3)\n",
    "x = str(\"murali\")\n",
    "y = str(3)\n",
    "z= float(3.11)"
   ]
  },
  {
   "cell_type": "code",
   "execution_count": 594,
   "id": "3cb4fe08",
   "metadata": {},
   "outputs": [
    {
     "name": "stdout",
     "output_type": "stream",
     "text": [
      "g is GT\n"
     ]
    }
   ],
   "source": [
    "if 5 < 8:\n",
    "    print(\"g is GT\")"
   ]
  },
  {
   "cell_type": "code",
   "execution_count": 595,
   "id": "b11335f7",
   "metadata": {},
   "outputs": [
    {
     "name": "stdout",
     "output_type": "stream",
     "text": [
      "enter your name :murali\n"
     ]
    }
   ],
   "source": [
    "name = input(\"enter your name :\")  -- string"
   ]
  },
  {
   "cell_type": "code",
   "execution_count": 597,
   "id": "6dba3bd9",
   "metadata": {},
   "outputs": [
    {
     "data": {
      "text/plain": [
       "str"
      ]
     },
     "execution_count": 597,
     "metadata": {},
     "output_type": "execute_result"
    }
   ],
   "source": [
    "type(name)"
   ]
  },
  {
   "cell_type": "code",
   "execution_count": 598,
   "id": "adf3c8e8",
   "metadata": {},
   "outputs": [
    {
     "name": "stdout",
     "output_type": "stream",
     "text": [
      "enter ur age :23\n"
     ]
    }
   ],
   "source": [
    "age = int(input(\"enter ur age :\"))"
   ]
  },
  {
   "cell_type": "code",
   "execution_count": 599,
   "id": "b79cc9b3",
   "metadata": {},
   "outputs": [
    {
     "data": {
      "text/plain": [
       "int"
      ]
     },
     "execution_count": 599,
     "metadata": {},
     "output_type": "execute_result"
    }
   ],
   "source": [
    "type(age)"
   ]
  },
  {
   "cell_type": "code",
   "execution_count": null,
   "id": "2d818ec1",
   "metadata": {},
   "outputs": [],
   "source": [
    "list - collection of objects"
   ]
  },
  {
   "cell_type": "code",
   "execution_count": 600,
   "id": "970fa90a",
   "metadata": {},
   "outputs": [],
   "source": [
    "ls = ['tree','mango','apple']\n",
    "        0       1      2"
   ]
  },
  {
   "cell_type": "code",
   "execution_count": 601,
   "id": "ecde6f1f",
   "metadata": {},
   "outputs": [
    {
     "data": {
      "text/plain": [
       "list"
      ]
     },
     "execution_count": 601,
     "metadata": {},
     "output_type": "execute_result"
    }
   ],
   "source": [
    "type(ls)"
   ]
  },
  {
   "cell_type": "code",
   "execution_count": 602,
   "id": "328107fd",
   "metadata": {},
   "outputs": [
    {
     "data": {
      "text/plain": [
       "3"
      ]
     },
     "execution_count": 602,
     "metadata": {},
     "output_type": "execute_result"
    }
   ],
   "source": [
    "len(ls)"
   ]
  },
  {
   "cell_type": "code",
   "execution_count": 603,
   "id": "8cf787c6",
   "metadata": {},
   "outputs": [
    {
     "data": {
      "text/plain": [
       "'tree'"
      ]
     },
     "execution_count": 603,
     "metadata": {},
     "output_type": "execute_result"
    }
   ],
   "source": [
    "ls[0]   index"
   ]
  },
  {
   "cell_type": "code",
   "execution_count": 605,
   "id": "69c04ff8",
   "metadata": {},
   "outputs": [
    {
     "data": {
      "text/plain": [
       "'apple'"
      ]
     },
     "execution_count": 605,
     "metadata": {},
     "output_type": "execute_result"
    }
   ],
   "source": [
    "ls[2]"
   ]
  },
  {
   "cell_type": "code",
   "execution_count": 606,
   "id": "7056bfc6",
   "metadata": {},
   "outputs": [],
   "source": [
    "ls1 = [1,2,4,6.11,\"new\"]"
   ]
  },
  {
   "cell_type": "code",
   "execution_count": 607,
   "id": "4ec99ffd",
   "metadata": {},
   "outputs": [
    {
     "data": {
      "text/plain": [
       "[1, 2, 4, 6.11, 'new']"
      ]
     },
     "execution_count": 607,
     "metadata": {},
     "output_type": "execute_result"
    }
   ],
   "source": [
    "ls1"
   ]
  },
  {
   "cell_type": "code",
   "execution_count": 611,
   "id": "f3e02b1b",
   "metadata": {},
   "outputs": [
    {
     "name": "stdout",
     "output_type": "stream",
     "text": [
      "salary is gt than 20\n"
     ]
    }
   ],
   "source": [
    "#indent python\n",
    "\n",
    "# x = 8\n",
    "# y = 84\n",
    "\n",
    "# # if cond:\n",
    "# #     sttatment\n",
    "    \n",
    "# if 4 < 10:\n",
    "#     print(\"4 is GT 10\")\n",
    "# else:\n",
    "#     print(\"no\")\n",
    "    \n",
    "    \n",
    "salary = 30\n",
    "  \n",
    "if salary > 20 :                         \n",
    "    print(\"salary is gt than 20\")              \n",
    "# elif x == 30:\n",
    "#     print(\"eq 30\")\n",
    "else:\n",
    "    print(\"not less\")\n",
    "    \n",
    "\n",
    "\n"
   ]
  },
  {
   "cell_type": "code",
   "execution_count": 24,
   "id": "dc44d251",
   "metadata": {},
   "outputs": [],
   "source": [
    "x = 10"
   ]
  },
  {
   "cell_type": "code",
   "execution_count": 25,
   "id": "82f4265c",
   "metadata": {},
   "outputs": [
    {
     "name": "stdout",
     "output_type": "stream",
     "text": [
      "pl enter value :1000\n"
     ]
    }
   ],
   "source": [
    "x = input(\"pl enter value :\")"
   ]
  },
  {
   "cell_type": "code",
   "execution_count": 27,
   "id": "51e7e9a8",
   "metadata": {},
   "outputs": [
    {
     "name": "stdout",
     "output_type": "stream",
     "text": [
      "enter ur name:thillai murali\n"
     ]
    }
   ],
   "source": [
    "y = input(\"enter ur name:\")"
   ]
  },
  {
   "cell_type": "code",
   "execution_count": 28,
   "id": "9585cbd9",
   "metadata": {},
   "outputs": [
    {
     "name": "stdout",
     "output_type": "stream",
     "text": [
      "thillai murali\n"
     ]
    }
   ],
   "source": [
    "print(y)"
   ]
  },
  {
   "cell_type": "code",
   "execution_count": null,
   "id": "89af61ba",
   "metadata": {},
   "outputs": [],
   "source": [
    "list - collection of items"
   ]
  },
  {
   "cell_type": "code",
   "execution_count": 29,
   "id": "31a0e428",
   "metadata": {},
   "outputs": [],
   "source": [
    "list1 = [\"tree\",\"mango\",\"banana\"]\n",
    "           0      1        2        - index"
   ]
  },
  {
   "cell_type": "code",
   "execution_count": 30,
   "id": "29c51a9a",
   "metadata": {},
   "outputs": [
    {
     "data": {
      "text/plain": [
       "list"
      ]
     },
     "execution_count": 30,
     "metadata": {},
     "output_type": "execute_result"
    }
   ],
   "source": [
    "type(list1)"
   ]
  },
  {
   "cell_type": "code",
   "execution_count": 35,
   "id": "d9ad1cdf",
   "metadata": {},
   "outputs": [
    {
     "data": {
      "text/plain": [
       "'banana'"
      ]
     },
     "execution_count": 35,
     "metadata": {},
     "output_type": "execute_result"
    }
   ],
   "source": [
    "list1[2]"
   ]
  },
  {
   "cell_type": "code",
   "execution_count": null,
   "id": "c2a343fe",
   "metadata": {},
   "outputs": [],
   "source": [
    "1. you are in road driving a vehicle , red , green , yello , balck  - fine \n",
    "\n",
    "red - stop\n",
    "green - go\n",
    "yellow - ready to go\n",
    "black - no action\n"
   ]
  },
  {
   "cell_type": "code",
   "execution_count": 615,
   "id": "071bd77b",
   "metadata": {},
   "outputs": [
    {
     "name": "stdout",
     "output_type": "stream",
     "text": [
      "Enter your signal status:black\n",
      "no action\n"
     ]
    }
   ],
   "source": [
    "signal = input(\"Enter your signal status:\")\n",
    "\n",
    "if signal == \"red\":\n",
    "    print(\"vehicle is stop\")\n",
    "elif signal == \"green\":\n",
    "    print(\"Going\")\n",
    "elif signal == \"yellow\":\n",
    "    print(\"ready to go\")\n",
    "else:\n",
    "    print(\"no action\")"
   ]
  },
  {
   "cell_type": "code",
   "execution_count": 624,
   "id": "eb942fa7",
   "metadata": {},
   "outputs": [
    {
     "name": "stdout",
     "output_type": "stream",
     "text": [
      "enter your value :4\n",
      "even no\n"
     ]
    }
   ],
   "source": [
    "# odd number\n",
    "# even number\n",
    "\n",
    "x = int(input(\"enter your value :\"))\n",
    "\n",
    "if x == 0:\n",
    "    print(x)\n",
    "elif x%2 == 1:\n",
    "    print(\"odd no\")\n",
    "elif x%2 == 0:\n",
    "    print(\"even no\")\n",
    "else:\n",
    "    print(\"input is wrong\")\n",
    "\n",
    "\n"
   ]
  },
  {
   "cell_type": "code",
   "execution_count": null,
   "id": "0c172a69",
   "metadata": {},
   "outputs": [],
   "source": [
    "# prime number - 1,same number \n",
    "\n",
    "# n/1 , n/n "
   ]
  },
  {
   "cell_type": "code",
   "execution_count": 627,
   "id": "64c7692f",
   "metadata": {},
   "outputs": [
    {
     "data": {
      "text/plain": [
       "1.0"
      ]
     },
     "execution_count": 627,
     "metadata": {},
     "output_type": "execute_result"
    }
   ],
   "source": [
    "# x = 5\n",
    "# x/1 and x/x"
   ]
  },
  {
   "cell_type": "code",
   "execution_count": 621,
   "id": "35a86b98",
   "metadata": {},
   "outputs": [
    {
     "data": {
      "text/plain": [
       "1"
      ]
     },
     "execution_count": 621,
     "metadata": {},
     "output_type": "execute_result"
    }
   ],
   "source": [
    "5%2 2*2 = 4 , 1 - remainder"
   ]
  },
  {
   "cell_type": "code",
   "execution_count": 625,
   "id": "a941ee03",
   "metadata": {},
   "outputs": [
    {
     "data": {
      "text/plain": [
       "0"
      ]
     },
     "execution_count": 625,
     "metadata": {},
     "output_type": "execute_result"
    }
   ],
   "source": [
    "4%2 "
   ]
  },
  {
   "cell_type": "code",
   "execution_count": 628,
   "id": "57edc85b",
   "metadata": {},
   "outputs": [],
   "source": [
    "x = 3\n",
    "y = str(x)"
   ]
  },
  {
   "cell_type": "code",
   "execution_count": 629,
   "id": "100cdd49",
   "metadata": {},
   "outputs": [
    {
     "name": "stdout",
     "output_type": "stream",
     "text": [
      "3 3\n"
     ]
    },
    {
     "data": {
      "text/plain": [
       "(int, str)"
      ]
     },
     "execution_count": 629,
     "metadata": {},
     "output_type": "execute_result"
    }
   ],
   "source": [
    "print(x,y) \n",
    "type(x),type(y)"
   ]
  },
  {
   "cell_type": "code",
   "execution_count": null,
   "id": "1dce7866",
   "metadata": {},
   "outputs": [],
   "source": []
  },
  {
   "cell_type": "code",
   "execution_count": 10,
   "id": "98a78af5",
   "metadata": {},
   "outputs": [],
   "source": [
    "x = \"thillai\""
   ]
  },
  {
   "cell_type": "code",
   "execution_count": 11,
   "id": "35885f7b",
   "metadata": {},
   "outputs": [
    {
     "data": {
      "text/plain": [
       "str"
      ]
     },
     "execution_count": 11,
     "metadata": {},
     "output_type": "execute_result"
    }
   ],
   "source": [
    "type(x)"
   ]
  },
  {
   "cell_type": "code",
   "execution_count": 630,
   "id": "79b9c730",
   "metadata": {},
   "outputs": [],
   "source": [
    "x = str(3)\n",
    "y = int(3)\n",
    "z = float(3)"
   ]
  },
  {
   "cell_type": "code",
   "execution_count": 631,
   "id": "2a687717",
   "metadata": {},
   "outputs": [
    {
     "data": {
      "text/plain": [
       "(str, int, float)"
      ]
     },
     "execution_count": 631,
     "metadata": {},
     "output_type": "execute_result"
    }
   ],
   "source": [
    "type(x),type(y),type(z)"
   ]
  },
  {
   "cell_type": "code",
   "execution_count": null,
   "id": "babe4d25",
   "metadata": {},
   "outputs": [],
   "source": []
  },
  {
   "cell_type": "code",
   "execution_count": null,
   "id": "0f8877d1",
   "metadata": {},
   "outputs": [],
   "source": []
  },
  {
   "cell_type": "code",
   "execution_count": null,
   "id": "cbafd624",
   "metadata": {},
   "outputs": [],
   "source": []
  },
  {
   "cell_type": "code",
   "execution_count": null,
   "id": "7c5dbd8e",
   "metadata": {},
   "outputs": [],
   "source": []
  },
  {
   "cell_type": "code",
   "execution_count": 27,
   "id": "0adfd8df",
   "metadata": {
    "scrolled": true
   },
   "outputs": [
    {
     "data": {
      "text/plain": [
       "(str, int, float)"
      ]
     },
     "execution_count": 27,
     "metadata": {},
     "output_type": "execute_result"
    }
   ],
   "source": [
    "type(x),type(y),type(z)"
   ]
  },
  {
   "cell_type": "code",
   "execution_count": 632,
   "id": "f76dde7f",
   "metadata": {},
   "outputs": [],
   "source": [
    "x,y,z = \"pencil\",\"rubber\",\"box\""
   ]
  },
  {
   "cell_type": "code",
   "execution_count": 634,
   "id": "e7098d87",
   "metadata": {},
   "outputs": [
    {
     "data": {
      "text/plain": [
       "('pencil', 'rubber', 'box')"
      ]
     },
     "execution_count": 634,
     "metadata": {},
     "output_type": "execute_result"
    }
   ],
   "source": [
    "x,y,z"
   ]
  },
  {
   "cell_type": "code",
   "execution_count": 635,
   "id": "3e6079a4",
   "metadata": {},
   "outputs": [],
   "source": [
    "# list input\n",
    "\n",
    "\n",
    "tree = [ \"mango\",\"apple\",\"banana\" ]\n",
    "#            0       1        2\n"
   ]
  },
  {
   "cell_type": "code",
   "execution_count": 638,
   "id": "e440ca79",
   "metadata": {},
   "outputs": [],
   "source": [
    "# tree[3]"
   ]
  },
  {
   "cell_type": "code",
   "execution_count": 639,
   "id": "07a68081",
   "metadata": {},
   "outputs": [
    {
     "data": {
      "text/plain": [
       "list"
      ]
     },
     "execution_count": 639,
     "metadata": {},
     "output_type": "execute_result"
    }
   ],
   "source": [
    "type(tree)"
   ]
  },
  {
   "cell_type": "code",
   "execution_count": 640,
   "id": "157cf03a",
   "metadata": {},
   "outputs": [
    {
     "data": {
      "text/plain": [
       "3"
      ]
     },
     "execution_count": 640,
     "metadata": {},
     "output_type": "execute_result"
    }
   ],
   "source": [
    "len(tree)"
   ]
  },
  {
   "cell_type": "code",
   "execution_count": 35,
   "id": "7f54b9ba",
   "metadata": {},
   "outputs": [
    {
     "data": {
      "text/plain": [
       "'mango'"
      ]
     },
     "execution_count": 35,
     "metadata": {},
     "output_type": "execute_result"
    }
   ],
   "source": [
    "tree[0] - index\n",
    "\n"
   ]
  },
  {
   "cell_type": "code",
   "execution_count": 36,
   "id": "f0842865",
   "metadata": {},
   "outputs": [
    {
     "data": {
      "text/plain": [
       "'apple'"
      ]
     },
     "execution_count": 36,
     "metadata": {},
     "output_type": "execute_result"
    }
   ],
   "source": [
    "tree[1]"
   ]
  },
  {
   "cell_type": "code",
   "execution_count": 37,
   "id": "e045e61c",
   "metadata": {},
   "outputs": [
    {
     "data": {
      "text/plain": [
       "'banana'"
      ]
     },
     "execution_count": 37,
     "metadata": {},
     "output_type": "execute_result"
    }
   ],
   "source": [
    "tree[2]"
   ]
  },
  {
   "cell_type": "code",
   "execution_count": 38,
   "id": "1049abe1",
   "metadata": {},
   "outputs": [
    {
     "data": {
      "text/plain": [
       "3"
      ]
     },
     "execution_count": 38,
     "metadata": {},
     "output_type": "execute_result"
    }
   ],
   "source": [
    "len(tree)"
   ]
  },
  {
   "cell_type": "code",
   "execution_count": 641,
   "id": "699eb2bc",
   "metadata": {},
   "outputs": [
    {
     "data": {
      "text/plain": [
       "7"
      ]
     },
     "execution_count": 641,
     "metadata": {},
     "output_type": "execute_result"
    }
   ],
   "source": [
    "3+4"
   ]
  },
  {
   "cell_type": "code",
   "execution_count": 642,
   "id": "6ce9d583",
   "metadata": {},
   "outputs": [],
   "source": [
    "fname = \"thillai\""
   ]
  },
  {
   "cell_type": "code",
   "execution_count": 643,
   "id": "1a94af75",
   "metadata": {},
   "outputs": [],
   "source": [
    "lname = \"murali\""
   ]
  },
  {
   "cell_type": "code",
   "execution_count": 644,
   "id": "a4578dfa",
   "metadata": {},
   "outputs": [
    {
     "data": {
      "text/plain": [
       "'thillai murali'"
      ]
     },
     "execution_count": 644,
     "metadata": {},
     "output_type": "execute_result"
    }
   ],
   "source": [
    "fname + ' ' + lname"
   ]
  },
  {
   "cell_type": "code",
   "execution_count": 645,
   "id": "7d189b68",
   "metadata": {},
   "outputs": [
    {
     "data": {
      "text/plain": [
       "'thillaimurali'"
      ]
     },
     "execution_count": 645,
     "metadata": {},
     "output_type": "execute_result"
    }
   ],
   "source": [
    "fname + lname"
   ]
  },
  {
   "cell_type": "code",
   "execution_count": null,
   "id": "c62d9129",
   "metadata": {},
   "outputs": [],
   "source": [
    "Built in Data types\n",
    "\n",
    "Text type  --- str\n",
    "Numeric type  - int, float, complex\n",
    "seq. tyep =  list , tuple , range\n",
    "mapping type - dict\n",
    "set type - set\n",
    "boolean - bytes\n",
    "None type - Nonetype\n"
   ]
  },
  {
   "cell_type": "code",
   "execution_count": 646,
   "id": "8a9c7677",
   "metadata": {},
   "outputs": [],
   "source": [
    "x = \"python is easy to learn when are ready to spend efforts\""
   ]
  },
  {
   "cell_type": "code",
   "execution_count": null,
   "id": "df9ab667",
   "metadata": {},
   "outputs": [],
   "source": [
    "a = {1,2,3} , b  = {2,4} , AUB  , A intersection b  , a'"
   ]
  },
  {
   "cell_type": "code",
   "execution_count": null,
   "id": "d1d0d3f6",
   "metadata": {},
   "outputs": [],
   "source": [
    "set - aub = {1,2,3,4} , anb = {2}"
   ]
  },
  {
   "cell_type": "code",
   "execution_count": null,
   "id": "e04c9792",
   "metadata": {},
   "outputs": [],
   "source": []
  },
  {
   "cell_type": "code",
   "execution_count": null,
   "id": "f85b7183",
   "metadata": {},
   "outputs": [],
   "source": []
  },
  {
   "cell_type": "code",
   "execution_count": 647,
   "id": "030fbb6d",
   "metadata": {},
   "outputs": [
    {
     "data": {
      "text/plain": [
       "str"
      ]
     },
     "execution_count": 647,
     "metadata": {},
     "output_type": "execute_result"
    }
   ],
   "source": [
    "type(x)"
   ]
  },
  {
   "cell_type": "code",
   "execution_count": 648,
   "id": "8e4ed770",
   "metadata": {},
   "outputs": [],
   "source": [
    "x = 20j  "
   ]
  },
  {
   "cell_type": "code",
   "execution_count": 649,
   "id": "f25ad161",
   "metadata": {},
   "outputs": [
    {
     "data": {
      "text/plain": [
       "complex"
      ]
     },
     "execution_count": 649,
     "metadata": {},
     "output_type": "execute_result"
    }
   ],
   "source": [
    "type(x)    "
   ]
  },
  {
   "cell_type": "code",
   "execution_count": 650,
   "id": "4709f2c8",
   "metadata": {},
   "outputs": [],
   "source": [
    "x = 1j"
   ]
  },
  {
   "cell_type": "code",
   "execution_count": 651,
   "id": "2f74d906",
   "metadata": {},
   "outputs": [
    {
     "data": {
      "text/plain": [
       "complex"
      ]
     },
     "execution_count": 651,
     "metadata": {},
     "output_type": "execute_result"
    }
   ],
   "source": [
    "type(x)"
   ]
  },
  {
   "cell_type": "code",
   "execution_count": null,
   "id": "ca26aa51",
   "metadata": {},
   "outputs": [],
   "source": [
    "seq. tyep =  list , tuple , range"
   ]
  },
  {
   "cell_type": "code",
   "execution_count": 658,
   "id": "7ffaa1a1",
   "metadata": {},
   "outputs": [],
   "source": [
    "x = range(0,2000) "
   ]
  },
  {
   "cell_type": "code",
   "execution_count": 659,
   "id": "d0b3d5d8",
   "metadata": {},
   "outputs": [
    {
     "data": {
      "text/plain": [
       "range(0, 2000)"
      ]
     },
     "execution_count": 659,
     "metadata": {},
     "output_type": "execute_result"
    }
   ],
   "source": [
    "x"
   ]
  },
  {
   "cell_type": "code",
   "execution_count": 662,
   "id": "9cb07798",
   "metadata": {},
   "outputs": [],
   "source": [
    "x = [\"thillai\",1,2,3,\"a\"]    \n"
   ]
  },
  {
   "cell_type": "code",
   "execution_count": 661,
   "id": "73fb67b8",
   "metadata": {},
   "outputs": [
    {
     "data": {
      "text/plain": [
       "list"
      ]
     },
     "execution_count": 661,
     "metadata": {},
     "output_type": "execute_result"
    }
   ],
   "source": [
    "type(x)"
   ]
  },
  {
   "cell_type": "code",
   "execution_count": 664,
   "id": "71978302",
   "metadata": {},
   "outputs": [
    {
     "data": {
      "text/plain": [
       "tuple"
      ]
     },
     "execution_count": 664,
     "metadata": {},
     "output_type": "execute_result"
    }
   ],
   "source": [
    "x = (\"1\",\"2\",\"3\")\n",
    "type(x)"
   ]
  },
  {
   "cell_type": "code",
   "execution_count": 47,
   "id": "f7523834",
   "metadata": {},
   "outputs": [],
   "source": [
    "x = [1,2,3,4]                  "
   ]
  },
  {
   "cell_type": "code",
   "execution_count": 48,
   "id": "06996a14",
   "metadata": {},
   "outputs": [
    {
     "data": {
      "text/plain": [
       "list"
      ]
     },
     "execution_count": 48,
     "metadata": {},
     "output_type": "execute_result"
    }
   ],
   "source": [
    "type(x)"
   ]
  },
  {
   "cell_type": "code",
   "execution_count": 665,
   "id": "6a2a023f",
   "metadata": {},
   "outputs": [],
   "source": [
    "x = (\"apple\",\"mango\",\"cherry\")"
   ]
  },
  {
   "cell_type": "code",
   "execution_count": 666,
   "id": "6f3be39b",
   "metadata": {},
   "outputs": [
    {
     "data": {
      "text/plain": [
       "tuple"
      ]
     },
     "execution_count": 666,
     "metadata": {},
     "output_type": "execute_result"
    }
   ],
   "source": [
    "type(x)"
   ]
  },
  {
   "cell_type": "code",
   "execution_count": 669,
   "id": "886bf1e0",
   "metadata": {},
   "outputs": [],
   "source": [
    "# dictionay data type \n",
    "\n",
    "# key - value\n",
    "# word - meanind\n",
    "# interest - tamil\n",
    "\n",
    "x = {\"good\" : \"tamil\"} \n",
    "\n",
    "x = {\"name\":\"murali\",\"age\":40}\n",
    "\n",
    "\n"
   ]
  },
  {
   "cell_type": "code",
   "execution_count": 670,
   "id": "88addaa6",
   "metadata": {},
   "outputs": [
    {
     "data": {
      "text/plain": [
       "dict"
      ]
     },
     "execution_count": 670,
     "metadata": {},
     "output_type": "execute_result"
    }
   ],
   "source": [
    "type(x)"
   ]
  },
  {
   "cell_type": "code",
   "execution_count": 672,
   "id": "0121beb3",
   "metadata": {},
   "outputs": [
    {
     "data": {
      "text/plain": [
       "40"
      ]
     },
     "execution_count": 672,
     "metadata": {},
     "output_type": "execute_result"
    }
   ],
   "source": [
    "x['age']"
   ]
  },
  {
   "cell_type": "code",
   "execution_count": 78,
   "id": "4a60dbd8",
   "metadata": {},
   "outputs": [
    {
     "data": {
      "text/plain": [
       "{'name': 'thillai', 'age': 36}"
      ]
     },
     "execution_count": 78,
     "metadata": {},
     "output_type": "execute_result"
    }
   ],
   "source": [
    "x"
   ]
  },
  {
   "cell_type": "code",
   "execution_count": 57,
   "id": "cd5afe9b",
   "metadata": {},
   "outputs": [],
   "source": [
    "x = range(6)"
   ]
  },
  {
   "cell_type": "code",
   "execution_count": 80,
   "id": "7c99e13a",
   "metadata": {},
   "outputs": [
    {
     "data": {
      "text/plain": [
       "'thillai'"
      ]
     },
     "execution_count": 80,
     "metadata": {},
     "output_type": "execute_result"
    }
   ],
   "source": [
    "x['name']"
   ]
  },
  {
   "cell_type": "code",
   "execution_count": 58,
   "id": "d700aa88",
   "metadata": {},
   "outputs": [
    {
     "data": {
      "text/plain": [
       "range(0, 6)"
      ]
     },
     "execution_count": 58,
     "metadata": {},
     "output_type": "execute_result"
    }
   ],
   "source": [
    "x"
   ]
  },
  {
   "cell_type": "code",
   "execution_count": 59,
   "id": "c1408187",
   "metadata": {},
   "outputs": [
    {
     "data": {
      "text/plain": [
       "range"
      ]
     },
     "execution_count": 59,
     "metadata": {},
     "output_type": "execute_result"
    }
   ],
   "source": [
    "type(x)"
   ]
  },
  {
   "cell_type": "code",
   "execution_count": 674,
   "id": "12c333ae",
   "metadata": {},
   "outputs": [],
   "source": [
    "A = {1,2,3} \n",
    "\n",
    "B = {2,4}  "
   ]
  },
  {
   "cell_type": "code",
   "execution_count": 60,
   "id": "b460b466",
   "metadata": {},
   "outputs": [],
   "source": [
    "A = {1,2,3}"
   ]
  },
  {
   "cell_type": "code",
   "execution_count": 675,
   "id": "9b33cec1",
   "metadata": {},
   "outputs": [
    {
     "data": {
      "text/plain": [
       "set"
      ]
     },
     "execution_count": 675,
     "metadata": {},
     "output_type": "execute_result"
    }
   ],
   "source": [
    "type(A)"
   ]
  },
  {
   "cell_type": "code",
   "execution_count": null,
   "id": "564bcfd2",
   "metadata": {},
   "outputs": [],
   "source": []
  },
  {
   "cell_type": "code",
   "execution_count": null,
   "id": "e9575918",
   "metadata": {},
   "outputs": [],
   "source": [
    "a = {1,2,3} , b = {3,4,5}  AUB   a intersection B , A'"
   ]
  },
  {
   "cell_type": "code",
   "execution_count": null,
   "id": "a989ac74",
   "metadata": {},
   "outputs": [],
   "source": [
    "Text type  --- str\n",
    "Numeric type  - int, float, complex\n",
    "seq. tyep =  list , tuple , range\n",
    "mapping type - dict\n",
    "set type - set\n",
    "boolean - bytes\n",
    "None type - Nonetype"
   ]
  },
  {
   "cell_type": "code",
   "execution_count": null,
   "id": "76271d06",
   "metadata": {},
   "outputs": [],
   "source": [
    "engilsh : meaning   , key - value  "
   ]
  },
  {
   "cell_type": "code",
   "execution_count": 64,
   "id": "723d1998",
   "metadata": {},
   "outputs": [],
   "source": [
    "x = {\"name\" : \"murali\"}"
   ]
  },
  {
   "cell_type": "code",
   "execution_count": 66,
   "id": "b387c723",
   "metadata": {},
   "outputs": [
    {
     "data": {
      "text/plain": [
       "dict"
      ]
     },
     "execution_count": 66,
     "metadata": {},
     "output_type": "execute_result"
    }
   ],
   "source": [
    "type(x)"
   ]
  },
  {
   "cell_type": "code",
   "execution_count": 676,
   "id": "d620a00e",
   "metadata": {},
   "outputs": [],
   "source": [
    "x = bool(5)"
   ]
  },
  {
   "cell_type": "code",
   "execution_count": 677,
   "id": "851dcb20",
   "metadata": {},
   "outputs": [
    {
     "data": {
      "text/plain": [
       "bool"
      ]
     },
     "execution_count": 677,
     "metadata": {},
     "output_type": "execute_result"
    }
   ],
   "source": [
    "type(x)"
   ]
  },
  {
   "cell_type": "code",
   "execution_count": 678,
   "id": "a3b593a4",
   "metadata": {},
   "outputs": [],
   "source": [
    "x = {\"apple\",\"mango\",\"cherry\"}"
   ]
  },
  {
   "cell_type": "code",
   "execution_count": 55,
   "id": "6e21accf",
   "metadata": {},
   "outputs": [
    {
     "data": {
      "text/plain": [
       "{'apple', 'cherry', 'mango'}"
      ]
     },
     "execution_count": 55,
     "metadata": {},
     "output_type": "execute_result"
    }
   ],
   "source": [
    "x.add('mango')\n",
    "x"
   ]
  },
  {
   "cell_type": "code",
   "execution_count": 15,
   "id": "dca7b660",
   "metadata": {},
   "outputs": [],
   "source": [
    "x = bool(5)"
   ]
  },
  {
   "cell_type": "code",
   "execution_count": 16,
   "id": "de292877",
   "metadata": {},
   "outputs": [
    {
     "data": {
      "text/plain": [
       "bool"
      ]
     },
     "execution_count": 16,
     "metadata": {},
     "output_type": "execute_result"
    }
   ],
   "source": [
    "type(x)"
   ]
  },
  {
   "cell_type": "code",
   "execution_count": 77,
   "id": "7c299f7e",
   "metadata": {},
   "outputs": [
    {
     "data": {
      "text/plain": [
       "dict_keys(['name', 'age'])"
      ]
     },
     "execution_count": 77,
     "metadata": {},
     "output_type": "execute_result"
    }
   ],
   "source": [
    "x.keys()"
   ]
  },
  {
   "cell_type": "code",
   "execution_count": 67,
   "id": "a090e412",
   "metadata": {},
   "outputs": [],
   "source": [
    "x = {'name':'thillai','age':36}"
   ]
  },
  {
   "cell_type": "code",
   "execution_count": 69,
   "id": "23c1e177",
   "metadata": {},
   "outputs": [
    {
     "data": {
      "text/plain": [
       "dict_values(['thillai', 36])"
      ]
     },
     "execution_count": 69,
     "metadata": {},
     "output_type": "execute_result"
    }
   ],
   "source": [
    "x.values()"
   ]
  },
  {
   "cell_type": "code",
   "execution_count": 6,
   "id": "00a342ff",
   "metadata": {},
   "outputs": [
    {
     "data": {
      "text/plain": [
       "dict"
      ]
     },
     "execution_count": 6,
     "metadata": {},
     "output_type": "execute_result"
    }
   ],
   "source": [
    "read_xml ( 'https://www.amazon.in/Godrej-Fully-Automatic-WT-EON-620/dp/B07QGWHH63/ref=sr_1_1_sspa?keywords=washing+machine&qid=1668743632&qu=eyJxc2MiOiI2LjQ3IiwicXNhIjoiNi4yMyIsInFzcCI6IjUuMzAifQ%3D%3D&sprefix=washi%2Caps%2C274&sr=8-1-spons&sp_csd=d2lkZ2V0TmFtZT1zcF9hdGY&psc=1')"
   ]
  },
  {
   "cell_type": "code",
   "execution_count": 70,
   "id": "ff350143",
   "metadata": {},
   "outputs": [],
   "source": [
    "x = b\"hello\""
   ]
  },
  {
   "cell_type": "code",
   "execution_count": 71,
   "id": "95b478f2",
   "metadata": {},
   "outputs": [
    {
     "data": {
      "text/plain": [
       "bytes"
      ]
     },
     "execution_count": 71,
     "metadata": {},
     "output_type": "execute_result"
    }
   ],
   "source": [
    "type(x)"
   ]
  },
  {
   "cell_type": "code",
   "execution_count": 72,
   "id": "3a9fd659",
   "metadata": {},
   "outputs": [],
   "source": [
    "x = None"
   ]
  },
  {
   "cell_type": "code",
   "execution_count": 73,
   "id": "a7c691ba",
   "metadata": {},
   "outputs": [
    {
     "data": {
      "text/plain": [
       "NoneType"
      ]
     },
     "execution_count": 73,
     "metadata": {},
     "output_type": "execute_result"
    }
   ],
   "source": [
    "type(x)"
   ]
  },
  {
   "cell_type": "code",
   "execution_count": 679,
   "id": "f4cbd940",
   "metadata": {},
   "outputs": [],
   "source": [
    "x = {'name':'thillai','age':36}"
   ]
  },
  {
   "cell_type": "code",
   "execution_count": 680,
   "id": "7caa2c58",
   "metadata": {},
   "outputs": [
    {
     "data": {
      "text/plain": [
       "'thillai'"
      ]
     },
     "execution_count": 680,
     "metadata": {},
     "output_type": "execute_result"
    }
   ],
   "source": [
    "x['name']"
   ]
  },
  {
   "cell_type": "code",
   "execution_count": 76,
   "id": "673df44a",
   "metadata": {},
   "outputs": [
    {
     "data": {
      "text/plain": [
       "36"
      ]
     },
     "execution_count": 76,
     "metadata": {},
     "output_type": "execute_result"
    }
   ],
   "source": [
    "x['age']"
   ]
  },
  {
   "cell_type": "code",
   "execution_count": null,
   "id": "e37c16ad",
   "metadata": {},
   "outputs": [],
   "source": [
    "txt = \" python is easy to \""
   ]
  },
  {
   "cell_type": "code",
   "execution_count": null,
   "id": "dea145b6",
   "metadata": {},
   "outputs": [],
   "source": [
    "python - ml , visualization , socail problem , econic problems , integrated with power Bi / tableau / sql / spark , aws , cloud"
   ]
  },
  {
   "cell_type": "code",
   "execution_count": null,
   "id": "e0030aa7",
   "metadata": {},
   "outputs": [],
   "source": [
    "data management - pandas , numpy "
   ]
  },
  {
   "cell_type": "code",
   "execution_count": 682,
   "id": "99faeee0",
   "metadata": {},
   "outputs": [],
   "source": [
    "a = { 1,2,3}\n",
    "ls = [1,2,3,\"new\"]\n",
    "     "
   ]
  },
  {
   "cell_type": "code",
   "execution_count": 683,
   "id": "68eadb16",
   "metadata": {},
   "outputs": [],
   "source": [
    "x = {\"name\":\"murali\",\"age\":40}"
   ]
  },
  {
   "cell_type": "code",
   "execution_count": null,
   "id": "19e78b26",
   "metadata": {},
   "outputs": [],
   "source": [
    "ls = [\"apple\",\"mango\",\"tree\"]\n",
    "         0      1        2"
   ]
  },
  {
   "cell_type": "code",
   "execution_count": 687,
   "id": "b9c71fde",
   "metadata": {},
   "outputs": [
    {
     "data": {
      "text/plain": [
       "'murali'"
      ]
     },
     "execution_count": 687,
     "metadata": {},
     "output_type": "execute_result"
    }
   ],
   "source": [
    "x[\"name\"]"
   ]
  },
  {
   "cell_type": "code",
   "execution_count": 685,
   "id": "01f5d3f8",
   "metadata": {},
   "outputs": [
    {
     "data": {
      "text/plain": [
       "40"
      ]
     },
     "execution_count": 685,
     "metadata": {},
     "output_type": "execute_result"
    }
   ],
   "source": [
    "x['age']"
   ]
  },
  {
   "cell_type": "code",
   "execution_count": null,
   "id": "8c097f7b",
   "metadata": {},
   "outputs": [],
   "source": [
    "list , tuples , set , dictionary"
   ]
  },
  {
   "cell_type": "code",
   "execution_count": null,
   "id": "b4da4e3c",
   "metadata": {},
   "outputs": [],
   "source": [
    "list - is a collection which is ordered and changable , allows duplicates"
   ]
  },
  {
   "cell_type": "code",
   "execution_count": null,
   "id": "ba4d17af",
   "metadata": {},
   "outputs": [],
   "source": [
    "tuple - is a collection which is ordered and unchangable , allows duplicates"
   ]
  },
  {
   "cell_type": "code",
   "execution_count": null,
   "id": "f3764c9e",
   "metadata": {},
   "outputs": [],
   "source": [
    "set - is a collection which is ordered and unchangable and unindexed , no duplicates"
   ]
  },
  {
   "cell_type": "code",
   "execution_count": null,
   "id": "96f61e20",
   "metadata": {},
   "outputs": [],
   "source": [
    "dict - a collection which is ordered and unchangable , no dup"
   ]
  },
  {
   "cell_type": "code",
   "execution_count": 17,
   "id": "23e8b940",
   "metadata": {},
   "outputs": [],
   "source": [
    "# list operations\n",
    "\n",
    "            0       1      2       3\n",
    "mylist = ['tree','apple','mango','melon']"
   ]
  },
  {
   "cell_type": "code",
   "execution_count": 688,
   "id": "ad31c5ee",
   "metadata": {},
   "outputs": [],
   "source": [
    "mylist = ['tree', 'apple', 'mango', 'melon']\n",
    "\n",
    "['tree', 'apple', 'mango', 'melon']\n",
    "#    -4      -3      -2       -1    reverse\n",
    "#     0      1        2        3    normal"
   ]
  },
  {
   "cell_type": "code",
   "execution_count": 705,
   "id": "378b1116",
   "metadata": {},
   "outputs": [
    {
     "data": {
      "text/plain": [
       "'tree'"
      ]
     },
     "execution_count": 705,
     "metadata": {},
     "output_type": "execute_result"
    }
   ],
   "source": [
    "mylist[0]"
   ]
  },
  {
   "cell_type": "code",
   "execution_count": 710,
   "id": "6c2e6f2b",
   "metadata": {},
   "outputs": [
    {
     "data": {
      "text/plain": [
       "['tree', 'apple', 'mango']"
      ]
     },
     "execution_count": 710,
     "metadata": {},
     "output_type": "execute_result"
    }
   ],
   "source": [
    "mylist[-5:-1]      "
   ]
  },
  {
   "cell_type": "code",
   "execution_count": 704,
   "id": "ce921c45",
   "metadata": {},
   "outputs": [
    {
     "data": {
      "text/plain": [
       "['apple', 'mango']"
      ]
     },
     "execution_count": 704,
     "metadata": {},
     "output_type": "execute_result"
    }
   ],
   "source": [
    "mylist[:3]\n",
    "mylist[]"
   ]
  },
  {
   "cell_type": "code",
   "execution_count": 88,
   "id": "10ace2f8",
   "metadata": {},
   "outputs": [
    {
     "data": {
      "text/plain": [
       "4"
      ]
     },
     "execution_count": 88,
     "metadata": {},
     "output_type": "execute_result"
    }
   ],
   "source": [
    "len(mylist)"
   ]
  },
  {
   "cell_type": "code",
   "execution_count": 84,
   "id": "70baa25f",
   "metadata": {},
   "outputs": [
    {
     "data": {
      "text/plain": [
       "['apple', 'mango', 'melon']"
      ]
     },
     "execution_count": 84,
     "metadata": {},
     "output_type": "execute_result"
    }
   ],
   "source": [
    "mylist[1:4]"
   ]
  },
  {
   "cell_type": "code",
   "execution_count": 698,
   "id": "0cf8a673",
   "metadata": {},
   "outputs": [
    {
     "data": {
      "text/plain": [
       "['tree', 'apple', 'mango', 'melon']"
      ]
     },
     "execution_count": 698,
     "metadata": {},
     "output_type": "execute_result"
    }
   ],
   "source": [
    "mylist[::]"
   ]
  },
  {
   "cell_type": "code",
   "execution_count": 30,
   "id": "7262018d",
   "metadata": {},
   "outputs": [
    {
     "data": {
      "text/plain": [
       "4"
      ]
     },
     "execution_count": 30,
     "metadata": {},
     "output_type": "execute_result"
    }
   ],
   "source": [
    "len(mylist)"
   ]
  },
  {
   "cell_type": "code",
   "execution_count": 90,
   "id": "fdac7af8",
   "metadata": {},
   "outputs": [
    {
     "data": {
      "text/plain": [
       "['tree', 'apple', 'mango', 'melon']"
      ]
     },
     "execution_count": 90,
     "metadata": {},
     "output_type": "execute_result"
    }
   ],
   "source": [
    "mylist[0:len(mylist)]"
   ]
  },
  {
   "cell_type": "code",
   "execution_count": 7,
   "id": "d8554712",
   "metadata": {},
   "outputs": [
    {
     "data": {
      "text/plain": [
       "['apple', 'mango', 'melon']"
      ]
     },
     "execution_count": 7,
     "metadata": {},
     "output_type": "execute_result"
    }
   ],
   "source": [
    "mylist[1:]"
   ]
  },
  {
   "cell_type": "code",
   "execution_count": 47,
   "id": "4338cf85",
   "metadata": {},
   "outputs": [],
   "source": [
    "mylist = ['tree', 'apple', 'mango', 'melon','orange']"
   ]
  },
  {
   "cell_type": "code",
   "execution_count": null,
   "id": "f347dfba",
   "metadata": {},
   "outputs": [],
   "source": [
    "#Wat does that 1:3 , :3 defines?\n",
    "\n",
    "if (cond) :\n",
    "    print(yes)  - indent\n",
    "else:\n",
    "    print(no)   \n"
   ]
  },
  {
   "cell_type": "code",
   "execution_count": 43,
   "id": "f3db26ea",
   "metadata": {},
   "outputs": [
    {
     "name": "stdout",
     "output_type": "stream",
     "text": [
      "yes - match is there\n"
     ]
    }
   ],
   "source": [
    "mylist\n",
    "\n",
    "if 'Red' in signal:\n",
    "    print('yes - match is there')\n",
    "#     injuction * price\n",
    "#     customar / discount * 10%\n",
    "    \n",
    "elif 'green' in signal:\n",
    "    print( ' else condtin is working')\n",
    "\n",
    "elif 'yellow' in signal:\n",
    "    print('msg')\n",
    "    \n",
    "else:\n",
    "    print('Not match')\n",
    "\n"
   ]
  },
  {
   "cell_type": "code",
   "execution_count": 41,
   "id": "bdf277fe",
   "metadata": {},
   "outputs": [],
   "source": [
    "signal = ['Red','green','yellow','nocolor'] "
   ]
  },
  {
   "cell_type": "code",
   "execution_count": 46,
   "id": "7b3c3d1f",
   "metadata": {},
   "outputs": [
    {
     "name": "stdout",
     "output_type": "stream",
     "text": [
      "green\n",
      "stop\n"
     ]
    }
   ],
   "source": [
    "x = input()\n",
    "if x == 'Red':\n",
    "    print(\"go\")\n",
    "elif x == 'green':\n",
    "    print(\"stop\")"
   ]
  },
  {
   "cell_type": "code",
   "execution_count": null,
   "id": "69c8ff12",
   "metadata": {},
   "outputs": [],
   "source": [
    "stop , go , ready to go  , no action"
   ]
  },
  {
   "cell_type": "code",
   "execution_count": null,
   "id": "6647197f",
   "metadata": {},
   "outputs": [],
   "source": [
    "red - stop\n",
    "green - go\n"
   ]
  },
  {
   "cell_type": "code",
   "execution_count": null,
   "id": "7eda1cf7",
   "metadata": {},
   "outputs": [],
   "source": [
    "for loop is for itertaion , process repeation\n",
    "for i in data type:\n",
    "    print(\"loop\")"
   ]
  },
  {
   "cell_type": "code",
   "execution_count": null,
   "id": "7b7002a7",
   "metadata": {},
   "outputs": [],
   "source": [
    "# for(i,i<n,i++) -- here i - initalize , compare n , i ++ increment c,c++ , i = 0 , n =5 "
   ]
  },
  {
   "cell_type": "code",
   "execution_count": 711,
   "id": "8f15e3e8",
   "metadata": {},
   "outputs": [
    {
     "data": {
      "text/plain": [
       "['tree', 'apple', 'mango', 'melon']"
      ]
     },
     "execution_count": 711,
     "metadata": {},
     "output_type": "execute_result"
    }
   ],
   "source": [
    "mylist"
   ]
  },
  {
   "cell_type": "code",
   "execution_count": 725,
   "id": "7845d805",
   "metadata": {},
   "outputs": [
    {
     "name": "stdout",
     "output_type": "stream",
     "text": [
      "tree apple mango melon "
     ]
    }
   ],
   "source": [
    "for i in mylist:    \n",
    "    print(i,end =\" \")"
   ]
  },
  {
   "cell_type": "code",
   "execution_count": 721,
   "id": "1a2ffac3",
   "metadata": {},
   "outputs": [
    {
     "data": {
      "text/plain": [
       "['tree', 'apple', 'mango', 'melon']"
      ]
     },
     "execution_count": 721,
     "metadata": {},
     "output_type": "execute_result"
    }
   ],
   "source": [
    "range(0,4)\n",
    "mylist[2]\n",
    "\n",
    "mylist[3]"
   ]
  },
  {
   "cell_type": "code",
   "execution_count": 720,
   "id": "7f5c504c",
   "metadata": {},
   "outputs": [
    {
     "name": "stdout",
     "output_type": "stream",
     "text": [
      "tree 0\n",
      "apple 1\n",
      "mango 2\n",
      "melon 3\n"
     ]
    }
   ],
   "source": [
    "for a in range(0,4):   \n",
    "    print(mylist[a],a)\n",
    "    "
   ]
  },
  {
   "cell_type": "code",
   "execution_count": null,
   "id": "1087c6d9",
   "metadata": {},
   "outputs": [],
   "source": []
  },
  {
   "cell_type": "code",
   "execution_count": null,
   "id": "7e480852",
   "metadata": {},
   "outputs": [],
   "source": []
  },
  {
   "cell_type": "code",
   "execution_count": null,
   "id": "1b7e3dcd",
   "metadata": {},
   "outputs": [],
   "source": [
    "customer id    trans amount    bank  cc\n",
    "123               10000         sbi  active\n",
    "456               30000          icic no\n",
    "\n",
    "\n",
    "figure out the customer who is having tran. amount gt 20000 , bring all the id\n",
    "\n",
    "\n",
    "ls = []\n",
    "for i in amount:\n",
    "    if i > 20000:\n",
    "        ls.append(custmer id) --- list which append all the customer id \n",
    "        \n",
    "print(ls)\n",
    "        \n",
    "   [123, 678, 567]  \n"
   ]
  },
  {
   "cell_type": "code",
   "execution_count": 733,
   "id": "d150fc26",
   "metadata": {},
   "outputs": [],
   "source": [
    "mylist = ['tree', 'apple', 'mango', 'melon']"
   ]
  },
  {
   "cell_type": "code",
   "execution_count": 738,
   "id": "e9980a70",
   "metadata": {},
   "outputs": [],
   "source": [
    "mylist[1:3] = [\"banana\",\"fruits\"]"
   ]
  },
  {
   "cell_type": "code",
   "execution_count": 739,
   "id": "ccd66195",
   "metadata": {},
   "outputs": [
    {
     "data": {
      "text/plain": [
       "['tree', 'banana', 'fruits', 'melon']"
      ]
     },
     "execution_count": 739,
     "metadata": {},
     "output_type": "execute_result"
    }
   ],
   "source": [
    "mylist"
   ]
  },
  {
   "cell_type": "code",
   "execution_count": null,
   "id": "2238d2b6",
   "metadata": {},
   "outputs": [],
   "source": [
    "lst , lst"
   ]
  },
  {
   "cell_type": "code",
   "execution_count": 729,
   "id": "ca6e603b",
   "metadata": {},
   "outputs": [],
   "source": [
    "mylist.insert(2,\"apple\")"
   ]
  },
  {
   "cell_type": "code",
   "execution_count": 730,
   "id": "13d697b8",
   "metadata": {},
   "outputs": [
    {
     "data": {
      "text/plain": [
       "['tree', 'banana', 'apple', 'mango', 'melon']"
      ]
     },
     "execution_count": 730,
     "metadata": {},
     "output_type": "execute_result"
    }
   ],
   "source": [
    "mylist"
   ]
  },
  {
   "cell_type": "code",
   "execution_count": 731,
   "id": "1ab4b85c",
   "metadata": {},
   "outputs": [],
   "source": [
    "mylist.append('cherry')"
   ]
  },
  {
   "cell_type": "code",
   "execution_count": 732,
   "id": "6afa75ca",
   "metadata": {},
   "outputs": [
    {
     "data": {
      "text/plain": [
       "['tree', 'banana', 'apple', 'mango', 'melon', 'cherry']"
      ]
     },
     "execution_count": 732,
     "metadata": {},
     "output_type": "execute_result"
    }
   ],
   "source": [
    "mylist"
   ]
  },
  {
   "cell_type": "code",
   "execution_count": 740,
   "id": "ab46c87f",
   "metadata": {},
   "outputs": [],
   "source": [
    "urlist = ['wood','knife','axe']"
   ]
  },
  {
   "cell_type": "code",
   "execution_count": 104,
   "id": "993b292c",
   "metadata": {},
   "outputs": [
    {
     "data": {
      "text/plain": [
       "['wood', 'knife', 'axe']"
      ]
     },
     "execution_count": 104,
     "metadata": {},
     "output_type": "execute_result"
    }
   ],
   "source": [
    "urlist"
   ]
  },
  {
   "cell_type": "code",
   "execution_count": 741,
   "id": "d8859bf3",
   "metadata": {},
   "outputs": [],
   "source": [
    "mylist.extend(urlist)"
   ]
  },
  {
   "cell_type": "code",
   "execution_count": 742,
   "id": "f2cf4b4c",
   "metadata": {},
   "outputs": [
    {
     "data": {
      "text/plain": [
       "['tree', 'banana', 'fruits', 'melon', 'wood', 'knife', 'axe']"
      ]
     },
     "execution_count": 742,
     "metadata": {},
     "output_type": "execute_result"
    }
   ],
   "source": [
    "mylist"
   ]
  },
  {
   "cell_type": "code",
   "execution_count": null,
   "id": "46e32fc6",
   "metadata": {},
   "outputs": [],
   "source": []
  },
  {
   "cell_type": "code",
   "execution_count": null,
   "id": "1b93584d",
   "metadata": {},
   "outputs": [],
   "source": []
  },
  {
   "cell_type": "code",
   "execution_count": 60,
   "id": "ffd6f604",
   "metadata": {},
   "outputs": [],
   "source": []
  },
  {
   "cell_type": "code",
   "execution_count": 116,
   "id": "85e4a9ad",
   "metadata": {},
   "outputs": [
    {
     "data": {
      "text/plain": [
       "['tree', 'melon', 'cherry', 'wood', 'knife']"
      ]
     },
     "execution_count": 116,
     "metadata": {},
     "output_type": "execute_result"
    }
   ],
   "source": [
    "mylist "
   ]
  },
  {
   "cell_type": "code",
   "execution_count": 108,
   "id": "eb713299",
   "metadata": {},
   "outputs": [],
   "source": [
    "mylist.remove('axe')"
   ]
  },
  {
   "cell_type": "code",
   "execution_count": 113,
   "id": "85776e30",
   "metadata": {},
   "outputs": [],
   "source": [
    "mylist[1] = 'banana'"
   ]
  },
  {
   "cell_type": "code",
   "execution_count": 115,
   "id": "c073f90a",
   "metadata": {},
   "outputs": [],
   "source": [
    "del mylist[1:3]"
   ]
  },
  {
   "cell_type": "code",
   "execution_count": 77,
   "id": "0f0d9ce3",
   "metadata": {},
   "outputs": [
    {
     "data": {
      "text/plain": [
       "3"
      ]
     },
     "execution_count": 77,
     "metadata": {},
     "output_type": "execute_result"
    }
   ],
   "source": [
    "# len(mylist)\n",
    "len(loop)"
   ]
  },
  {
   "cell_type": "code",
   "execution_count": null,
   "id": "ba25a82b",
   "metadata": {},
   "outputs": [],
   "source": []
  },
  {
   "cell_type": "code",
   "execution_count": 118,
   "id": "8729da82",
   "metadata": {},
   "outputs": [],
   "source": [
    "loop = ['mango','tree','apple'] \n",
    "list1 = [1,2]"
   ]
  },
  {
   "cell_type": "code",
   "execution_count": 119,
   "id": "8661091a",
   "metadata": {},
   "outputs": [
    {
     "name": "stdout",
     "output_type": "stream",
     "text": [
      "mango 1\n",
      "mango 2\n",
      "tree 1\n",
      "tree 2\n",
      "apple 1\n",
      "apple 2\n"
     ]
    }
   ],
   "source": [
    "for i in loop:         - i = mango            i = tree           i = apple\n",
    "    for j in list1:       j = 1 , j = 2        j = 1 , j=2        j = 1 , j=2\n",
    "        print(i,j)\n",
    "        \n",
    "        "
   ]
  },
  {
   "cell_type": "code",
   "execution_count": 125,
   "id": "aa7237d8",
   "metadata": {},
   "outputs": [
    {
     "data": {
      "text/plain": [
       "'mango'"
      ]
     },
     "execution_count": 125,
     "metadata": {},
     "output_type": "execute_result"
    }
   ],
   "source": [
    "loop = ['mango','tree','apple'] \n",
    "loop[0]"
   ]
  },
  {
   "cell_type": "code",
   "execution_count": 126,
   "id": "b1daf34b",
   "metadata": {},
   "outputs": [
    {
     "name": "stdout",
     "output_type": "stream",
     "text": [
      "mango 0\n",
      "tree 1\n",
      "apple 2\n"
     ]
    }
   ],
   "source": [
    "# print( \" entering in to iteration \")\n",
    "\n",
    "# for i in range(0,5):\n",
    "#     print('entering in to iteration')\n",
    "#           0       1      2\n",
    "loop = ['mango','tree','apple'] \n",
    "# for i in loop:\n",
    "#     print(i)\n",
    "#                 0, 3\n",
    "\n",
    "for i in mylist: (list)   seq data type : list , tuple , range\n",
    "\n",
    "for j in range(0,len(loop)):\n",
    "    print( loop[j], j)\n",
    "    \n",
    "    "
   ]
  },
  {
   "cell_type": "code",
   "execution_count": null,
   "id": "d4a64a43",
   "metadata": {},
   "outputs": [],
   "source": [
    "1.task\n",
    "\n",
    "create list ls = [1,2,3,4,5,6,7,8,9,10]\n",
    "\n",
    "add values to 1+1,2+1,3+1,...  =  2,3,4,5,6,7,...\n",
    "\n",
    "\n",
    "\n",
    "\n",
    "\n",
    "\n"
   ]
  },
  {
   "cell_type": "code",
   "execution_count": null,
   "id": "d24a47d4",
   "metadata": {},
   "outputs": [],
   "source": [
    "i - intiatize , increse , execute\n",
    "i , i ++ , i < n\n",
    "\n",
    "for ( i , i<n , i++):\n",
    "    \n",
    "\n",
    "for i in list , tuples , values:\n",
    "    \n",
    "    stttatemtn\n",
    "    \n",
    "for i in range(0,5):\n",
    "    0,1,2,3,4\n",
    "    statment\n",
    "    \n",
    "    \n",
    "\n"
   ]
  },
  {
   "cell_type": "code",
   "execution_count": null,
   "id": "d42edc32",
   "metadata": {},
   "outputs": [],
   "source": []
  },
  {
   "cell_type": "code",
   "execution_count": null,
   "id": "f75c07e2",
   "metadata": {},
   "outputs": [],
   "source": []
  },
  {
   "cell_type": "code",
   "execution_count": null,
   "id": "3ee47976",
   "metadata": {},
   "outputs": [],
   "source": []
  },
  {
   "cell_type": "code",
   "execution_count": null,
   "id": "48bcaec8",
   "metadata": {},
   "outputs": [],
   "source": []
  },
  {
   "cell_type": "code",
   "execution_count": 132,
   "id": "3cc0fd06",
   "metadata": {},
   "outputs": [],
   "source": [
    "ls = [1,2,3]"
   ]
  },
  {
   "cell_type": "code",
   "execution_count": 134,
   "id": "93e9a84c",
   "metadata": {},
   "outputs": [
    {
     "data": {
      "text/plain": [
       "range(0, 6)"
      ]
     },
     "execution_count": 134,
     "metadata": {},
     "output_type": "execute_result"
    }
   ],
   "source": [
    "range(0,6)"
   ]
  },
  {
   "cell_type": "code",
   "execution_count": 136,
   "id": "9c2a80f1",
   "metadata": {},
   "outputs": [
    {
     "name": "stdout",
     "output_type": "stream",
     "text": [
      "[]\n"
     ]
    },
    {
     "data": {
      "text/plain": [
       "[]"
      ]
     },
     "execution_count": 136,
     "metadata": {},
     "output_type": "execute_result"
    }
   ],
   "source": [
    "# mylist\n",
    "ls1 = []\n",
    "for x in range(0,len(ls)):  \n",
    "    new = (ls[x] + 1)     \n",
    "    ls.append(new)\n",
    "print(ls1)\n",
    "ls1"
   ]
  },
  {
   "cell_type": "code",
   "execution_count": 41,
   "id": "cd188f64",
   "metadata": {
    "collapsed": true
   },
   "outputs": [
    {
     "name": "stdout",
     "output_type": "stream",
     "text": [
      "banana\n",
      "0\n",
      "apple\n",
      "1\n",
      "mango\n",
      "2\n",
      "melon\n",
      "3\n",
      "cherry\n",
      "4\n",
      "wood\n",
      "5\n",
      "knife\n",
      "6\n"
     ]
    }
   ],
   "source": [
    "for i in range(0,len(mylist)):\n",
    "    print(mylist[i]),print(i)\n",
    "    \n",
    "for will not check any conditions\n",
    "while it work based on the condition\n",
    "    \n",
    "    \n",
    "    "
   ]
  },
  {
   "cell_type": "code",
   "execution_count": null,
   "id": "36db8d93",
   "metadata": {},
   "outputs": [],
   "source": [
    "i = 0\n",
    "while cond:\n",
    "    stt\n",
    "    i++"
   ]
  },
  {
   "cell_type": "code",
   "execution_count": 142,
   "id": "ef30c4ad",
   "metadata": {},
   "outputs": [],
   "source": [
    "mylist = ['apple', 'banana', 'cherry', 'knife', 'mango', 'melon', 'wood']"
   ]
  },
  {
   "cell_type": "code",
   "execution_count": 141,
   "id": "e78e2774",
   "metadata": {},
   "outputs": [
    {
     "name": "stdout",
     "output_type": "stream",
     "text": [
      "apple\n",
      "banana\n",
      "cherry\n"
     ]
    }
   ],
   "source": [
    "i = 0\n",
    "#       0 < 8 , 1< 8 , 2<8,...\n",
    "while i < 3:\n",
    "    print(mylist[i])\n",
    "    i = i + 1 \n",
    "# -- 0+1 = 1 , 2,..\n",
    "\n",
    "for i in mylist:\n",
    "    print(mylist[i])\n"
   ]
  },
  {
   "cell_type": "code",
   "execution_count": 145,
   "id": "afa0a4a8",
   "metadata": {},
   "outputs": [],
   "source": [
    "mylist.sort()"
   ]
  },
  {
   "cell_type": "code",
   "execution_count": 146,
   "id": "64f78aa1",
   "metadata": {},
   "outputs": [
    {
     "data": {
      "text/plain": [
       "['apple', 'banana', 'cherry', 'knife', 'mango', 'melon', 'wood']"
      ]
     },
     "execution_count": 146,
     "metadata": {},
     "output_type": "execute_result"
    }
   ],
   "source": [
    "mylist"
   ]
  },
  {
   "cell_type": "code",
   "execution_count": 147,
   "id": "a07dcb2d",
   "metadata": {},
   "outputs": [
    {
     "data": {
      "text/plain": [
       "['wood', 'melon', 'mango', 'knife', 'cherry', 'banana', 'apple']"
      ]
     },
     "execution_count": 147,
     "metadata": {},
     "output_type": "execute_result"
    }
   ],
   "source": [
    "mylist.sort(reverse = True)\n",
    "mylist"
   ]
  },
  {
   "cell_type": "code",
   "execution_count": 148,
   "id": "4cb5e250",
   "metadata": {},
   "outputs": [],
   "source": [
    "list2 = mylist.copy()"
   ]
  },
  {
   "cell_type": "code",
   "execution_count": 149,
   "id": "01dc1184",
   "metadata": {},
   "outputs": [
    {
     "data": {
      "text/plain": [
       "['wood', 'melon', 'mango', 'knife', 'cherry', 'banana', 'apple']"
      ]
     },
     "execution_count": 149,
     "metadata": {},
     "output_type": "execute_result"
    }
   ],
   "source": [
    "list2"
   ]
  },
  {
   "cell_type": "code",
   "execution_count": 150,
   "id": "9ab3619b",
   "metadata": {},
   "outputs": [],
   "source": [
    "list2.clear()"
   ]
  },
  {
   "cell_type": "code",
   "execution_count": 151,
   "id": "6ed7529b",
   "metadata": {},
   "outputs": [
    {
     "data": {
      "text/plain": [
       "[]"
      ]
     },
     "execution_count": 151,
     "metadata": {},
     "output_type": "execute_result"
    }
   ],
   "source": [
    "list2"
   ]
  },
  {
   "cell_type": "code",
   "execution_count": 152,
   "id": "b6816104",
   "metadata": {},
   "outputs": [],
   "source": [
    "fruits = ['apple','banana','cherry']"
   ]
  },
  {
   "cell_type": "code",
   "execution_count": null,
   "id": "b373554c",
   "metadata": {},
   "outputs": [],
   "source": [
    "# dictionary"
   ]
  },
  {
   "cell_type": "code",
   "execution_count": 153,
   "id": "283bad1e",
   "metadata": {},
   "outputs": [],
   "source": [
    "mydict = {  \"name\" : \"thillai\"  , \"age\" : 40 , \"dept\" : \"statistics\"}"
   ]
  },
  {
   "cell_type": "code",
   "execution_count": 154,
   "id": "1c31d8f5",
   "metadata": {},
   "outputs": [
    {
     "data": {
      "text/plain": [
       "dict"
      ]
     },
     "execution_count": 154,
     "metadata": {},
     "output_type": "execute_result"
    }
   ],
   "source": [
    "type(mydict)"
   ]
  },
  {
   "cell_type": "code",
   "execution_count": 155,
   "id": "d66a92e2",
   "metadata": {},
   "outputs": [
    {
     "data": {
      "text/plain": [
       "'thillai'"
      ]
     },
     "execution_count": 155,
     "metadata": {},
     "output_type": "execute_result"
    }
   ],
   "source": [
    "mydict['name']"
   ]
  },
  {
   "cell_type": "code",
   "execution_count": 60,
   "id": "ee4dd6d7",
   "metadata": {},
   "outputs": [
    {
     "data": {
      "text/plain": [
       "40"
      ]
     },
     "execution_count": 60,
     "metadata": {},
     "output_type": "execute_result"
    }
   ],
   "source": [
    "mydict['age']"
   ]
  },
  {
   "cell_type": "code",
   "execution_count": 61,
   "id": "d9a0c315",
   "metadata": {},
   "outputs": [
    {
     "data": {
      "text/plain": [
       "'statistics'"
      ]
     },
     "execution_count": 61,
     "metadata": {},
     "output_type": "execute_result"
    }
   ],
   "source": [
    "mydict['dept']"
   ]
  },
  {
   "cell_type": "code",
   "execution_count": 156,
   "id": "05ebb3de",
   "metadata": {},
   "outputs": [
    {
     "data": {
      "text/plain": [
       "dict_keys(['name', 'age', 'dept'])"
      ]
     },
     "execution_count": 156,
     "metadata": {},
     "output_type": "execute_result"
    }
   ],
   "source": [
    "mydict.keys()"
   ]
  },
  {
   "cell_type": "code",
   "execution_count": 63,
   "id": "6b99e275",
   "metadata": {},
   "outputs": [
    {
     "data": {
      "text/plain": [
       "dict_values(['thillai', 40, 'statistics'])"
      ]
     },
     "execution_count": 63,
     "metadata": {},
     "output_type": "execute_result"
    }
   ],
   "source": [
    "mydict.values()"
   ]
  },
  {
   "cell_type": "code",
   "execution_count": 65,
   "id": "1944b27c",
   "metadata": {},
   "outputs": [
    {
     "data": {
      "text/plain": [
       "dict_items([('name', 'thillai'), ('age', 40), ('dept', 'statistics')])"
      ]
     },
     "execution_count": 65,
     "metadata": {},
     "output_type": "execute_result"
    }
   ],
   "source": [
    "mydict.items()"
   ]
  },
  {
   "cell_type": "code",
   "execution_count": 66,
   "id": "0ebf86a7",
   "metadata": {},
   "outputs": [],
   "source": [
    "mydict['age'] = 56"
   ]
  },
  {
   "cell_type": "code",
   "execution_count": 101,
   "id": "1d8d2e99",
   "metadata": {},
   "outputs": [
    {
     "data": {
      "text/plain": [
       "{'name': 'thillai', 'age': 40, 'dept': 'statistics'}"
      ]
     },
     "execution_count": 101,
     "metadata": {},
     "output_type": "execute_result"
    }
   ],
   "source": [
    "mydict"
   ]
  },
  {
   "cell_type": "code",
   "execution_count": 157,
   "id": "c19bc3c7",
   "metadata": {},
   "outputs": [],
   "source": [
    "del mydict['age']"
   ]
  },
  {
   "cell_type": "code",
   "execution_count": 158,
   "id": "450cca2d",
   "metadata": {},
   "outputs": [
    {
     "name": "stdout",
     "output_type": "stream",
     "text": [
      "thillai\n",
      "statistics\n"
     ]
    }
   ],
   "source": [
    "for i in mydict:\n",
    "    print(mydict[i])"
   ]
  },
  {
   "cell_type": "code",
   "execution_count": 159,
   "id": "f569bea0",
   "metadata": {},
   "outputs": [
    {
     "name": "stdout",
     "output_type": "stream",
     "text": [
      "thillai\n",
      "statistics\n"
     ]
    }
   ],
   "source": [
    "for i in mydict.values():\n",
    "    print(i)"
   ]
  },
  {
   "cell_type": "code",
   "execution_count": 160,
   "id": "ce8903bc",
   "metadata": {},
   "outputs": [
    {
     "name": "stdout",
     "output_type": "stream",
     "text": [
      "name\n",
      "dept\n"
     ]
    }
   ],
   "source": [
    "for i in mydict.keys():\n",
    "    print(i)"
   ]
  },
  {
   "cell_type": "code",
   "execution_count": null,
   "id": "5d138e3a",
   "metadata": {},
   "outputs": [],
   "source": [
    "# if statemtnet\n",
    "\n",
    "Eqaul , Not eqaul , lesthan , greter than , GE , LE\n",
    "\n",
    "a == b , a != b , a< b , a> b , a>= b\n"
   ]
  },
  {
   "cell_type": "code",
   "execution_count": 74,
   "id": "29783c04",
   "metadata": {},
   "outputs": [],
   "source": [
    "a = 33\n",
    "b = 200\n",
    "\n",
    "\n",
    "if b < a:\n",
    "    print(\"b > a\")\n",
    "    \n"
   ]
  },
  {
   "cell_type": "code",
   "execution_count": 76,
   "id": "549ab8dd",
   "metadata": {},
   "outputs": [
    {
     "name": "stdout",
     "output_type": "stream",
     "text": [
      " b i s greater\n"
     ]
    }
   ],
   "source": [
    "b = 33\n",
    "a = 40\n",
    "if b < a:\n",
    "    print(\" b i s greater\")\n",
    "elif b > a:\n",
    "    print(\"a is greater\")\n"
   ]
  },
  {
   "cell_type": "code",
   "execution_count": 169,
   "id": "bc0399b0",
   "metadata": {},
   "outputs": [
    {
     "name": "stdout",
     "output_type": "stream",
     "text": [
      "True\n",
      "False\n"
     ]
    },
    {
     "data": {
      "text/plain": [
       "False"
      ]
     },
     "execution_count": 169,
     "metadata": {},
     "output_type": "execute_result"
    }
   ],
   "source": [
    "# Boolean \n",
    "# True , False\n",
    "\n",
    "print(10 > 9)\n",
    "print(10 ==9)\n",
    "x = \"thillai\"\n",
    "x != \"thillai\""
   ]
  },
  {
   "cell_type": "code",
   "execution_count": null,
   "id": "48990dd3",
   "metadata": {},
   "outputs": [],
   "source": [
    "x = \"urname\"\n",
    "\n",
    "eq\n",
    "nq\n",
    "\n",
    "==\n",
    "!=\n",
    "\n"
   ]
  },
  {
   "cell_type": "code",
   "execution_count": 163,
   "id": "daf093fd",
   "metadata": {},
   "outputs": [],
   "source": [
    "x = (\"apple\",\"banana\",\"mango\")"
   ]
  },
  {
   "cell_type": "code",
   "execution_count": 164,
   "id": "c06841d1",
   "metadata": {},
   "outputs": [
    {
     "data": {
      "text/plain": [
       "tuple"
      ]
     },
     "execution_count": 164,
     "metadata": {},
     "output_type": "execute_result"
    }
   ],
   "source": [
    "set - unidexed  & dict  - "
   ]
  },
  {
   "cell_type": "code",
   "execution_count": 165,
   "id": "e54907fb",
   "metadata": {},
   "outputs": [
    {
     "data": {
      "text/plain": [
       "'banana'"
      ]
     },
     "execution_count": 165,
     "metadata": {},
     "output_type": "execute_result"
    }
   ],
   "source": [
    "x[1]"
   ]
  },
  {
   "cell_type": "code",
   "execution_count": 166,
   "id": "eec16543",
   "metadata": {},
   "outputs": [
    {
     "data": {
      "text/plain": [
       "'mango'"
      ]
     },
     "execution_count": 166,
     "metadata": {},
     "output_type": "execute_result"
    }
   ],
   "source": [
    "x[-1]"
   ]
  },
  {
   "cell_type": "code",
   "execution_count": 167,
   "id": "d283adc4",
   "metadata": {},
   "outputs": [
    {
     "data": {
      "text/plain": [
       "('banana',)"
      ]
     },
     "execution_count": 167,
     "metadata": {},
     "output_type": "execute_result"
    }
   ],
   "source": []
  },
  {
   "cell_type": "code",
   "execution_count": null,
   "id": "bc427977",
   "metadata": {},
   "outputs": [],
   "source": []
  },
  {
   "cell_type": "code",
   "execution_count": null,
   "id": "12089e04",
   "metadata": {},
   "outputs": [],
   "source": []
  },
  {
   "cell_type": "code",
   "execution_count": null,
   "id": "d1249a07",
   "metadata": {},
   "outputs": [],
   "source": []
  },
  {
   "cell_type": "code",
   "execution_count": null,
   "id": "51870aa6",
   "metadata": {},
   "outputs": [],
   "source": [
    "a = \"red\"  - stop\n",
    "b = \"yellow\" - start\n",
    "c = \"green\" - go\n",
    "\n"
   ]
  },
  {
   "cell_type": "code",
   "execution_count": 8,
   "id": "00403626",
   "metadata": {},
   "outputs": [],
   "source": [
    "a = \"black\""
   ]
  },
  {
   "cell_type": "code",
   "execution_count": 174,
   "id": "56eed639",
   "metadata": {},
   "outputs": [
    {
     "data": {
      "text/plain": [
       "range(0, 8)"
      ]
     },
     "execution_count": 174,
     "metadata": {},
     "output_type": "execute_result"
    }
   ],
   "source": [
    "range(8)"
   ]
  },
  {
   "cell_type": "code",
   "execution_count": 170,
   "id": "c1b33d15",
   "metadata": {},
   "outputs": [],
   "source": [
    "x = (\"apple\",\"mango\")\n"
   ]
  },
  {
   "cell_type": "code",
   "execution_count": 171,
   "id": "7cfe52af",
   "metadata": {},
   "outputs": [
    {
     "data": {
      "text/plain": [
       "'apple'"
      ]
     },
     "execution_count": 171,
     "metadata": {},
     "output_type": "execute_result"
    }
   ],
   "source": [
    "x[0]"
   ]
  },
  {
   "cell_type": "code",
   "execution_count": 173,
   "id": "344f9b3a",
   "metadata": {},
   "outputs": [],
   "source": [
    "if \"apple\" not in x:\n",
    "    print(\"yes apple is there\")"
   ]
  },
  {
   "cell_type": "code",
   "execution_count": null,
   "id": "52d226cb",
   "metadata": {},
   "outputs": [],
   "source": []
  },
  {
   "cell_type": "code",
   "execution_count": null,
   "id": "96c7ea0b",
   "metadata": {},
   "outputs": [],
   "source": []
  },
  {
   "cell_type": "code",
   "execution_count": 9,
   "id": "9f297669",
   "metadata": {},
   "outputs": [
    {
     "name": "stdout",
     "output_type": "stream",
     "text": [
      "None\n"
     ]
    }
   ],
   "source": [
    "\n",
    "if a == \"red\":\n",
    "    print(\"stop\")\n",
    "elif a == \"yellow\":\n",
    "    print(\"start\")\n",
    "elif a == \"green\":\n",
    "    print(\"GO\")\n",
    "else:\n",
    "    print(\"None\")\n"
   ]
  },
  {
   "cell_type": "code",
   "execution_count": 12,
   "id": "3350c33f",
   "metadata": {},
   "outputs": [
    {
     "data": {
      "text/plain": [
       "'THILLAI'"
      ]
     },
     "execution_count": 12,
     "metadata": {},
     "output_type": "execute_result"
    }
   ],
   "source": [
    "# Function\n",
    "\n",
    "\n",
    "x = \"thillai\"\n",
    "x.upper()\n",
    "\n"
   ]
  },
  {
   "cell_type": "code",
   "execution_count": 13,
   "id": "f1971464",
   "metadata": {},
   "outputs": [],
   "source": [
    "def combine2():\n",
    "    print(\"function is created\")"
   ]
  },
  {
   "cell_type": "code",
   "execution_count": 15,
   "id": "dab03d8f",
   "metadata": {},
   "outputs": [
    {
     "name": "stdout",
     "output_type": "stream",
     "text": [
      "function is created\n"
     ]
    }
   ],
   "source": [
    "combine2()"
   ]
  },
  {
   "cell_type": "code",
   "execution_count": 16,
   "id": "29103e91",
   "metadata": {},
   "outputs": [],
   "source": [
    "fname = \"thillai\"\n",
    "lname = \"murali\""
   ]
  },
  {
   "cell_type": "code",
   "execution_count": 19,
   "id": "52f553b0",
   "metadata": {},
   "outputs": [],
   "source": [
    "def merge1(fname,lname):\n",
    "    m1 = fname + ' ' + lname\n",
    "    return (m1)"
   ]
  },
  {
   "cell_type": "code",
   "execution_count": 20,
   "id": "f8e184e2",
   "metadata": {},
   "outputs": [
    {
     "data": {
      "text/plain": [
       "'thillai murali'"
      ]
     },
     "execution_count": 20,
     "metadata": {},
     "output_type": "execute_result"
    }
   ],
   "source": [
    "merge1(fname,lname)"
   ]
  },
  {
   "cell_type": "code",
   "execution_count": 26,
   "id": "03abd806",
   "metadata": {},
   "outputs": [],
   "source": [
    "def multiple(a,b,c,d,e,f,g):\n",
    "    print(a*b)\n",
    "    print( a + b+ c+d)\n",
    "    print( g / a)\n",
    "    \n",
    "    return (g ** a)\n",
    "    "
   ]
  },
  {
   "cell_type": "code",
   "execution_count": 36,
   "id": "a09ef372",
   "metadata": {},
   "outputs": [
    {
     "ename": "NameError",
     "evalue": "name 'multiple' is not defined",
     "output_type": "error",
     "traceback": [
      "\u001b[1;31m---------------------------------------------------------------------------\u001b[0m",
      "\u001b[1;31mNameError\u001b[0m                                 Traceback (most recent call last)",
      "Input \u001b[1;32mIn [36]\u001b[0m, in \u001b[0;36m<cell line: 1>\u001b[1;34m()\u001b[0m\n\u001b[1;32m----> 1\u001b[0m \u001b[43mmultiple\u001b[49m(\u001b[38;5;241m1\u001b[39m,\u001b[38;5;241m2\u001b[39m,\u001b[38;5;241m3\u001b[39m,\u001b[38;5;241m4\u001b[39m,\u001b[38;5;241m5\u001b[39m,\u001b[38;5;241m6\u001b[39m,\u001b[38;5;241m7\u001b[39m)\n",
      "\u001b[1;31mNameError\u001b[0m: name 'multiple' is not defined"
     ]
    }
   ],
   "source": [
    "multiple(1,2,3,4,5,6,7)"
   ]
  },
  {
   "cell_type": "code",
   "execution_count": 24,
   "id": "fe2fe21f",
   "metadata": {},
   "outputs": [
    {
     "name": "stdout",
     "output_type": "stream",
     "text": [
      "132\n",
      "125\n",
      "1.5454545454545454\n"
     ]
    }
   ],
   "source": [
    "multiple(11,12,13,89,15,16,17)"
   ]
  },
  {
   "cell_type": "code",
   "execution_count": null,
   "id": "9027ad1e",
   "metadata": {},
   "outputs": [],
   "source": [
    "print()"
   ]
  },
  {
   "cell_type": "code",
   "execution_count": null,
   "id": "4d6185ca",
   "metadata": {},
   "outputs": [],
   "source": [
    "def functioname():\n",
    "    \n",
    "    return True"
   ]
  },
  {
   "cell_type": "code",
   "execution_count": 28,
   "id": "cbed7a15",
   "metadata": {},
   "outputs": [],
   "source": [
    "x = lambda a: a +10 "
   ]
  },
  {
   "cell_type": "code",
   "execution_count": 29,
   "id": "2222e48f",
   "metadata": {},
   "outputs": [
    {
     "data": {
      "text/plain": [
       "15"
      ]
     },
     "execution_count": 29,
     "metadata": {},
     "output_type": "execute_result"
    }
   ],
   "source": [
    "x(5)"
   ]
  },
  {
   "cell_type": "code",
   "execution_count": 30,
   "id": "c6d30717",
   "metadata": {},
   "outputs": [],
   "source": [
    "x = lambda a,b : a*b"
   ]
  },
  {
   "cell_type": "code",
   "execution_count": 31,
   "id": "d5f9ba31",
   "metadata": {},
   "outputs": [
    {
     "data": {
      "text/plain": [
       "30"
      ]
     },
     "execution_count": 31,
     "metadata": {},
     "output_type": "execute_result"
    }
   ],
   "source": [
    "x(5,6)"
   ]
  },
  {
   "cell_type": "code",
   "execution_count": 32,
   "id": "9f6e99e2",
   "metadata": {},
   "outputs": [],
   "source": [
    "def myfunc(n):\n",
    "    return lambda a : a*n"
   ]
  },
  {
   "cell_type": "code",
   "execution_count": 33,
   "id": "e729b271",
   "metadata": {},
   "outputs": [],
   "source": [
    "myval = myfunc(3)"
   ]
  },
  {
   "cell_type": "code",
   "execution_count": 34,
   "id": "c19ba86a",
   "metadata": {},
   "outputs": [
    {
     "data": {
      "text/plain": [
       "33"
      ]
     },
     "execution_count": 34,
     "metadata": {},
     "output_type": "execute_result"
    }
   ],
   "source": [
    "myval(11)"
   ]
  },
  {
   "cell_type": "code",
   "execution_count": 35,
   "id": "524a9f6e",
   "metadata": {},
   "outputs": [
    {
     "name": "stdout",
     "output_type": "stream",
     "text": [
      "<function <lambda> at 0x00000214E1FD15E0>\n"
     ]
    }
   ],
   "source": [
    "try :\n",
    "    print(x)\n",
    "except:\n",
    "    print(\" an error occured\")"
   ]
  },
  {
   "cell_type": "code",
   "execution_count": 36,
   "id": "9b423531",
   "metadata": {},
   "outputs": [
    {
     "name": "stdout",
     "output_type": "stream",
     "text": [
      " an error occured\n"
     ]
    }
   ],
   "source": [
    "try :\n",
    "    \"thillai\" / 2\n",
    "except:\n",
    "    print(\" an error occured\")"
   ]
  },
  {
   "cell_type": "code",
   "execution_count": 38,
   "id": "8716e0a6",
   "metadata": {},
   "outputs": [
    {
     "name": "stdout",
     "output_type": "stream",
     "text": [
      "2.0\n"
     ]
    }
   ],
   "source": [
    "try :\n",
    "    print(4 / 2)\n",
    "except:\n",
    "    print(\" an error occured\")"
   ]
  },
  {
   "cell_type": "code",
   "execution_count": 39,
   "id": "d2733ed0",
   "metadata": {},
   "outputs": [
    {
     "name": "stdout",
     "output_type": "stream",
     "text": [
      "enter user namethillai\n"
     ]
    }
   ],
   "source": [
    "user = input(\"enter user name\")"
   ]
  },
  {
   "cell_type": "code",
   "execution_count": 40,
   "id": "51fb8d92",
   "metadata": {},
   "outputs": [
    {
     "data": {
      "text/plain": [
       "'thillai'"
      ]
     },
     "execution_count": 40,
     "metadata": {},
     "output_type": "execute_result"
    }
   ],
   "source": [
    "user"
   ]
  },
  {
   "cell_type": "code",
   "execution_count": 41,
   "id": "a4bfd132",
   "metadata": {},
   "outputs": [
    {
     "name": "stdout",
     "output_type": "stream",
     "text": [
      "2\n"
     ]
    }
   ],
   "source": [
    "age = int(input())"
   ]
  },
  {
   "cell_type": "code",
   "execution_count": 42,
   "id": "b98b5b9e",
   "metadata": {},
   "outputs": [
    {
     "data": {
      "text/plain": [
       "2"
      ]
     },
     "execution_count": 42,
     "metadata": {},
     "output_type": "execute_result"
    }
   ],
   "source": [
    "age"
   ]
  },
  {
   "cell_type": "code",
   "execution_count": 43,
   "id": "69522941",
   "metadata": {},
   "outputs": [],
   "source": [
    "import re"
   ]
  },
  {
   "cell_type": "code",
   "execution_count": null,
   "id": "8ade6e71",
   "metadata": {},
   "outputs": [],
   "source": [
    "regex package / library"
   ]
  },
  {
   "cell_type": "code",
   "execution_count": 44,
   "id": "1b7cb172",
   "metadata": {},
   "outputs": [],
   "source": [
    "txt = \"the rain in india \""
   ]
  },
  {
   "cell_type": "code",
   "execution_count": 45,
   "id": "6108cd23",
   "metadata": {},
   "outputs": [],
   "source": [
    "x = re.findall(\"ai\" , txt)"
   ]
  },
  {
   "cell_type": "code",
   "execution_count": 46,
   "id": "32a67f43",
   "metadata": {},
   "outputs": [
    {
     "name": "stdout",
     "output_type": "stream",
     "text": [
      "['ai']\n"
     ]
    }
   ],
   "source": [
    "print(x)"
   ]
  },
  {
   "cell_type": "code",
   "execution_count": 47,
   "id": "55ab39bb",
   "metadata": {},
   "outputs": [],
   "source": [
    "x = re.findall(\"spain\" , txt)"
   ]
  },
  {
   "cell_type": "code",
   "execution_count": 48,
   "id": "27eca04d",
   "metadata": {},
   "outputs": [
    {
     "name": "stdout",
     "output_type": "stream",
     "text": [
      "[]\n"
     ]
    }
   ],
   "source": [
    "print(x)"
   ]
  },
  {
   "cell_type": "code",
   "execution_count": 49,
   "id": "feb5a91f",
   "metadata": {},
   "outputs": [],
   "source": [
    "x = re.findall(\"india\" , txt)"
   ]
  },
  {
   "cell_type": "code",
   "execution_count": 50,
   "id": "accbb174",
   "metadata": {},
   "outputs": [
    {
     "name": "stdout",
     "output_type": "stream",
     "text": [
      "['india']\n"
     ]
    }
   ],
   "source": [
    "print(x)"
   ]
  },
  {
   "cell_type": "code",
   "execution_count": 51,
   "id": "1a2a0ffa",
   "metadata": {},
   "outputs": [],
   "source": [
    "x = re.split(\"\\s\" , txt)"
   ]
  },
  {
   "cell_type": "code",
   "execution_count": 52,
   "id": "8e5f331f",
   "metadata": {},
   "outputs": [
    {
     "name": "stdout",
     "output_type": "stream",
     "text": [
      "['the', 'rain', 'in', 'india', '']\n"
     ]
    }
   ],
   "source": [
    "print(x)"
   ]
  },
  {
   "cell_type": "code",
   "execution_count": 53,
   "id": "e493b1da",
   "metadata": {},
   "outputs": [],
   "source": [
    "x = re.split(\"\\s\" , txt,1)"
   ]
  },
  {
   "cell_type": "code",
   "execution_count": 54,
   "id": "c244740a",
   "metadata": {},
   "outputs": [
    {
     "name": "stdout",
     "output_type": "stream",
     "text": [
      "['the', 'rain in india ']\n"
     ]
    }
   ],
   "source": [
    "print(x)"
   ]
  },
  {
   "cell_type": "code",
   "execution_count": 55,
   "id": "17574220",
   "metadata": {},
   "outputs": [],
   "source": [
    "x = re.sub(\"\\s\" ,\"9\", txt)"
   ]
  },
  {
   "cell_type": "code",
   "execution_count": 56,
   "id": "d5bc8e53",
   "metadata": {},
   "outputs": [
    {
     "name": "stdout",
     "output_type": "stream",
     "text": [
      "the9rain9in9india9\n"
     ]
    }
   ],
   "source": [
    "print(x)"
   ]
  },
  {
   "cell_type": "code",
   "execution_count": 57,
   "id": "b5b23e7f",
   "metadata": {},
   "outputs": [],
   "source": [
    "x = re.sub(\"\\s\" ,\"9\", txt,2)"
   ]
  },
  {
   "cell_type": "code",
   "execution_count": 58,
   "id": "8f571187",
   "metadata": {},
   "outputs": [
    {
     "name": "stdout",
     "output_type": "stream",
     "text": [
      "the9rain9in india \n"
     ]
    }
   ],
   "source": [
    "print(x)"
   ]
  },
  {
   "cell_type": "code",
   "execution_count": 59,
   "id": "2ca18293",
   "metadata": {},
   "outputs": [],
   "source": [
    "x = re.search(\"india\", txt)"
   ]
  },
  {
   "cell_type": "code",
   "execution_count": 60,
   "id": "e1d45258",
   "metadata": {},
   "outputs": [
    {
     "name": "stdout",
     "output_type": "stream",
     "text": [
      "<re.Match object; span=(12, 17), match='india'>\n"
     ]
    }
   ],
   "source": [
    "print(x)"
   ]
  },
  {
   "cell_type": "code",
   "execution_count": 61,
   "id": "c39876f8",
   "metadata": {},
   "outputs": [],
   "source": [
    "import pandas as pd"
   ]
  },
  {
   "cell_type": "code",
   "execution_count": null,
   "id": "6b783950",
   "metadata": {},
   "outputs": [],
   "source": [
    "get external fils in to python , data management , data operations , basic statistics"
   ]
  },
  {
   "cell_type": "code",
   "execution_count": 62,
   "id": "a0eb9483",
   "metadata": {},
   "outputs": [],
   "source": [
    "data = pd.read_csv(r\"C:\\Users\\Admin\\Desktop\\project\\BA\\week 1\\auto.csv\",sep=\",\")"
   ]
  },
  {
   "cell_type": "code",
   "execution_count": 63,
   "id": "842c8b3b",
   "metadata": {},
   "outputs": [
    {
     "data": {
      "text/html": [
       "<div>\n",
       "<style scoped>\n",
       "    .dataframe tbody tr th:only-of-type {\n",
       "        vertical-align: middle;\n",
       "    }\n",
       "\n",
       "    .dataframe tbody tr th {\n",
       "        vertical-align: top;\n",
       "    }\n",
       "\n",
       "    .dataframe thead th {\n",
       "        text-align: right;\n",
       "    }\n",
       "</style>\n",
       "<table border=\"1\" class=\"dataframe\">\n",
       "  <thead>\n",
       "    <tr style=\"text-align: right;\">\n",
       "      <th></th>\n",
       "      <th>mpg</th>\n",
       "      <th>cylinders</th>\n",
       "      <th>displacement</th>\n",
       "      <th>horsepower</th>\n",
       "      <th>weight</th>\n",
       "      <th>acceleration</th>\n",
       "      <th>year</th>\n",
       "      <th>origin</th>\n",
       "      <th>name</th>\n",
       "    </tr>\n",
       "  </thead>\n",
       "  <tbody>\n",
       "    <tr>\n",
       "      <th>0</th>\n",
       "      <td>18.0</td>\n",
       "      <td>8</td>\n",
       "      <td>307.0</td>\n",
       "      <td>130</td>\n",
       "      <td>3504</td>\n",
       "      <td>12.0</td>\n",
       "      <td>70</td>\n",
       "      <td>1</td>\n",
       "      <td>chevrolet chevelle malibu</td>\n",
       "    </tr>\n",
       "    <tr>\n",
       "      <th>1</th>\n",
       "      <td>15.0</td>\n",
       "      <td>8</td>\n",
       "      <td>350.0</td>\n",
       "      <td>165</td>\n",
       "      <td>3693</td>\n",
       "      <td>11.5</td>\n",
       "      <td>70</td>\n",
       "      <td>1</td>\n",
       "      <td>buick skylark 320</td>\n",
       "    </tr>\n",
       "    <tr>\n",
       "      <th>2</th>\n",
       "      <td>18.0</td>\n",
       "      <td>8</td>\n",
       "      <td>318.0</td>\n",
       "      <td>150</td>\n",
       "      <td>3436</td>\n",
       "      <td>11.0</td>\n",
       "      <td>70</td>\n",
       "      <td>1</td>\n",
       "      <td>plymouth satellite</td>\n",
       "    </tr>\n",
       "    <tr>\n",
       "      <th>3</th>\n",
       "      <td>16.0</td>\n",
       "      <td>8</td>\n",
       "      <td>304.0</td>\n",
       "      <td>150</td>\n",
       "      <td>3433</td>\n",
       "      <td>12.0</td>\n",
       "      <td>70</td>\n",
       "      <td>1</td>\n",
       "      <td>amc rebel sst</td>\n",
       "    </tr>\n",
       "    <tr>\n",
       "      <th>4</th>\n",
       "      <td>17.0</td>\n",
       "      <td>8</td>\n",
       "      <td>302.0</td>\n",
       "      <td>140</td>\n",
       "      <td>3449</td>\n",
       "      <td>10.5</td>\n",
       "      <td>70</td>\n",
       "      <td>1</td>\n",
       "      <td>ford torino</td>\n",
       "    </tr>\n",
       "  </tbody>\n",
       "</table>\n",
       "</div>"
      ],
      "text/plain": [
       "    mpg  cylinders  displacement horsepower  weight  acceleration  year  \\\n",
       "0  18.0          8         307.0        130    3504          12.0    70   \n",
       "1  15.0          8         350.0        165    3693          11.5    70   \n",
       "2  18.0          8         318.0        150    3436          11.0    70   \n",
       "3  16.0          8         304.0        150    3433          12.0    70   \n",
       "4  17.0          8         302.0        140    3449          10.5    70   \n",
       "\n",
       "   origin                       name  \n",
       "0       1  chevrolet chevelle malibu  \n",
       "1       1          buick skylark 320  \n",
       "2       1         plymouth satellite  \n",
       "3       1              amc rebel sst  \n",
       "4       1                ford torino  "
      ]
     },
     "execution_count": 63,
     "metadata": {},
     "output_type": "execute_result"
    }
   ],
   "source": [
    "data.head()"
   ]
  },
  {
   "cell_type": "code",
   "execution_count": 65,
   "id": "183565a5",
   "metadata": {},
   "outputs": [
    {
     "data": {
      "text/html": [
       "<div>\n",
       "<style scoped>\n",
       "    .dataframe tbody tr th:only-of-type {\n",
       "        vertical-align: middle;\n",
       "    }\n",
       "\n",
       "    .dataframe tbody tr th {\n",
       "        vertical-align: top;\n",
       "    }\n",
       "\n",
       "    .dataframe thead th {\n",
       "        text-align: right;\n",
       "    }\n",
       "</style>\n",
       "<table border=\"1\" class=\"dataframe\">\n",
       "  <thead>\n",
       "    <tr style=\"text-align: right;\">\n",
       "      <th></th>\n",
       "      <th>mpg</th>\n",
       "      <th>cylinders</th>\n",
       "      <th>displacement</th>\n",
       "      <th>horsepower</th>\n",
       "      <th>weight</th>\n",
       "      <th>acceleration</th>\n",
       "      <th>year</th>\n",
       "      <th>origin</th>\n",
       "      <th>name</th>\n",
       "    </tr>\n",
       "  </thead>\n",
       "  <tbody>\n",
       "    <tr>\n",
       "      <th>392</th>\n",
       "      <td>27.0</td>\n",
       "      <td>4</td>\n",
       "      <td>140.0</td>\n",
       "      <td>86</td>\n",
       "      <td>2790</td>\n",
       "      <td>15.6</td>\n",
       "      <td>82</td>\n",
       "      <td>1</td>\n",
       "      <td>ford mustang gl</td>\n",
       "    </tr>\n",
       "    <tr>\n",
       "      <th>393</th>\n",
       "      <td>44.0</td>\n",
       "      <td>4</td>\n",
       "      <td>97.0</td>\n",
       "      <td>52</td>\n",
       "      <td>2130</td>\n",
       "      <td>24.6</td>\n",
       "      <td>82</td>\n",
       "      <td>2</td>\n",
       "      <td>vw pickup</td>\n",
       "    </tr>\n",
       "    <tr>\n",
       "      <th>394</th>\n",
       "      <td>32.0</td>\n",
       "      <td>4</td>\n",
       "      <td>135.0</td>\n",
       "      <td>84</td>\n",
       "      <td>2295</td>\n",
       "      <td>11.6</td>\n",
       "      <td>82</td>\n",
       "      <td>1</td>\n",
       "      <td>dodge rampage</td>\n",
       "    </tr>\n",
       "    <tr>\n",
       "      <th>395</th>\n",
       "      <td>28.0</td>\n",
       "      <td>4</td>\n",
       "      <td>120.0</td>\n",
       "      <td>79</td>\n",
       "      <td>2625</td>\n",
       "      <td>18.6</td>\n",
       "      <td>82</td>\n",
       "      <td>1</td>\n",
       "      <td>ford ranger</td>\n",
       "    </tr>\n",
       "    <tr>\n",
       "      <th>396</th>\n",
       "      <td>31.0</td>\n",
       "      <td>4</td>\n",
       "      <td>119.0</td>\n",
       "      <td>82</td>\n",
       "      <td>2720</td>\n",
       "      <td>19.4</td>\n",
       "      <td>82</td>\n",
       "      <td>1</td>\n",
       "      <td>chevy s-10</td>\n",
       "    </tr>\n",
       "  </tbody>\n",
       "</table>\n",
       "</div>"
      ],
      "text/plain": [
       "      mpg  cylinders  displacement horsepower  weight  acceleration  year  \\\n",
       "392  27.0          4         140.0         86    2790          15.6    82   \n",
       "393  44.0          4          97.0         52    2130          24.6    82   \n",
       "394  32.0          4         135.0         84    2295          11.6    82   \n",
       "395  28.0          4         120.0         79    2625          18.6    82   \n",
       "396  31.0          4         119.0         82    2720          19.4    82   \n",
       "\n",
       "     origin             name  \n",
       "392       1  ford mustang gl  \n",
       "393       2        vw pickup  \n",
       "394       1    dodge rampage  \n",
       "395       1      ford ranger  \n",
       "396       1       chevy s-10  "
      ]
     },
     "execution_count": 65,
     "metadata": {},
     "output_type": "execute_result"
    }
   ],
   "source": [
    "data.tail()"
   ]
  },
  {
   "cell_type": "code",
   "execution_count": 64,
   "id": "5a4791d3",
   "metadata": {},
   "outputs": [
    {
     "data": {
      "text/html": [
       "<div>\n",
       "<style scoped>\n",
       "    .dataframe tbody tr th:only-of-type {\n",
       "        vertical-align: middle;\n",
       "    }\n",
       "\n",
       "    .dataframe tbody tr th {\n",
       "        vertical-align: top;\n",
       "    }\n",
       "\n",
       "    .dataframe thead th {\n",
       "        text-align: right;\n",
       "    }\n",
       "</style>\n",
       "<table border=\"1\" class=\"dataframe\">\n",
       "  <thead>\n",
       "    <tr style=\"text-align: right;\">\n",
       "      <th></th>\n",
       "      <th>mpg</th>\n",
       "      <th>cylinders</th>\n",
       "      <th>displacement</th>\n",
       "      <th>weight</th>\n",
       "      <th>acceleration</th>\n",
       "      <th>year</th>\n",
       "      <th>origin</th>\n",
       "    </tr>\n",
       "  </thead>\n",
       "  <tbody>\n",
       "    <tr>\n",
       "      <th>count</th>\n",
       "      <td>397.000000</td>\n",
       "      <td>397.000000</td>\n",
       "      <td>397.000000</td>\n",
       "      <td>397.000000</td>\n",
       "      <td>397.000000</td>\n",
       "      <td>397.000000</td>\n",
       "      <td>397.000000</td>\n",
       "    </tr>\n",
       "    <tr>\n",
       "      <th>mean</th>\n",
       "      <td>23.515869</td>\n",
       "      <td>5.458438</td>\n",
       "      <td>193.532746</td>\n",
       "      <td>2970.261965</td>\n",
       "      <td>15.555668</td>\n",
       "      <td>75.994962</td>\n",
       "      <td>1.574307</td>\n",
       "    </tr>\n",
       "    <tr>\n",
       "      <th>std</th>\n",
       "      <td>7.825804</td>\n",
       "      <td>1.701577</td>\n",
       "      <td>104.379583</td>\n",
       "      <td>847.904119</td>\n",
       "      <td>2.749995</td>\n",
       "      <td>3.690005</td>\n",
       "      <td>0.802549</td>\n",
       "    </tr>\n",
       "    <tr>\n",
       "      <th>min</th>\n",
       "      <td>9.000000</td>\n",
       "      <td>3.000000</td>\n",
       "      <td>68.000000</td>\n",
       "      <td>1613.000000</td>\n",
       "      <td>8.000000</td>\n",
       "      <td>70.000000</td>\n",
       "      <td>1.000000</td>\n",
       "    </tr>\n",
       "    <tr>\n",
       "      <th>25%</th>\n",
       "      <td>17.500000</td>\n",
       "      <td>4.000000</td>\n",
       "      <td>104.000000</td>\n",
       "      <td>2223.000000</td>\n",
       "      <td>13.800000</td>\n",
       "      <td>73.000000</td>\n",
       "      <td>1.000000</td>\n",
       "    </tr>\n",
       "    <tr>\n",
       "      <th>50%</th>\n",
       "      <td>23.000000</td>\n",
       "      <td>4.000000</td>\n",
       "      <td>146.000000</td>\n",
       "      <td>2800.000000</td>\n",
       "      <td>15.500000</td>\n",
       "      <td>76.000000</td>\n",
       "      <td>1.000000</td>\n",
       "    </tr>\n",
       "    <tr>\n",
       "      <th>75%</th>\n",
       "      <td>29.000000</td>\n",
       "      <td>8.000000</td>\n",
       "      <td>262.000000</td>\n",
       "      <td>3609.000000</td>\n",
       "      <td>17.100000</td>\n",
       "      <td>79.000000</td>\n",
       "      <td>2.000000</td>\n",
       "    </tr>\n",
       "    <tr>\n",
       "      <th>max</th>\n",
       "      <td>46.600000</td>\n",
       "      <td>8.000000</td>\n",
       "      <td>455.000000</td>\n",
       "      <td>5140.000000</td>\n",
       "      <td>24.800000</td>\n",
       "      <td>82.000000</td>\n",
       "      <td>3.000000</td>\n",
       "    </tr>\n",
       "  </tbody>\n",
       "</table>\n",
       "</div>"
      ],
      "text/plain": [
       "              mpg   cylinders  displacement       weight  acceleration  \\\n",
       "count  397.000000  397.000000    397.000000   397.000000    397.000000   \n",
       "mean    23.515869    5.458438    193.532746  2970.261965     15.555668   \n",
       "std      7.825804    1.701577    104.379583   847.904119      2.749995   \n",
       "min      9.000000    3.000000     68.000000  1613.000000      8.000000   \n",
       "25%     17.500000    4.000000    104.000000  2223.000000     13.800000   \n",
       "50%     23.000000    4.000000    146.000000  2800.000000     15.500000   \n",
       "75%     29.000000    8.000000    262.000000  3609.000000     17.100000   \n",
       "max     46.600000    8.000000    455.000000  5140.000000     24.800000   \n",
       "\n",
       "             year      origin  \n",
       "count  397.000000  397.000000  \n",
       "mean    75.994962    1.574307  \n",
       "std      3.690005    0.802549  \n",
       "min     70.000000    1.000000  \n",
       "25%     73.000000    1.000000  \n",
       "50%     76.000000    1.000000  \n",
       "75%     79.000000    2.000000  \n",
       "max     82.000000    3.000000  "
      ]
     },
     "execution_count": 64,
     "metadata": {},
     "output_type": "execute_result"
    }
   ],
   "source": [
    "data.describe()"
   ]
  },
  {
   "cell_type": "code",
   "execution_count": 68,
   "id": "f7bae290",
   "metadata": {},
   "outputs": [
    {
     "data": {
      "text/plain": [
       "Index(['mpg', 'cylinders', 'displacement', 'horsepower', 'weight',\n",
       "       'acceleration', 'year', 'origin', 'name'],\n",
       "      dtype='object')"
      ]
     },
     "execution_count": 68,
     "metadata": {},
     "output_type": "execute_result"
    }
   ],
   "source": [
    "data.columns"
   ]
  },
  {
   "cell_type": "code",
   "execution_count": 70,
   "id": "307e0bd8",
   "metadata": {},
   "outputs": [
    {
     "data": {
      "text/html": [
       "<div>\n",
       "<style scoped>\n",
       "    .dataframe tbody tr th:only-of-type {\n",
       "        vertical-align: middle;\n",
       "    }\n",
       "\n",
       "    .dataframe tbody tr th {\n",
       "        vertical-align: top;\n",
       "    }\n",
       "\n",
       "    .dataframe thead th {\n",
       "        text-align: right;\n",
       "    }\n",
       "</style>\n",
       "<table border=\"1\" class=\"dataframe\">\n",
       "  <thead>\n",
       "    <tr style=\"text-align: right;\">\n",
       "      <th></th>\n",
       "      <th>mpg</th>\n",
       "      <th>cylinders</th>\n",
       "      <th>displacement</th>\n",
       "      <th>horsepower</th>\n",
       "      <th>weight</th>\n",
       "      <th>acceleration</th>\n",
       "      <th>year</th>\n",
       "      <th>origin</th>\n",
       "      <th>name</th>\n",
       "    </tr>\n",
       "  </thead>\n",
       "  <tbody>\n",
       "    <tr>\n",
       "      <th>0</th>\n",
       "      <td>18.0</td>\n",
       "      <td>8</td>\n",
       "      <td>307.0</td>\n",
       "      <td>130</td>\n",
       "      <td>3504</td>\n",
       "      <td>12.0</td>\n",
       "      <td>70</td>\n",
       "      <td>1</td>\n",
       "      <td>chevrolet chevelle malibu</td>\n",
       "    </tr>\n",
       "    <tr>\n",
       "      <th>1</th>\n",
       "      <td>15.0</td>\n",
       "      <td>8</td>\n",
       "      <td>350.0</td>\n",
       "      <td>165</td>\n",
       "      <td>3693</td>\n",
       "      <td>11.5</td>\n",
       "      <td>70</td>\n",
       "      <td>1</td>\n",
       "      <td>buick skylark 320</td>\n",
       "    </tr>\n",
       "  </tbody>\n",
       "</table>\n",
       "</div>"
      ],
      "text/plain": [
       "    mpg  cylinders  displacement horsepower  weight  acceleration  year  \\\n",
       "0  18.0          8         307.0        130    3504          12.0    70   \n",
       "1  15.0          8         350.0        165    3693          11.5    70   \n",
       "\n",
       "   origin                       name  \n",
       "0       1  chevrolet chevelle malibu  \n",
       "1       1          buick skylark 320  "
      ]
     },
     "execution_count": 70,
     "metadata": {},
     "output_type": "execute_result"
    }
   ],
   "source": [
    "data[0:2]"
   ]
  },
  {
   "cell_type": "code",
   "execution_count": 72,
   "id": "d87fe673",
   "metadata": {
    "collapsed": true
   },
   "outputs": [
    {
     "data": {
      "text/html": [
       "<div>\n",
       "<style scoped>\n",
       "    .dataframe tbody tr th:only-of-type {\n",
       "        vertical-align: middle;\n",
       "    }\n",
       "\n",
       "    .dataframe tbody tr th {\n",
       "        vertical-align: top;\n",
       "    }\n",
       "\n",
       "    .dataframe thead th {\n",
       "        text-align: right;\n",
       "    }\n",
       "</style>\n",
       "<table border=\"1\" class=\"dataframe\">\n",
       "  <thead>\n",
       "    <tr style=\"text-align: right;\">\n",
       "      <th></th>\n",
       "      <th>mpg</th>\n",
       "      <th>cylinders</th>\n",
       "    </tr>\n",
       "  </thead>\n",
       "  <tbody>\n",
       "    <tr>\n",
       "      <th>0</th>\n",
       "      <td>18.0</td>\n",
       "      <td>8</td>\n",
       "    </tr>\n",
       "    <tr>\n",
       "      <th>1</th>\n",
       "      <td>15.0</td>\n",
       "      <td>8</td>\n",
       "    </tr>\n",
       "    <tr>\n",
       "      <th>2</th>\n",
       "      <td>18.0</td>\n",
       "      <td>8</td>\n",
       "    </tr>\n",
       "    <tr>\n",
       "      <th>3</th>\n",
       "      <td>16.0</td>\n",
       "      <td>8</td>\n",
       "    </tr>\n",
       "    <tr>\n",
       "      <th>4</th>\n",
       "      <td>17.0</td>\n",
       "      <td>8</td>\n",
       "    </tr>\n",
       "    <tr>\n",
       "      <th>...</th>\n",
       "      <td>...</td>\n",
       "      <td>...</td>\n",
       "    </tr>\n",
       "    <tr>\n",
       "      <th>392</th>\n",
       "      <td>27.0</td>\n",
       "      <td>4</td>\n",
       "    </tr>\n",
       "    <tr>\n",
       "      <th>393</th>\n",
       "      <td>44.0</td>\n",
       "      <td>4</td>\n",
       "    </tr>\n",
       "    <tr>\n",
       "      <th>394</th>\n",
       "      <td>32.0</td>\n",
       "      <td>4</td>\n",
       "    </tr>\n",
       "    <tr>\n",
       "      <th>395</th>\n",
       "      <td>28.0</td>\n",
       "      <td>4</td>\n",
       "    </tr>\n",
       "    <tr>\n",
       "      <th>396</th>\n",
       "      <td>31.0</td>\n",
       "      <td>4</td>\n",
       "    </tr>\n",
       "  </tbody>\n",
       "</table>\n",
       "<p>397 rows × 2 columns</p>\n",
       "</div>"
      ],
      "text/plain": [
       "      mpg  cylinders\n",
       "0    18.0          8\n",
       "1    15.0          8\n",
       "2    18.0          8\n",
       "3    16.0          8\n",
       "4    17.0          8\n",
       "..    ...        ...\n",
       "392  27.0          4\n",
       "393  44.0          4\n",
       "394  32.0          4\n",
       "395  28.0          4\n",
       "396  31.0          4\n",
       "\n",
       "[397 rows x 2 columns]"
      ]
     },
     "execution_count": 72,
     "metadata": {},
     "output_type": "execute_result"
    }
   ],
   "source": [
    "data[['mpg','cylinders']]"
   ]
  },
  {
   "cell_type": "code",
   "execution_count": null,
   "id": "d5691f94",
   "metadata": {},
   "outputs": [],
   "source": [
    "data[0:59]"
   ]
  },
  {
   "cell_type": "code",
   "execution_count": null,
   "id": "74d8f648",
   "metadata": {},
   "outputs": [],
   "source": [
    "data[[\" col1\" , col2 , col3 , ... , coln]]"
   ]
  },
  {
   "cell_type": "code",
   "execution_count": null,
   "id": "c0f59249",
   "metadata": {},
   "outputs": [],
   "source": []
  },
  {
   "cell_type": "code",
   "execution_count": null,
   "id": "950d9ce0",
   "metadata": {},
   "outputs": [],
   "source": [
    "import pandas as pd\n",
    "data = pd.read_excel(\"path\\file.xlsx\",sheet_name=\"Sheet1\")"
   ]
  },
  {
   "cell_type": "code",
   "execution_count": null,
   "id": "9182c17f",
   "metadata": {},
   "outputs": [],
   "source": []
  },
  {
   "cell_type": "code",
   "execution_count": null,
   "id": "1a21e374",
   "metadata": {},
   "outputs": [],
   "source": []
  },
  {
   "cell_type": "code",
   "execution_count": null,
   "id": "c2301385",
   "metadata": {},
   "outputs": [],
   "source": []
  },
  {
   "cell_type": "code",
   "execution_count": 106,
   "id": "996a526d",
   "metadata": {},
   "outputs": [],
   "source": [
    "ls = [1,2,3,4]"
   ]
  },
  {
   "cell_type": "code",
   "execution_count": 107,
   "id": "e8433ad6",
   "metadata": {},
   "outputs": [
    {
     "data": {
      "text/plain": [
       "10"
      ]
     },
     "execution_count": 107,
     "metadata": {},
     "output_type": "execute_result"
    }
   ],
   "source": [
    "sum(ls)"
   ]
  },
  {
   "cell_type": "code",
   "execution_count": 183,
   "id": "a664c73b",
   "metadata": {},
   "outputs": [],
   "source": [
    "# String funcitons\n",
    "\n",
    "s = '    hello   '\n"
   ]
  },
  {
   "cell_type": "code",
   "execution_count": 184,
   "id": "67ab6dba",
   "metadata": {},
   "outputs": [
    {
     "data": {
      "text/plain": [
       "'hello'"
      ]
     },
     "execution_count": 184,
     "metadata": {},
     "output_type": "execute_result"
    }
   ],
   "source": [
    "s.strip()"
   ]
  },
  {
   "cell_type": "code",
   "execution_count": null,
   "id": "f805eb30",
   "metadata": {},
   "outputs": [],
   "source": [
    "lstrip  -  leading spaces\n",
    "rstrip - trailing spaces"
   ]
  },
  {
   "cell_type": "code",
   "execution_count": 185,
   "id": "f867ceed",
   "metadata": {},
   "outputs": [
    {
     "data": {
      "text/plain": [
       "'hello   '"
      ]
     },
     "execution_count": 185,
     "metadata": {},
     "output_type": "execute_result"
    }
   ],
   "source": [
    "s.lstrip()"
   ]
  },
  {
   "cell_type": "code",
   "execution_count": 186,
   "id": "28716dd7",
   "metadata": {},
   "outputs": [
    {
     "data": {
      "text/plain": [
       "'    hello'"
      ]
     },
     "execution_count": 186,
     "metadata": {},
     "output_type": "execute_result"
    }
   ],
   "source": [
    "s.rstrip()"
   ]
  },
  {
   "cell_type": "code",
   "execution_count": 187,
   "id": "dcae732b",
   "metadata": {},
   "outputs": [],
   "source": [
    "s = '#######hello######'"
   ]
  },
  {
   "cell_type": "code",
   "execution_count": 188,
   "id": "432cacaf",
   "metadata": {},
   "outputs": [
    {
     "data": {
      "text/plain": [
       "'#######hello######'"
      ]
     },
     "execution_count": 188,
     "metadata": {},
     "output_type": "execute_result"
    }
   ],
   "source": [
    "s"
   ]
  },
  {
   "cell_type": "code",
   "execution_count": 189,
   "id": "7fd4a70c",
   "metadata": {},
   "outputs": [
    {
     "data": {
      "text/plain": [
       "'hello'"
      ]
     },
     "execution_count": 189,
     "metadata": {},
     "output_type": "execute_result"
    }
   ],
   "source": [
    "s.strip('#')"
   ]
  },
  {
   "cell_type": "code",
   "execution_count": 124,
   "id": "5ce10d89",
   "metadata": {},
   "outputs": [],
   "source": [
    "s = 'thiilai: murali'            "
   ]
  },
  {
   "cell_type": "code",
   "execution_count": 125,
   "id": "7acf0105",
   "metadata": {},
   "outputs": [
    {
     "data": {
      "text/plain": [
       "' murali'"
      ]
     },
     "execution_count": 125,
     "metadata": {},
     "output_type": "execute_result"
    }
   ],
   "source": [
    "s.lstrip('thillai:')"
   ]
  },
  {
   "cell_type": "code",
   "execution_count": 127,
   "id": "c0a96347",
   "metadata": {},
   "outputs": [
    {
     "data": {
      "text/plain": [
       "' murali'"
      ]
     },
     "execution_count": 127,
     "metadata": {},
     "output_type": "execute_result"
    }
   ],
   "source": [
    "s.removeprefix('thiilai:')"
   ]
  },
  {
   "cell_type": "code",
   "execution_count": 128,
   "id": "0d3356bc",
   "metadata": {},
   "outputs": [],
   "source": [
    "s = 'hellopython'"
   ]
  },
  {
   "cell_type": "code",
   "execution_count": 130,
   "id": "fa549ab1",
   "metadata": {},
   "outputs": [
    {
     "name": "stdout",
     "output_type": "stream",
     "text": [
      "hello\n"
     ]
    }
   ],
   "source": [
    "print(s.removesuffix('python'))"
   ]
  },
  {
   "cell_type": "code",
   "execution_count": 190,
   "id": "ed49d2a5",
   "metadata": {},
   "outputs": [],
   "source": [
    "s = '\\n hello \\n'"
   ]
  },
  {
   "cell_type": "code",
   "execution_count": 132,
   "id": "fe10c726",
   "metadata": {},
   "outputs": [
    {
     "data": {
      "text/plain": [
       "'\\n hello \\n'"
      ]
     },
     "execution_count": 132,
     "metadata": {},
     "output_type": "execute_result"
    }
   ],
   "source": [
    "s"
   ]
  },
  {
   "cell_type": "code",
   "execution_count": 191,
   "id": "e3516199",
   "metadata": {},
   "outputs": [
    {
     "data": {
      "text/plain": [
       "' hello '"
      ]
     },
     "execution_count": 191,
     "metadata": {},
     "output_type": "execute_result"
    }
   ],
   "source": [
    "s.replace('\\n','')"
   ]
  },
  {
   "cell_type": "code",
   "execution_count": 192,
   "id": "7bc7c2e8",
   "metadata": {},
   "outputs": [],
   "source": [
    "s = 'sathis'"
   ]
  },
  {
   "cell_type": "code",
   "execution_count": 135,
   "id": "c9d612ea",
   "metadata": {},
   "outputs": [
    {
     "data": {
      "text/plain": [
       "str"
      ]
     },
     "execution_count": 135,
     "metadata": {},
     "output_type": "execute_result"
    }
   ],
   "source": [
    "type(s)"
   ]
  },
  {
   "cell_type": "code",
   "execution_count": 193,
   "id": "2093d474",
   "metadata": {},
   "outputs": [
    {
     "data": {
      "text/plain": [
       "'SATHIS'"
      ]
     },
     "execution_count": 193,
     "metadata": {},
     "output_type": "execute_result"
    }
   ],
   "source": [
    "s.upper()"
   ]
  },
  {
   "cell_type": "code",
   "execution_count": 194,
   "id": "dca83f37",
   "metadata": {},
   "outputs": [
    {
     "data": {
      "text/plain": [
       "'sathis'"
      ]
     },
     "execution_count": 194,
     "metadata": {},
     "output_type": "execute_result"
    }
   ],
   "source": [
    "s.lower()"
   ]
  },
  {
   "cell_type": "code",
   "execution_count": 205,
   "id": "b216d3a7",
   "metadata": {},
   "outputs": [
    {
     "data": {
      "text/plain": [
       "17"
      ]
     },
     "execution_count": 205,
     "metadata": {},
     "output_type": "execute_result"
    }
   ],
   "source": [
    "s = \"python is awesome\"\n",
    "# s.capitalize()\n",
    "len(s)"
   ]
  },
  {
   "cell_type": "code",
   "execution_count": 196,
   "id": "feff55a7",
   "metadata": {},
   "outputs": [],
   "source": [
    "s = 'Thillai Murali'"
   ]
  },
  {
   "cell_type": "code",
   "execution_count": 197,
   "id": "f774db77",
   "metadata": {},
   "outputs": [
    {
     "data": {
      "text/plain": [
       "['Thillai', 'Murali']"
      ]
     },
     "execution_count": 197,
     "metadata": {},
     "output_type": "execute_result"
    }
   ],
   "source": [
    "s.split()"
   ]
  },
  {
   "cell_type": "code",
   "execution_count": 198,
   "id": "8cec59ef",
   "metadata": {},
   "outputs": [],
   "source": [
    "name = 'thillai murali'"
   ]
  },
  {
   "cell_type": "code",
   "execution_count": 201,
   "id": "1091fc40",
   "metadata": {},
   "outputs": [
    {
     "data": {
      "text/plain": [
       "'murali'"
      ]
     },
     "execution_count": 201,
     "metadata": {},
     "output_type": "execute_result"
    }
   ],
   "source": [
    "name.split()[1]"
   ]
  },
  {
   "cell_type": "code",
   "execution_count": 146,
   "id": "2d58681b",
   "metadata": {},
   "outputs": [
    {
     "data": {
      "text/plain": [
       "['string', 'methods', 'in', 'python']"
      ]
     },
     "execution_count": 146,
     "metadata": {},
     "output_type": "execute_result"
    }
   ],
   "source": [
    "s.rsplit()"
   ]
  },
  {
   "cell_type": "code",
   "execution_count": 206,
   "id": "0fe55288",
   "metadata": {},
   "outputs": [],
   "source": [
    "ls = ['string', 'methods', 'in', 'python']"
   ]
  },
  {
   "cell_type": "code",
   "execution_count": 207,
   "id": "bdc59b15",
   "metadata": {},
   "outputs": [
    {
     "data": {
      "text/plain": [
       "['string', 'methods', 'in', 'python']"
      ]
     },
     "execution_count": 207,
     "metadata": {},
     "output_type": "execute_result"
    }
   ],
   "source": [
    "ls"
   ]
  },
  {
   "cell_type": "code",
   "execution_count": 209,
   "id": "0b6097b6",
   "metadata": {},
   "outputs": [],
   "source": [
    "s = ' '.join(ls)"
   ]
  },
  {
   "cell_type": "code",
   "execution_count": 210,
   "id": "eb74c797",
   "metadata": {},
   "outputs": [
    {
     "data": {
      "text/plain": [
       "'string methods in python'"
      ]
     },
     "execution_count": 210,
     "metadata": {},
     "output_type": "execute_result"
    }
   ],
   "source": [
    "s"
   ]
  },
  {
   "cell_type": "code",
   "execution_count": 212,
   "id": "45dd8e8f",
   "metadata": {},
   "outputs": [],
   "source": [
    "s = 'Pyhton is awesomw'"
   ]
  },
  {
   "cell_type": "code",
   "execution_count": 213,
   "id": "4b98ad47",
   "metadata": {},
   "outputs": [
    {
     "data": {
      "text/plain": [
       "False"
      ]
     },
     "execution_count": 213,
     "metadata": {},
     "output_type": "execute_result"
    }
   ],
   "source": [
    "s.islower()"
   ]
  },
  {
   "cell_type": "code",
   "execution_count": 214,
   "id": "e8eef7e4",
   "metadata": {},
   "outputs": [],
   "source": [
    "s = 'python is awesome'"
   ]
  },
  {
   "cell_type": "code",
   "execution_count": 215,
   "id": "6031594d",
   "metadata": {},
   "outputs": [
    {
     "data": {
      "text/plain": [
       "True"
      ]
     },
     "execution_count": 215,
     "metadata": {},
     "output_type": "execute_result"
    }
   ],
   "source": [
    "s.islower()"
   ]
  },
  {
   "cell_type": "code",
   "execution_count": 216,
   "id": "06b243bd",
   "metadata": {},
   "outputs": [],
   "source": [
    "s = 'PYTHON'"
   ]
  },
  {
   "cell_type": "code",
   "execution_count": 217,
   "id": "7925c65d",
   "metadata": {},
   "outputs": [
    {
     "data": {
      "text/plain": [
       "True"
      ]
     },
     "execution_count": 217,
     "metadata": {},
     "output_type": "execute_result"
    }
   ],
   "source": [
    "s.isupper()"
   ]
  },
  {
   "cell_type": "code",
   "execution_count": 158,
   "id": "570d3502",
   "metadata": {},
   "outputs": [],
   "source": [
    "s= 'python'"
   ]
  },
  {
   "cell_type": "code",
   "execution_count": 218,
   "id": "4751deaf",
   "metadata": {},
   "outputs": [
    {
     "data": {
      "text/plain": [
       "True"
      ]
     },
     "execution_count": 218,
     "metadata": {},
     "output_type": "execute_result"
    }
   ],
   "source": [
    "s.isalpha()"
   ]
  },
  {
   "cell_type": "code",
   "execution_count": 219,
   "id": "198dff6f",
   "metadata": {},
   "outputs": [
    {
     "data": {
      "text/plain": [
       "False"
      ]
     },
     "execution_count": 219,
     "metadata": {},
     "output_type": "execute_result"
    }
   ],
   "source": [
    "s.isnumeric()"
   ]
  },
  {
   "cell_type": "code",
   "execution_count": 161,
   "id": "a445bb72",
   "metadata": {},
   "outputs": [
    {
     "data": {
      "text/plain": [
       "True"
      ]
     },
     "execution_count": 161,
     "metadata": {},
     "output_type": "execute_result"
    }
   ],
   "source": [
    "s.isalnum()"
   ]
  },
  {
   "cell_type": "code",
   "execution_count": 221,
   "id": "1c5d4f7d",
   "metadata": {},
   "outputs": [],
   "source": [
    "n = 'hello world'"
   ]
  },
  {
   "cell_type": "code",
   "execution_count": 222,
   "id": "0079a1ce",
   "metadata": {},
   "outputs": [
    {
     "data": {
      "text/plain": [
       "3"
      ]
     },
     "execution_count": 222,
     "metadata": {},
     "output_type": "execute_result"
    }
   ],
   "source": [
    "n.count('l')"
   ]
  },
  {
   "cell_type": "code",
   "execution_count": 225,
   "id": "b9b949ae",
   "metadata": {},
   "outputs": [],
   "source": [
    "sting = \"thillai\"\n",
    "sting."
   ]
  },
  {
   "cell_type": "code",
   "execution_count": 223,
   "id": "15b09432",
   "metadata": {},
   "outputs": [],
   "source": [
    "s = 'machine learning'"
   ]
  },
  {
   "cell_type": "code",
   "execution_count": 227,
   "id": "06787b5d",
   "metadata": {},
   "outputs": [
    {
     "data": {
      "text/plain": [
       "8"
      ]
     },
     "execution_count": 227,
     "metadata": {},
     "output_type": "execute_result"
    }
   ],
   "source": [
    "s.find('l')"
   ]
  },
  {
   "cell_type": "code",
   "execution_count": 228,
   "id": "e687a086",
   "metadata": {},
   "outputs": [
    {
     "data": {
      "text/plain": [
       "10"
      ]
     },
     "execution_count": 228,
     "metadata": {},
     "output_type": "execute_result"
    }
   ],
   "source": [
    "s.find('a',2)"
   ]
  },
  {
   "cell_type": "code",
   "execution_count": 169,
   "id": "f1db7146",
   "metadata": {},
   "outputs": [
    {
     "data": {
      "text/plain": [
       "-1"
      ]
     },
     "execution_count": 169,
     "metadata": {},
     "output_type": "execute_result"
    }
   ],
   "source": [
    "s.find('z')"
   ]
  },
  {
   "cell_type": "code",
   "execution_count": 229,
   "id": "eb7986c1",
   "metadata": {},
   "outputs": [
    {
     "data": {
      "text/plain": [
       "10"
      ]
     },
     "execution_count": 229,
     "metadata": {},
     "output_type": "execute_result"
    }
   ],
   "source": [
    "s.rfind('a')"
   ]
  },
  {
   "cell_type": "code",
   "execution_count": 171,
   "id": "03e11fbe",
   "metadata": {},
   "outputs": [
    {
     "data": {
      "text/plain": [
       "5"
      ]
     },
     "execution_count": 171,
     "metadata": {},
     "output_type": "execute_result"
    }
   ],
   "source": [
    "s.find('n')"
   ]
  },
  {
   "cell_type": "code",
   "execution_count": 230,
   "id": "50c9302a",
   "metadata": {},
   "outputs": [
    {
     "data": {
      "text/plain": [
       "3"
      ]
     },
     "execution_count": 230,
     "metadata": {},
     "output_type": "execute_result"
    }
   ],
   "source": [
    "s.count('n')"
   ]
  },
  {
   "cell_type": "code",
   "execution_count": 231,
   "id": "2cc2d107",
   "metadata": {},
   "outputs": [],
   "source": [
    "# alignment\n",
    "\n",
    "s = 'pthon is awesome'\n",
    "\n"
   ]
  },
  {
   "cell_type": "code",
   "execution_count": 232,
   "id": "1bd2527f",
   "metadata": {},
   "outputs": [
    {
     "data": {
      "text/plain": [
       "'-------pthon is awesome-------'"
      ]
     },
     "execution_count": 232,
     "metadata": {},
     "output_type": "execute_result"
    }
   ],
   "source": [
    "s.center(30,'-')"
   ]
  },
  {
   "cell_type": "code",
   "execution_count": 233,
   "id": "d67bf4be",
   "metadata": {},
   "outputs": [
    {
     "data": {
      "text/plain": [
       "'pthon is awesome--------------'"
      ]
     },
     "execution_count": 233,
     "metadata": {},
     "output_type": "execute_result"
    }
   ],
   "source": [
    "s.ljust(30,'-')"
   ]
  },
  {
   "cell_type": "code",
   "execution_count": 234,
   "id": "a86d68b1",
   "metadata": {},
   "outputs": [
    {
     "data": {
      "text/plain": [
       "'--------------pthon is awesome'"
      ]
     },
     "execution_count": 234,
     "metadata": {},
     "output_type": "execute_result"
    }
   ],
   "source": [
    "s.rjust(30,'-')"
   ]
  },
  {
   "cell_type": "code",
   "execution_count": 180,
   "id": "adf454c1",
   "metadata": {},
   "outputs": [
    {
     "data": {
      "text/plain": [
       "20"
      ]
     },
     "execution_count": 180,
     "metadata": {},
     "output_type": "execute_result"
    }
   ],
   "source": [
    "len(s.rjust(20,'-'))"
   ]
  },
  {
   "cell_type": "code",
   "execution_count": 236,
   "id": "b67fac04",
   "metadata": {},
   "outputs": [
    {
     "data": {
      "text/plain": [
       "tuple"
      ]
     },
     "execution_count": 236,
     "metadata": {},
     "output_type": "execute_result"
    }
   ],
   "source": [
    "s = (\"apple\",\"mango\",\"orang\")\n",
    "type(s)"
   ]
  },
  {
   "cell_type": "code",
   "execution_count": 181,
   "id": "0b3c4efe",
   "metadata": {},
   "outputs": [],
   "source": [
    "num = 1\n",
    "lan = 'python'\n",
    "\n",
    "s = f'{lan} is the number {num} in program! ' \n"
   ]
  },
  {
   "cell_type": "code",
   "execution_count": 182,
   "id": "c9753144",
   "metadata": {},
   "outputs": [
    {
     "data": {
      "text/plain": [
       "'python is the number 1 in program! '"
      ]
     },
     "execution_count": 182,
     "metadata": {},
     "output_type": "execute_result"
    }
   ],
   "source": [
    "s"
   ]
  },
  {
   "cell_type": "code",
   "execution_count": 183,
   "id": "4675844e",
   "metadata": {},
   "outputs": [],
   "source": [
    "s = 'HELLO world'"
   ]
  },
  {
   "cell_type": "code",
   "execution_count": 184,
   "id": "89a7e934",
   "metadata": {},
   "outputs": [
    {
     "data": {
      "text/plain": [
       "'hello WORLD'"
      ]
     },
     "execution_count": 184,
     "metadata": {},
     "output_type": "execute_result"
    }
   ],
   "source": [
    "s.swapcase()"
   ]
  },
  {
   "cell_type": "code",
   "execution_count": 181,
   "id": "50a53476",
   "metadata": {},
   "outputs": [
    {
     "name": "stdout",
     "output_type": "stream",
     "text": [
      "4\n"
     ]
    }
   ],
   "source": [
    "if 3<5:\n",
    "    print(\"4\")\n",
    "\n"
   ]
  },
  {
   "cell_type": "code",
   "execution_count": 182,
   "id": "879e6724",
   "metadata": {},
   "outputs": [],
   "source": [
    "name = \"thillai\""
   ]
  },
  {
   "cell_type": "code",
   "execution_count": 237,
   "id": "8e9cf903",
   "metadata": {},
   "outputs": [],
   "source": [
    "car1 = \"ford\"\n",
    "car2 = \"volvo\""
   ]
  },
  {
   "cell_type": "code",
   "execution_count": 239,
   "id": "bf220aa9",
   "metadata": {},
   "outputs": [],
   "source": [
    "x=car1[0]"
   ]
  },
  {
   "cell_type": "code",
   "execution_count": 241,
   "id": "87155e11",
   "metadata": {},
   "outputs": [],
   "source": [
    "import numpy"
   ]
  },
  {
   "cell_type": "code",
   "execution_count": 242,
   "id": "46d883f7",
   "metadata": {},
   "outputs": [
    {
     "data": {
      "text/plain": [
       "array([1, 2])"
      ]
     },
     "execution_count": 242,
     "metadata": {},
     "output_type": "execute_result"
    }
   ],
   "source": [
    "numpy.array([1,2])"
   ]
  },
  {
   "cell_type": "code",
   "execution_count": 244,
   "id": "cfa38059",
   "metadata": {},
   "outputs": [],
   "source": [
    "x = -3\n"
   ]
  },
  {
   "cell_type": "code",
   "execution_count": 245,
   "id": "2e0005f3",
   "metadata": {},
   "outputs": [
    {
     "data": {
      "text/plain": [
       "-3"
      ]
     },
     "execution_count": 245,
     "metadata": {},
     "output_type": "execute_result"
    }
   ],
   "source": [
    "x"
   ]
  },
  {
   "cell_type": "code",
   "execution_count": null,
   "id": "a07d8c05",
   "metadata": {},
   "outputs": [],
   "source": [
    "and or in not in"
   ]
  },
  {
   "cell_type": "code",
   "execution_count": 246,
   "id": "f700b1c5",
   "metadata": {},
   "outputs": [],
   "source": [
    "\n",
    "ls = [1,2,3,4]"
   ]
  },
  {
   "cell_type": "code",
   "execution_count": 248,
   "id": "203190f9",
   "metadata": {},
   "outputs": [],
   "source": [
    "import pandas\n",
    "data = pandas.read_csv(r'C:\\Users\\Admin\\Desktop\\project\\BA\\week 1\\Auto.csv')\n"
   ]
  },
  {
   "cell_type": "code",
   "execution_count": 250,
   "id": "31f4a691",
   "metadata": {},
   "outputs": [
    {
     "data": {
      "text/html": [
       "<div>\n",
       "<style scoped>\n",
       "    .dataframe tbody tr th:only-of-type {\n",
       "        vertical-align: middle;\n",
       "    }\n",
       "\n",
       "    .dataframe tbody tr th {\n",
       "        vertical-align: top;\n",
       "    }\n",
       "\n",
       "    .dataframe thead th {\n",
       "        text-align: right;\n",
       "    }\n",
       "</style>\n",
       "<table border=\"1\" class=\"dataframe\">\n",
       "  <thead>\n",
       "    <tr style=\"text-align: right;\">\n",
       "      <th></th>\n",
       "      <th>mpg</th>\n",
       "      <th>cylinders</th>\n",
       "      <th>displacement</th>\n",
       "      <th>horsepower</th>\n",
       "      <th>weight</th>\n",
       "      <th>acceleration</th>\n",
       "      <th>year</th>\n",
       "      <th>origin</th>\n",
       "      <th>name</th>\n",
       "    </tr>\n",
       "  </thead>\n",
       "  <tbody>\n",
       "    <tr>\n",
       "      <th>0</th>\n",
       "      <td>18.0</td>\n",
       "      <td>8</td>\n",
       "      <td>307.0</td>\n",
       "      <td>130</td>\n",
       "      <td>3504</td>\n",
       "      <td>12.0</td>\n",
       "      <td>70</td>\n",
       "      <td>1</td>\n",
       "      <td>chevrolet chevelle malibu</td>\n",
       "    </tr>\n",
       "    <tr>\n",
       "      <th>1</th>\n",
       "      <td>15.0</td>\n",
       "      <td>8</td>\n",
       "      <td>350.0</td>\n",
       "      <td>165</td>\n",
       "      <td>3693</td>\n",
       "      <td>11.5</td>\n",
       "      <td>70</td>\n",
       "      <td>1</td>\n",
       "      <td>buick skylark 320</td>\n",
       "    </tr>\n",
       "  </tbody>\n",
       "</table>\n",
       "</div>"
      ],
      "text/plain": [
       "    mpg  cylinders  displacement horsepower  weight  acceleration  year  \\\n",
       "0  18.0          8         307.0        130    3504          12.0    70   \n",
       "1  15.0          8         350.0        165    3693          11.5    70   \n",
       "\n",
       "   origin                       name  \n",
       "0       1  chevrolet chevelle malibu  \n",
       "1       1          buick skylark 320  "
      ]
     },
     "execution_count": 250,
     "metadata": {},
     "output_type": "execute_result"
    }
   ],
   "source": [
    "data[:2]"
   ]
  },
  {
   "cell_type": "code",
   "execution_count": 256,
   "id": "b6ee9a80",
   "metadata": {},
   "outputs": [
    {
     "data": {
      "text/html": [
       "<div>\n",
       "<style scoped>\n",
       "    .dataframe tbody tr th:only-of-type {\n",
       "        vertical-align: middle;\n",
       "    }\n",
       "\n",
       "    .dataframe tbody tr th {\n",
       "        vertical-align: top;\n",
       "    }\n",
       "\n",
       "    .dataframe thead th {\n",
       "        text-align: right;\n",
       "    }\n",
       "</style>\n",
       "<table border=\"1\" class=\"dataframe\">\n",
       "  <thead>\n",
       "    <tr style=\"text-align: right;\">\n",
       "      <th></th>\n",
       "      <th>mpg</th>\n",
       "      <th>cylinders</th>\n",
       "      <th>weight</th>\n",
       "    </tr>\n",
       "  </thead>\n",
       "  <tbody>\n",
       "    <tr>\n",
       "      <th>1</th>\n",
       "      <td>15.0</td>\n",
       "      <td>8</td>\n",
       "      <td>3693</td>\n",
       "    </tr>\n",
       "    <tr>\n",
       "      <th>2</th>\n",
       "      <td>18.0</td>\n",
       "      <td>8</td>\n",
       "      <td>3436</td>\n",
       "    </tr>\n",
       "    <tr>\n",
       "      <th>3</th>\n",
       "      <td>16.0</td>\n",
       "      <td>8</td>\n",
       "      <td>3433</td>\n",
       "    </tr>\n",
       "  </tbody>\n",
       "</table>\n",
       "</div>"
      ],
      "text/plain": [
       "    mpg  cylinders  weight\n",
       "1  15.0          8    3693\n",
       "2  18.0          8    3436\n",
       "3  16.0          8    3433"
      ]
     },
     "execution_count": 256,
     "metadata": {},
     "output_type": "execute_result"
    }
   ],
   "source": [
    "data[['mpg','cylinders','weight']][1:4]    4-1 =3 "
   ]
  },
  {
   "cell_type": "code",
   "execution_count": 258,
   "id": "0f2b1a2f",
   "metadata": {},
   "outputs": [
    {
     "data": {
      "text/html": [
       "<div>\n",
       "<style scoped>\n",
       "    .dataframe tbody tr th:only-of-type {\n",
       "        vertical-align: middle;\n",
       "    }\n",
       "\n",
       "    .dataframe tbody tr th {\n",
       "        vertical-align: top;\n",
       "    }\n",
       "\n",
       "    .dataframe thead th {\n",
       "        text-align: right;\n",
       "    }\n",
       "</style>\n",
       "<table border=\"1\" class=\"dataframe\">\n",
       "  <thead>\n",
       "    <tr style=\"text-align: right;\">\n",
       "      <th></th>\n",
       "      <th>mpg</th>\n",
       "      <th>cylinders</th>\n",
       "      <th>displacement</th>\n",
       "      <th>horsepower</th>\n",
       "      <th>weight</th>\n",
       "      <th>acceleration</th>\n",
       "      <th>year</th>\n",
       "      <th>origin</th>\n",
       "      <th>name</th>\n",
       "    </tr>\n",
       "  </thead>\n",
       "  <tbody>\n",
       "    <tr>\n",
       "      <th>0</th>\n",
       "      <td>18.0</td>\n",
       "      <td>8</td>\n",
       "      <td>307.0</td>\n",
       "      <td>130</td>\n",
       "      <td>3504</td>\n",
       "      <td>12.0</td>\n",
       "      <td>70</td>\n",
       "      <td>1</td>\n",
       "      <td>chevrolet chevelle malibu</td>\n",
       "    </tr>\n",
       "    <tr>\n",
       "      <th>1</th>\n",
       "      <td>15.0</td>\n",
       "      <td>8</td>\n",
       "      <td>350.0</td>\n",
       "      <td>165</td>\n",
       "      <td>3693</td>\n",
       "      <td>11.5</td>\n",
       "      <td>70</td>\n",
       "      <td>1</td>\n",
       "      <td>buick skylark 320</td>\n",
       "    </tr>\n",
       "    <tr>\n",
       "      <th>2</th>\n",
       "      <td>18.0</td>\n",
       "      <td>8</td>\n",
       "      <td>318.0</td>\n",
       "      <td>150</td>\n",
       "      <td>3436</td>\n",
       "      <td>11.0</td>\n",
       "      <td>70</td>\n",
       "      <td>1</td>\n",
       "      <td>plymouth satellite</td>\n",
       "    </tr>\n",
       "  </tbody>\n",
       "</table>\n",
       "</div>"
      ],
      "text/plain": [
       "    mpg  cylinders  displacement horsepower  weight  acceleration  year  \\\n",
       "0  18.0          8         307.0        130    3504          12.0    70   \n",
       "1  15.0          8         350.0        165    3693          11.5    70   \n",
       "2  18.0          8         318.0        150    3436          11.0    70   \n",
       "\n",
       "   origin                       name  \n",
       "0       1  chevrolet chevelle malibu  \n",
       "1       1          buick skylark 320  \n",
       "2       1         plymouth satellite  "
      ]
     },
     "execution_count": 258,
     "metadata": {},
     "output_type": "execute_result"
    }
   ],
   "source": [
    "data[0:3]"
   ]
  },
  {
   "cell_type": "code",
   "execution_count": 260,
   "id": "57381395",
   "metadata": {},
   "outputs": [],
   "source": [
    "ls = [1,2,3]"
   ]
  },
  {
   "cell_type": "code",
   "execution_count": 261,
   "id": "a5896b5b",
   "metadata": {},
   "outputs": [],
   "source": [
    "import matplotlib.pyplot as plt  - charts\n",
    "import numpy as np"
   ]
  },
  {
   "cell_type": "code",
   "execution_count": 267,
   "id": "9c6653c1",
   "metadata": {},
   "outputs": [],
   "source": [
    "xpoint = np.array([1,2,6,8])\n",
    "ypoint = np.array([3,8,1,10])"
   ]
  },
  {
   "cell_type": "code",
   "execution_count": 265,
   "id": "f8bc2d3a",
   "metadata": {},
   "outputs": [
    {
     "data": {
      "text/plain": [
       "array([  0, 250])"
      ]
     },
     "execution_count": 265,
     "metadata": {},
     "output_type": "execute_result"
    }
   ],
   "source": [
    "ypoint"
   ]
  },
  {
   "cell_type": "code",
   "execution_count": 268,
   "id": "b9e06ec5",
   "metadata": {},
   "outputs": [
    {
     "data": {
      "image/png": "[encoded data removed]",
      "text/plain": [
       "<Figure size 432x288 with 1 Axes>"
      ]
     },
     "metadata": {
      "needs_background": "light"
     },
     "output_type": "display_data"
    }
   ],
   "source": [
    "plt.plot(xpoint,ypoint)\n",
    "plt.show()"
   ]
  },
  {
   "cell_type": "code",
   "execution_count": 266,
   "id": "35becde7",
   "metadata": {},
   "outputs": [
    {
     "data": {
      "text/html": [
       "<div>\n",
       "<style scoped>\n",
       "    .dataframe tbody tr th:only-of-type {\n",
       "        vertical-align: middle;\n",
       "    }\n",
       "\n",
       "    .dataframe tbody tr th {\n",
       "        vertical-align: top;\n",
       "    }\n",
       "\n",
       "    .dataframe thead th {\n",
       "        text-align: right;\n",
       "    }\n",
       "</style>\n",
       "<table border=\"1\" class=\"dataframe\">\n",
       "  <thead>\n",
       "    <tr style=\"text-align: right;\">\n",
       "      <th></th>\n",
       "      <th>mpg</th>\n",
       "      <th>cylinders</th>\n",
       "      <th>displacement</th>\n",
       "      <th>horsepower</th>\n",
       "      <th>weight</th>\n",
       "      <th>acceleration</th>\n",
       "      <th>year</th>\n",
       "      <th>origin</th>\n",
       "      <th>name</th>\n",
       "    </tr>\n",
       "  </thead>\n",
       "  <tbody>\n",
       "    <tr>\n",
       "      <th>1</th>\n",
       "      <td>15.0</td>\n",
       "      <td>8</td>\n",
       "      <td>350.0</td>\n",
       "      <td>165</td>\n",
       "      <td>3693</td>\n",
       "      <td>11.5</td>\n",
       "      <td>70</td>\n",
       "      <td>1</td>\n",
       "      <td>buick skylark 320</td>\n",
       "    </tr>\n",
       "  </tbody>\n",
       "</table>\n",
       "</div>"
      ],
      "text/plain": [
       "    mpg  cylinders  displacement horsepower  weight  acceleration  year  \\\n",
       "1  15.0          8         350.0        165    3693          11.5    70   \n",
       "\n",
       "   origin               name  \n",
       "1       1  buick skylark 320  "
      ]
     },
     "execution_count": 266,
     "metadata": {},
     "output_type": "execute_result"
    }
   ],
   "source": [
    "data[columns]"
   ]
  },
  {
   "cell_type": "code",
   "execution_count": 269,
   "id": "37a1bf6b",
   "metadata": {},
   "outputs": [
    {
     "data": {
      "text/html": [
       "<div>\n",
       "<style scoped>\n",
       "    .dataframe tbody tr th:only-of-type {\n",
       "        vertical-align: middle;\n",
       "    }\n",
       "\n",
       "    .dataframe tbody tr th {\n",
       "        vertical-align: top;\n",
       "    }\n",
       "\n",
       "    .dataframe thead th {\n",
       "        text-align: right;\n",
       "    }\n",
       "</style>\n",
       "<table border=\"1\" class=\"dataframe\">\n",
       "  <thead>\n",
       "    <tr style=\"text-align: right;\">\n",
       "      <th></th>\n",
       "      <th>mpg</th>\n",
       "      <th>cylinders</th>\n",
       "      <th>displacement</th>\n",
       "      <th>weight</th>\n",
       "      <th>acceleration</th>\n",
       "      <th>year</th>\n",
       "      <th>origin</th>\n",
       "    </tr>\n",
       "  </thead>\n",
       "  <tbody>\n",
       "    <tr>\n",
       "      <th>count</th>\n",
       "      <td>397.000000</td>\n",
       "      <td>397.000000</td>\n",
       "      <td>397.000000</td>\n",
       "      <td>397.000000</td>\n",
       "      <td>397.000000</td>\n",
       "      <td>397.000000</td>\n",
       "      <td>397.000000</td>\n",
       "    </tr>\n",
       "    <tr>\n",
       "      <th>mean</th>\n",
       "      <td>23.515869</td>\n",
       "      <td>5.458438</td>\n",
       "      <td>193.532746</td>\n",
       "      <td>2970.261965</td>\n",
       "      <td>15.555668</td>\n",
       "      <td>75.994962</td>\n",
       "      <td>1.574307</td>\n",
       "    </tr>\n",
       "    <tr>\n",
       "      <th>std</th>\n",
       "      <td>7.825804</td>\n",
       "      <td>1.701577</td>\n",
       "      <td>104.379583</td>\n",
       "      <td>847.904119</td>\n",
       "      <td>2.749995</td>\n",
       "      <td>3.690005</td>\n",
       "      <td>0.802549</td>\n",
       "    </tr>\n",
       "    <tr>\n",
       "      <th>min</th>\n",
       "      <td>9.000000</td>\n",
       "      <td>3.000000</td>\n",
       "      <td>68.000000</td>\n",
       "      <td>1613.000000</td>\n",
       "      <td>8.000000</td>\n",
       "      <td>70.000000</td>\n",
       "      <td>1.000000</td>\n",
       "    </tr>\n",
       "    <tr>\n",
       "      <th>25%</th>\n",
       "      <td>17.500000</td>\n",
       "      <td>4.000000</td>\n",
       "      <td>104.000000</td>\n",
       "      <td>2223.000000</td>\n",
       "      <td>13.800000</td>\n",
       "      <td>73.000000</td>\n",
       "      <td>1.000000</td>\n",
       "    </tr>\n",
       "    <tr>\n",
       "      <th>50%</th>\n",
       "      <td>23.000000</td>\n",
       "      <td>4.000000</td>\n",
       "      <td>146.000000</td>\n",
       "      <td>2800.000000</td>\n",
       "      <td>15.500000</td>\n",
       "      <td>76.000000</td>\n",
       "      <td>1.000000</td>\n",
       "    </tr>\n",
       "    <tr>\n",
       "      <th>75%</th>\n",
       "      <td>29.000000</td>\n",
       "      <td>8.000000</td>\n",
       "      <td>262.000000</td>\n",
       "      <td>3609.000000</td>\n",
       "      <td>17.100000</td>\n",
       "      <td>79.000000</td>\n",
       "      <td>2.000000</td>\n",
       "    </tr>\n",
       "    <tr>\n",
       "      <th>max</th>\n",
       "      <td>46.600000</td>\n",
       "      <td>8.000000</td>\n",
       "      <td>455.000000</td>\n",
       "      <td>5140.000000</td>\n",
       "      <td>24.800000</td>\n",
       "      <td>82.000000</td>\n",
       "      <td>3.000000</td>\n",
       "    </tr>\n",
       "  </tbody>\n",
       "</table>\n",
       "</div>"
      ],
      "text/plain": [
       "              mpg   cylinders  displacement       weight  acceleration  \\\n",
       "count  397.000000  397.000000    397.000000   397.000000    397.000000   \n",
       "mean    23.515869    5.458438    193.532746  2970.261965     15.555668   \n",
       "std      7.825804    1.701577    104.379583   847.904119      2.749995   \n",
       "min      9.000000    3.000000     68.000000  1613.000000      8.000000   \n",
       "25%     17.500000    4.000000    104.000000  2223.000000     13.800000   \n",
       "50%     23.000000    4.000000    146.000000  2800.000000     15.500000   \n",
       "75%     29.000000    8.000000    262.000000  3609.000000     17.100000   \n",
       "max     46.600000    8.000000    455.000000  5140.000000     24.800000   \n",
       "\n",
       "             year      origin  \n",
       "count  397.000000  397.000000  \n",
       "mean    75.994962    1.574307  \n",
       "std      3.690005    0.802549  \n",
       "min     70.000000    1.000000  \n",
       "25%     73.000000    1.000000  \n",
       "50%     76.000000    1.000000  \n",
       "75%     79.000000    2.000000  \n",
       "max     82.000000    3.000000  "
      ]
     },
     "execution_count": 269,
     "metadata": {},
     "output_type": "execute_result"
    }
   ],
   "source": [
    "data.describe()"
   ]
  },
  {
   "cell_type": "code",
   "execution_count": 270,
   "id": "b5a675f5",
   "metadata": {},
   "outputs": [
    {
     "data": {
      "text/html": [
       "<div>\n",
       "<style scoped>\n",
       "    .dataframe tbody tr th:only-of-type {\n",
       "        vertical-align: middle;\n",
       "    }\n",
       "\n",
       "    .dataframe tbody tr th {\n",
       "        vertical-align: top;\n",
       "    }\n",
       "\n",
       "    .dataframe thead th {\n",
       "        text-align: right;\n",
       "    }\n",
       "</style>\n",
       "<table border=\"1\" class=\"dataframe\">\n",
       "  <thead>\n",
       "    <tr style=\"text-align: right;\">\n",
       "      <th></th>\n",
       "      <th>mpg</th>\n",
       "      <th>cylinders</th>\n",
       "      <th>displacement</th>\n",
       "      <th>weight</th>\n",
       "      <th>acceleration</th>\n",
       "      <th>year</th>\n",
       "      <th>origin</th>\n",
       "    </tr>\n",
       "  </thead>\n",
       "  <tbody>\n",
       "    <tr>\n",
       "      <th>mpg</th>\n",
       "      <td>1.000000</td>\n",
       "      <td>-0.776260</td>\n",
       "      <td>-0.804443</td>\n",
       "      <td>-0.831739</td>\n",
       "      <td>0.422297</td>\n",
       "      <td>0.581469</td>\n",
       "      <td>0.563698</td>\n",
       "    </tr>\n",
       "    <tr>\n",
       "      <th>cylinders</th>\n",
       "      <td>-0.776260</td>\n",
       "      <td>1.000000</td>\n",
       "      <td>0.950920</td>\n",
       "      <td>0.897017</td>\n",
       "      <td>-0.504061</td>\n",
       "      <td>-0.346717</td>\n",
       "      <td>-0.564972</td>\n",
       "    </tr>\n",
       "    <tr>\n",
       "      <th>displacement</th>\n",
       "      <td>-0.804443</td>\n",
       "      <td>0.950920</td>\n",
       "      <td>1.000000</td>\n",
       "      <td>0.933104</td>\n",
       "      <td>-0.544162</td>\n",
       "      <td>-0.369804</td>\n",
       "      <td>-0.610664</td>\n",
       "    </tr>\n",
       "    <tr>\n",
       "      <th>weight</th>\n",
       "      <td>-0.831739</td>\n",
       "      <td>0.897017</td>\n",
       "      <td>0.933104</td>\n",
       "      <td>1.000000</td>\n",
       "      <td>-0.419502</td>\n",
       "      <td>-0.307900</td>\n",
       "      <td>-0.581265</td>\n",
       "    </tr>\n",
       "    <tr>\n",
       "      <th>acceleration</th>\n",
       "      <td>0.422297</td>\n",
       "      <td>-0.504061</td>\n",
       "      <td>-0.544162</td>\n",
       "      <td>-0.419502</td>\n",
       "      <td>1.000000</td>\n",
       "      <td>0.282901</td>\n",
       "      <td>0.210084</td>\n",
       "    </tr>\n",
       "    <tr>\n",
       "      <th>year</th>\n",
       "      <td>0.581469</td>\n",
       "      <td>-0.346717</td>\n",
       "      <td>-0.369804</td>\n",
       "      <td>-0.307900</td>\n",
       "      <td>0.282901</td>\n",
       "      <td>1.000000</td>\n",
       "      <td>0.184314</td>\n",
       "    </tr>\n",
       "    <tr>\n",
       "      <th>origin</th>\n",
       "      <td>0.563698</td>\n",
       "      <td>-0.564972</td>\n",
       "      <td>-0.610664</td>\n",
       "      <td>-0.581265</td>\n",
       "      <td>0.210084</td>\n",
       "      <td>0.184314</td>\n",
       "      <td>1.000000</td>\n",
       "    </tr>\n",
       "  </tbody>\n",
       "</table>\n",
       "</div>"
      ],
      "text/plain": [
       "                   mpg  cylinders  displacement    weight  acceleration  \\\n",
       "mpg           1.000000  -0.776260     -0.804443 -0.831739      0.422297   \n",
       "cylinders    -0.776260   1.000000      0.950920  0.897017     -0.504061   \n",
       "displacement -0.804443   0.950920      1.000000  0.933104     -0.544162   \n",
       "weight       -0.831739   0.897017      0.933104  1.000000     -0.419502   \n",
       "acceleration  0.422297  -0.504061     -0.544162 -0.419502      1.000000   \n",
       "year          0.581469  -0.346717     -0.369804 -0.307900      0.282901   \n",
       "origin        0.563698  -0.564972     -0.610664 -0.581265      0.210084   \n",
       "\n",
       "                  year    origin  \n",
       "mpg           0.581469  0.563698  \n",
       "cylinders    -0.346717 -0.564972  \n",
       "displacement -0.369804 -0.610664  \n",
       "weight       -0.307900 -0.581265  \n",
       "acceleration  0.282901  0.210084  \n",
       "year          1.000000  0.184314  \n",
       "origin        0.184314  1.000000  "
      ]
     },
     "execution_count": 270,
     "metadata": {},
     "output_type": "execute_result"
    }
   ],
   "source": [
    "data.corr()"
   ]
  },
  {
   "cell_type": "code",
   "execution_count": 271,
   "id": "e8739375",
   "metadata": {},
   "outputs": [
    {
     "data": {
      "text/plain": [
       "Index(['mpg', 'cylinders', 'displacement', 'horsepower', 'weight',\n",
       "       'acceleration', 'year', 'origin', 'name'],\n",
       "      dtype='object')"
      ]
     },
     "execution_count": 271,
     "metadata": {},
     "output_type": "execute_result"
    }
   ],
   "source": [
    "data.columns"
   ]
  },
  {
   "cell_type": "code",
   "execution_count": 273,
   "id": "d47c3348",
   "metadata": {
    "collapsed": true
   },
   "outputs": [
    {
     "data": {
      "text/html": [
       "<div>\n",
       "<style scoped>\n",
       "    .dataframe tbody tr th:only-of-type {\n",
       "        vertical-align: middle;\n",
       "    }\n",
       "\n",
       "    .dataframe tbody tr th {\n",
       "        vertical-align: top;\n",
       "    }\n",
       "\n",
       "    .dataframe thead th {\n",
       "        text-align: right;\n",
       "    }\n",
       "</style>\n",
       "<table border=\"1\" class=\"dataframe\">\n",
       "  <thead>\n",
       "    <tr style=\"text-align: right;\">\n",
       "      <th></th>\n",
       "      <th>mpg</th>\n",
       "      <th>cylinders</th>\n",
       "      <th>displacement</th>\n",
       "      <th>horsepower</th>\n",
       "      <th>weight</th>\n",
       "      <th>acceleration</th>\n",
       "      <th>year</th>\n",
       "      <th>origin</th>\n",
       "      <th>name</th>\n",
       "    </tr>\n",
       "  </thead>\n",
       "  <tbody>\n",
       "    <tr>\n",
       "      <th>96</th>\n",
       "      <td>13.0</td>\n",
       "      <td>8</td>\n",
       "      <td>360.0</td>\n",
       "      <td>175</td>\n",
       "      <td>3821</td>\n",
       "      <td>11.0</td>\n",
       "      <td>73</td>\n",
       "      <td>1</td>\n",
       "      <td>amc ambassador brougham</td>\n",
       "    </tr>\n",
       "    <tr>\n",
       "      <th>9</th>\n",
       "      <td>15.0</td>\n",
       "      <td>8</td>\n",
       "      <td>390.0</td>\n",
       "      <td>190</td>\n",
       "      <td>3850</td>\n",
       "      <td>8.5</td>\n",
       "      <td>70</td>\n",
       "      <td>1</td>\n",
       "      <td>amc ambassador dpl</td>\n",
       "    </tr>\n",
       "    <tr>\n",
       "      <th>66</th>\n",
       "      <td>17.0</td>\n",
       "      <td>8</td>\n",
       "      <td>304.0</td>\n",
       "      <td>150</td>\n",
       "      <td>3672</td>\n",
       "      <td>11.5</td>\n",
       "      <td>72</td>\n",
       "      <td>1</td>\n",
       "      <td>amc ambassador sst</td>\n",
       "    </tr>\n",
       "    <tr>\n",
       "      <th>315</th>\n",
       "      <td>24.3</td>\n",
       "      <td>4</td>\n",
       "      <td>151.0</td>\n",
       "      <td>90</td>\n",
       "      <td>3003</td>\n",
       "      <td>20.1</td>\n",
       "      <td>80</td>\n",
       "      <td>1</td>\n",
       "      <td>amc concord</td>\n",
       "    </tr>\n",
       "    <tr>\n",
       "      <th>257</th>\n",
       "      <td>19.4</td>\n",
       "      <td>6</td>\n",
       "      <td>232.0</td>\n",
       "      <td>90</td>\n",
       "      <td>3210</td>\n",
       "      <td>17.2</td>\n",
       "      <td>78</td>\n",
       "      <td>1</td>\n",
       "      <td>amc concord</td>\n",
       "    </tr>\n",
       "    <tr>\n",
       "      <th>...</th>\n",
       "      <td>...</td>\n",
       "      <td>...</td>\n",
       "      <td>...</td>\n",
       "      <td>...</td>\n",
       "      <td>...</td>\n",
       "      <td>...</td>\n",
       "      <td>...</td>\n",
       "      <td>...</td>\n",
       "      <td>...</td>\n",
       "    </tr>\n",
       "    <tr>\n",
       "      <th>393</th>\n",
       "      <td>44.0</td>\n",
       "      <td>4</td>\n",
       "      <td>97.0</td>\n",
       "      <td>52</td>\n",
       "      <td>2130</td>\n",
       "      <td>24.6</td>\n",
       "      <td>82</td>\n",
       "      <td>2</td>\n",
       "      <td>vw pickup</td>\n",
       "    </tr>\n",
       "    <tr>\n",
       "      <th>197</th>\n",
       "      <td>29.0</td>\n",
       "      <td>4</td>\n",
       "      <td>90.0</td>\n",
       "      <td>70</td>\n",
       "      <td>1937</td>\n",
       "      <td>14.2</td>\n",
       "      <td>76</td>\n",
       "      <td>2</td>\n",
       "      <td>vw rabbit</td>\n",
       "    </tr>\n",
       "    <tr>\n",
       "      <th>309</th>\n",
       "      <td>41.5</td>\n",
       "      <td>4</td>\n",
       "      <td>98.0</td>\n",
       "      <td>76</td>\n",
       "      <td>2144</td>\n",
       "      <td>14.7</td>\n",
       "      <td>80</td>\n",
       "      <td>2</td>\n",
       "      <td>vw rabbit</td>\n",
       "    </tr>\n",
       "    <tr>\n",
       "      <th>325</th>\n",
       "      <td>44.3</td>\n",
       "      <td>4</td>\n",
       "      <td>90.0</td>\n",
       "      <td>48</td>\n",
       "      <td>2085</td>\n",
       "      <td>21.7</td>\n",
       "      <td>80</td>\n",
       "      <td>2</td>\n",
       "      <td>vw rabbit c (diesel)</td>\n",
       "    </tr>\n",
       "    <tr>\n",
       "      <th>293</th>\n",
       "      <td>31.9</td>\n",
       "      <td>4</td>\n",
       "      <td>89.0</td>\n",
       "      <td>71</td>\n",
       "      <td>1925</td>\n",
       "      <td>14.0</td>\n",
       "      <td>79</td>\n",
       "      <td>2</td>\n",
       "      <td>vw rabbit custom</td>\n",
       "    </tr>\n",
       "  </tbody>\n",
       "</table>\n",
       "<p>397 rows × 9 columns</p>\n",
       "</div>"
      ],
      "text/plain": [
       "      mpg  cylinders  displacement horsepower  weight  acceleration  year  \\\n",
       "96   13.0          8         360.0        175    3821          11.0    73   \n",
       "9    15.0          8         390.0        190    3850           8.5    70   \n",
       "66   17.0          8         304.0        150    3672          11.5    72   \n",
       "315  24.3          4         151.0         90    3003          20.1    80   \n",
       "257  19.4          6         232.0         90    3210          17.2    78   \n",
       "..    ...        ...           ...        ...     ...           ...   ...   \n",
       "393  44.0          4          97.0         52    2130          24.6    82   \n",
       "197  29.0          4          90.0         70    1937          14.2    76   \n",
       "309  41.5          4          98.0         76    2144          14.7    80   \n",
       "325  44.3          4          90.0         48    2085          21.7    80   \n",
       "293  31.9          4          89.0         71    1925          14.0    79   \n",
       "\n",
       "     origin                     name  \n",
       "96        1  amc ambassador brougham  \n",
       "9         1       amc ambassador dpl  \n",
       "66        1       amc ambassador sst  \n",
       "315       1              amc concord  \n",
       "257       1              amc concord  \n",
       "..      ...                      ...  \n",
       "393       2                vw pickup  \n",
       "197       2                vw rabbit  \n",
       "309       2                vw rabbit  \n",
       "325       2     vw rabbit c (diesel)  \n",
       "293       2         vw rabbit custom  \n",
       "\n",
       "[397 rows x 9 columns]"
      ]
     },
     "execution_count": 273,
     "metadata": {},
     "output_type": "execute_result"
    }
   ],
   "source": [
    "data.sort_values(['name'])"
   ]
  },
  {
   "cell_type": "code",
   "execution_count": 274,
   "id": "2b2587b2",
   "metadata": {},
   "outputs": [
    {
     "data": {
      "text/html": [
       "<div>\n",
       "<style scoped>\n",
       "    .dataframe tbody tr th:only-of-type {\n",
       "        vertical-align: middle;\n",
       "    }\n",
       "\n",
       "    .dataframe tbody tr th {\n",
       "        vertical-align: top;\n",
       "    }\n",
       "\n",
       "    .dataframe thead th {\n",
       "        text-align: right;\n",
       "    }\n",
       "</style>\n",
       "<table border=\"1\" class=\"dataframe\">\n",
       "  <thead>\n",
       "    <tr style=\"text-align: right;\">\n",
       "      <th></th>\n",
       "      <th>mpg</th>\n",
       "      <th>cylinders</th>\n",
       "      <th>displacement</th>\n",
       "      <th>horsepower</th>\n",
       "      <th>weight</th>\n",
       "      <th>acceleration</th>\n",
       "      <th>year</th>\n",
       "      <th>origin</th>\n",
       "      <th>name</th>\n",
       "    </tr>\n",
       "  </thead>\n",
       "  <tbody>\n",
       "    <tr>\n",
       "      <th>1</th>\n",
       "      <td>15.0</td>\n",
       "      <td>8</td>\n",
       "      <td>350.0</td>\n",
       "      <td>165</td>\n",
       "      <td>3693</td>\n",
       "      <td>11.5</td>\n",
       "      <td>70</td>\n",
       "      <td>1</td>\n",
       "      <td>buick skylark 320</td>\n",
       "    </tr>\n",
       "  </tbody>\n",
       "</table>\n",
       "</div>"
      ],
      "text/plain": [
       "    mpg  cylinders  displacement horsepower  weight  acceleration  year  \\\n",
       "1  15.0          8         350.0        165    3693          11.5    70   \n",
       "\n",
       "   origin               name  \n",
       "1       1  buick skylark 320  "
      ]
     },
     "execution_count": 274,
     "metadata": {},
     "output_type": "execute_result"
    }
   ],
   "source": [
    "data[1:2]"
   ]
  },
  {
   "cell_type": "code",
   "execution_count": 275,
   "id": "d3eecca3",
   "metadata": {},
   "outputs": [
    {
     "data": {
      "text/plain": [
       "name\n",
       "amc ambassador brougham    13.0\n",
       "amc ambassador dpl         15.0\n",
       "amc ambassador sst         17.0\n",
       "amc concord                43.7\n",
       "amc concord d/l            18.1\n",
       "                           ... \n",
       "vw dasher (diesel)         43.4\n",
       "vw pickup                  44.0\n",
       "vw rabbit                  70.5\n",
       "vw rabbit c (diesel)       44.3\n",
       "vw rabbit custom           31.9\n",
       "Name: mpg, Length: 304, dtype: float64"
      ]
     },
     "execution_count": 275,
     "metadata": {},
     "output_type": "execute_result"
    }
   ],
   "source": [
    "data.groupby(['name'])['mpg'].sum()"
   ]
  },
  {
   "cell_type": "code",
   "execution_count": 276,
   "id": "ce1e0e7e",
   "metadata": {},
   "outputs": [
    {
     "data": {
      "text/plain": [
       "name\n",
       "amc ambassador brougham    1\n",
       "amc ambassador dpl         1\n",
       "amc ambassador sst         1\n",
       "amc concord                2\n",
       "amc concord d/l            1\n",
       "                          ..\n",
       "vw dasher (diesel)         1\n",
       "vw pickup                  1\n",
       "vw rabbit                  2\n",
       "vw rabbit c (diesel)       1\n",
       "vw rabbit custom           1\n",
       "Name: mpg, Length: 304, dtype: int64"
      ]
     },
     "execution_count": 276,
     "metadata": {},
     "output_type": "execute_result"
    }
   ],
   "source": [
    "data.groupby(['name'])['mpg'].count()"
   ]
  },
  {
   "cell_type": "code",
   "execution_count": 277,
   "id": "4fbaac42",
   "metadata": {},
   "outputs": [],
   "source": [
    "name = \"thillai murali\"  - input"
   ]
  },
  {
   "cell_type": "code",
   "execution_count": 278,
   "id": "9e657642",
   "metadata": {},
   "outputs": [
    {
     "name": "stdout",
     "output_type": "stream",
     "text": [
      "thillai murali\n"
     ]
    }
   ],
   "source": [
    "print(name) - output"
   ]
  },
  {
   "cell_type": "code",
   "execution_count": null,
   "id": "7f9cc84a",
   "metadata": {},
   "outputs": [],
   "source": [
    "data - pandas , data."
   ]
  },
  {
   "cell_type": "code",
   "execution_count": 279,
   "id": "0bade0cc",
   "metadata": {},
   "outputs": [],
   "source": [
    "# string funciton\n",
    "\n",
    "name = 'kali'"
   ]
  },
  {
   "cell_type": "code",
   "execution_count": 280,
   "id": "27f2f322",
   "metadata": {},
   "outputs": [
    {
     "data": {
      "text/plain": [
       "str"
      ]
     },
     "execution_count": 280,
     "metadata": {},
     "output_type": "execute_result"
    }
   ],
   "source": [
    "type(name)"
   ]
  },
  {
   "cell_type": "code",
   "execution_count": 281,
   "id": "92e5a89f",
   "metadata": {},
   "outputs": [
    {
     "data": {
      "text/plain": [
       "pandas.core.frame.DataFrame"
      ]
     },
     "execution_count": 281,
     "metadata": {},
     "output_type": "execute_result"
    }
   ],
   "source": [
    "type(data)"
   ]
  },
  {
   "cell_type": "code",
   "execution_count": null,
   "id": "d7ebec24",
   "metadata": {},
   "outputs": [],
   "source": [
    "import pandas\n",
    "data = pandas.read_csv(r'C:\\Users\\Admin\\Desktop\\project\\BA\\week 1\\Auto.csv')"
   ]
  },
  {
   "cell_type": "code",
   "execution_count": 282,
   "id": "290423d4",
   "metadata": {},
   "outputs": [],
   "source": [
    "data.to_excel(\"sample.xlsx\")"
   ]
  },
  {
   "cell_type": "code",
   "execution_count": 2,
   "id": "9cb7fb50",
   "metadata": {},
   "outputs": [],
   "source": [
    "# duplicates \n",
    "\n",
    "\n",
    "salary = [10,20,30,10,40]\n",
    "\n",
    "name = ['ram','ravi','ram']"
   ]
  },
  {
   "cell_type": "code",
   "execution_count": 3,
   "id": "98947571",
   "metadata": {},
   "outputs": [
    {
     "data": {
      "text/plain": [
       "[10, 20, 30, 10, 40]"
      ]
     },
     "execution_count": 3,
     "metadata": {},
     "output_type": "execute_result"
    }
   ],
   "source": [
    "salary"
   ]
  },
  {
   "cell_type": "code",
   "execution_count": 5,
   "id": "1ca256bb",
   "metadata": {},
   "outputs": [],
   "source": [
    "x = range(0,100)"
   ]
  },
  {
   "cell_type": "code",
   "execution_count": 8,
   "id": "b88c9e18",
   "metadata": {},
   "outputs": [],
   "source": [
    " y =list(x)"
   ]
  },
  {
   "cell_type": "code",
   "execution_count": 10,
   "id": "39c03a76",
   "metadata": {},
   "outputs": [
    {
     "name": "stdout",
     "output_type": "stream",
     "text": [
      "1\n",
      "3\n",
      "5\n",
      "7\n",
      "9\n",
      "11\n",
      "13\n"
     ]
    }
   ],
   "source": [
    "list= [1, 2, 3, 4, 5,6,7,8,9,10,11,12,13]\n",
    "for i in range(0, len(list), 2):  \n",
    "    print(list[i]);\n"
   ]
  },
  {
   "cell_type": "code",
   "execution_count": 16,
   "id": "2e6ba50e",
   "metadata": {},
   "outputs": [
    {
     "name": "stdout",
     "output_type": "stream",
     "text": [
      "Enter a value: 2\n",
      "The factorial of 2 is: 2\n"
     ]
    }
   ],
   "source": [
    "def test_factorial(n):\n",
    "    factorial = 1\n",
    "    for i in range(n, 1, -1):\n",
    "        temp = factorial * i\n",
    "        factorial = temp\n",
    "    return factorial\n",
    "\n",
    "\n",
    "user_input = int(input('Enter a value: ')) \n",
    "res = test_factorial(user_input)\n",
    "print(f\"The factorial of {user_input} is: {res}\")\n"
   ]
  },
  {
   "cell_type": "code",
   "execution_count": 17,
   "id": "84819a3b",
   "metadata": {},
   "outputs": [
    {
     "name": "stdout",
     "output_type": "stream",
     "text": [
      "1 \n",
      "1 2 \n",
      "1 2 3 \n",
      "1 2 3 4 \n"
     ]
    }
   ],
   "source": [
    "# 2.print the pattern\n",
    "for i in range(1,5):\n",
    "    for j in range(1, i+1):\n",
    "        print(j, end=' ')\n",
    "    print()\n"
   ]
  },
  {
   "cell_type": "code",
   "execution_count": 22,
   "id": "161e7a6d",
   "metadata": {},
   "outputs": [
    {
     "name": "stdout",
     "output_type": "stream",
     "text": [
      "error occured\n",
      "variable is not define\n"
     ]
    }
   ],
   "source": [
    "# Error handling  \n",
    "\n",
    "try:\n",
    "    x*'q'\n",
    "except:\n",
    "    print(\"error occured\")\n",
    "\n",
    "\n",
    "try:\n",
    "    print(z)\n",
    "except NameError:\n",
    "    print(\"variable is not define\")\n",
    "except:\n",
    "    print(\"something went wrong\")\n",
    "\n",
    "try:\n",
    "    print(z)\n",
    "except NameError:\n",
    "    print(\"variable is not define\")\n",
    "else:\n",
    "    print(\"something went wrong\")    \n",
    "    \n",
    "    \n",
    "\n",
    "\n"
   ]
  },
  {
   "cell_type": "code",
   "execution_count": 30,
   "id": "4589122e",
   "metadata": {},
   "outputs": [
    {
     "name": "stdout",
     "output_type": "stream",
     "text": [
      "Error occured\n"
     ]
    }
   ],
   "source": [
    "try:\n",
    "    x = '2'\n",
    "    if x > 1:\n",
    "        print(x)\n",
    "except:\n",
    "    print(\"Error occured\")"
   ]
  },
  {
   "cell_type": "code",
   "execution_count": 31,
   "id": "21e8d1ba",
   "metadata": {},
   "outputs": [],
   "source": [
    "try:\n",
    "    def test_odd_items(n):\n",
    "        list2 = []\n",
    "        for i in range(len(n)):\n",
    "            if i % 2 != 0:\n",
    "                list2.append(n[i])\n",
    "        return list2\n",
    "except:\n",
    "    print(\"if any error\")\n",
    "\n",
    "# res = test_odd_items([1, 2, 3, 4, 5, 'apple', 'yellow'])\n",
    "# print('The odd occurence in a list is: ', res)\n"
   ]
  },
  {
   "cell_type": "code",
   "execution_count": 34,
   "id": "28cbcdd8",
   "metadata": {},
   "outputs": [
    {
     "ename": "Exception",
     "evalue": "Sorry not a number",
     "output_type": "error",
     "traceback": [
      "\u001b[1;31m---------------------------------------------------------------------------\u001b[0m",
      "\u001b[1;31mException\u001b[0m                                 Traceback (most recent call last)",
      "Input \u001b[1;32mIn [34]\u001b[0m, in \u001b[0;36m<cell line: 3>\u001b[1;34m()\u001b[0m\n\u001b[0;32m      1\u001b[0m x \u001b[38;5;241m=\u001b[39m \u001b[38;5;241m-\u001b[39m\u001b[38;5;241m1\u001b[39m\n\u001b[0;32m      3\u001b[0m \u001b[38;5;28;01mif\u001b[39;00m x \u001b[38;5;241m<\u001b[39m\u001b[38;5;241m0\u001b[39m:\n\u001b[1;32m----> 4\u001b[0m     \u001b[38;5;28;01mraise\u001b[39;00m \u001b[38;5;167;01mException\u001b[39;00m(\u001b[38;5;124m\"\u001b[39m\u001b[38;5;124mSorry not a number\u001b[39m\u001b[38;5;124m\"\u001b[39m)\n",
      "\u001b[1;31mException\u001b[0m: Sorry not a number"
     ]
    }
   ],
   "source": [
    "x = -1\n",
    "\n",
    "if x <0:\n",
    "    raise Exception(\"Sorry not a number\")"
   ]
  },
  {
   "cell_type": "code",
   "execution_count": 33,
   "id": "b434186e",
   "metadata": {},
   "outputs": [],
   "source": [
    "# x = \"hello\"\n",
    "\n",
    "if not type(x) is int:\n",
    "    raise TypeError(\"only int are allowed\")"
   ]
  },
  {
   "cell_type": "code",
   "execution_count": null,
   "id": "79d8ec96",
   "metadata": {},
   "outputs": [],
   "source": [
    "try:\n",
    "    eroro try balck\n",
    "raise Exception: stop the exectuion "
   ]
  },
  {
   "cell_type": "code",
   "execution_count": 35,
   "id": "cc39dafd",
   "metadata": {},
   "outputs": [
    {
     "name": "stdout",
     "output_type": "stream",
     "text": [
      "the price is 42 dollars\n"
     ]
    }
   ],
   "source": [
    "# string format \n",
    "\n",
    "price = 42\n",
    "\n",
    "txt = \"the price is {} dollars\"\n",
    "print(txt.format(price))\n",
    "\n"
   ]
  },
  {
   "cell_type": "code",
   "execution_count": 36,
   "id": "c65b24ae",
   "metadata": {},
   "outputs": [
    {
     "name": "stdout",
     "output_type": "stream",
     "text": [
      "the price is 42.000000 dollars\n"
     ]
    }
   ],
   "source": [
    "\n",
    "price = 42\n",
    "\n",
    "txt = \"the price is {:2f} dollars\"\n",
    "print(txt.format(price,item,qty))"
   ]
  },
  {
   "cell_type": "code",
   "execution_count": 38,
   "id": "d6aba142",
   "metadata": {},
   "outputs": [
    {
     "name": "stdout",
     "output_type": "stream",
     "text": [
      "I want 3 pieces of item number of 567 for 49 dollars\n"
     ]
    }
   ],
   "source": [
    "qty = 3\n",
    "item = 567\n",
    "price = 49\n",
    "\n",
    "credtential to connect Data base  -user name , pwd\n",
    "txt = \"I want {} pieces of item number of {} for {} dollars\"\n",
    "print(txt.format(qty,item,price))\n",
    "\n",
    "\n",
    "txt = \"use name {}\"\n",
    "pwd = \"pwd {}\"\n"
   ]
  },
  {
   "cell_type": "code",
   "execution_count": 40,
   "id": "51492f6d",
   "metadata": {},
   "outputs": [],
   "source": [
    "# import sqlalchemy\n",
    "from sqlalchemy import create_engine"
   ]
  },
  {
   "cell_type": "code",
   "execution_count": null,
   "id": "bd944b9b",
   "metadata": {},
   "outputs": [],
   "source": [
    "# from numpy import lower"
   ]
  },
  {
   "cell_type": "code",
   "execution_count": null,
   "id": "16a2c9f2",
   "metadata": {},
   "outputs": [],
   "source": [
    "txt = \"mysqlserver:{hostname}@{user}@{pwd}\"\n",
    "connection = creat_engine(txt.format(txtfile['user'],textfile['pwd']))"
   ]
  },
  {
   "cell_type": "code",
   "execution_count": null,
   "id": "1f811b65",
   "metadata": {},
   "outputs": [],
   "source": [
    "File handling in python\n",
    "\n",
    "open()\n",
    "\n",
    "\"r\" - read\n",
    "\"a\" - append\n",
    "\"w\" - write\n",
    "\"x\" - create a object and return any error exists in the file"
   ]
  },
  {
   "cell_type": "code",
   "execution_count": 120,
   "id": "e195222b",
   "metadata": {},
   "outputs": [],
   "source": [
    "file = open(\"myfile2.txt\",'x') "
   ]
  },
  {
   "cell_type": "code",
   "execution_count": null,
   "id": "1287492d",
   "metadata": {},
   "outputs": [],
   "source": []
  },
  {
   "cell_type": "code",
   "execution_count": 48,
   "id": "2c226f3a",
   "metadata": {},
   "outputs": [],
   "source": [
    "\n",
    "f = open(r\"C:\\Users\\Admin\\Desktop\\project\\BA\\week 1\\sample.txt\",\"r\")\n",
    "\n",
    "# C:/Users/Admin/Desktop/roject/BA/week\n",
    "# C:\\\\Users\\\\Admin\\\\Desktop\\project\\BA\\week 1\n",
    "# C:\\Users\\Admin\\Desktop\\project\\BA\\week 1"
   ]
  },
  {
   "cell_type": "code",
   "execution_count": 44,
   "id": "008e3e3e",
   "metadata": {},
   "outputs": [
    {
     "data": {
      "text/plain": [
       "<_io.TextIOWrapper name='sample.txt' mode='rt' encoding='cp1252'>"
      ]
     },
     "execution_count": 44,
     "metadata": {},
     "output_type": "execute_result"
    }
   ],
   "source": [
    "f"
   ]
  },
  {
   "cell_type": "code",
   "execution_count": 47,
   "id": "793ae2c1",
   "metadata": {},
   "outputs": [
    {
     "name": "stdout",
     "output_type": "stream",
     "text": [
      "Name\tage\tmobile no\tcity\tmarks\tsalary\n",
      "A\t50\t9900763290\tBangalore\t285\t10818\n",
      "B\t23\t9709303020\tMumbai\t434\t12344\n",
      "C\t22\t9796840335\tpune\t416\t11506\n",
      "D\t47\t9433821160\tchennai\t189\t15249\n",
      "E\t33\t9840448035\tBangalore\t117\t13072\n",
      "F\t59\t9626621256\tchennai\t326\t18206\n",
      "G\t21\t9775317986\thydrabad\t467\t13755\n",
      "H\t28\t9798357363\tcalcatta\t401\t15539\n",
      "I\t37\t9338865840\tpune\t487\t11339\n",
      "J\t50\t9427086263\tMumbai\t265\t19676\n",
      "\n"
     ]
    }
   ],
   "source": [
    "print(f.read())"
   ]
  },
  {
   "cell_type": "code",
   "execution_count": 63,
   "id": "e8c4588f",
   "metadata": {},
   "outputs": [],
   "source": [
    "f = open(\"sample.txt\",'r')"
   ]
  },
  {
   "cell_type": "code",
   "execution_count": 62,
   "id": "d2220314",
   "metadata": {},
   "outputs": [
    {
     "name": "stdout",
     "output_type": "stream",
     "text": [
      "\n"
     ]
    }
   ],
   "source": [
    "print(f.read())"
   ]
  },
  {
   "cell_type": "code",
   "execution_count": 68,
   "id": "d8ef9449",
   "metadata": {},
   "outputs": [
    {
     "name": "stdout",
     "output_type": "stream",
     "text": [
      "90\tBangalore\t285\t10818\n",
      "\n"
     ]
    }
   ],
   "source": [
    "print(f.readline())"
   ]
  },
  {
   "cell_type": "code",
   "execution_count": 69,
   "id": "60b6e20d",
   "metadata": {},
   "outputs": [
    {
     "name": "stdout",
     "output_type": "stream",
     "text": [
      "Name\tage\tmobile no\tcity\tmarks\tsalary\n",
      "\n",
      "A\t50\t9900763290\tBangalore\t285\t10818\n",
      "\n",
      "B\t23\t9709303020\tMumbai\t434\t12344\n",
      "\n",
      "C\t22\t9796840335\tpune\t416\t11506\n",
      "\n",
      "D\t47\t9433821160\tchennai\t189\t15249\n",
      "\n",
      "E\t33\t9840448035\tBangalore\t117\t13072\n",
      "\n",
      "F\t59\t9626621256\tchennai\t326\t18206\n",
      "\n",
      "G\t21\t9775317986\thydrabad\t467\t13755\n",
      "\n",
      "H\t28\t9798357363\tcalcatta\t401\t15539\n",
      "\n",
      "I\t37\t9338865840\tpune\t487\t11339\n",
      "\n",
      "J\t50\t9427086263\tMumbai\t265\t19676\n",
      "\n"
     ]
    }
   ],
   "source": [
    "f = open(\"sample.txt\",\"r\")\n",
    "for i in f:\n",
    "    print(i)\n",
    "    "
   ]
  },
  {
   "cell_type": "code",
   "execution_count": 70,
   "id": "7f79ecfb",
   "metadata": {},
   "outputs": [],
   "source": [
    "f.close()"
   ]
  },
  {
   "cell_type": "code",
   "execution_count": 71,
   "id": "d3fd366c",
   "metadata": {},
   "outputs": [],
   "source": [
    "# import pandas as pd\n",
    "# data = pd.read_csv(\"sample 3.txt\",sep=\"\")"
   ]
  },
  {
   "cell_type": "code",
   "execution_count": 73,
   "id": "19d1b26f",
   "metadata": {},
   "outputs": [],
   "source": [
    "# data"
   ]
  },
  {
   "cell_type": "code",
   "execution_count": null,
   "id": "cac4e0b6",
   "metadata": {},
   "outputs": [],
   "source": [
    "r\"C:\\Users\\Admin\\Desktop\\project\\BA\\week 1\\sample.txt\""
   ]
  },
  {
   "cell_type": "code",
   "execution_count": 91,
   "id": "c00a7ac9",
   "metadata": {},
   "outputs": [
    {
     "name": "stdout",
     "output_type": "stream",
     "text": [
      "['A', '50', '9900763290', 'Bangalore', '285', '10818\\n']\n",
      "['B', '23', '9709303020', 'Mumbai', '434', '12344\\n']\n",
      "['C', '22', '9796840335', 'pune', '416', '11506\\n']\n",
      "['D', '47', '9433821160', 'chennai', '189', '15249\\n']\n",
      "['E', '33', '9840448035', 'Bangalore', '117', '13072\\n']\n",
      "['F', '59', '9626621256', 'chennai', '326', '18206\\n']\n",
      "['G', '21', '9775317986', 'hydrabad', '467', '13755\\n']\n",
      "['H', '28', '9798357363', 'calcatta', '401', '15539\\n']\n",
      "['I', '37', '9338865840', 'pune', '487', '11339\\n']\n",
      "['J', '50', '9427086263', 'Mumbai', '265', '19676\\n']\n"
     ]
    }
   ],
   "source": [
    "# file = open(\"sample.txt\")\n",
    "with open(\"sample.txt\") as file:\n",
    "    data = file.readlines()\n",
    "    data = data[1:]\n",
    "    for line in data:\n",
    "        word = line.split('\\t')\n",
    "        print(word)"
   ]
  },
  {
   "cell_type": "code",
   "execution_count": 101,
   "id": "e82bbe8a",
   "metadata": {},
   "outputs": [],
   "source": [
    "file = open('output.txt','w')\n",
    "file.write(\"\\nthis is the write command\")\n",
    "file.write(\"\\nit allows to write it \")\n",
    "file.close()"
   ]
  },
  {
   "cell_type": "code",
   "execution_count": 98,
   "id": "77cdb4ac",
   "metadata": {},
   "outputs": [],
   "source": [
    "\n",
    "    file = open(\"output.txt\",'a')\n",
    "    file.write(\" this will add this line\")\n",
    "    file.close()\n",
    "except:\n",
    "    print()"
   ]
  },
  {
   "cell_type": "code",
   "execution_count": 103,
   "id": "b5bf8a1d",
   "metadata": {},
   "outputs": [
    {
     "data": {
      "text/plain": [
       "'C:\\\\Users\\\\Admin\\\\Desktop\\\\project\\\\BA\\\\week 1'"
      ]
     },
     "execution_count": 103,
     "metadata": {},
     "output_type": "execute_result"
    }
   ],
   "source": [
    "import os\n",
    "os.getcwd()"
   ]
  },
  {
   "cell_type": "code",
   "execution_count": 99,
   "id": "f480e4ab",
   "metadata": {},
   "outputs": [],
   "source": [
    "with open(\"output.txt\",'w') as f:\n",
    "    f.write(\"hello world\")"
   ]
  },
  {
   "cell_type": "code",
   "execution_count": 104,
   "id": "882b247c",
   "metadata": {},
   "outputs": [],
   "source": [
    "file1 = open(\"myfile.txt\",\"w\")"
   ]
  },
  {
   "cell_type": "code",
   "execution_count": 105,
   "id": "c310e594",
   "metadata": {},
   "outputs": [],
   "source": [
    "l = ['this is delhi \\n', 'this is chennai \\n' , 'this is mumbai\\n', 'this is hyd\\n']"
   ]
  },
  {
   "cell_type": "code",
   "execution_count": 113,
   "id": "69a406bf",
   "metadata": {},
   "outputs": [
    {
     "data": {
      "text/plain": [
       "10"
      ]
     },
     "execution_count": 113,
     "metadata": {},
     "output_type": "execute_result"
    }
   ],
   "source": [
    "s = \"hello all\\n\"\n",
    "len(s)"
   ]
  },
  {
   "cell_type": "code",
   "execution_count": 111,
   "id": "d3c4e5f3",
   "metadata": {},
   "outputs": [],
   "source": [
    "file1.writelines(l)"
   ]
  },
  {
   "cell_type": "code",
   "execution_count": 110,
   "id": "325c10b0",
   "metadata": {},
   "outputs": [
    {
     "data": {
      "text/plain": [
       "10"
      ]
     },
     "execution_count": 110,
     "metadata": {},
     "output_type": "execute_result"
    }
   ],
   "source": [
    "file1.write(s)"
   ]
  },
  {
   "cell_type": "code",
   "execution_count": 112,
   "id": "66449bef",
   "metadata": {},
   "outputs": [],
   "source": [
    "file1.close()"
   ]
  },
  {
   "cell_type": "code",
   "execution_count": 114,
   "id": "a0ccc79c",
   "metadata": {},
   "outputs": [],
   "source": [
    "with open(\"file2.txt\",\"w\") as file:\n",
    "    file.write(\"hello\\n\")\n",
    "    file.writelines(l)"
   ]
  },
  {
   "cell_type": "code",
   "execution_count": null,
   "id": "aca94062",
   "metadata": {},
   "outputs": [],
   "source": [
    "1. write name , age , salary , ur education , addresss , mail id \n",
    "2.append the family details\n",
    "\n",
    "3. read the same in to python\n",
    "\n",
    "# 4.create the filw with header \n",
    "\n",
    "5.print the file"
   ]
  },
  {
   "cell_type": "code",
   "execution_count": null,
   "id": "f8259bd1",
   "metadata": {},
   "outputs": [],
   "source": []
  },
  {
   "cell_type": "code",
   "execution_count": 87,
   "id": "b93126bd",
   "metadata": {},
   "outputs": [
    {
     "data": {
      "text/plain": [
       "'Name@age@mobile no@city@marks@salary\\n'"
      ]
     },
     "execution_count": 87,
     "metadata": {},
     "output_type": "execute_result"
    }
   ],
   "source": [
    "data[0]"
   ]
  },
  {
   "cell_type": "code",
   "execution_count": 115,
   "id": "1d53b038",
   "metadata": {},
   "outputs": [
    {
     "data": {
      "text/plain": [
       "'C:\\\\Users\\\\Admin\\\\Desktop\\\\project\\\\BA\\\\week 1'"
      ]
     },
     "execution_count": 115,
     "metadata": {},
     "output_type": "execute_result"
    }
   ],
   "source": [
    "import os\n",
    "os.getcwd()"
   ]
  },
  {
   "cell_type": "code",
   "execution_count": 116,
   "id": "0941fe24",
   "metadata": {},
   "outputs": [],
   "source": [
    "os.chdir('C:\\\\Users\\\\Admin\\\\Desktop\\\\project\\\\BA\\\\week 1')"
   ]
  },
  {
   "cell_type": "code",
   "execution_count": 117,
   "id": "0d9b65ae",
   "metadata": {},
   "outputs": [],
   "source": [
    "os.remove(\"file2.txt\")"
   ]
  },
  {
   "cell_type": "code",
   "execution_count": 118,
   "id": "f4703480",
   "metadata": {},
   "outputs": [
    {
     "name": "stdout",
     "output_type": "stream",
     "text": [
      "No file\n"
     ]
    }
   ],
   "source": [
    "if os.path.exists(\"file2.txt\"):\n",
    "    os.remove(\"file2.txt\")\n",
    "else:\n",
    "    print(\"No file\")"
   ]
  },
  {
   "cell_type": "code",
   "execution_count": null,
   "id": "3e80dad1",
   "metadata": {},
   "outputs": [],
   "source": [
    "# os.removedirs(\"ptyhon\")"
   ]
  },
  {
   "cell_type": "code",
   "execution_count": null,
   "id": "07f89cce",
   "metadata": {},
   "outputs": [],
   "source": [
    "scripts"
   ]
  },
  {
   "cell_type": "code",
   "execution_count": null,
   "id": "4c780a70",
   "metadata": {},
   "outputs": [],
   "source": [
    "# pandas - data ops , data managment , import & export , basic statisitcs"
   ]
  },
  {
   "cell_type": "markdown",
   "id": "8128bfb4",
   "metadata": {},
   "source": [
    "# python classes and object\n",
    "\n",
    "\n"
   ]
  },
  {
   "cell_type": "code",
   "execution_count": null,
   "id": "261df919",
   "metadata": {},
   "outputs": [],
   "source": [
    "students - have differnt categories as per their marks , age , charatetstics"
   ]
  },
  {
   "cell_type": "code",
   "execution_count": null,
   "id": "82edeade",
   "metadata": {},
   "outputs": [],
   "source": [
    "class - object constructor or blueprint for creating objects"
   ]
  },
  {
   "cell_type": "code",
   "execution_count": 121,
   "id": "826fbece",
   "metadata": {},
   "outputs": [],
   "source": [
    "class myclass:\n",
    "    x = 5"
   ]
  },
  {
   "cell_type": "code",
   "execution_count": 125,
   "id": "ffd74c0c",
   "metadata": {},
   "outputs": [],
   "source": [
    "x = 10"
   ]
  },
  {
   "cell_type": "code",
   "execution_count": null,
   "id": "9c8f339e",
   "metadata": {},
   "outputs": [],
   "source": [
    "class is like global variable any where in the program"
   ]
  },
  {
   "cell_type": "code",
   "execution_count": 126,
   "id": "613e5af2",
   "metadata": {},
   "outputs": [],
   "source": [
    "p1 = myclass()"
   ]
  },
  {
   "cell_type": "code",
   "execution_count": 127,
   "id": "32cf9a47",
   "metadata": {},
   "outputs": [
    {
     "data": {
      "text/plain": [
       "5"
      ]
     },
     "execution_count": 127,
     "metadata": {},
     "output_type": "execute_result"
    }
   ],
   "source": [
    "p1.x"
   ]
  },
  {
   "cell_type": "code",
   "execution_count": null,
   "id": "d33f93a1",
   "metadata": {},
   "outputs": [],
   "source": [
    "class claasname:\n",
    "    stttament"
   ]
  },
  {
   "cell_type": "code",
   "execution_count": null,
   "id": "020898dd",
   "metadata": {},
   "outputs": [],
   "source": [
    "_init_   - it is automatically create object , initiate the object"
   ]
  },
  {
   "cell_type": "code",
   "execution_count": 128,
   "id": "10278102",
   "metadata": {},
   "outputs": [],
   "source": [
    "class person:\n",
    "    def __init__(self,name,age):\n",
    "        self.name = name\n",
    "        self.age = age\n",
    "       \n",
    "    "
   ]
  },
  {
   "cell_type": "code",
   "execution_count": 129,
   "id": "56410d14",
   "metadata": {},
   "outputs": [],
   "source": [
    "p1 = person(\"murali\",32)"
   ]
  },
  {
   "cell_type": "code",
   "execution_count": 132,
   "id": "c463579c",
   "metadata": {},
   "outputs": [],
   "source": [
    "p2 = person(\"hema\",\"19\")"
   ]
  },
  {
   "cell_type": "code",
   "execution_count": 135,
   "id": "fc284735",
   "metadata": {},
   "outputs": [
    {
     "data": {
      "text/plain": [
       "('hema', 'murali')"
      ]
     },
     "execution_count": 135,
     "metadata": {},
     "output_type": "execute_result"
    }
   ],
   "source": [
    "p2.name , p1.name"
   ]
  },
  {
   "cell_type": "code",
   "execution_count": null,
   "id": "535fa3c5",
   "metadata": {},
   "outputs": [],
   "source": [
    "class genral:\n",
    "    def maths(calculue)\n",
    "    \n",
    "    def science(gravity)\n",
    "    \n",
    "    def englis(gramer)"
   ]
  },
  {
   "cell_type": "code",
   "execution_count": 136,
   "id": "649ebef2",
   "metadata": {},
   "outputs": [],
   "source": [
    "class person:\n",
    "    def __init__(self,name,age):\n",
    "        self.name = name\n",
    "        self.age = age\n",
    "    def __str__(self):\n",
    "        return f\"{self.name}({self.age})\"\n",
    "    \n",
    "    def \n",
    "    \n",
    "    self.name = \n",
    "    self.age\n",
    "        "
   ]
  },
  {
   "cell_type": "code",
   "execution_count": 137,
   "id": "1f58cf69",
   "metadata": {},
   "outputs": [],
   "source": [
    "p1 = person(\"john\",28)"
   ]
  },
  {
   "cell_type": "code",
   "execution_count": 138,
   "id": "a98e0a58",
   "metadata": {},
   "outputs": [
    {
     "name": "stdout",
     "output_type": "stream",
     "text": [
      "john(28)\n"
     ]
    }
   ],
   "source": [
    "print(p1)"
   ]
  },
  {
   "cell_type": "code",
   "execution_count": 139,
   "id": "ddcbe946",
   "metadata": {},
   "outputs": [],
   "source": [
    "class person:\n",
    "    def __init__(self,name,age):\n",
    "        self.name = name\n",
    "        self.age = age\n",
    "    def myfunc(self):\n",
    "        print(\"my name is \" + self.name)"
   ]
  },
  {
   "cell_type": "code",
   "execution_count": 140,
   "id": "455db6d7",
   "metadata": {},
   "outputs": [],
   "source": [
    "p1 = person(\"john\",28)"
   ]
  },
  {
   "cell_type": "code",
   "execution_count": 141,
   "id": "0ca0b2eb",
   "metadata": {},
   "outputs": [
    {
     "name": "stdout",
     "output_type": "stream",
     "text": [
      "my name is john\n"
     ]
    }
   ],
   "source": [
    "p1.myfunc()"
   ]
  },
  {
   "cell_type": "code",
   "execution_count": null,
   "id": "288db942",
   "metadata": {},
   "outputs": [],
   "source": [
    "create class with adding two value x = 4 , y = 10"
   ]
  },
  {
   "cell_type": "code",
   "execution_count": 142,
   "id": "94917b62",
   "metadata": {},
   "outputs": [
    {
     "name": "stdout",
     "output_type": "stream",
     "text": [
      "14\n"
     ]
    }
   ],
   "source": [
    "class addition:\n",
    "    def __init__(self,one,two):\n",
    "        c=one+two\n",
    "        print(c)\n",
    "m=addition(4,10)\n"
   ]
  },
  {
   "cell_type": "code",
   "execution_count": 143,
   "id": "e890006a",
   "metadata": {},
   "outputs": [],
   "source": [
    "class add:\n",
    "    def __init__(self,x,y):\n",
    "        self.x = x\n",
    "        self.y = y\n",
    "        print(self.x + self.y)\n"
   ]
  },
  {
   "cell_type": "code",
   "execution_count": 144,
   "id": "c602ebc1",
   "metadata": {},
   "outputs": [
    {
     "name": "stdout",
     "output_type": "stream",
     "text": [
      "7\n"
     ]
    },
    {
     "data": {
      "text/plain": [
       "<__main__.add at 0x2a0ef8e61f0>"
      ]
     },
     "execution_count": 144,
     "metadata": {},
     "output_type": "execute_result"
    }
   ],
   "source": [
    "add(3,4)"
   ]
  },
  {
   "cell_type": "code",
   "execution_count": 155,
   "id": "816fd291",
   "metadata": {},
   "outputs": [],
   "source": [
    "class test:\n",
    "    def __init__(self,x,y):\n",
    "        self.x= x\n",
    "        self.y= y\n",
    "        print (\"test\" , self.x + self.y)\n"
   ]
  },
  {
   "cell_type": "code",
   "execution_count": 156,
   "id": "1a2c171c",
   "metadata": {},
   "outputs": [
    {
     "name": "stdout",
     "output_type": "stream",
     "text": [
      "test 7\n"
     ]
    },
    {
     "data": {
      "text/plain": [
       "<__main__.test at 0x2a0ef907b50>"
      ]
     },
     "execution_count": 156,
     "metadata": {},
     "output_type": "execute_result"
    }
   ],
   "source": [
    "test(3,4)"
   ]
  },
  {
   "cell_type": "code",
   "execution_count": 147,
   "id": "896e1e5e",
   "metadata": {},
   "outputs": [
    {
     "name": "stdout",
     "output_type": "stream",
     "text": [
      "9\n"
     ]
    }
   ],
   "source": [
    "class Total:\n",
    "    def __init__(self,x,y):\n",
    "        self.x=x\n",
    "        self.y=y\n",
    "        z=x+y\n",
    "        print(z)\n",
    "\n",
    "p1=Total(5,4)\n"
   ]
  },
  {
   "cell_type": "code",
   "execution_count": 157,
   "id": "4d34f7c2",
   "metadata": {},
   "outputs": [],
   "source": [
    "class addition:\n",
    "    first = 0\n",
    "    second = 0 \n",
    "    answer = 0\n",
    "    \n",
    "    def __init__(self,f,a):\n",
    "        self.first = f\n",
    "        self.second = a\n",
    "    def display(self):\n",
    "        print(\"first number =\"  , self.first)\n",
    "        print(\"second number =\" , self.second)\n",
    "        print(\"answer =\" , self.answer)\n",
    "        \n",
    "    def calculate(self):\n",
    "        self.answer = self.first + self.second    \n",
    "        \n",
    " "
   ]
  },
  {
   "cell_type": "code",
   "execution_count": 161,
   "id": "f4d00bf2",
   "metadata": {},
   "outputs": [],
   "source": [
    "obj = addition(1000,2000)"
   ]
  },
  {
   "cell_type": "code",
   "execution_count": 162,
   "id": "9ed50651",
   "metadata": {},
   "outputs": [],
   "source": [
    "obj.calculate()"
   ]
  },
  {
   "cell_type": "code",
   "execution_count": 163,
   "id": "5b00bd07",
   "metadata": {},
   "outputs": [
    {
     "name": "stdout",
     "output_type": "stream",
     "text": [
      "first number = 1000\n",
      "second number = 2000\n",
      "answer = 3000\n"
     ]
    }
   ],
   "source": [
    "obj.display()"
   ]
  },
  {
   "cell_type": "code",
   "execution_count": 164,
   "id": "73999d41",
   "metadata": {},
   "outputs": [],
   "source": [
    "del obj"
   ]
  },
  {
   "cell_type": "code",
   "execution_count": 172,
   "id": "f199ff64",
   "metadata": {},
   "outputs": [],
   "source": [
    "class person:\n",
    "    def __init__(self,salary):\n",
    "        pass\n",
    "        self.salary = salry\n",
    "        \n",
    "        \n",
    "    \n",
    "    def maths(self,a,b):\n",
    "        self.salary\n",
    "        return a*b\n",
    "    \n",
    "    def sciecne(p,g):\n",
    "        return p/g"
   ]
  },
  {
   "cell_type": "code",
   "execution_count": 173,
   "id": "e745d826",
   "metadata": {},
   "outputs": [],
   "source": [
    "p1 = person.maths(10,20)"
   ]
  },
  {
   "cell_type": "code",
   "execution_count": 174,
   "id": "9e9ecb32",
   "metadata": {},
   "outputs": [
    {
     "name": "stdout",
     "output_type": "stream",
     "text": [
      "200\n"
     ]
    }
   ],
   "source": [
    "print(p1)"
   ]
  },
  {
   "cell_type": "code",
   "execution_count": 168,
   "id": "2d892dc1",
   "metadata": {},
   "outputs": [],
   "source": [
    "p2 = person.sciecne(10,2)"
   ]
  },
  {
   "cell_type": "code",
   "execution_count": 169,
   "id": "60201441",
   "metadata": {},
   "outputs": [
    {
     "name": "stdout",
     "output_type": "stream",
     "text": [
      "5.0\n"
     ]
    }
   ],
   "source": [
    "print(p2)"
   ]
  },
  {
   "cell_type": "code",
   "execution_count": 189,
   "id": "9f566e7a",
   "metadata": {},
   "outputs": [],
   "source": [
    "class A:\n",
    "    def __init__(self,bb):\n",
    "        self.b= bb\n",
    "class B:\n",
    "    def __init__(self):\n",
    "        self.a = A(self)\n",
    "    def __del__(self):\n",
    "        print(\"die\")\n",
    "        \n",
    "def fun():\n",
    "    b = B()\n",
    "    \n"
   ]
  },
  {
   "cell_type": "code",
   "execution_count": 190,
   "id": "a409dc99",
   "metadata": {},
   "outputs": [],
   "source": [
    "class base1(object):\n",
    "    def __init__(self):\n",
    "        self.str1 = \"sample\"\n",
    "        print(\"base1\")\n",
    "class base2(object):\n",
    "    def __init__(self):\n",
    "        self.str2 = \"sample2\"\n",
    "        print(\"base2\")\n",
    "        \n",
    "class derived(base1,base2):\n",
    "    def __init__(self):\n",
    "        base1.__init__(self)\n",
    "        base2.__init__(self)\n",
    "        print(\"derived\")\n",
    "    def printstrs(self):\n",
    "        print(self.str1,self.str2)\n"
   ]
  },
  {
   "cell_type": "code",
   "execution_count": 193,
   "id": "d4b1d750",
   "metadata": {},
   "outputs": [
    {
     "name": "stdout",
     "output_type": "stream",
     "text": [
      "base1\n",
      "base2\n",
      "derived\n",
      "sample sample2\n"
     ]
    }
   ],
   "source": [
    "x = derived()\n",
    "x.printstrs()"
   ]
  },
  {
   "cell_type": "code",
   "execution_count": null,
   "id": "9bdf58c9",
   "metadata": {},
   "outputs": [],
   "source": []
  },
  {
   "cell_type": "code",
   "execution_count": null,
   "id": "681230c4",
   "metadata": {},
   "outputs": [],
   "source": []
  },
  {
   "cell_type": "code",
   "execution_count": null,
   "id": "220d08a6",
   "metadata": {},
   "outputs": [],
   "source": []
  },
  {
   "cell_type": "code",
   "execution_count": 188,
   "id": "32142a2f",
   "metadata": {},
   "outputs": [
    {
     "data": {
      "text/plain": [
       "<__main__.B at 0x2a0efbf63a0>"
      ]
     },
     "execution_count": 188,
     "metadata": {},
     "output_type": "execute_result"
    }
   ],
   "source": [
    "fun()"
   ]
  },
  {
   "cell_type": "code",
   "execution_count": 194,
   "id": "253f0666",
   "metadata": {},
   "outputs": [],
   "source": [
    "class parent:\n",
    "    def fun1(self):\n",
    "        print(\"this func is in parent class\")\n",
    "    \n",
    "class child(parent):\n",
    "    def fun2(self):\n",
    "        print(\"this func is child class\")        "
   ]
  },
  {
   "cell_type": "code",
   "execution_count": 195,
   "id": "3da3b089",
   "metadata": {},
   "outputs": [],
   "source": [
    "x = child()"
   ]
  },
  {
   "cell_type": "code",
   "execution_count": 196,
   "id": "dd296d37",
   "metadata": {},
   "outputs": [
    {
     "name": "stdout",
     "output_type": "stream",
     "text": [
      "this func is in parent class\n"
     ]
    }
   ],
   "source": [
    "x.fun1()"
   ]
  },
  {
   "cell_type": "code",
   "execution_count": 197,
   "id": "c826b257",
   "metadata": {},
   "outputs": [
    {
     "name": "stdout",
     "output_type": "stream",
     "text": [
      "this func is child class\n"
     ]
    }
   ],
   "source": [
    "x.fun2()"
   ]
  },
  {
   "cell_type": "code",
   "execution_count": 198,
   "id": "1bf73cf2",
   "metadata": {},
   "outputs": [],
   "source": [
    "class mother:      parent class\n",
    "    mothername =\"\"\n",
    "    def mother(self):\n",
    "        print(self.mothername)\n",
    "        \n",
    "class father:    base class 1\n",
    "    fname = \"\"\n",
    "    def father(self):\n",
    "        print(self.fname)\n",
    "        \n",
    "class son(mother,father):  child class\n",
    "    def parents(self):\n",
    "        print(\"father \" , self.fname)\n",
    "        print(\"mother\" , self.mothername)\n"
   ]
  },
  {
   "cell_type": "code",
   "execution_count": 202,
   "id": "da9868fd",
   "metadata": {},
   "outputs": [],
   "source": [
    "s1 = son()"
   ]
  },
  {
   "cell_type": "code",
   "execution_count": 200,
   "id": "eb8cced7",
   "metadata": {},
   "outputs": [],
   "source": [
    "s1.fname = \"\"\n",
    "s1.mothername = "
   ]
  },
  {
   "cell_type": "code",
   "execution_count": 203,
   "id": "69e1476d",
   "metadata": {},
   "outputs": [
    {
     "name": "stdout",
     "output_type": "stream",
     "text": [
      "father  \n",
      "mother \n"
     ]
    }
   ],
   "source": [
    "s1.parents()"
   ]
  },
  {
   "cell_type": "code",
   "execution_count": null,
   "id": "ec3e0512",
   "metadata": {},
   "outputs": [],
   "source": [
    "write a program to find a+b ^ 2 , a-b ^ 2  , ab*ba ^ 2 , (a+b) * (a-b)"
   ]
  },
  {
   "cell_type": "code",
   "execution_count": 204,
   "id": "aaec9f73",
   "metadata": {},
   "outputs": [
    {
     "data": {
      "text/plain": [
       "96"
      ]
     },
     "execution_count": 204,
     "metadata": {},
     "output_type": "execute_result"
    }
   ],
   "source": [
    "import numpy\n",
    "\n",
    "class basicExpressions:\n",
    "    def __init__(self, a, b):\n",
    "        self.a = a\n",
    "        self.b = b\n",
    "    \n",
    "    def test_add_square(self):\n",
    "        return numpy.square(self.a + self.b)\n",
    "    \n",
    "    def test_sub_square(self):\n",
    "        return numpy.square(self.a - self.b)\n",
    "    \n",
    "    def test_mul(self):\n",
    "        return (self.a * self.b) * (self.b * self.a)\n",
    "    \n",
    "    def test_compund(self):\n",
    "        return (self.a + self.b) * (self.a -self.b)\n",
    "    \n",
    "\n",
    "ob1 = basicExpressions(10, 2)\n",
    "ob1.test_compund()\n"
   ]
  },
  {
   "cell_type": "code",
   "execution_count": 205,
   "id": "6d35a9e0",
   "metadata": {},
   "outputs": [
    {
     "name": "stdout",
     "output_type": "stream",
     "text": [
      "9\n",
      "1\n",
      "-3\n"
     ]
    }
   ],
   "source": [
    "class Calulation:\n",
    "    def __init__(self, a, b):\n",
    "        self.a=a\n",
    "        self.b=b\n",
    "        c=(a**2)+(b**2)+2*a*b\n",
    "        print(c)\n",
    "class cal1():\n",
    "    def __init__(self,a,b):\n",
    "        self.a=a\n",
    "        self.b=b\n",
    "        c1=(a**2)+(b**2)-2*a*b\n",
    "        print(c1)\n",
    "class cal2():\n",
    "    def __init__(self,a,b):\n",
    "        self.a=a\n",
    "        self.b=b\n",
    "        c2=(a+b)*(a-b)\n",
    "        print(c2)\n",
    "        \n",
    "s=Calulation(1,2)\n",
    "s=cal1(1,2)\n",
    "s=cal2(1,2)\n"
   ]
  },
  {
   "cell_type": "code",
   "execution_count": 206,
   "id": "5dada4a9",
   "metadata": {},
   "outputs": [
    {
     "name": "stdout",
     "output_type": "stream",
     "text": [
      "9\n",
      "1\n",
      "-3\n"
     ]
    }
   ],
   "source": [
    "class Calulation:\n",
    "    def __init__(self, a, b):\n",
    "        self.a=a\n",
    "        self.b=b\n",
    "        c=(a**2)+(b**2)+2*a*b\n",
    "        print(c)\n",
    "class cal1():\n",
    "    def __init__(self,a,b):\n",
    "        self.a=a\n",
    "        self.b=b\n",
    "        c1=(a**2)+(b**2)-2*a*b\n",
    "        print(c1)\n",
    "class cal2():\n",
    "    def __init__(self,a,b):\n",
    "        self.a=a\n",
    "        self.b=b\n",
    "        c2=(a+b)*(a-b)\n",
    "        print(c2)\n",
    "        \n",
    "s=Calulation(1,2)\n",
    "s=cal1(1,2)\n",
    "s=cal2(1,2)\n"
   ]
  },
  {
   "cell_type": "code",
   "execution_count": 221,
   "id": "8e86047b",
   "metadata": {},
   "outputs": [],
   "source": [
    "class calculation:\n",
    "    def __init__(self,a,b):\n",
    "        self.a = a\n",
    "        self.b = b\n",
    "    def logic(self):\n",
    "        add = self.a+self.b\n",
    "        sub = self.a-self.b\n",
    "              \n",
    "        \n",
    "#         mul = a*b\n",
    "        return add,sub"
   ]
  },
  {
   "cell_type": "code",
   "execution_count": 222,
   "id": "69afde10",
   "metadata": {},
   "outputs": [],
   "source": [
    "x = calculation(1,2)"
   ]
  },
  {
   "cell_type": "code",
   "execution_count": 223,
   "id": "9fc562d2",
   "metadata": {},
   "outputs": [
    {
     "data": {
      "text/plain": [
       "(3, -1)"
      ]
     },
     "execution_count": 223,
     "metadata": {},
     "output_type": "execute_result"
    }
   ],
   "source": [
    "x.logic()"
   ]
  },
  {
   "cell_type": "code",
   "execution_count": null,
   "id": "5e1126f2",
   "metadata": {},
   "outputs": [],
   "source": [
    "polymorphism  - having many forms , the same func name ( but diffrent siganture )  \n",
    "being used in different data types"
   ]
  },
  {
   "cell_type": "code",
   "execution_count": 224,
   "id": "f42a02e8",
   "metadata": {},
   "outputs": [
    {
     "name": "stdout",
     "output_type": "stream",
     "text": [
      "4\n",
      "2\n"
     ]
    }
   ],
   "source": [
    "print(len(\"name\"))\n",
    "print(len([10,20]))"
   ]
  },
  {
   "cell_type": "code",
   "execution_count": 225,
   "id": "f7040473",
   "metadata": {},
   "outputs": [],
   "source": [
    "class india():\n",
    "    def capital(self):\n",
    "        print(\"new delhi\")\n",
    "    def lang(self):\n",
    "        print(\"engilish is mostly speaken\")\n",
    "    def type1(self):\n",
    "        print(\"india is dev country\")\n",
    "        \n",
    "class USA():\n",
    "    def capital(self):\n",
    "        print(\"DC\")\n",
    "    def lang(self):\n",
    "        print(\"chinease is mostly speaken\")\n",
    "    def type1(self):\n",
    "        print(\"usa is devlped country\")"
   ]
  },
  {
   "cell_type": "code",
   "execution_count": 226,
   "id": "a9e67a68",
   "metadata": {},
   "outputs": [],
   "source": [
    "obj_ind = india()\n",
    "obj_usa = USA()"
   ]
  },
  {
   "cell_type": "code",
   "execution_count": 227,
   "id": "7d6fdb99",
   "metadata": {},
   "outputs": [
    {
     "name": "stdout",
     "output_type": "stream",
     "text": [
      "new delhi\n",
      "engilish is mostly speaken\n",
      "india is dev country\n",
      "DC\n",
      "chinease is mostly speaken\n",
      "usa is devlped country\n"
     ]
    }
   ],
   "source": [
    "for country in (obj_ind,obj_usa):\n",
    "    country.capital()\n",
    "    country.lang()\n",
    "    country.type1()"
   ]
  },
  {
   "cell_type": "code",
   "execution_count": null,
   "id": "64470d1d",
   "metadata": {},
   "outputs": [],
   "source": [
    "1.Task for to find LCM of given 2 nmbers in class method"
   ]
  },
  {
   "cell_type": "code",
   "execution_count": null,
   "id": "43237dee",
   "metadata": {},
   "outputs": [],
   "source": [
    "2.gen python list of all the even number btn  4 to 40\n",
    "3.find the maximum item in the given list\n",
    "4.perform palindrom user input  in python , Ex.pop , madam ,malayalam\n",
    "5.create inheritance class for good student , avg student , poor student , print their names\n",
    "6.print the count of user input ex. murali - 6 , 123 - 3\n",
    "7.count the letter how many times occured in the given input -Ex. saample a - 2"
   ]
  },
  {
   "cell_type": "code",
   "execution_count": 228,
   "id": "91c70ff3",
   "metadata": {},
   "outputs": [
    {
     "name": "stdout",
     "output_type": "stream",
     "text": [
      "87\n",
      "90\n",
      "100\n",
      "500\n"
     ]
    }
   ],
   "source": [
    "# Program to print the tuple using Iterator protocols\n",
    "tup = (87, 90, 100, 500)\n",
    "\n",
    "# get an iterator using iter()\n",
    "tup_iter = iter(tup)\n",
    "\n",
    "# Infinite loop\n",
    "while True:\n",
    "    try:\n",
    "       # To fetch the next element\n",
    "       print(next(tup_iter))\n",
    "       # if exception is raised, break from the loop\n",
    "    except StopIteration:\n",
    "        break"
   ]
  },
  {
   "cell_type": "code",
   "execution_count": 229,
   "id": "001f30fc",
   "metadata": {},
   "outputs": [],
   "source": [
    "# Program to print the tuple using Iterator protocols\n",
    "tup = (87, 90, 100, 500)\n",
    "\n",
    "# get an iterator using iter()\n",
    "tup_iter = iter(tup)"
   ]
  },
  {
   "cell_type": "code",
   "execution_count": 236,
   "id": "270e2110",
   "metadata": {},
   "outputs": [
    {
     "ename": "StopIteration",
     "evalue": "",
     "output_type": "error",
     "traceback": [
      "\u001b[1;31m---------------------------------------------------------------------------\u001b[0m",
      "\u001b[1;31mStopIteration\u001b[0m                             Traceback (most recent call last)",
      "Input \u001b[1;32mIn [236]\u001b[0m, in \u001b[0;36m<cell line: 1>\u001b[1;34m()\u001b[0m\n\u001b[1;32m----> 1\u001b[0m \u001b[38;5;28;43mnext\u001b[39;49m\u001b[43m(\u001b[49m\u001b[43mtup_iter\u001b[49m\u001b[43m)\u001b[49m\n",
      "\u001b[1;31mStopIteration\u001b[0m: "
     ]
    }
   ],
   "source": [
    "next(tup_iter)"
   ]
  },
  {
   "cell_type": "code",
   "execution_count": null,
   "id": "97ea2764",
   "metadata": {},
   "outputs": [],
   "source": []
  },
  {
   "cell_type": "code",
   "execution_count": null,
   "id": "82a219ab",
   "metadata": {},
   "outputs": [],
   "source": []
  },
  {
   "cell_type": "code",
   "execution_count": null,
   "id": "84edc7da",
   "metadata": {},
   "outputs": [],
   "source": [
    "2,4   /2  = 0    2/2 , rem = 0  , 4/2 rem is 0 "
   ]
  },
  {
   "cell_type": "code",
   "execution_count": null,
   "id": "31217416",
   "metadata": {},
   "outputs": [],
   "source": []
  },
  {
   "cell_type": "code",
   "execution_count": null,
   "id": "c0173cd9",
   "metadata": {},
   "outputs": [],
   "source": []
  },
  {
   "cell_type": "code",
   "execution_count": 242,
   "id": "2eb3784a",
   "metadata": {},
   "outputs": [],
   "source": [
    "class LCM1():\n",
    "    \n",
    "    a=0\n",
    "    b=0\n",
    "    lcm=0\n",
    "    def __init__(self,a,b):\n",
    "        self.a=a\n",
    "        self.b=b\n",
    "    def display(self):\n",
    "      \n",
    "        if a>b:\n",
    "            greater=self.a\n",
    "        else:\n",
    "            greater=self.b\n",
    "        while(True):\n",
    "            if((greater%self.a==0) and greater%self.b==0):\n",
    "                lcm=greater\n",
    "                break\n",
    "                greater=greater+1\n",
    "        return lcm\n",
    "\n",
    "# y=LCM1(2,4)\n",
    "# y.display()"
   ]
  },
  {
   "cell_type": "code",
   "execution_count": 243,
   "id": "6a5dd0eb",
   "metadata": {},
   "outputs": [],
   "source": [
    "y=LCM1(2,4)"
   ]
  },
  {
   "cell_type": "code",
   "execution_count": 238,
   "id": "e8663c03",
   "metadata": {},
   "outputs": [
    {
     "ename": "SyntaxError",
     "evalue": "invalid syntax (3240567930.py, line 1)",
     "output_type": "error",
     "traceback": [
      "\u001b[1;36m  Input \u001b[1;32mIn [238]\u001b[1;36m\u001b[0m\n\u001b[1;33m    2. even=[]\u001b[0m\n\u001b[1;37m       ^\u001b[0m\n\u001b[1;31mSyntaxError\u001b[0m\u001b[1;31m:\u001b[0m invalid syntax\n"
     ]
    }
   ],
   "source": [
    "\n",
    "\n",
    "\n",
    "2. even=[]\n",
    "for i in range(4,41):\n",
    "  if i%2==0:\n",
    "    even.append(i)\n",
    "print(*even)\n",
    "\n",
    "3.#max\n",
    "\n",
    "lst=[4,7,11,90,34,55]\n",
    "print(max(lst))\n",
    "\n",
    "4.#Polindrome\n",
    "\n",
    "\n",
    "s=input()\n",
    "r=s[::-1]\n",
    "\n",
    "if s==r:\n",
    "  print(\"the given string is Polindrome\")\n",
    "else:\n",
    "  print(\"The given string is Not Polindrome\")\n",
    "\n",
    "6.#count\n",
    "\n",
    "\n",
    "s=input()\n",
    "print(len(s))\n",
    "\n",
    "7. #count particular str\n",
    "\n",
    "s=input()\n",
    "print(s.count('a'))\n"
   ]
  },
  {
   "cell_type": "markdown",
   "id": "6299d519",
   "metadata": {},
   "source": [
    "# Generators and iterator"
   ]
  },
  {
   "cell_type": "code",
   "execution_count": 245,
   "id": "bf09318a",
   "metadata": {},
   "outputs": [],
   "source": [
    "a = [0,5,10,15,20]"
   ]
  },
  {
   "cell_type": "code",
   "execution_count": 247,
   "id": "bbd420ad",
   "metadata": {},
   "outputs": [
    {
     "name": "stdout",
     "output_type": "stream",
     "text": [
      "0  this is an even number\n",
      "5 it is odd number\n",
      "10  this is an even number\n",
      "15 it is odd number\n",
      "20  this is an even number\n"
     ]
    }
   ],
   "source": [
    "for i in a:\n",
    "    if i % 2 == 0:\n",
    "        print(i ,\" this is an even number\")\n",
    "    else:\n",
    "        print(i, \"it is odd number\")"
   ]
  },
  {
   "cell_type": "code",
   "execution_count": null,
   "id": "090b0586",
   "metadata": {},
   "outputs": [],
   "source": [
    "iterator - iter () - help create the iterrable object\n",
    "next() - it isused to tthe next element"
   ]
  },
  {
   "cell_type": "code",
   "execution_count": null,
   "id": "9e1b4310",
   "metadata": {},
   "outputs": [],
   "source": []
  },
  {
   "cell_type": "code",
   "execution_count": null,
   "id": "d8a9d137",
   "metadata": {},
   "outputs": [],
   "source": [
    "iterator  - class is used to implement an iterator , 2.local variable are nt use here\n",
    "gen - function is used to implement gen , 2.all the local variable before the yield fun are stored\n",
    "\n",
    "iter - iter, next \n",
    "gen - yield keyword\n",
    "\n",
    "iter - every iter is not gen\n",
    "gen - every gen is an iterator\n"
   ]
  },
  {
   "cell_type": "code",
   "execution_count": 248,
   "id": "206133ff",
   "metadata": {},
   "outputs": [],
   "source": [
    "iter_list = iter([\"new\",\"old\",\"recylcled\",\"depreciated\"])"
   ]
  },
  {
   "cell_type": "code",
   "execution_count": 249,
   "id": "4c1afdeb",
   "metadata": {},
   "outputs": [
    {
     "data": {
      "text/plain": [
       "list_iterator"
      ]
     },
     "execution_count": 249,
     "metadata": {},
     "output_type": "execute_result"
    }
   ],
   "source": [
    "type(iter_list)"
   ]
  },
  {
   "cell_type": "code",
   "execution_count": 250,
   "id": "7dd698a5",
   "metadata": {},
   "outputs": [
    {
     "name": "stdout",
     "output_type": "stream",
     "text": [
      "new\n"
     ]
    }
   ],
   "source": [
    "print(next(iter_list))"
   ]
  },
  {
   "cell_type": "code",
   "execution_count": 251,
   "id": "d7876259",
   "metadata": {},
   "outputs": [
    {
     "name": "stdout",
     "output_type": "stream",
     "text": [
      "old\n"
     ]
    }
   ],
   "source": [
    "print(next(iter_list))"
   ]
  },
  {
   "cell_type": "code",
   "execution_count": 252,
   "id": "747e532c",
   "metadata": {},
   "outputs": [
    {
     "name": "stdout",
     "output_type": "stream",
     "text": [
      "recylcled\n"
     ]
    }
   ],
   "source": [
    "print(next(iter_list))"
   ]
  },
  {
   "cell_type": "code",
   "execution_count": 253,
   "id": "ce6fb5f8",
   "metadata": {},
   "outputs": [
    {
     "name": "stdout",
     "output_type": "stream",
     "text": [
      "depreciated\n"
     ]
    }
   ],
   "source": [
    "print(next(iter_list))"
   ]
  },
  {
   "cell_type": "code",
   "execution_count": 257,
   "id": "bf436d5b",
   "metadata": {},
   "outputs": [],
   "source": [
    "def sq_number(n):                   n = 3\n",
    "    for i in range(1,n+1):          i = 1,4\n",
    "        yield i*1                   sq = iter(1* i = 1 , 2 * i = 2 , i *3 )     "
   ]
  },
  {
   "cell_type": "code",
   "execution_count": 258,
   "id": "0cf1a815",
   "metadata": {},
   "outputs": [],
   "source": [
    "a = sq_number(3)"
   ]
  },
  {
   "cell_type": "code",
   "execution_count": 259,
   "id": "9947229b",
   "metadata": {},
   "outputs": [
    {
     "name": "stdout",
     "output_type": "stream",
     "text": [
      "1\n"
     ]
    }
   ],
   "source": [
    "print(next(a))"
   ]
  },
  {
   "cell_type": "code",
   "execution_count": 260,
   "id": "ddd0b1dd",
   "metadata": {},
   "outputs": [
    {
     "name": "stdout",
     "output_type": "stream",
     "text": [
      "2\n"
     ]
    }
   ],
   "source": [
    "print(next(a))"
   ]
  },
  {
   "cell_type": "code",
   "execution_count": 261,
   "id": "0f7bc016",
   "metadata": {},
   "outputs": [
    {
     "name": "stdout",
     "output_type": "stream",
     "text": [
      "3\n"
     ]
    }
   ],
   "source": [
    "print(next(a))"
   ]
  },
  {
   "cell_type": "code",
   "execution_count": 263,
   "id": "fbcbf07e",
   "metadata": {},
   "outputs": [],
   "source": [
    "# print(next(a))"
   ]
  },
  {
   "cell_type": "code",
   "execution_count": 264,
   "id": "a2e7d5c1",
   "metadata": {},
   "outputs": [
    {
     "name": "stdout",
     "output_type": "stream",
     "text": [
      "True\n"
     ]
    }
   ],
   "source": [
    "print(all([True,True,True]))"
   ]
  },
  {
   "cell_type": "code",
   "execution_count": 269,
   "id": "0837fccd",
   "metadata": {},
   "outputs": [
    {
     "name": "stdout",
     "output_type": "stream",
     "text": [
      "True\n"
     ]
    }
   ],
   "source": [
    "print(any([True,False,True]))"
   ]
  },
  {
   "cell_type": "code",
   "execution_count": 268,
   "id": "ff7c9821",
   "metadata": {},
   "outputs": [
    {
     "data": {
      "text/plain": [
       "False"
      ]
     },
     "execution_count": 268,
     "metadata": {},
     "output_type": "execute_result"
    }
   ],
   "source": [
    "any([False,False])"
   ]
  },
  {
   "cell_type": "code",
   "execution_count": null,
   "id": "ccbb6577",
   "metadata": {},
   "outputs": [],
   "source": [
    "and , or  - and - all  , or  - atleast one"
   ]
  },
  {
   "cell_type": "code",
   "execution_count": null,
   "id": "5b2a8ddc",
   "metadata": {},
   "outputs": [],
   "source": [
    "                  any , all function \n",
    "all true val       T     T\n",
    "all False val      F      F\n",
    "1 T , R False      T      F\n",
    "1 F , R T           T     F\n",
    "empty               F     T"
   ]
  },
  {
   "cell_type": "code",
   "execution_count": 277,
   "id": "a0e7f65c",
   "metadata": {},
   "outputs": [
    {
     "name": "stdout",
     "output_type": "stream",
     "text": [
      " see if atleast one number is div by 5 in the list 1 ge\n",
      "False\n"
     ]
    },
    {
     "data": {
      "text/plain": [
       "[False, False, False, False, True, False, False, False, False, True]"
      ]
     },
     "execution_count": 277,
     "metadata": {},
     "output_type": "execute_result"
    }
   ],
   "source": [
    "list1 = []\n",
    "list2 = []\n",
    "\n",
    "\n",
    "for i in range(1,11):\n",
    "    list1.append(4*i)\n",
    "for i in range(0,10):\n",
    "    list2.append(list1[i] %5 ==0)\n",
    "\n",
    "print( \" see if atleast one number is div by 5 in the list 1 ge\")\n",
    "print(all(list2))\n",
    "list2    "
   ]
  },
  {
   "cell_type": "code",
   "execution_count": 275,
   "id": "b7f75659",
   "metadata": {},
   "outputs": [
    {
     "data": {
      "text/plain": [
       "[4, 8, 12, 16, 20, 24, 28, 32, 36, 40]"
      ]
     },
     "execution_count": 275,
     "metadata": {},
     "output_type": "execute_result"
    }
   ],
   "source": [
    "list1"
   ]
  },
  {
   "cell_type": "code",
   "execution_count": 279,
   "id": "b151c24d",
   "metadata": {},
   "outputs": [
    {
     "name": "stdout",
     "output_type": "stream",
     "text": [
      " see if atleast one number is div by 2 in the list 1 ge\n",
      "True\n"
     ]
    }
   ],
   "source": [
    "list1 = []\n",
    "list2 = []\n",
    "\n",
    "\n",
    "for i in range(1,21):\n",
    "    list1.append((4*i)-3)     = (4*i ) - 3\n",
    "for i in range(0,20):\n",
    "    list2.append(list1[i] %2 ==1)\n",
    "\n",
    "print( \" see if atleast one number is div by 2 in the list 1 ge\")\n",
    "print(all(list2))\n",
    "# list2 "
   ]
  },
  {
   "cell_type": "code",
   "execution_count": 282,
   "id": "5d813427",
   "metadata": {},
   "outputs": [
    {
     "data": {
      "text/plain": [
       "[1, 5, 9, 13, 17, 21, 25, 29, 33, 37, 41, 45, 49, 53, 57, 61, 65, 69, 73, 77]"
      ]
     },
     "execution_count": 282,
     "metadata": {},
     "output_type": "execute_result"
    }
   ],
   "source": [
    "list1"
   ]
  },
  {
   "cell_type": "code",
   "execution_count": null,
   "id": "822d5352",
   "metadata": {},
   "outputs": [],
   "source": [
    "1. Task you to try if all are prime number then use all , print the msg   \n",
    "2. if any one is natural number then print , use any   , print the output"
   ]
  },
  {
   "cell_type": "code",
   "execution_count": null,
   "id": "3ffdcc5a",
   "metadata": {},
   "outputs": [],
   "source": [
    "prime number  - n / 1 & n/n - it is prime number  \n",
    "1,2,...,n     = n/1     "
   ]
  },
  {
   "cell_type": "code",
   "execution_count": 283,
   "id": "fc997976",
   "metadata": {},
   "outputs": [
    {
     "name": "stdout",
     "output_type": "stream",
     "text": [
      "[2, 4, 6, 8, 10, 12, 14, 16, 18, 20, 22, 24, 26, 28, 30, 32, 34, 36, 38, 40, 42, 44, 46, 48]\n",
      "[1, 3, 5, 7, 9, 11, 13, 15, 17, 19, 21, 23, 25, 27, 29, 31, 33, 35, 37, 39, 41, 43, 45, 47, 49]\n",
      "True\n",
      "True\n"
     ]
    }
   ],
   "source": [
    "l=[]\n",
    "p=[]\n",
    "for i in range(1,50):\n",
    "    if i%2==0:\n",
    "        l.append(i)\n",
    "    elif i%2!=0:\n",
    "        p.append(i)\n",
    "        \n",
    "print(l)\n",
    "print(p)\n",
    "print(all(l))\n",
    "print(any(p))\n"
   ]
  },
  {
   "cell_type": "markdown",
   "id": "800b3e8b",
   "metadata": {},
   "source": [
    "# pandas - help  to data managemnt , data ops , basic statistics , data comparison"
   ]
  },
  {
   "cell_type": "code",
   "execution_count": 284,
   "id": "4d373b21",
   "metadata": {},
   "outputs": [],
   "source": [
    "import pandas as pd"
   ]
  },
  {
   "cell_type": "code",
   "execution_count": 286,
   "id": "9a62d1a4",
   "metadata": {},
   "outputs": [],
   "source": [
    "store = pd.read_csv(r'C:\\Users\\Admin\\Desktop\\project\\BA\\week 1\\store2.csv',sep=\",\")"
   ]
  },
  {
   "cell_type": "code",
   "execution_count": 296,
   "id": "df3eb85b",
   "metadata": {},
   "outputs": [
    {
     "data": {
      "text/html": [
       "<div>\n",
       "<style scoped>\n",
       "    .dataframe tbody tr th:only-of-type {\n",
       "        vertical-align: middle;\n",
       "    }\n",
       "\n",
       "    .dataframe tbody tr th {\n",
       "        vertical-align: top;\n",
       "    }\n",
       "\n",
       "    .dataframe thead th {\n",
       "        text-align: right;\n",
       "    }\n",
       "</style>\n",
       "<table border=\"1\" class=\"dataframe\">\n",
       "  <thead>\n",
       "    <tr style=\"text-align: right;\">\n",
       "      <th></th>\n",
       "      <th>Row ID</th>\n",
       "      <th>Order ID</th>\n",
       "      <th>Order Date</th>\n",
       "      <th>Ship Date</th>\n",
       "      <th>Ship Mode</th>\n",
       "      <th>Customer ID</th>\n",
       "      <th>Customer Name</th>\n",
       "      <th>Segment</th>\n",
       "      <th>Country</th>\n",
       "      <th>City</th>\n",
       "      <th>...</th>\n",
       "      <th>Region</th>\n",
       "      <th>Product ID</th>\n",
       "      <th>Category</th>\n",
       "      <th>Sub-Category</th>\n",
       "      <th>Product Name</th>\n",
       "      <th>Sales</th>\n",
       "      <th>Quantity</th>\n",
       "      <th>Discount</th>\n",
       "      <th>Profit</th>\n",
       "      <th>rk</th>\n",
       "    </tr>\n",
       "  </thead>\n",
       "  <tbody>\n",
       "    <tr>\n",
       "      <th>0</th>\n",
       "      <td>9261</td>\n",
       "      <td>CA-2017-167976</td>\n",
       "      <td>11/11/2017</td>\n",
       "      <td>43053</td>\n",
       "      <td>Second Class</td>\n",
       "      <td>JL-15505</td>\n",
       "      <td>Jeremy Lonsdale</td>\n",
       "      <td>Consumer</td>\n",
       "      <td>United States</td>\n",
       "      <td>Aberdeen</td>\n",
       "      <td>...</td>\n",
       "      <td>Central</td>\n",
       "      <td>OFF-SU-10004661</td>\n",
       "      <td>Office Supplies</td>\n",
       "      <td>Supplies</td>\n",
       "      <td>Acme Titanium Bonded Scissors</td>\n",
       "      <td>25.500</td>\n",
       "      <td>3</td>\n",
       "      <td>0.0</td>\n",
       "      <td>6.6300</td>\n",
       "      <td>1</td>\n",
       "    </tr>\n",
       "    <tr>\n",
       "      <th>1</th>\n",
       "      <td>6990</td>\n",
       "      <td>CA-2017-165099</td>\n",
       "      <td>12/11/2017</td>\n",
       "      <td>43082</td>\n",
       "      <td>First Class</td>\n",
       "      <td>DK-13375</td>\n",
       "      <td>Dennis Kane</td>\n",
       "      <td>Consumer</td>\n",
       "      <td>United States</td>\n",
       "      <td>Abilene</td>\n",
       "      <td>...</td>\n",
       "      <td>Central</td>\n",
       "      <td>OFF-AP-10001634</td>\n",
       "      <td>Office Supplies</td>\n",
       "      <td>Appliances</td>\n",
       "      <td>Hoover Commercial Lightweight Upright Vacuum</td>\n",
       "      <td>1.392</td>\n",
       "      <td>2</td>\n",
       "      <td>0.8</td>\n",
       "      <td>-3.7584</td>\n",
       "      <td>1</td>\n",
       "    </tr>\n",
       "  </tbody>\n",
       "</table>\n",
       "<p>2 rows × 22 columns</p>\n",
       "</div>"
      ],
      "text/plain": [
       "   Row ID        Order ID  Order Date  Ship Date     Ship Mode Customer ID  \\\n",
       "0    9261  CA-2017-167976  11/11/2017      43053  Second Class    JL-15505   \n",
       "1    6990  CA-2017-165099  12/11/2017      43082   First Class    DK-13375   \n",
       "\n",
       "     Customer Name   Segment        Country      City  ...   Region  \\\n",
       "0  Jeremy Lonsdale  Consumer  United States  Aberdeen  ...  Central   \n",
       "1      Dennis Kane  Consumer  United States   Abilene  ...  Central   \n",
       "\n",
       "        Product ID         Category Sub-Category  \\\n",
       "0  OFF-SU-10004661  Office Supplies     Supplies   \n",
       "1  OFF-AP-10001634  Office Supplies   Appliances   \n",
       "\n",
       "                                   Product Name   Sales Quantity  Discount  \\\n",
       "0                 Acme Titanium Bonded Scissors  25.500        3       0.0   \n",
       "1  Hoover Commercial Lightweight Upright Vacuum   1.392        2       0.8   \n",
       "\n",
       "   Profit  rk  \n",
       "0  6.6300   1  \n",
       "1 -3.7584   1  \n",
       "\n",
       "[2 rows x 22 columns]"
      ]
     },
     "execution_count": 296,
     "metadata": {},
     "output_type": "execute_result"
    }
   ],
   "source": [
    "store[:2]"
   ]
  },
  {
   "cell_type": "code",
   "execution_count": 288,
   "id": "ced9bcd0",
   "metadata": {},
   "outputs": [],
   "source": [
    "store.to_csv(\"from python store.csv\",index=False)"
   ]
  },
  {
   "cell_type": "code",
   "execution_count": 308,
   "id": "bb30b72f",
   "metadata": {
    "scrolled": true
   },
   "outputs": [
    {
     "data": {
      "text/html": [
       "<div>\n",
       "<style scoped>\n",
       "    .dataframe tbody tr th:only-of-type {\n",
       "        vertical-align: middle;\n",
       "    }\n",
       "\n",
       "    .dataframe tbody tr th {\n",
       "        vertical-align: top;\n",
       "    }\n",
       "\n",
       "    .dataframe thead th {\n",
       "        text-align: right;\n",
       "    }\n",
       "</style>\n",
       "<table border=\"1\" class=\"dataframe\">\n",
       "  <thead>\n",
       "    <tr style=\"text-align: right;\">\n",
       "      <th></th>\n",
       "      <th>Row ID</th>\n",
       "      <th>Order ID</th>\n",
       "      <th>Order Date</th>\n",
       "      <th>Ship Date</th>\n",
       "      <th>Ship Mode</th>\n",
       "      <th>Customer ID</th>\n",
       "      <th>Customer Name</th>\n",
       "      <th>Segment</th>\n",
       "      <th>Country</th>\n",
       "      <th>City</th>\n",
       "      <th>...</th>\n",
       "      <th>Region</th>\n",
       "      <th>Product ID</th>\n",
       "      <th>Category</th>\n",
       "      <th>Sub-Category</th>\n",
       "      <th>Product Name</th>\n",
       "      <th>Sales</th>\n",
       "      <th>Quantity</th>\n",
       "      <th>Discount</th>\n",
       "      <th>Profit</th>\n",
       "      <th>rk</th>\n",
       "    </tr>\n",
       "  </thead>\n",
       "  <tbody>\n",
       "    <tr>\n",
       "      <th>0</th>\n",
       "      <td>9261</td>\n",
       "      <td>CA-2017-167976</td>\n",
       "      <td>11/11/2017</td>\n",
       "      <td>43053</td>\n",
       "      <td>Second Class</td>\n",
       "      <td>JL-15505</td>\n",
       "      <td>Jeremy Lonsdale</td>\n",
       "      <td>Consumer</td>\n",
       "      <td>United States</td>\n",
       "      <td>Aberdeen</td>\n",
       "      <td>...</td>\n",
       "      <td>Central</td>\n",
       "      <td>OFF-SU-10004661</td>\n",
       "      <td>Office Supplies</td>\n",
       "      <td>Supplies</td>\n",
       "      <td>Acme Titanium Bonded Scissors</td>\n",
       "      <td>25.500</td>\n",
       "      <td>3</td>\n",
       "      <td>0.0</td>\n",
       "      <td>6.6300</td>\n",
       "      <td>1</td>\n",
       "    </tr>\n",
       "    <tr>\n",
       "      <th>1</th>\n",
       "      <td>6990</td>\n",
       "      <td>CA-2017-165099</td>\n",
       "      <td>12/11/2017</td>\n",
       "      <td>43082</td>\n",
       "      <td>First Class</td>\n",
       "      <td>DK-13375</td>\n",
       "      <td>Dennis Kane</td>\n",
       "      <td>Consumer</td>\n",
       "      <td>United States</td>\n",
       "      <td>Abilene</td>\n",
       "      <td>...</td>\n",
       "      <td>Central</td>\n",
       "      <td>OFF-AP-10001634</td>\n",
       "      <td>Office Supplies</td>\n",
       "      <td>Appliances</td>\n",
       "      <td>Hoover Commercial Lightweight Upright Vacuum</td>\n",
       "      <td>1.392</td>\n",
       "      <td>2</td>\n",
       "      <td>0.8</td>\n",
       "      <td>-3.7584</td>\n",
       "      <td>1</td>\n",
       "    </tr>\n",
       "    <tr>\n",
       "      <th>2</th>\n",
       "      <td>4324</td>\n",
       "      <td>US-2015-147662</td>\n",
       "      <td>2/14/2015</td>\n",
       "      <td>42054</td>\n",
       "      <td>Standard Class</td>\n",
       "      <td>KB-16315</td>\n",
       "      <td>Karl Braun</td>\n",
       "      <td>Consumer</td>\n",
       "      <td>United States</td>\n",
       "      <td>Akron</td>\n",
       "      <td>...</td>\n",
       "      <td>East</td>\n",
       "      <td>OFF-BI-10002160</td>\n",
       "      <td>Office Supplies</td>\n",
       "      <td>Binders</td>\n",
       "      <td>Acco Hanging Data Binders</td>\n",
       "      <td>2.286</td>\n",
       "      <td>2</td>\n",
       "      <td>0.7</td>\n",
       "      <td>-1.6764</td>\n",
       "      <td>1</td>\n",
       "    </tr>\n",
       "    <tr>\n",
       "      <th>3</th>\n",
       "      <td>3563</td>\n",
       "      <td>CA-2017-109757</td>\n",
       "      <td>9/4/2017</td>\n",
       "      <td>42987</td>\n",
       "      <td>Second Class</td>\n",
       "      <td>MD-17350</td>\n",
       "      <td>Maribeth Dona</td>\n",
       "      <td>Consumer</td>\n",
       "      <td>United States</td>\n",
       "      <td>Akron</td>\n",
       "      <td>...</td>\n",
       "      <td>East</td>\n",
       "      <td>OFF-BI-10001634</td>\n",
       "      <td>Office Supplies</td>\n",
       "      <td>Binders</td>\n",
       "      <td>Wilson Jones Active Use Binders</td>\n",
       "      <td>4.368</td>\n",
       "      <td>2</td>\n",
       "      <td>0.7</td>\n",
       "      <td>-3.0576</td>\n",
       "      <td>2</td>\n",
       "    </tr>\n",
       "    <tr>\n",
       "      <th>4</th>\n",
       "      <td>9922</td>\n",
       "      <td>CA-2014-111360</td>\n",
       "      <td>11/24/2014</td>\n",
       "      <td>41973</td>\n",
       "      <td>Standard Class</td>\n",
       "      <td>AT-10435</td>\n",
       "      <td>Alyssa Tate</td>\n",
       "      <td>Home Office</td>\n",
       "      <td>United States</td>\n",
       "      <td>Akron</td>\n",
       "      <td>...</td>\n",
       "      <td>East</td>\n",
       "      <td>OFF-BI-10003350</td>\n",
       "      <td>Office Supplies</td>\n",
       "      <td>Binders</td>\n",
       "      <td>Acco Expandable Hanging Binders</td>\n",
       "      <td>5.742</td>\n",
       "      <td>3</td>\n",
       "      <td>0.7</td>\n",
       "      <td>-4.5936</td>\n",
       "      <td>3</td>\n",
       "    </tr>\n",
       "    <tr>\n",
       "      <th>...</th>\n",
       "      <td>...</td>\n",
       "      <td>...</td>\n",
       "      <td>...</td>\n",
       "      <td>...</td>\n",
       "      <td>...</td>\n",
       "      <td>...</td>\n",
       "      <td>...</td>\n",
       "      <td>...</td>\n",
       "      <td>...</td>\n",
       "      <td>...</td>\n",
       "      <td>...</td>\n",
       "      <td>...</td>\n",
       "      <td>...</td>\n",
       "      <td>...</td>\n",
       "      <td>...</td>\n",
       "      <td>...</td>\n",
       "      <td>...</td>\n",
       "      <td>...</td>\n",
       "      <td>...</td>\n",
       "      <td>...</td>\n",
       "      <td>...</td>\n",
       "    </tr>\n",
       "    <tr>\n",
       "      <th>9689</th>\n",
       "      <td>3348</td>\n",
       "      <td>CA-2015-112014</td>\n",
       "      <td>8/13/2015</td>\n",
       "      <td>42236</td>\n",
       "      <td>Standard Class</td>\n",
       "      <td>ON-18715</td>\n",
       "      <td>Odella Nelson</td>\n",
       "      <td>Corporate</td>\n",
       "      <td>United States</td>\n",
       "      <td>Yucaipa</td>\n",
       "      <td>...</td>\n",
       "      <td>West</td>\n",
       "      <td>OFF-AR-10003156</td>\n",
       "      <td>Office Supplies</td>\n",
       "      <td>Art</td>\n",
       "      <td>50 Colored Long Pencils</td>\n",
       "      <td>50.800</td>\n",
       "      <td>5</td>\n",
       "      <td>0.0</td>\n",
       "      <td>13.2080</td>\n",
       "      <td>1</td>\n",
       "    </tr>\n",
       "    <tr>\n",
       "      <th>9690</th>\n",
       "      <td>8088</td>\n",
       "      <td>CA-2016-106621</td>\n",
       "      <td>9/29/2016</td>\n",
       "      <td>42644</td>\n",
       "      <td>Second Class</td>\n",
       "      <td>DM-12955</td>\n",
       "      <td>Dario Medina</td>\n",
       "      <td>Corporate</td>\n",
       "      <td>United States</td>\n",
       "      <td>Yuma</td>\n",
       "      <td>...</td>\n",
       "      <td>West</td>\n",
       "      <td>OFF-AR-10002375</td>\n",
       "      <td>Office Supplies</td>\n",
       "      <td>Art</td>\n",
       "      <td>Newell 351</td>\n",
       "      <td>10.496</td>\n",
       "      <td>4</td>\n",
       "      <td>0.2</td>\n",
       "      <td>1.1808</td>\n",
       "      <td>1</td>\n",
       "    </tr>\n",
       "    <tr>\n",
       "      <th>9691</th>\n",
       "      <td>4823</td>\n",
       "      <td>CA-2016-134222</td>\n",
       "      <td>7/10/2016</td>\n",
       "      <td>42562</td>\n",
       "      <td>Same Day</td>\n",
       "      <td>NZ-18565</td>\n",
       "      <td>Nick Zandusky</td>\n",
       "      <td>Home Office</td>\n",
       "      <td>United States</td>\n",
       "      <td>Yuma</td>\n",
       "      <td>...</td>\n",
       "      <td>West</td>\n",
       "      <td>OFF-BI-10001658</td>\n",
       "      <td>Office Supplies</td>\n",
       "      <td>Binders</td>\n",
       "      <td>GBC Standard Therm-A-Bind Covers</td>\n",
       "      <td>44.856</td>\n",
       "      <td>6</td>\n",
       "      <td>0.7</td>\n",
       "      <td>-35.8848</td>\n",
       "      <td>2</td>\n",
       "    </tr>\n",
       "    <tr>\n",
       "      <th>9692</th>\n",
       "      <td>7280</td>\n",
       "      <td>CA-2016-108224</td>\n",
       "      <td>5/14/2016</td>\n",
       "      <td>42504</td>\n",
       "      <td>Same Day</td>\n",
       "      <td>TH-21235</td>\n",
       "      <td>Tiffany House</td>\n",
       "      <td>Corporate</td>\n",
       "      <td>United States</td>\n",
       "      <td>Yuma</td>\n",
       "      <td>...</td>\n",
       "      <td>West</td>\n",
       "      <td>TEC-AC-10003832</td>\n",
       "      <td>Technology</td>\n",
       "      <td>Accessories</td>\n",
       "      <td>Imation 16GB Mini TravelDrive USB 2.0 Flash Drive</td>\n",
       "      <td>185.528</td>\n",
       "      <td>7</td>\n",
       "      <td>0.2</td>\n",
       "      <td>48.7011</td>\n",
       "      <td>3</td>\n",
       "    </tr>\n",
       "    <tr>\n",
       "      <th>9693</th>\n",
       "      <td>7282</td>\n",
       "      <td>CA-2017-159282</td>\n",
       "      <td>10/16/2017</td>\n",
       "      <td>43029</td>\n",
       "      <td>Standard Class</td>\n",
       "      <td>GH-14410</td>\n",
       "      <td>Gary Hansen</td>\n",
       "      <td>Home Office</td>\n",
       "      <td>United States</td>\n",
       "      <td>Yuma</td>\n",
       "      <td>...</td>\n",
       "      <td>West</td>\n",
       "      <td>TEC-MA-10001148</td>\n",
       "      <td>Technology</td>\n",
       "      <td>Machines</td>\n",
       "      <td>Swingline SM12-08 MicroCut Jam Free Shredder</td>\n",
       "      <td>599.985</td>\n",
       "      <td>5</td>\n",
       "      <td>0.7</td>\n",
       "      <td>-479.9880</td>\n",
       "      <td>4</td>\n",
       "    </tr>\n",
       "  </tbody>\n",
       "</table>\n",
       "<p>9694 rows × 22 columns</p>\n",
       "</div>"
      ],
      "text/plain": [
       "      Row ID        Order ID  Order Date  Ship Date       Ship Mode  \\\n",
       "0       9261  CA-2017-167976  11/11/2017      43053    Second Class   \n",
       "1       6990  CA-2017-165099  12/11/2017      43082     First Class   \n",
       "2       4324  US-2015-147662   2/14/2015      42054  Standard Class   \n",
       "3       3563  CA-2017-109757    9/4/2017      42987    Second Class   \n",
       "4       9922  CA-2014-111360  11/24/2014      41973  Standard Class   \n",
       "...      ...             ...         ...        ...             ...   \n",
       "9689    3348  CA-2015-112014   8/13/2015      42236  Standard Class   \n",
       "9690    8088  CA-2016-106621   9/29/2016      42644    Second Class   \n",
       "9691    4823  CA-2016-134222   7/10/2016      42562        Same Day   \n",
       "9692    7280  CA-2016-108224   5/14/2016      42504        Same Day   \n",
       "9693    7282  CA-2017-159282  10/16/2017      43029  Standard Class   \n",
       "\n",
       "     Customer ID    Customer Name      Segment        Country      City  ...  \\\n",
       "0       JL-15505  Jeremy Lonsdale     Consumer  United States  Aberdeen  ...   \n",
       "1       DK-13375      Dennis Kane     Consumer  United States   Abilene  ...   \n",
       "2       KB-16315       Karl Braun     Consumer  United States     Akron  ...   \n",
       "3       MD-17350    Maribeth Dona     Consumer  United States     Akron  ...   \n",
       "4       AT-10435      Alyssa Tate  Home Office  United States     Akron  ...   \n",
       "...          ...              ...          ...            ...       ...  ...   \n",
       "9689    ON-18715    Odella Nelson    Corporate  United States   Yucaipa  ...   \n",
       "9690    DM-12955     Dario Medina    Corporate  United States      Yuma  ...   \n",
       "9691    NZ-18565    Nick Zandusky  Home Office  United States      Yuma  ...   \n",
       "9692    TH-21235    Tiffany House    Corporate  United States      Yuma  ...   \n",
       "9693    GH-14410      Gary Hansen  Home Office  United States      Yuma  ...   \n",
       "\n",
       "       Region       Product ID         Category Sub-Category  \\\n",
       "0     Central  OFF-SU-10004661  Office Supplies     Supplies   \n",
       "1     Central  OFF-AP-10001634  Office Supplies   Appliances   \n",
       "2        East  OFF-BI-10002160  Office Supplies      Binders   \n",
       "3        East  OFF-BI-10001634  Office Supplies      Binders   \n",
       "4        East  OFF-BI-10003350  Office Supplies      Binders   \n",
       "...       ...              ...              ...          ...   \n",
       "9689     West  OFF-AR-10003156  Office Supplies          Art   \n",
       "9690     West  OFF-AR-10002375  Office Supplies          Art   \n",
       "9691     West  OFF-BI-10001658  Office Supplies      Binders   \n",
       "9692     West  TEC-AC-10003832       Technology  Accessories   \n",
       "9693     West  TEC-MA-10001148       Technology     Machines   \n",
       "\n",
       "                                           Product Name    Sales Quantity  \\\n",
       "0                         Acme Titanium Bonded Scissors   25.500        3   \n",
       "1          Hoover Commercial Lightweight Upright Vacuum    1.392        2   \n",
       "2                             Acco Hanging Data Binders    2.286        2   \n",
       "3                       Wilson Jones Active Use Binders    4.368        2   \n",
       "4                       Acco Expandable Hanging Binders    5.742        3   \n",
       "...                                                 ...      ...      ...   \n",
       "9689                            50 Colored Long Pencils   50.800        5   \n",
       "9690                                         Newell 351   10.496        4   \n",
       "9691                   GBC Standard Therm-A-Bind Covers   44.856        6   \n",
       "9692  Imation 16GB Mini TravelDrive USB 2.0 Flash Drive  185.528        7   \n",
       "9693       Swingline SM12-08 MicroCut Jam Free Shredder  599.985        5   \n",
       "\n",
       "      Discount    Profit  rk  \n",
       "0          0.0    6.6300   1  \n",
       "1          0.8   -3.7584   1  \n",
       "2          0.7   -1.6764   1  \n",
       "3          0.7   -3.0576   2  \n",
       "4          0.7   -4.5936   3  \n",
       "...        ...       ...  ..  \n",
       "9689       0.0   13.2080   1  \n",
       "9690       0.2    1.1808   1  \n",
       "9691       0.7  -35.8848   2  \n",
       "9692       0.2   48.7011   3  \n",
       "9693       0.7 -479.9880   4  \n",
       "\n",
       "[9694 rows x 22 columns]"
      ]
     },
     "execution_count": 308,
     "metadata": {},
     "output_type": "execute_result"
    }
   ],
   "source": [
    "store"
   ]
  },
  {
   "cell_type": "code",
   "execution_count": null,
   "id": "0d09a370",
   "metadata": {},
   "outputs": [],
   "source": [
    "pd.read_excel('file.xlsx',sheet_name=1)\n",
    "pd.read_xml(\"data.xml\")"
   ]
  },
  {
   "cell_type": "code",
   "execution_count": null,
   "id": "8cb6b182",
   "metadata": {},
   "outputs": [],
   "source": [
    "1.series    1 dim\n",
    "2.data frame multi dim"
   ]
  },
  {
   "cell_type": "code",
   "execution_count": 289,
   "id": "54e531b7",
   "metadata": {},
   "outputs": [],
   "source": [
    "import numpy as np"
   ]
  },
  {
   "cell_type": "code",
   "execution_count": 290,
   "id": "af2549b6",
   "metadata": {},
   "outputs": [
    {
     "name": "stderr",
     "output_type": "stream",
     "text": [
      "C:\\Users\\Admin\\AppData\\Local\\Temp\\ipykernel_13800\\4275222642.py:1: FutureWarning: The default dtype for empty Series will be 'object' instead of 'float64' in a future version. Specify a dtype explicitly to silence this warning.\n",
      "  ser = pd.Series()\n"
     ]
    }
   ],
   "source": [
    "ser = pd.Series()"
   ]
  },
  {
   "cell_type": "code",
   "execution_count": 291,
   "id": "17d27e0d",
   "metadata": {},
   "outputs": [
    {
     "data": {
      "text/plain": [
       "pandas.core.series.Series"
      ]
     },
     "execution_count": 291,
     "metadata": {},
     "output_type": "execute_result"
    }
   ],
   "source": [
    "type(ser)"
   ]
  },
  {
   "cell_type": "code",
   "execution_count": 292,
   "id": "8d588e92",
   "metadata": {},
   "outputs": [],
   "source": [
    "data = np.array(['a','b','c'])"
   ]
  },
  {
   "cell_type": "code",
   "execution_count": 293,
   "id": "a5789b6d",
   "metadata": {},
   "outputs": [],
   "source": [
    "ser = pd.Series(data)"
   ]
  },
  {
   "cell_type": "code",
   "execution_count": 294,
   "id": "ff189d35",
   "metadata": {},
   "outputs": [
    {
     "data": {
      "text/plain": [
       "0    a\n",
       "1    b\n",
       "2    c\n",
       "dtype: object"
      ]
     },
     "execution_count": 294,
     "metadata": {},
     "output_type": "execute_result"
    }
   ],
   "source": [
    "ser  - 1 dim , index"
   ]
  },
  {
   "cell_type": "code",
   "execution_count": 306,
   "id": "8d9c0141",
   "metadata": {},
   "outputs": [],
   "source": [
    "# !pip install pandas\n",
    "\n",
    "x = pd.DataFrame()\n"
   ]
  },
  {
   "cell_type": "code",
   "execution_count": 307,
   "id": "d08175fc",
   "metadata": {},
   "outputs": [
    {
     "name": "stdout",
     "output_type": "stream",
     "text": [
      "Empty DataFrame\n",
      "Columns: []\n",
      "Index: []\n"
     ]
    }
   ],
   "source": [
    "print(x)"
   ]
  },
  {
   "cell_type": "code",
   "execution_count": 299,
   "id": "6313d593",
   "metadata": {},
   "outputs": [],
   "source": [
    "lst = ['apple ','orange','mango','tree']"
   ]
  },
  {
   "cell_type": "code",
   "execution_count": 302,
   "id": "dd5d826a",
   "metadata": {},
   "outputs": [],
   "source": [
    "df = pd.DataFrame(lst,columns=['fruits',,,,,])"
   ]
  },
  {
   "cell_type": "code",
   "execution_count": 303,
   "id": "680a458b",
   "metadata": {},
   "outputs": [
    {
     "data": {
      "text/html": [
       "<div>\n",
       "<style scoped>\n",
       "    .dataframe tbody tr th:only-of-type {\n",
       "        vertical-align: middle;\n",
       "    }\n",
       "\n",
       "    .dataframe tbody tr th {\n",
       "        vertical-align: top;\n",
       "    }\n",
       "\n",
       "    .dataframe thead th {\n",
       "        text-align: right;\n",
       "    }\n",
       "</style>\n",
       "<table border=\"1\" class=\"dataframe\">\n",
       "  <thead>\n",
       "    <tr style=\"text-align: right;\">\n",
       "      <th></th>\n",
       "      <th>fruits</th>\n",
       "    </tr>\n",
       "  </thead>\n",
       "  <tbody>\n",
       "    <tr>\n",
       "      <th>0</th>\n",
       "      <td>apple</td>\n",
       "    </tr>\n",
       "    <tr>\n",
       "      <th>1</th>\n",
       "      <td>orange</td>\n",
       "    </tr>\n",
       "    <tr>\n",
       "      <th>2</th>\n",
       "      <td>mango</td>\n",
       "    </tr>\n",
       "    <tr>\n",
       "      <th>3</th>\n",
       "      <td>tree</td>\n",
       "    </tr>\n",
       "  </tbody>\n",
       "</table>\n",
       "</div>"
      ],
      "text/plain": [
       "   fruits\n",
       "0  apple \n",
       "1  orange\n",
       "2   mango\n",
       "3    tree"
      ]
     },
     "execution_count": 303,
     "metadata": {},
     "output_type": "execute_result"
    }
   ],
   "source": []
  },
  {
   "cell_type": "code",
   "execution_count": 309,
   "id": "6e9959c3",
   "metadata": {},
   "outputs": [
    {
     "data": {
      "text/html": [
       "<div>\n",
       "<style scoped>\n",
       "    .dataframe tbody tr th:only-of-type {\n",
       "        vertical-align: middle;\n",
       "    }\n",
       "\n",
       "    .dataframe tbody tr th {\n",
       "        vertical-align: top;\n",
       "    }\n",
       "\n",
       "    .dataframe thead th {\n",
       "        text-align: right;\n",
       "    }\n",
       "</style>\n",
       "<table border=\"1\" class=\"dataframe\">\n",
       "  <thead>\n",
       "    <tr style=\"text-align: right;\">\n",
       "      <th></th>\n",
       "      <th>fruits</th>\n",
       "    </tr>\n",
       "  </thead>\n",
       "  <tbody>\n",
       "    <tr>\n",
       "      <th>0</th>\n",
       "      <td>apple</td>\n",
       "    </tr>\n",
       "    <tr>\n",
       "      <th>1</th>\n",
       "      <td>orange</td>\n",
       "    </tr>\n",
       "    <tr>\n",
       "      <th>2</th>\n",
       "      <td>mango</td>\n",
       "    </tr>\n",
       "    <tr>\n",
       "      <th>3</th>\n",
       "      <td>tree</td>\n",
       "    </tr>\n",
       "  </tbody>\n",
       "</table>\n",
       "</div>"
      ],
      "text/plain": [
       "   fruits\n",
       "0  apple \n",
       "1  orange\n",
       "2   mango\n",
       "3    tree"
      ]
     },
     "execution_count": 309,
     "metadata": {},
     "output_type": "execute_result"
    }
   ],
   "source": [
    "df"
   ]
  },
  {
   "cell_type": "code",
   "execution_count": 313,
   "id": "f27aa1ba",
   "metadata": {},
   "outputs": [
    {
     "data": {
      "text/plain": [
       "Index(['Row ID', 'Order ID', 'Order Date', 'Ship Date', 'Ship Mode',\n",
       "       'Customer ID', 'Customer Name', 'Segment', 'Country', 'City', 'State',\n",
       "       'Postal Code', 'Region', 'Product ID', 'Category', 'Sub-Category',\n",
       "       'Product Name', 'Sales', 'Quantity', 'Discount', 'Profit', 'rk'],\n",
       "      dtype='object')"
      ]
     },
     "execution_count": 313,
     "metadata": {},
     "output_type": "execute_result"
    }
   ],
   "source": [
    "store.columns"
   ]
  },
  {
   "cell_type": "code",
   "execution_count": 314,
   "id": "d046bbac",
   "metadata": {},
   "outputs": [
    {
     "data": {
      "text/html": [
       "<div>\n",
       "<style scoped>\n",
       "    .dataframe tbody tr th:only-of-type {\n",
       "        vertical-align: middle;\n",
       "    }\n",
       "\n",
       "    .dataframe tbody tr th {\n",
       "        vertical-align: top;\n",
       "    }\n",
       "\n",
       "    .dataframe thead th {\n",
       "        text-align: right;\n",
       "    }\n",
       "</style>\n",
       "<table border=\"1\" class=\"dataframe\">\n",
       "  <thead>\n",
       "    <tr style=\"text-align: right;\">\n",
       "      <th></th>\n",
       "      <th>Row ID</th>\n",
       "      <th>Order ID</th>\n",
       "      <th>Order Date</th>\n",
       "      <th>Ship Date</th>\n",
       "      <th>Ship Mode</th>\n",
       "      <th>Customer ID</th>\n",
       "      <th>Customer Name</th>\n",
       "      <th>Segment</th>\n",
       "      <th>Country</th>\n",
       "      <th>City</th>\n",
       "      <th>...</th>\n",
       "      <th>Region</th>\n",
       "      <th>Product ID</th>\n",
       "      <th>Category</th>\n",
       "      <th>Sub-Category</th>\n",
       "      <th>Product Name</th>\n",
       "      <th>Sales</th>\n",
       "      <th>Quantity</th>\n",
       "      <th>Discount</th>\n",
       "      <th>Profit</th>\n",
       "      <th>rk</th>\n",
       "    </tr>\n",
       "  </thead>\n",
       "  <tbody>\n",
       "    <tr>\n",
       "      <th>9689</th>\n",
       "      <td>3348</td>\n",
       "      <td>CA-2015-112014</td>\n",
       "      <td>8/13/2015</td>\n",
       "      <td>42236</td>\n",
       "      <td>Standard Class</td>\n",
       "      <td>ON-18715</td>\n",
       "      <td>Odella Nelson</td>\n",
       "      <td>Corporate</td>\n",
       "      <td>United States</td>\n",
       "      <td>Yucaipa</td>\n",
       "      <td>...</td>\n",
       "      <td>West</td>\n",
       "      <td>OFF-AR-10003156</td>\n",
       "      <td>Office Supplies</td>\n",
       "      <td>Art</td>\n",
       "      <td>50 Colored Long Pencils</td>\n",
       "      <td>50.800</td>\n",
       "      <td>5</td>\n",
       "      <td>0.0</td>\n",
       "      <td>13.2080</td>\n",
       "      <td>1</td>\n",
       "    </tr>\n",
       "    <tr>\n",
       "      <th>9690</th>\n",
       "      <td>8088</td>\n",
       "      <td>CA-2016-106621</td>\n",
       "      <td>9/29/2016</td>\n",
       "      <td>42644</td>\n",
       "      <td>Second Class</td>\n",
       "      <td>DM-12955</td>\n",
       "      <td>Dario Medina</td>\n",
       "      <td>Corporate</td>\n",
       "      <td>United States</td>\n",
       "      <td>Yuma</td>\n",
       "      <td>...</td>\n",
       "      <td>West</td>\n",
       "      <td>OFF-AR-10002375</td>\n",
       "      <td>Office Supplies</td>\n",
       "      <td>Art</td>\n",
       "      <td>Newell 351</td>\n",
       "      <td>10.496</td>\n",
       "      <td>4</td>\n",
       "      <td>0.2</td>\n",
       "      <td>1.1808</td>\n",
       "      <td>1</td>\n",
       "    </tr>\n",
       "    <tr>\n",
       "      <th>9691</th>\n",
       "      <td>4823</td>\n",
       "      <td>CA-2016-134222</td>\n",
       "      <td>7/10/2016</td>\n",
       "      <td>42562</td>\n",
       "      <td>Same Day</td>\n",
       "      <td>NZ-18565</td>\n",
       "      <td>Nick Zandusky</td>\n",
       "      <td>Home Office</td>\n",
       "      <td>United States</td>\n",
       "      <td>Yuma</td>\n",
       "      <td>...</td>\n",
       "      <td>West</td>\n",
       "      <td>OFF-BI-10001658</td>\n",
       "      <td>Office Supplies</td>\n",
       "      <td>Binders</td>\n",
       "      <td>GBC Standard Therm-A-Bind Covers</td>\n",
       "      <td>44.856</td>\n",
       "      <td>6</td>\n",
       "      <td>0.7</td>\n",
       "      <td>-35.8848</td>\n",
       "      <td>2</td>\n",
       "    </tr>\n",
       "    <tr>\n",
       "      <th>9692</th>\n",
       "      <td>7280</td>\n",
       "      <td>CA-2016-108224</td>\n",
       "      <td>5/14/2016</td>\n",
       "      <td>42504</td>\n",
       "      <td>Same Day</td>\n",
       "      <td>TH-21235</td>\n",
       "      <td>Tiffany House</td>\n",
       "      <td>Corporate</td>\n",
       "      <td>United States</td>\n",
       "      <td>Yuma</td>\n",
       "      <td>...</td>\n",
       "      <td>West</td>\n",
       "      <td>TEC-AC-10003832</td>\n",
       "      <td>Technology</td>\n",
       "      <td>Accessories</td>\n",
       "      <td>Imation 16GB Mini TravelDrive USB 2.0 Flash Drive</td>\n",
       "      <td>185.528</td>\n",
       "      <td>7</td>\n",
       "      <td>0.2</td>\n",
       "      <td>48.7011</td>\n",
       "      <td>3</td>\n",
       "    </tr>\n",
       "    <tr>\n",
       "      <th>9693</th>\n",
       "      <td>7282</td>\n",
       "      <td>CA-2017-159282</td>\n",
       "      <td>10/16/2017</td>\n",
       "      <td>43029</td>\n",
       "      <td>Standard Class</td>\n",
       "      <td>GH-14410</td>\n",
       "      <td>Gary Hansen</td>\n",
       "      <td>Home Office</td>\n",
       "      <td>United States</td>\n",
       "      <td>Yuma</td>\n",
       "      <td>...</td>\n",
       "      <td>West</td>\n",
       "      <td>TEC-MA-10001148</td>\n",
       "      <td>Technology</td>\n",
       "      <td>Machines</td>\n",
       "      <td>Swingline SM12-08 MicroCut Jam Free Shredder</td>\n",
       "      <td>599.985</td>\n",
       "      <td>5</td>\n",
       "      <td>0.7</td>\n",
       "      <td>-479.9880</td>\n",
       "      <td>4</td>\n",
       "    </tr>\n",
       "  </tbody>\n",
       "</table>\n",
       "<p>5 rows × 22 columns</p>\n",
       "</div>"
      ],
      "text/plain": [
       "      Row ID        Order ID  Order Date  Ship Date       Ship Mode  \\\n",
       "9689    3348  CA-2015-112014   8/13/2015      42236  Standard Class   \n",
       "9690    8088  CA-2016-106621   9/29/2016      42644    Second Class   \n",
       "9691    4823  CA-2016-134222   7/10/2016      42562        Same Day   \n",
       "9692    7280  CA-2016-108224   5/14/2016      42504        Same Day   \n",
       "9693    7282  CA-2017-159282  10/16/2017      43029  Standard Class   \n",
       "\n",
       "     Customer ID  Customer Name      Segment        Country     City  ...  \\\n",
       "9689    ON-18715  Odella Nelson    Corporate  United States  Yucaipa  ...   \n",
       "9690    DM-12955   Dario Medina    Corporate  United States     Yuma  ...   \n",
       "9691    NZ-18565  Nick Zandusky  Home Office  United States     Yuma  ...   \n",
       "9692    TH-21235  Tiffany House    Corporate  United States     Yuma  ...   \n",
       "9693    GH-14410    Gary Hansen  Home Office  United States     Yuma  ...   \n",
       "\n",
       "     Region       Product ID         Category Sub-Category  \\\n",
       "9689   West  OFF-AR-10003156  Office Supplies          Art   \n",
       "9690   West  OFF-AR-10002375  Office Supplies          Art   \n",
       "9691   West  OFF-BI-10001658  Office Supplies      Binders   \n",
       "9692   West  TEC-AC-10003832       Technology  Accessories   \n",
       "9693   West  TEC-MA-10001148       Technology     Machines   \n",
       "\n",
       "                                           Product Name    Sales Quantity  \\\n",
       "9689                            50 Colored Long Pencils   50.800        5   \n",
       "9690                                         Newell 351   10.496        4   \n",
       "9691                   GBC Standard Therm-A-Bind Covers   44.856        6   \n",
       "9692  Imation 16GB Mini TravelDrive USB 2.0 Flash Drive  185.528        7   \n",
       "9693       Swingline SM12-08 MicroCut Jam Free Shredder  599.985        5   \n",
       "\n",
       "      Discount    Profit  rk  \n",
       "9689       0.0   13.2080   1  \n",
       "9690       0.2    1.1808   1  \n",
       "9691       0.7  -35.8848   2  \n",
       "9692       0.2   48.7011   3  \n",
       "9693       0.7 -479.9880   4  \n",
       "\n",
       "[5 rows x 22 columns]"
      ]
     },
     "execution_count": 314,
     "metadata": {},
     "output_type": "execute_result"
    }
   ],
   "source": [
    "store.tail()"
   ]
  },
  {
   "cell_type": "code",
   "execution_count": 315,
   "id": "b3a48a26",
   "metadata": {},
   "outputs": [
    {
     "data": {
      "text/plain": [
       "Index(['Row ID', 'Order ID', 'Order Date', 'Ship Date', 'Ship Mode',\n",
       "       'Customer ID', 'Customer Name', 'Segment', 'Country', 'City', 'State',\n",
       "       'Postal Code', 'Region', 'Product ID', 'Category', 'Sub-Category',\n",
       "       'Product Name', 'Sales', 'Quantity', 'Discount', 'Profit', 'rk'],\n",
       "      dtype='object')"
      ]
     },
     "execution_count": 315,
     "metadata": {},
     "output_type": "execute_result"
    }
   ],
   "source": [
    "store.columns"
   ]
  },
  {
   "cell_type": "code",
   "execution_count": 316,
   "id": "e23da91d",
   "metadata": {
    "collapsed": true
   },
   "outputs": [
    {
     "data": {
      "text/plain": [
       "0       CA-2017-167976\n",
       "1       CA-2017-165099\n",
       "2       US-2015-147662\n",
       "3       CA-2017-109757\n",
       "4       CA-2014-111360\n",
       "             ...      \n",
       "9689    CA-2015-112014\n",
       "9690    CA-2016-106621\n",
       "9691    CA-2016-134222\n",
       "9692    CA-2016-108224\n",
       "9693    CA-2017-159282\n",
       "Name: Order ID, Length: 9694, dtype: object"
      ]
     },
     "execution_count": 316,
     "metadata": {},
     "output_type": "execute_result"
    }
   ],
   "source": [
    "store['Order ID']"
   ]
  },
  {
   "cell_type": "code",
   "execution_count": 317,
   "id": "cf12a66d",
   "metadata": {
    "collapsed": true
   },
   "outputs": [
    {
     "data": {
      "text/html": [
       "<div>\n",
       "<style scoped>\n",
       "    .dataframe tbody tr th:only-of-type {\n",
       "        vertical-align: middle;\n",
       "    }\n",
       "\n",
       "    .dataframe tbody tr th {\n",
       "        vertical-align: top;\n",
       "    }\n",
       "\n",
       "    .dataframe thead th {\n",
       "        text-align: right;\n",
       "    }\n",
       "</style>\n",
       "<table border=\"1\" class=\"dataframe\">\n",
       "  <thead>\n",
       "    <tr style=\"text-align: right;\">\n",
       "      <th></th>\n",
       "      <th>Order ID</th>\n",
       "      <th>Ship Date</th>\n",
       "      <th>Ship Mode</th>\n",
       "    </tr>\n",
       "  </thead>\n",
       "  <tbody>\n",
       "    <tr>\n",
       "      <th>0</th>\n",
       "      <td>CA-2017-167976</td>\n",
       "      <td>43053</td>\n",
       "      <td>Second Class</td>\n",
       "    </tr>\n",
       "    <tr>\n",
       "      <th>1</th>\n",
       "      <td>CA-2017-165099</td>\n",
       "      <td>43082</td>\n",
       "      <td>First Class</td>\n",
       "    </tr>\n",
       "    <tr>\n",
       "      <th>2</th>\n",
       "      <td>US-2015-147662</td>\n",
       "      <td>42054</td>\n",
       "      <td>Standard Class</td>\n",
       "    </tr>\n",
       "    <tr>\n",
       "      <th>3</th>\n",
       "      <td>CA-2017-109757</td>\n",
       "      <td>42987</td>\n",
       "      <td>Second Class</td>\n",
       "    </tr>\n",
       "    <tr>\n",
       "      <th>4</th>\n",
       "      <td>CA-2014-111360</td>\n",
       "      <td>41973</td>\n",
       "      <td>Standard Class</td>\n",
       "    </tr>\n",
       "    <tr>\n",
       "      <th>...</th>\n",
       "      <td>...</td>\n",
       "      <td>...</td>\n",
       "      <td>...</td>\n",
       "    </tr>\n",
       "    <tr>\n",
       "      <th>9689</th>\n",
       "      <td>CA-2015-112014</td>\n",
       "      <td>42236</td>\n",
       "      <td>Standard Class</td>\n",
       "    </tr>\n",
       "    <tr>\n",
       "      <th>9690</th>\n",
       "      <td>CA-2016-106621</td>\n",
       "      <td>42644</td>\n",
       "      <td>Second Class</td>\n",
       "    </tr>\n",
       "    <tr>\n",
       "      <th>9691</th>\n",
       "      <td>CA-2016-134222</td>\n",
       "      <td>42562</td>\n",
       "      <td>Same Day</td>\n",
       "    </tr>\n",
       "    <tr>\n",
       "      <th>9692</th>\n",
       "      <td>CA-2016-108224</td>\n",
       "      <td>42504</td>\n",
       "      <td>Same Day</td>\n",
       "    </tr>\n",
       "    <tr>\n",
       "      <th>9693</th>\n",
       "      <td>CA-2017-159282</td>\n",
       "      <td>43029</td>\n",
       "      <td>Standard Class</td>\n",
       "    </tr>\n",
       "  </tbody>\n",
       "</table>\n",
       "<p>9694 rows × 3 columns</p>\n",
       "</div>"
      ],
      "text/plain": [
       "            Order ID  Ship Date       Ship Mode\n",
       "0     CA-2017-167976      43053    Second Class\n",
       "1     CA-2017-165099      43082     First Class\n",
       "2     US-2015-147662      42054  Standard Class\n",
       "3     CA-2017-109757      42987    Second Class\n",
       "4     CA-2014-111360      41973  Standard Class\n",
       "...              ...        ...             ...\n",
       "9689  CA-2015-112014      42236  Standard Class\n",
       "9690  CA-2016-106621      42644    Second Class\n",
       "9691  CA-2016-134222      42562        Same Day\n",
       "9692  CA-2016-108224      42504        Same Day\n",
       "9693  CA-2017-159282      43029  Standard Class\n",
       "\n",
       "[9694 rows x 3 columns]"
      ]
     },
     "execution_count": 317,
     "metadata": {},
     "output_type": "execute_result"
    }
   ],
   "source": [
    "store[['Order ID','Ship Date', 'Ship Mode']]"
   ]
  },
  {
   "cell_type": "code",
   "execution_count": 319,
   "id": "87407c72",
   "metadata": {},
   "outputs": [],
   "source": [
    "# store[0:2]"
   ]
  },
  {
   "cell_type": "code",
   "execution_count": 320,
   "id": "d6e1a39f",
   "metadata": {},
   "outputs": [],
   "source": [
    "mydata = { 'cars' : [\"bmw\",\"ford\",\"swift\"] , \"passenger\" : [3,7,4] }"
   ]
  },
  {
   "cell_type": "code",
   "execution_count": 321,
   "id": "1aa84de8",
   "metadata": {},
   "outputs": [],
   "source": [
    "mydf = pd.DataFrame(mydata)"
   ]
  },
  {
   "cell_type": "code",
   "execution_count": 322,
   "id": "5fdcceb9",
   "metadata": {},
   "outputs": [
    {
     "data": {
      "text/html": [
       "<div>\n",
       "<style scoped>\n",
       "    .dataframe tbody tr th:only-of-type {\n",
       "        vertical-align: middle;\n",
       "    }\n",
       "\n",
       "    .dataframe tbody tr th {\n",
       "        vertical-align: top;\n",
       "    }\n",
       "\n",
       "    .dataframe thead th {\n",
       "        text-align: right;\n",
       "    }\n",
       "</style>\n",
       "<table border=\"1\" class=\"dataframe\">\n",
       "  <thead>\n",
       "    <tr style=\"text-align: right;\">\n",
       "      <th></th>\n",
       "      <th>cars</th>\n",
       "      <th>passenger</th>\n",
       "    </tr>\n",
       "  </thead>\n",
       "  <tbody>\n",
       "    <tr>\n",
       "      <th>0</th>\n",
       "      <td>bmw</td>\n",
       "      <td>3</td>\n",
       "    </tr>\n",
       "    <tr>\n",
       "      <th>1</th>\n",
       "      <td>ford</td>\n",
       "      <td>7</td>\n",
       "    </tr>\n",
       "    <tr>\n",
       "      <th>2</th>\n",
       "      <td>swift</td>\n",
       "      <td>4</td>\n",
       "    </tr>\n",
       "  </tbody>\n",
       "</table>\n",
       "</div>"
      ],
      "text/plain": [
       "    cars  passenger\n",
       "0    bmw          3\n",
       "1   ford          7\n",
       "2  swift          4"
      ]
     },
     "execution_count": 322,
     "metadata": {},
     "output_type": "execute_result"
    }
   ],
   "source": [
    "mydf"
   ]
  },
  {
   "cell_type": "code",
   "execution_count": 323,
   "id": "cbf4810c",
   "metadata": {},
   "outputs": [
    {
     "data": {
      "text/plain": [
       "cars         bmw\n",
       "passenger      3\n",
       "Name: 0, dtype: object"
      ]
     },
     "execution_count": 323,
     "metadata": {},
     "output_type": "execute_result"
    }
   ],
   "source": [
    "# locate row\n",
    "\n",
    "mydf.loc[0]"
   ]
  },
  {
   "cell_type": "code",
   "execution_count": 324,
   "id": "4139a176",
   "metadata": {},
   "outputs": [
    {
     "data": {
      "text/html": [
       "<div>\n",
       "<style scoped>\n",
       "    .dataframe tbody tr th:only-of-type {\n",
       "        vertical-align: middle;\n",
       "    }\n",
       "\n",
       "    .dataframe tbody tr th {\n",
       "        vertical-align: top;\n",
       "    }\n",
       "\n",
       "    .dataframe thead th {\n",
       "        text-align: right;\n",
       "    }\n",
       "</style>\n",
       "<table border=\"1\" class=\"dataframe\">\n",
       "  <thead>\n",
       "    <tr style=\"text-align: right;\">\n",
       "      <th></th>\n",
       "      <th>cars</th>\n",
       "      <th>passenger</th>\n",
       "    </tr>\n",
       "  </thead>\n",
       "  <tbody>\n",
       "    <tr>\n",
       "      <th>0</th>\n",
       "      <td>bmw</td>\n",
       "      <td>3</td>\n",
       "    </tr>\n",
       "    <tr>\n",
       "      <th>1</th>\n",
       "      <td>ford</td>\n",
       "      <td>7</td>\n",
       "    </tr>\n",
       "  </tbody>\n",
       "</table>\n",
       "</div>"
      ],
      "text/plain": [
       "   cars  passenger\n",
       "0   bmw          3\n",
       "1  ford          7"
      ]
     },
     "execution_count": 324,
     "metadata": {},
     "output_type": "execute_result"
    }
   ],
   "source": [
    "mydf.loc[[0,1]]"
   ]
  },
  {
   "cell_type": "code",
   "execution_count": 325,
   "id": "43a59b46",
   "metadata": {},
   "outputs": [
    {
     "data": {
      "text/plain": [
       "Index(['Row ID', 'Order ID', 'Order Date', 'Ship Date', 'Ship Mode',\n",
       "       'Customer ID', 'Customer Name', 'Segment', 'Country', 'City', 'State',\n",
       "       'Postal Code', 'Region', 'Product ID', 'Category', 'Sub-Category',\n",
       "       'Product Name', 'Sales', 'Quantity', 'Discount', 'Profit', 'rk'],\n",
       "      dtype='object')"
      ]
     },
     "execution_count": 325,
     "metadata": {},
     "output_type": "execute_result"
    }
   ],
   "source": [
    "store.columns"
   ]
  },
  {
   "cell_type": "code",
   "execution_count": 326,
   "id": "60b4ac1c",
   "metadata": {},
   "outputs": [
    {
     "data": {
      "text/html": [
       "<div>\n",
       "<style scoped>\n",
       "    .dataframe tbody tr th:only-of-type {\n",
       "        vertical-align: middle;\n",
       "    }\n",
       "\n",
       "    .dataframe tbody tr th {\n",
       "        vertical-align: top;\n",
       "    }\n",
       "\n",
       "    .dataframe thead th {\n",
       "        text-align: right;\n",
       "    }\n",
       "</style>\n",
       "<table border=\"1\" class=\"dataframe\">\n",
       "  <thead>\n",
       "    <tr style=\"text-align: right;\">\n",
       "      <th></th>\n",
       "      <th>Row ID</th>\n",
       "      <th>Ship Date</th>\n",
       "      <th>Postal Code</th>\n",
       "      <th>Sales</th>\n",
       "      <th>Quantity</th>\n",
       "      <th>Discount</th>\n",
       "      <th>Profit</th>\n",
       "      <th>rk</th>\n",
       "    </tr>\n",
       "  </thead>\n",
       "  <tbody>\n",
       "    <tr>\n",
       "      <th>count</th>\n",
       "      <td>9694.000000</td>\n",
       "      <td>9694.000000</td>\n",
       "      <td>9694.000000</td>\n",
       "      <td>9694.000000</td>\n",
       "      <td>9694.000000</td>\n",
       "      <td>9694.000000</td>\n",
       "      <td>9694.000000</td>\n",
       "      <td>9694.000000</td>\n",
       "    </tr>\n",
       "    <tr>\n",
       "      <th>mean</th>\n",
       "      <td>4993.926140</td>\n",
       "      <td>42492.419228</td>\n",
       "      <td>55190.491025</td>\n",
       "      <td>234.418182</td>\n",
       "      <td>3.790902</td>\n",
       "      <td>0.155167</td>\n",
       "      <td>29.178642</td>\n",
       "      <td>130.193934</td>\n",
       "    </tr>\n",
       "    <tr>\n",
       "      <th>std</th>\n",
       "      <td>2885.273358</td>\n",
       "      <td>420.414436</td>\n",
       "      <td>32050.129070</td>\n",
       "      <td>631.789011</td>\n",
       "      <td>2.227335</td>\n",
       "      <td>0.204867</td>\n",
       "      <td>237.716782</td>\n",
       "      <td>189.372384</td>\n",
       "    </tr>\n",
       "    <tr>\n",
       "      <th>min</th>\n",
       "      <td>1.000000</td>\n",
       "      <td>41646.000000</td>\n",
       "      <td>1040.000000</td>\n",
       "      <td>0.444000</td>\n",
       "      <td>1.000000</td>\n",
       "      <td>0.000000</td>\n",
       "      <td>-6599.978000</td>\n",
       "      <td>1.000000</td>\n",
       "    </tr>\n",
       "    <tr>\n",
       "      <th>25%</th>\n",
       "      <td>2496.250000</td>\n",
       "      <td>42146.250000</td>\n",
       "      <td>23223.000000</td>\n",
       "      <td>17.480000</td>\n",
       "      <td>2.000000</td>\n",
       "      <td>0.000000</td>\n",
       "      <td>1.735200</td>\n",
       "      <td>7.000000</td>\n",
       "    </tr>\n",
       "    <tr>\n",
       "      <th>50%</th>\n",
       "      <td>4992.500000</td>\n",
       "      <td>42547.000000</td>\n",
       "      <td>56301.000000</td>\n",
       "      <td>55.928000</td>\n",
       "      <td>3.000000</td>\n",
       "      <td>0.200000</td>\n",
       "      <td>8.730750</td>\n",
       "      <td>32.000000</td>\n",
       "    </tr>\n",
       "    <tr>\n",
       "      <th>75%</th>\n",
       "      <td>7489.750000</td>\n",
       "      <td>42872.000000</td>\n",
       "      <td>90008.000000</td>\n",
       "      <td>214.850000</td>\n",
       "      <td>5.000000</td>\n",
       "      <td>0.200000</td>\n",
       "      <td>30.009300</td>\n",
       "      <td>187.000000</td>\n",
       "    </tr>\n",
       "    <tr>\n",
       "      <th>max</th>\n",
       "      <td>9994.000000</td>\n",
       "      <td>43105.000000</td>\n",
       "      <td>99301.000000</td>\n",
       "      <td>22638.480000</td>\n",
       "      <td>14.000000</td>\n",
       "      <td>0.800000</td>\n",
       "      <td>8399.976000</td>\n",
       "      <td>893.000000</td>\n",
       "    </tr>\n",
       "  </tbody>\n",
       "</table>\n",
       "</div>"
      ],
      "text/plain": [
       "            Row ID     Ship Date   Postal Code         Sales     Quantity  \\\n",
       "count  9694.000000   9694.000000   9694.000000   9694.000000  9694.000000   \n",
       "mean   4993.926140  42492.419228  55190.491025    234.418182     3.790902   \n",
       "std    2885.273358    420.414436  32050.129070    631.789011     2.227335   \n",
       "min       1.000000  41646.000000   1040.000000      0.444000     1.000000   \n",
       "25%    2496.250000  42146.250000  23223.000000     17.480000     2.000000   \n",
       "50%    4992.500000  42547.000000  56301.000000     55.928000     3.000000   \n",
       "75%    7489.750000  42872.000000  90008.000000    214.850000     5.000000   \n",
       "max    9994.000000  43105.000000  99301.000000  22638.480000    14.000000   \n",
       "\n",
       "          Discount       Profit           rk  \n",
       "count  9694.000000  9694.000000  9694.000000  \n",
       "mean      0.155167    29.178642   130.193934  \n",
       "std       0.204867   237.716782   189.372384  \n",
       "min       0.000000 -6599.978000     1.000000  \n",
       "25%       0.000000     1.735200     7.000000  \n",
       "50%       0.200000     8.730750    32.000000  \n",
       "75%       0.200000    30.009300   187.000000  \n",
       "max       0.800000  8399.976000   893.000000  "
      ]
     },
     "execution_count": 326,
     "metadata": {},
     "output_type": "execute_result"
    }
   ],
   "source": [
    "store.describe()"
   ]
  },
  {
   "cell_type": "code",
   "execution_count": 349,
   "id": "5e50f76c",
   "metadata": {},
   "outputs": [],
   "source": [
    "df2 = pd.DataFrame(\n",
    "    {\n",
    "        \"A\": 1.0,\n",
    "        \"B\": [pd.Timestamp(\"20221124\"),pd.Timestamp(\"20221125\"),pd.Timestamp(\"20221124\"),pd.Timestamp(\"20221125\")],\n",
    "        \"C\": pd.Series([1,2,3,4]),\n",
    "        \"D\": np.array([1,5,6,8], dtype=\"int32\"),\n",
    "        \"E\": pd.Categorical([\"test\", \"train\", \"test\", \"train\"]),\n",
    "        \"F\": \"val\",\n",
    "    }\n",
    ")"
   ]
  },
  {
   "cell_type": "code",
   "execution_count": 355,
   "id": "ca346617",
   "metadata": {},
   "outputs": [
    {
     "data": {
      "text/plain": [
       "A           float64\n",
       "B    datetime64[ns]\n",
       "C             int64\n",
       "D             int32\n",
       "E          category\n",
       "F            object\n",
       "dtype: object"
      ]
     },
     "execution_count": 355,
     "metadata": {},
     "output_type": "execute_result"
    }
   ],
   "source": [
    "df2.dtypes"
   ]
  },
  {
   "cell_type": "code",
   "execution_count": 356,
   "id": "37f66ee7",
   "metadata": {},
   "outputs": [
    {
     "data": {
      "text/html": [
       "<div>\n",
       "<style scoped>\n",
       "    .dataframe tbody tr th:only-of-type {\n",
       "        vertical-align: middle;\n",
       "    }\n",
       "\n",
       "    .dataframe tbody tr th {\n",
       "        vertical-align: top;\n",
       "    }\n",
       "\n",
       "    .dataframe thead th {\n",
       "        text-align: right;\n",
       "    }\n",
       "</style>\n",
       "<table border=\"1\" class=\"dataframe\">\n",
       "  <thead>\n",
       "    <tr style=\"text-align: right;\">\n",
       "      <th></th>\n",
       "      <th>A</th>\n",
       "      <th>B</th>\n",
       "      <th>C</th>\n",
       "      <th>D</th>\n",
       "      <th>E</th>\n",
       "      <th>F</th>\n",
       "    </tr>\n",
       "  </thead>\n",
       "  <tbody>\n",
       "    <tr>\n",
       "      <th>2</th>\n",
       "      <td>1.0</td>\n",
       "      <td>2022-11-24</td>\n",
       "      <td>3</td>\n",
       "      <td>6</td>\n",
       "      <td>test</td>\n",
       "      <td>val</td>\n",
       "    </tr>\n",
       "    <tr>\n",
       "      <th>3</th>\n",
       "      <td>1.0</td>\n",
       "      <td>2022-11-25</td>\n",
       "      <td>4</td>\n",
       "      <td>8</td>\n",
       "      <td>train</td>\n",
       "      <td>val</td>\n",
       "    </tr>\n",
       "  </tbody>\n",
       "</table>\n",
       "</div>"
      ],
      "text/plain": [
       "     A          B  C  D      E    F\n",
       "2  1.0 2022-11-24  3  6   test  val\n",
       "3  1.0 2022-11-25  4  8  train  val"
      ]
     },
     "execution_count": 356,
     "metadata": {},
     "output_type": "execute_result"
    }
   ],
   "source": [
    "# df2.<TAB> \n",
    "df2.tail(2)"
   ]
  },
  {
   "cell_type": "code",
   "execution_count": 357,
   "id": "a3e7253e",
   "metadata": {},
   "outputs": [
    {
     "data": {
      "text/plain": [
       "RangeIndex(start=0, stop=4, step=1)"
      ]
     },
     "execution_count": 357,
     "metadata": {},
     "output_type": "execute_result"
    }
   ],
   "source": [
    "df2.index"
   ]
  },
  {
   "cell_type": "code",
   "execution_count": 359,
   "id": "7f9a0ec1",
   "metadata": {},
   "outputs": [
    {
     "data": {
      "text/plain": [
       "Index(['A', 'B', 'C', 'D', 'E', 'F'], dtype='object')"
      ]
     },
     "execution_count": 359,
     "metadata": {},
     "output_type": "execute_result"
    }
   ],
   "source": [
    "df2.columns"
   ]
  },
  {
   "cell_type": "code",
   "execution_count": 361,
   "id": "64d692db",
   "metadata": {},
   "outputs": [
    {
     "data": {
      "text/plain": [
       "array([[1.0, Timestamp('2022-11-24 00:00:00'), 1, 1, 'test', 'val'],\n",
       "       [1.0, Timestamp('2022-11-25 00:00:00'), 2, 5, 'train', 'val'],\n",
       "       [1.0, Timestamp('2022-11-24 00:00:00'), 3, 6, 'test', 'val'],\n",
       "       [1.0, Timestamp('2022-11-25 00:00:00'), 4, 8, 'train', 'val']],\n",
       "      dtype=object)"
      ]
     },
     "execution_count": 361,
     "metadata": {},
     "output_type": "execute_result"
    }
   ],
   "source": [
    "df2.to_numpy()"
   ]
  },
  {
   "cell_type": "code",
   "execution_count": 362,
   "id": "d017792a",
   "metadata": {},
   "outputs": [
    {
     "data": {
      "text/html": [
       "<div>\n",
       "<style scoped>\n",
       "    .dataframe tbody tr th:only-of-type {\n",
       "        vertical-align: middle;\n",
       "    }\n",
       "\n",
       "    .dataframe tbody tr th {\n",
       "        vertical-align: top;\n",
       "    }\n",
       "\n",
       "    .dataframe thead th {\n",
       "        text-align: right;\n",
       "    }\n",
       "</style>\n",
       "<table border=\"1\" class=\"dataframe\">\n",
       "  <thead>\n",
       "    <tr style=\"text-align: right;\">\n",
       "      <th></th>\n",
       "      <th>A</th>\n",
       "      <th>C</th>\n",
       "      <th>D</th>\n",
       "    </tr>\n",
       "  </thead>\n",
       "  <tbody>\n",
       "    <tr>\n",
       "      <th>count</th>\n",
       "      <td>4.0</td>\n",
       "      <td>4.000000</td>\n",
       "      <td>4.00000</td>\n",
       "    </tr>\n",
       "    <tr>\n",
       "      <th>mean</th>\n",
       "      <td>1.0</td>\n",
       "      <td>2.500000</td>\n",
       "      <td>5.00000</td>\n",
       "    </tr>\n",
       "    <tr>\n",
       "      <th>std</th>\n",
       "      <td>0.0</td>\n",
       "      <td>1.290994</td>\n",
       "      <td>2.94392</td>\n",
       "    </tr>\n",
       "    <tr>\n",
       "      <th>min</th>\n",
       "      <td>1.0</td>\n",
       "      <td>1.000000</td>\n",
       "      <td>1.00000</td>\n",
       "    </tr>\n",
       "    <tr>\n",
       "      <th>25%</th>\n",
       "      <td>1.0</td>\n",
       "      <td>1.750000</td>\n",
       "      <td>4.00000</td>\n",
       "    </tr>\n",
       "    <tr>\n",
       "      <th>50%</th>\n",
       "      <td>1.0</td>\n",
       "      <td>2.500000</td>\n",
       "      <td>5.50000</td>\n",
       "    </tr>\n",
       "    <tr>\n",
       "      <th>75%</th>\n",
       "      <td>1.0</td>\n",
       "      <td>3.250000</td>\n",
       "      <td>6.50000</td>\n",
       "    </tr>\n",
       "    <tr>\n",
       "      <th>max</th>\n",
       "      <td>1.0</td>\n",
       "      <td>4.000000</td>\n",
       "      <td>8.00000</td>\n",
       "    </tr>\n",
       "  </tbody>\n",
       "</table>\n",
       "</div>"
      ],
      "text/plain": [
       "         A         C        D\n",
       "count  4.0  4.000000  4.00000\n",
       "mean   1.0  2.500000  5.00000\n",
       "std    0.0  1.290994  2.94392\n",
       "min    1.0  1.000000  1.00000\n",
       "25%    1.0  1.750000  4.00000\n",
       "50%    1.0  2.500000  5.50000\n",
       "75%    1.0  3.250000  6.50000\n",
       "max    1.0  4.000000  8.00000"
      ]
     },
     "execution_count": 362,
     "metadata": {},
     "output_type": "execute_result"
    }
   ],
   "source": [
    "df2.describe()"
   ]
  },
  {
   "cell_type": "code",
   "execution_count": 363,
   "id": "e3cca9f3",
   "metadata": {},
   "outputs": [],
   "source": [
    "# import datetime"
   ]
  },
  {
   "cell_type": "code",
   "execution_count": 364,
   "id": "eec3e52b",
   "metadata": {},
   "outputs": [
    {
     "data": {
      "text/html": [
       "<div>\n",
       "<style scoped>\n",
       "    .dataframe tbody tr th:only-of-type {\n",
       "        vertical-align: middle;\n",
       "    }\n",
       "\n",
       "    .dataframe tbody tr th {\n",
       "        vertical-align: top;\n",
       "    }\n",
       "\n",
       "    .dataframe thead th {\n",
       "        text-align: right;\n",
       "    }\n",
       "</style>\n",
       "<table border=\"1\" class=\"dataframe\">\n",
       "  <thead>\n",
       "    <tr style=\"text-align: right;\">\n",
       "      <th></th>\n",
       "      <th>A</th>\n",
       "      <th>B</th>\n",
       "      <th>C</th>\n",
       "      <th>D</th>\n",
       "      <th>E</th>\n",
       "      <th>F</th>\n",
       "    </tr>\n",
       "  </thead>\n",
       "  <tbody>\n",
       "    <tr>\n",
       "      <th>0</th>\n",
       "      <td>1.0</td>\n",
       "      <td>2022-11-24</td>\n",
       "      <td>1</td>\n",
       "      <td>1</td>\n",
       "      <td>test</td>\n",
       "      <td>val</td>\n",
       "    </tr>\n",
       "    <tr>\n",
       "      <th>1</th>\n",
       "      <td>1.0</td>\n",
       "      <td>2022-11-25</td>\n",
       "      <td>2</td>\n",
       "      <td>5</td>\n",
       "      <td>train</td>\n",
       "      <td>val</td>\n",
       "    </tr>\n",
       "    <tr>\n",
       "      <th>2</th>\n",
       "      <td>1.0</td>\n",
       "      <td>2022-11-24</td>\n",
       "      <td>3</td>\n",
       "      <td>6</td>\n",
       "      <td>test</td>\n",
       "      <td>val</td>\n",
       "    </tr>\n",
       "    <tr>\n",
       "      <th>3</th>\n",
       "      <td>1.0</td>\n",
       "      <td>2022-11-25</td>\n",
       "      <td>4</td>\n",
       "      <td>8</td>\n",
       "      <td>train</td>\n",
       "      <td>val</td>\n",
       "    </tr>\n",
       "  </tbody>\n",
       "</table>\n",
       "</div>"
      ],
      "text/plain": [
       "     A          B  C  D      E    F\n",
       "0  1.0 2022-11-24  1  1   test  val\n",
       "1  1.0 2022-11-25  2  5  train  val\n",
       "2  1.0 2022-11-24  3  6   test  val\n",
       "3  1.0 2022-11-25  4  8  train  val"
      ]
     },
     "execution_count": 364,
     "metadata": {},
     "output_type": "execute_result"
    }
   ],
   "source": [
    "df2"
   ]
  },
  {
   "cell_type": "code",
   "execution_count": 365,
   "id": "ba7f2890",
   "metadata": {},
   "outputs": [
    {
     "data": {
      "text/html": [
       "<div>\n",
       "<style scoped>\n",
       "    .dataframe tbody tr th:only-of-type {\n",
       "        vertical-align: middle;\n",
       "    }\n",
       "\n",
       "    .dataframe tbody tr th {\n",
       "        vertical-align: top;\n",
       "    }\n",
       "\n",
       "    .dataframe thead th {\n",
       "        text-align: right;\n",
       "    }\n",
       "</style>\n",
       "<table border=\"1\" class=\"dataframe\">\n",
       "  <thead>\n",
       "    <tr style=\"text-align: right;\">\n",
       "      <th></th>\n",
       "      <th>0</th>\n",
       "      <th>1</th>\n",
       "      <th>2</th>\n",
       "      <th>3</th>\n",
       "    </tr>\n",
       "  </thead>\n",
       "  <tbody>\n",
       "    <tr>\n",
       "      <th>A</th>\n",
       "      <td>1.0</td>\n",
       "      <td>1.0</td>\n",
       "      <td>1.0</td>\n",
       "      <td>1.0</td>\n",
       "    </tr>\n",
       "    <tr>\n",
       "      <th>B</th>\n",
       "      <td>2022-11-24 00:00:00</td>\n",
       "      <td>2022-11-25 00:00:00</td>\n",
       "      <td>2022-11-24 00:00:00</td>\n",
       "      <td>2022-11-25 00:00:00</td>\n",
       "    </tr>\n",
       "    <tr>\n",
       "      <th>C</th>\n",
       "      <td>1</td>\n",
       "      <td>2</td>\n",
       "      <td>3</td>\n",
       "      <td>4</td>\n",
       "    </tr>\n",
       "    <tr>\n",
       "      <th>D</th>\n",
       "      <td>1</td>\n",
       "      <td>5</td>\n",
       "      <td>6</td>\n",
       "      <td>8</td>\n",
       "    </tr>\n",
       "    <tr>\n",
       "      <th>E</th>\n",
       "      <td>test</td>\n",
       "      <td>train</td>\n",
       "      <td>test</td>\n",
       "      <td>train</td>\n",
       "    </tr>\n",
       "    <tr>\n",
       "      <th>F</th>\n",
       "      <td>val</td>\n",
       "      <td>val</td>\n",
       "      <td>val</td>\n",
       "      <td>val</td>\n",
       "    </tr>\n",
       "  </tbody>\n",
       "</table>\n",
       "</div>"
      ],
      "text/plain": [
       "                     0                    1                    2  \\\n",
       "A                  1.0                  1.0                  1.0   \n",
       "B  2022-11-24 00:00:00  2022-11-25 00:00:00  2022-11-24 00:00:00   \n",
       "C                    1                    2                    3   \n",
       "D                    1                    5                    6   \n",
       "E                 test                train                 test   \n",
       "F                  val                  val                  val   \n",
       "\n",
       "                     3  \n",
       "A                  1.0  \n",
       "B  2022-11-25 00:00:00  \n",
       "C                    4  \n",
       "D                    8  \n",
       "E                train  \n",
       "F                  val  "
      ]
     },
     "execution_count": 365,
     "metadata": {},
     "output_type": "execute_result"
    }
   ],
   "source": [
    "df2.T  - Rows to col , col to rows"
   ]
  },
  {
   "cell_type": "code",
   "execution_count": 366,
   "id": "612cb861",
   "metadata": {},
   "outputs": [
    {
     "data": {
      "text/plain": [
       "Timestamp('2022-11-25 00:00:00')"
      ]
     },
     "execution_count": 366,
     "metadata": {},
     "output_type": "execute_result"
    }
   ],
   "source": [
    "df2.iloc[1,1]  - position"
   ]
  },
  {
   "cell_type": "code",
   "execution_count": 369,
   "id": "1ed1e920",
   "metadata": {},
   "outputs": [
    {
     "data": {
      "text/html": [
       "<div>\n",
       "<style scoped>\n",
       "    .dataframe tbody tr th:only-of-type {\n",
       "        vertical-align: middle;\n",
       "    }\n",
       "\n",
       "    .dataframe tbody tr th {\n",
       "        vertical-align: top;\n",
       "    }\n",
       "\n",
       "    .dataframe thead th {\n",
       "        text-align: right;\n",
       "    }\n",
       "</style>\n",
       "<table border=\"1\" class=\"dataframe\">\n",
       "  <thead>\n",
       "    <tr style=\"text-align: right;\">\n",
       "      <th></th>\n",
       "      <th>A</th>\n",
       "      <th>B</th>\n",
       "      <th>C</th>\n",
       "      <th>D</th>\n",
       "      <th>E</th>\n",
       "      <th>F</th>\n",
       "    </tr>\n",
       "  </thead>\n",
       "  <tbody>\n",
       "    <tr>\n",
       "      <th>1</th>\n",
       "      <td>1.0</td>\n",
       "      <td>2022-11-25</td>\n",
       "      <td>2</td>\n",
       "      <td>5</td>\n",
       "      <td>train</td>\n",
       "      <td>val</td>\n",
       "    </tr>\n",
       "    <tr>\n",
       "      <th>2</th>\n",
       "      <td>1.0</td>\n",
       "      <td>2022-11-24</td>\n",
       "      <td>3</td>\n",
       "      <td>6</td>\n",
       "      <td>test</td>\n",
       "      <td>val</td>\n",
       "    </tr>\n",
       "  </tbody>\n",
       "</table>\n",
       "</div>"
      ],
      "text/plain": [
       "     A          B  C  D      E    F\n",
       "1  1.0 2022-11-25  2  5  train  val\n",
       "2  1.0 2022-11-24  3  6   test  val"
      ]
     },
     "execution_count": 369,
     "metadata": {},
     "output_type": "execute_result"
    }
   ],
   "source": [
    "df2.loc[1:2]  - rows selection"
   ]
  },
  {
   "cell_type": "code",
   "execution_count": 370,
   "id": "3dd83716",
   "metadata": {},
   "outputs": [
    {
     "data": {
      "text/html": [
       "<div>\n",
       "<style scoped>\n",
       "    .dataframe tbody tr th:only-of-type {\n",
       "        vertical-align: middle;\n",
       "    }\n",
       "\n",
       "    .dataframe tbody tr th {\n",
       "        vertical-align: top;\n",
       "    }\n",
       "\n",
       "    .dataframe thead th {\n",
       "        text-align: right;\n",
       "    }\n",
       "</style>\n",
       "<table border=\"1\" class=\"dataframe\">\n",
       "  <thead>\n",
       "    <tr style=\"text-align: right;\">\n",
       "      <th></th>\n",
       "      <th>A</th>\n",
       "      <th>B</th>\n",
       "      <th>C</th>\n",
       "      <th>D</th>\n",
       "      <th>E</th>\n",
       "      <th>F</th>\n",
       "    </tr>\n",
       "  </thead>\n",
       "  <tbody>\n",
       "    <tr>\n",
       "      <th>0</th>\n",
       "      <td>1.0</td>\n",
       "      <td>2022-11-24</td>\n",
       "      <td>1</td>\n",
       "      <td>1</td>\n",
       "      <td>test</td>\n",
       "      <td>val</td>\n",
       "    </tr>\n",
       "    <tr>\n",
       "      <th>1</th>\n",
       "      <td>1.0</td>\n",
       "      <td>2022-11-25</td>\n",
       "      <td>2</td>\n",
       "      <td>5</td>\n",
       "      <td>train</td>\n",
       "      <td>val</td>\n",
       "    </tr>\n",
       "    <tr>\n",
       "      <th>2</th>\n",
       "      <td>1.0</td>\n",
       "      <td>2022-11-24</td>\n",
       "      <td>3</td>\n",
       "      <td>6</td>\n",
       "      <td>test</td>\n",
       "      <td>val</td>\n",
       "    </tr>\n",
       "    <tr>\n",
       "      <th>3</th>\n",
       "      <td>1.0</td>\n",
       "      <td>2022-11-25</td>\n",
       "      <td>4</td>\n",
       "      <td>8</td>\n",
       "      <td>train</td>\n",
       "      <td>val</td>\n",
       "    </tr>\n",
       "  </tbody>\n",
       "</table>\n",
       "</div>"
      ],
      "text/plain": [
       "     A          B  C  D      E    F\n",
       "0  1.0 2022-11-24  1  1   test  val\n",
       "1  1.0 2022-11-25  2  5  train  val\n",
       "2  1.0 2022-11-24  3  6   test  val\n",
       "3  1.0 2022-11-25  4  8  train  val"
      ]
     },
     "execution_count": 370,
     "metadata": {},
     "output_type": "execute_result"
    }
   ],
   "source": [
    "df2"
   ]
  },
  {
   "cell_type": "code",
   "execution_count": 371,
   "id": "2f2dabfc",
   "metadata": {},
   "outputs": [
    {
     "data": {
      "text/html": [
       "<div>\n",
       "<style scoped>\n",
       "    .dataframe tbody tr th:only-of-type {\n",
       "        vertical-align: middle;\n",
       "    }\n",
       "\n",
       "    .dataframe tbody tr th {\n",
       "        vertical-align: top;\n",
       "    }\n",
       "\n",
       "    .dataframe thead th {\n",
       "        text-align: right;\n",
       "    }\n",
       "</style>\n",
       "<table border=\"1\" class=\"dataframe\">\n",
       "  <thead>\n",
       "    <tr style=\"text-align: right;\">\n",
       "      <th></th>\n",
       "      <th>A</th>\n",
       "      <th>B</th>\n",
       "      <th>C</th>\n",
       "      <th>D</th>\n",
       "      <th>E</th>\n",
       "      <th>F</th>\n",
       "    </tr>\n",
       "  </thead>\n",
       "  <tbody>\n",
       "    <tr>\n",
       "      <th>3</th>\n",
       "      <td>1.0</td>\n",
       "      <td>2022-11-25</td>\n",
       "      <td>4</td>\n",
       "      <td>8</td>\n",
       "      <td>train</td>\n",
       "      <td>val</td>\n",
       "    </tr>\n",
       "  </tbody>\n",
       "</table>\n",
       "</div>"
      ],
      "text/plain": [
       "     A          B  C  D      E    F\n",
       "3  1.0 2022-11-25  4  8  train  val"
      ]
     },
     "execution_count": 371,
     "metadata": {},
     "output_type": "execute_result"
    }
   ],
   "source": [
    "# data ops \n",
    "\n",
    "# df2[ condition ]\n",
    "\n",
    "df2[ df2[\"C\"] > 3  ]\n",
    "\n"
   ]
  },
  {
   "cell_type": "code",
   "execution_count": 372,
   "id": "faa9f511",
   "metadata": {},
   "outputs": [
    {
     "data": {
      "text/plain": [
       "0    False\n",
       "1    False\n",
       "2    False\n",
       "3     True\n",
       "Name: C, dtype: bool"
      ]
     },
     "execution_count": 372,
     "metadata": {},
     "output_type": "execute_result"
    }
   ],
   "source": [
    "df2[\"C\"] > 3"
   ]
  },
  {
   "cell_type": "code",
   "execution_count": 373,
   "id": "b631bb0d",
   "metadata": {},
   "outputs": [],
   "source": [
    "df1 = df2.copy()"
   ]
  },
  {
   "cell_type": "code",
   "execution_count": 374,
   "id": "0e036a0d",
   "metadata": {},
   "outputs": [
    {
     "data": {
      "text/html": [
       "<div>\n",
       "<style scoped>\n",
       "    .dataframe tbody tr th:only-of-type {\n",
       "        vertical-align: middle;\n",
       "    }\n",
       "\n",
       "    .dataframe tbody tr th {\n",
       "        vertical-align: top;\n",
       "    }\n",
       "\n",
       "    .dataframe thead th {\n",
       "        text-align: right;\n",
       "    }\n",
       "</style>\n",
       "<table border=\"1\" class=\"dataframe\">\n",
       "  <thead>\n",
       "    <tr style=\"text-align: right;\">\n",
       "      <th></th>\n",
       "      <th>A</th>\n",
       "      <th>B</th>\n",
       "      <th>C</th>\n",
       "      <th>D</th>\n",
       "      <th>E</th>\n",
       "      <th>F</th>\n",
       "    </tr>\n",
       "  </thead>\n",
       "  <tbody>\n",
       "    <tr>\n",
       "      <th>0</th>\n",
       "      <td>1.0</td>\n",
       "      <td>2022-11-24</td>\n",
       "      <td>1</td>\n",
       "      <td>1</td>\n",
       "      <td>test</td>\n",
       "      <td>val</td>\n",
       "    </tr>\n",
       "    <tr>\n",
       "      <th>1</th>\n",
       "      <td>1.0</td>\n",
       "      <td>2022-11-25</td>\n",
       "      <td>2</td>\n",
       "      <td>5</td>\n",
       "      <td>train</td>\n",
       "      <td>val</td>\n",
       "    </tr>\n",
       "    <tr>\n",
       "      <th>2</th>\n",
       "      <td>1.0</td>\n",
       "      <td>2022-11-24</td>\n",
       "      <td>3</td>\n",
       "      <td>6</td>\n",
       "      <td>test</td>\n",
       "      <td>val</td>\n",
       "    </tr>\n",
       "    <tr>\n",
       "      <th>3</th>\n",
       "      <td>1.0</td>\n",
       "      <td>2022-11-25</td>\n",
       "      <td>4</td>\n",
       "      <td>8</td>\n",
       "      <td>train</td>\n",
       "      <td>val</td>\n",
       "    </tr>\n",
       "  </tbody>\n",
       "</table>\n",
       "</div>"
      ],
      "text/plain": [
       "     A          B  C  D      E    F\n",
       "0  1.0 2022-11-24  1  1   test  val\n",
       "1  1.0 2022-11-25  2  5  train  val\n",
       "2  1.0 2022-11-24  3  6   test  val\n",
       "3  1.0 2022-11-25  4  8  train  val"
      ]
     },
     "execution_count": 374,
     "metadata": {},
     "output_type": "execute_result"
    }
   ],
   "source": [
    "df1"
   ]
  },
  {
   "cell_type": "code",
   "execution_count": 376,
   "id": "7aac488f",
   "metadata": {},
   "outputs": [],
   "source": [
    "# df2"
   ]
  },
  {
   "cell_type": "code",
   "execution_count": null,
   "id": "4ee2ac87",
   "metadata": {},
   "outputs": [],
   "source": []
  },
  {
   "cell_type": "code",
   "execution_count": 389,
   "id": "6fb159ab",
   "metadata": {},
   "outputs": [
    {
     "data": {
      "text/plain": [
       "<BarContainer object of 2 artists>"
      ]
     },
     "execution_count": 389,
     "metadata": {},
     "output_type": "execute_result"
    },
    {
     "data": {
      "image/png": "[encoded data removed]",
      "text/plain": [
       "<Figure size 432x288 with 1 Axes>"
      ]
     },
     "metadata": {
      "needs_background": "light"
     },
     "output_type": "display_data"
    }
   ],
   "source": [
    "import matplotlib.pyplot as plt\n",
    "plt.bar([\"ban\",\"che\"],[1,2],color = ['r','g','b','m'])\n",
    "# plt.plot([1,2,3,4],)\n",
    "\n",
    "plot()\n"
   ]
  },
  {
   "cell_type": "code",
   "execution_count": 387,
   "id": "df963d99",
   "metadata": {},
   "outputs": [],
   "source": [
    "# import matplotlib.pyplot as plt\n",
    "# import numpy as np\n",
    "\n",
    "# ypoints = np.array([3, 8, 1, 10])\n",
    "\n",
    "# plt.plot(ypoints, marker = 'kh')\n",
    "# plt.show()"
   ]
  },
  {
   "cell_type": "code",
   "execution_count": null,
   "id": "fdc581a2",
   "metadata": {},
   "outputs": [],
   "source": []
  },
  {
   "cell_type": "code",
   "execution_count": null,
   "id": "ced42169",
   "metadata": {},
   "outputs": [],
   "source": [
    "1.Task to create data frame with your detail as list input\n",
    "2.create df with ur eduction detail as dict input\n",
    "3.creat df with ur work exp as mixed input\n",
    "\n",
    "4. perform postion & location row for particular value \n",
    " * 5.explain the describe funtinality - result "
   ]
  },
  {
   "cell_type": "code",
   "execution_count": 392,
   "id": "3e479e99",
   "metadata": {},
   "outputs": [
    {
     "data": {
      "text/plain": [
       "Index(['Row ID', 'Order ID', 'Order Date', 'Ship Date', 'Ship Mode',\n",
       "       'Customer ID', 'Customer Name', 'Segment', 'Country', 'City', 'State',\n",
       "       'Postal Code', 'Region', 'Product ID', 'Category', 'Sub-Category',\n",
       "       'Product Name', 'Sales', 'Quantity', 'Discount', 'Profit', 'rk'],\n",
       "      dtype='object')"
      ]
     },
     "execution_count": 392,
     "metadata": {},
     "output_type": "execute_result"
    }
   ],
   "source": [
    "store.columns"
   ]
  },
  {
   "cell_type": "code",
   "execution_count": 396,
   "id": "aec25855",
   "metadata": {},
   "outputs": [
    {
     "data": {
      "text/html": [
       "<div>\n",
       "<style scoped>\n",
       "    .dataframe tbody tr th:only-of-type {\n",
       "        vertical-align: middle;\n",
       "    }\n",
       "\n",
       "    .dataframe tbody tr th {\n",
       "        vertical-align: top;\n",
       "    }\n",
       "\n",
       "    .dataframe thead th {\n",
       "        text-align: right;\n",
       "    }\n",
       "</style>\n",
       "<table border=\"1\" class=\"dataframe\">\n",
       "  <thead>\n",
       "    <tr style=\"text-align: right;\">\n",
       "      <th></th>\n",
       "      <th>Order ID</th>\n",
       "      <th>Ship Date</th>\n",
       "    </tr>\n",
       "  </thead>\n",
       "  <tbody>\n",
       "    <tr>\n",
       "      <th>1</th>\n",
       "      <td>CA-2017-165099</td>\n",
       "      <td>43082</td>\n",
       "    </tr>\n",
       "    <tr>\n",
       "      <th>2</th>\n",
       "      <td>US-2015-147662</td>\n",
       "      <td>42054</td>\n",
       "    </tr>\n",
       "  </tbody>\n",
       "</table>\n",
       "</div>"
      ],
      "text/plain": [
       "         Order ID  Ship Date\n",
       "1  CA-2017-165099      43082\n",
       "2  US-2015-147662      42054"
      ]
     },
     "execution_count": 396,
     "metadata": {},
     "output_type": "execute_result"
    }
   ],
   "source": [
    "store[[\"Order ID\",\"Ship Date\"]][1:3]"
   ]
  },
  {
   "cell_type": "code",
   "execution_count": 398,
   "id": "fbd9863d",
   "metadata": {},
   "outputs": [],
   "source": [
    "row = store.loc[1:2]"
   ]
  },
  {
   "cell_type": "code",
   "execution_count": 399,
   "id": "56d1bda9",
   "metadata": {},
   "outputs": [
    {
     "data": {
      "text/html": [
       "<div>\n",
       "<style scoped>\n",
       "    .dataframe tbody tr th:only-of-type {\n",
       "        vertical-align: middle;\n",
       "    }\n",
       "\n",
       "    .dataframe tbody tr th {\n",
       "        vertical-align: top;\n",
       "    }\n",
       "\n",
       "    .dataframe thead th {\n",
       "        text-align: right;\n",
       "    }\n",
       "</style>\n",
       "<table border=\"1\" class=\"dataframe\">\n",
       "  <thead>\n",
       "    <tr style=\"text-align: right;\">\n",
       "      <th></th>\n",
       "      <th>Row ID</th>\n",
       "      <th>Order ID</th>\n",
       "      <th>Order Date</th>\n",
       "      <th>Ship Date</th>\n",
       "      <th>Ship Mode</th>\n",
       "      <th>Customer ID</th>\n",
       "      <th>Customer Name</th>\n",
       "      <th>Segment</th>\n",
       "      <th>Country</th>\n",
       "      <th>City</th>\n",
       "      <th>...</th>\n",
       "      <th>Region</th>\n",
       "      <th>Product ID</th>\n",
       "      <th>Category</th>\n",
       "      <th>Sub-Category</th>\n",
       "      <th>Product Name</th>\n",
       "      <th>Sales</th>\n",
       "      <th>Quantity</th>\n",
       "      <th>Discount</th>\n",
       "      <th>Profit</th>\n",
       "      <th>rk</th>\n",
       "    </tr>\n",
       "  </thead>\n",
       "  <tbody>\n",
       "    <tr>\n",
       "      <th>1</th>\n",
       "      <td>6990</td>\n",
       "      <td>CA-2017-165099</td>\n",
       "      <td>12/11/2017</td>\n",
       "      <td>43082</td>\n",
       "      <td>First Class</td>\n",
       "      <td>DK-13375</td>\n",
       "      <td>Dennis Kane</td>\n",
       "      <td>Consumer</td>\n",
       "      <td>United States</td>\n",
       "      <td>Abilene</td>\n",
       "      <td>...</td>\n",
       "      <td>Central</td>\n",
       "      <td>OFF-AP-10001634</td>\n",
       "      <td>Office Supplies</td>\n",
       "      <td>Appliances</td>\n",
       "      <td>Hoover Commercial Lightweight Upright Vacuum</td>\n",
       "      <td>1.392</td>\n",
       "      <td>2</td>\n",
       "      <td>0.8</td>\n",
       "      <td>-3.7584</td>\n",
       "      <td>1</td>\n",
       "    </tr>\n",
       "    <tr>\n",
       "      <th>2</th>\n",
       "      <td>4324</td>\n",
       "      <td>US-2015-147662</td>\n",
       "      <td>2/14/2015</td>\n",
       "      <td>42054</td>\n",
       "      <td>Standard Class</td>\n",
       "      <td>KB-16315</td>\n",
       "      <td>Karl Braun</td>\n",
       "      <td>Consumer</td>\n",
       "      <td>United States</td>\n",
       "      <td>Akron</td>\n",
       "      <td>...</td>\n",
       "      <td>East</td>\n",
       "      <td>OFF-BI-10002160</td>\n",
       "      <td>Office Supplies</td>\n",
       "      <td>Binders</td>\n",
       "      <td>Acco Hanging Data Binders</td>\n",
       "      <td>2.286</td>\n",
       "      <td>2</td>\n",
       "      <td>0.7</td>\n",
       "      <td>-1.6764</td>\n",
       "      <td>1</td>\n",
       "    </tr>\n",
       "  </tbody>\n",
       "</table>\n",
       "<p>2 rows × 22 columns</p>\n",
       "</div>"
      ],
      "text/plain": [
       "   Row ID        Order ID  Order Date  Ship Date       Ship Mode Customer ID  \\\n",
       "1    6990  CA-2017-165099  12/11/2017      43082     First Class    DK-13375   \n",
       "2    4324  US-2015-147662   2/14/2015      42054  Standard Class    KB-16315   \n",
       "\n",
       "  Customer Name   Segment        Country     City  ...   Region  \\\n",
       "1   Dennis Kane  Consumer  United States  Abilene  ...  Central   \n",
       "2    Karl Braun  Consumer  United States    Akron  ...     East   \n",
       "\n",
       "        Product ID         Category Sub-Category  \\\n",
       "1  OFF-AP-10001634  Office Supplies   Appliances   \n",
       "2  OFF-BI-10002160  Office Supplies      Binders   \n",
       "\n",
       "                                   Product Name  Sales Quantity  Discount  \\\n",
       "1  Hoover Commercial Lightweight Upright Vacuum  1.392        2       0.8   \n",
       "2                     Acco Hanging Data Binders  2.286        2       0.7   \n",
       "\n",
       "   Profit  rk  \n",
       "1 -3.7584   1  \n",
       "2 -1.6764   1  \n",
       "\n",
       "[2 rows x 22 columns]"
      ]
     },
     "execution_count": 399,
     "metadata": {},
     "output_type": "execute_result"
    }
   ],
   "source": [
    "row"
   ]
  },
  {
   "cell_type": "code",
   "execution_count": 401,
   "id": "88e3ead5",
   "metadata": {},
   "outputs": [],
   "source": [
    "subse = store[['Row ID', 'Order ID', 'Order Date', 'Ship Date']][:500]"
   ]
  },
  {
   "cell_type": "code",
   "execution_count": 402,
   "id": "6cdd837d",
   "metadata": {},
   "outputs": [
    {
     "data": {
      "text/plain": [
       "500"
      ]
     },
     "execution_count": 402,
     "metadata": {},
     "output_type": "execute_result"
    }
   ],
   "source": [
    "len(subse)"
   ]
  },
  {
   "cell_type": "code",
   "execution_count": 407,
   "id": "9e07ed87",
   "metadata": {},
   "outputs": [
    {
     "data": {
      "text/plain": [
       "(9694, 22)"
      ]
     },
     "execution_count": 407,
     "metadata": {},
     "output_type": "execute_result"
    }
   ],
   "source": [
    "store.shape"
   ]
  },
  {
   "cell_type": "code",
   "execution_count": 406,
   "id": "cb96cdf9",
   "metadata": {},
   "outputs": [
    {
     "data": {
      "text/plain": [
       "9694"
      ]
     },
     "execution_count": 406,
     "metadata": {},
     "output_type": "execute_result"
    }
   ],
   "source": [
    "len(store)"
   ]
  },
  {
   "cell_type": "code",
   "execution_count": 408,
   "id": "87ca4081",
   "metadata": {},
   "outputs": [
    {
     "data": {
      "text/html": [
       "<div>\n",
       "<style scoped>\n",
       "    .dataframe tbody tr th:only-of-type {\n",
       "        vertical-align: middle;\n",
       "    }\n",
       "\n",
       "    .dataframe tbody tr th {\n",
       "        vertical-align: top;\n",
       "    }\n",
       "\n",
       "    .dataframe thead th {\n",
       "        text-align: right;\n",
       "    }\n",
       "</style>\n",
       "<table border=\"1\" class=\"dataframe\">\n",
       "  <thead>\n",
       "    <tr style=\"text-align: right;\">\n",
       "      <th></th>\n",
       "      <th>Row ID</th>\n",
       "      <th>Order ID</th>\n",
       "      <th>Order Date</th>\n",
       "      <th>Ship Date</th>\n",
       "      <th>Ship Mode</th>\n",
       "      <th>Customer ID</th>\n",
       "      <th>Customer Name</th>\n",
       "      <th>Segment</th>\n",
       "      <th>Country</th>\n",
       "      <th>City</th>\n",
       "      <th>...</th>\n",
       "      <th>Region</th>\n",
       "      <th>Product ID</th>\n",
       "      <th>Category</th>\n",
       "      <th>Sub-Category</th>\n",
       "      <th>Product Name</th>\n",
       "      <th>Sales</th>\n",
       "      <th>Quantity</th>\n",
       "      <th>Discount</th>\n",
       "      <th>Profit</th>\n",
       "      <th>rk</th>\n",
       "    </tr>\n",
       "  </thead>\n",
       "  <tbody>\n",
       "    <tr>\n",
       "      <th>1</th>\n",
       "      <td>6990</td>\n",
       "      <td>CA-2017-165099</td>\n",
       "      <td>12/11/2017</td>\n",
       "      <td>43082</td>\n",
       "      <td>First Class</td>\n",
       "      <td>DK-13375</td>\n",
       "      <td>Dennis Kane</td>\n",
       "      <td>Consumer</td>\n",
       "      <td>United States</td>\n",
       "      <td>Abilene</td>\n",
       "      <td>...</td>\n",
       "      <td>Central</td>\n",
       "      <td>OFF-AP-10001634</td>\n",
       "      <td>Office Supplies</td>\n",
       "      <td>Appliances</td>\n",
       "      <td>Hoover Commercial Lightweight Upright Vacuum</td>\n",
       "      <td>1.392</td>\n",
       "      <td>2</td>\n",
       "      <td>0.8</td>\n",
       "      <td>-3.7584</td>\n",
       "      <td>1</td>\n",
       "    </tr>\n",
       "  </tbody>\n",
       "</table>\n",
       "<p>1 rows × 22 columns</p>\n",
       "</div>"
      ],
      "text/plain": [
       "   Row ID        Order ID  Order Date  Ship Date    Ship Mode Customer ID  \\\n",
       "1    6990  CA-2017-165099  12/11/2017      43082  First Class    DK-13375   \n",
       "\n",
       "  Customer Name   Segment        Country     City  ...   Region  \\\n",
       "1   Dennis Kane  Consumer  United States  Abilene  ...  Central   \n",
       "\n",
       "        Product ID         Category Sub-Category  \\\n",
       "1  OFF-AP-10001634  Office Supplies   Appliances   \n",
       "\n",
       "                                   Product Name  Sales Quantity  Discount  \\\n",
       "1  Hoover Commercial Lightweight Upright Vacuum  1.392        2       0.8   \n",
       "\n",
       "   Profit  rk  \n",
       "1 -3.7584   1  \n",
       "\n",
       "[1 rows x 22 columns]"
      ]
     },
     "execution_count": 408,
     "metadata": {},
     "output_type": "execute_result"
    }
   ],
   "source": [
    "store[1:2]"
   ]
  },
  {
   "cell_type": "code",
   "execution_count": 413,
   "id": "f05d074c",
   "metadata": {},
   "outputs": [],
   "source": [
    "subset_sales  = store[  (store['Sales'] > 2)  &  (store.Profit < 0)   ]"
   ]
  },
  {
   "cell_type": "code",
   "execution_count": 414,
   "id": "0717938c",
   "metadata": {},
   "outputs": [
    {
     "data": {
      "text/plain": [
       "1753"
      ]
     },
     "execution_count": 414,
     "metadata": {},
     "output_type": "execute_result"
    }
   ],
   "source": [
    "len(subset_sales)"
   ]
  },
  {
   "cell_type": "code",
   "execution_count": 416,
   "id": "209f8159",
   "metadata": {},
   "outputs": [
    {
     "data": {
      "text/plain": [
       "9694"
      ]
     },
     "execution_count": 416,
     "metadata": {},
     "output_type": "execute_result"
    }
   ],
   "source": [
    "len(store)"
   ]
  },
  {
   "cell_type": "code",
   "execution_count": null,
   "id": "c808e642",
   "metadata": {},
   "outputs": [],
   "source": [
    "df[  conditon - one / multiple ]"
   ]
  },
  {
   "cell_type": "code",
   "execution_count": null,
   "id": "093dfb41",
   "metadata": {},
   "outputs": [],
   "source": [
    "\n",
    "subset    , main \n",
    "\n",
    "when we are taking the some amount of records or sample from the original - subset\n",
    "\n"
   ]
  },
  {
   "cell_type": "code",
   "execution_count": 417,
   "id": "fae3196d",
   "metadata": {},
   "outputs": [
    {
     "data": {
      "text/plain": [
       "9694"
      ]
     },
     "execution_count": 417,
     "metadata": {},
     "output_type": "execute_result"
    }
   ],
   "source": [
    "len(store) total no of records"
   ]
  },
  {
   "cell_type": "code",
   "execution_count": 418,
   "id": "84111bb6",
   "metadata": {},
   "outputs": [],
   "source": [
    "sub = store[0:200]"
   ]
  },
  {
   "cell_type": "code",
   "execution_count": 419,
   "id": "e28f34b8",
   "metadata": {},
   "outputs": [
    {
     "data": {
      "text/plain": [
       "200"
      ]
     },
     "execution_count": 419,
     "metadata": {},
     "output_type": "execute_result"
    }
   ],
   "source": [
    "len(sub)"
   ]
  },
  {
   "cell_type": "code",
   "execution_count": 420,
   "id": "7e10fc0a",
   "metadata": {},
   "outputs": [
    {
     "data": {
      "text/plain": [
       "Index(['Row ID', 'Order ID', 'Order Date', 'Ship Date', 'Ship Mode',\n",
       "       'Customer ID', 'Customer Name', 'Segment', 'Country', 'City', 'State',\n",
       "       'Postal Code', 'Region', 'Product ID', 'Category', 'Sub-Category',\n",
       "       'Product Name', 'Sales', 'Quantity', 'Discount', 'Profit', 'rk'],\n",
       "      dtype='object')"
      ]
     },
     "execution_count": 420,
     "metadata": {},
     "output_type": "execute_result"
    }
   ],
   "source": [
    "store.columns"
   ]
  },
  {
   "cell_type": "code",
   "execution_count": 421,
   "id": "5dfe67b1",
   "metadata": {},
   "outputs": [],
   "source": [
    "sub = store[['Sales', 'Quantity', 'Discount', 'Profit', 'rk']][:100]"
   ]
  },
  {
   "cell_type": "code",
   "execution_count": 422,
   "id": "722aaed2",
   "metadata": {},
   "outputs": [
    {
     "data": {
      "text/plain": [
       "100"
      ]
     },
     "execution_count": 422,
     "metadata": {},
     "output_type": "execute_result"
    }
   ],
   "source": [
    "len(sub)"
   ]
  },
  {
   "cell_type": "code",
   "execution_count": 425,
   "id": "174e011c",
   "metadata": {},
   "outputs": [
    {
     "name": "stdout",
     "output_type": "stream",
     "text": [
      "       Sales  Quantity  Discount    Profit  rk\n",
      "0     25.500         3       0.0    6.6300   1\n",
      "1      1.392         2       0.8   -3.7584   1\n",
      "2      2.286         2       0.7   -1.6764   1\n",
      "3      4.368         2       0.7   -3.0576   2\n",
      "4      5.742         3       0.7   -4.5936   3\n",
      "..       ...       ...       ...       ...  ..\n",
      "95   892.136         7       0.2  111.5170  23\n",
      "96   998.820         9       0.0   29.9646  24\n",
      "97  1293.488         7       0.2   80.8430  25\n",
      "98  1295.780         2       0.0  310.9872  26\n",
      "99    11.210         1       0.0    3.3630   1\n",
      "\n",
      "[100 rows x 5 columns]\n"
     ]
    }
   ],
   "source": [
    "print(sub)"
   ]
  },
  {
   "cell_type": "code",
   "execution_count": null,
   "id": "7e10a7cf",
   "metadata": {},
   "outputs": [],
   "source": [
    "# apply some conditon \n",
    "\n",
    "df [ df[columname]  > > == != conditon ]"
   ]
  },
  {
   "cell_type": "code",
   "execution_count": 428,
   "id": "79e271f7",
   "metadata": {},
   "outputs": [
    {
     "data": {
      "text/html": [
       "<div>\n",
       "<style scoped>\n",
       "    .dataframe tbody tr th:only-of-type {\n",
       "        vertical-align: middle;\n",
       "    }\n",
       "\n",
       "    .dataframe tbody tr th {\n",
       "        vertical-align: top;\n",
       "    }\n",
       "\n",
       "    .dataframe thead th {\n",
       "        text-align: right;\n",
       "    }\n",
       "</style>\n",
       "<table border=\"1\" class=\"dataframe\">\n",
       "  <thead>\n",
       "    <tr style=\"text-align: right;\">\n",
       "      <th></th>\n",
       "      <th>Row ID</th>\n",
       "      <th>Order ID</th>\n",
       "      <th>Order Date</th>\n",
       "      <th>Ship Date</th>\n",
       "      <th>Ship Mode</th>\n",
       "      <th>Customer ID</th>\n",
       "      <th>Customer Name</th>\n",
       "      <th>Segment</th>\n",
       "      <th>Country</th>\n",
       "      <th>City</th>\n",
       "      <th>...</th>\n",
       "      <th>Region</th>\n",
       "      <th>Product ID</th>\n",
       "      <th>Category</th>\n",
       "      <th>Sub-Category</th>\n",
       "      <th>Product Name</th>\n",
       "      <th>Sales</th>\n",
       "      <th>Quantity</th>\n",
       "      <th>Discount</th>\n",
       "      <th>Profit</th>\n",
       "      <th>rk</th>\n",
       "    </tr>\n",
       "  </thead>\n",
       "  <tbody>\n",
       "    <tr>\n",
       "      <th>1</th>\n",
       "      <td>6990</td>\n",
       "      <td>CA-2017-165099</td>\n",
       "      <td>12/11/2017</td>\n",
       "      <td>43082</td>\n",
       "      <td>First Class</td>\n",
       "      <td>DK-13375</td>\n",
       "      <td>Dennis Kane</td>\n",
       "      <td>Consumer</td>\n",
       "      <td>United States</td>\n",
       "      <td>Abilene</td>\n",
       "      <td>...</td>\n",
       "      <td>Central</td>\n",
       "      <td>OFF-AP-10001634</td>\n",
       "      <td>Office Supplies</td>\n",
       "      <td>Appliances</td>\n",
       "      <td>Hoover Commercial Lightweight Upright Vacuum</td>\n",
       "      <td>1.392</td>\n",
       "      <td>2</td>\n",
       "      <td>0.8</td>\n",
       "      <td>-3.7584</td>\n",
       "      <td>1</td>\n",
       "    </tr>\n",
       "    <tr>\n",
       "      <th>2</th>\n",
       "      <td>4324</td>\n",
       "      <td>US-2015-147662</td>\n",
       "      <td>2/14/2015</td>\n",
       "      <td>42054</td>\n",
       "      <td>Standard Class</td>\n",
       "      <td>KB-16315</td>\n",
       "      <td>Karl Braun</td>\n",
       "      <td>Consumer</td>\n",
       "      <td>United States</td>\n",
       "      <td>Akron</td>\n",
       "      <td>...</td>\n",
       "      <td>East</td>\n",
       "      <td>OFF-BI-10002160</td>\n",
       "      <td>Office Supplies</td>\n",
       "      <td>Binders</td>\n",
       "      <td>Acco Hanging Data Binders</td>\n",
       "      <td>2.286</td>\n",
       "      <td>2</td>\n",
       "      <td>0.7</td>\n",
       "      <td>-1.6764</td>\n",
       "      <td>1</td>\n",
       "    </tr>\n",
       "  </tbody>\n",
       "</table>\n",
       "<p>2 rows × 22 columns</p>\n",
       "</div>"
      ],
      "text/plain": [
       "   Row ID        Order ID  Order Date  Ship Date       Ship Mode Customer ID  \\\n",
       "1    6990  CA-2017-165099  12/11/2017      43082     First Class    DK-13375   \n",
       "2    4324  US-2015-147662   2/14/2015      42054  Standard Class    KB-16315   \n",
       "\n",
       "  Customer Name   Segment        Country     City  ...   Region  \\\n",
       "1   Dennis Kane  Consumer  United States  Abilene  ...  Central   \n",
       "2    Karl Braun  Consumer  United States    Akron  ...     East   \n",
       "\n",
       "        Product ID         Category Sub-Category  \\\n",
       "1  OFF-AP-10001634  Office Supplies   Appliances   \n",
       "2  OFF-BI-10002160  Office Supplies      Binders   \n",
       "\n",
       "                                   Product Name  Sales Quantity  Discount  \\\n",
       "1  Hoover Commercial Lightweight Upright Vacuum  1.392        2       0.8   \n",
       "2                     Acco Hanging Data Binders  2.286        2       0.7   \n",
       "\n",
       "   Profit  rk  \n",
       "1 -3.7584   1  \n",
       "2 -1.6764   1  \n",
       "\n",
       "[2 rows x 22 columns]"
      ]
     },
     "execution_count": 428,
     "metadata": {},
     "output_type": "execute_result"
    }
   ],
   "source": [
    "store[1:3]"
   ]
  },
  {
   "cell_type": "code",
   "execution_count": 429,
   "id": "460da4d0",
   "metadata": {},
   "outputs": [],
   "source": [
    "store[\"item sold\"]  =  store['Sales'] * store['Quantity']"
   ]
  },
  {
   "cell_type": "code",
   "execution_count": 430,
   "id": "06ee8d17",
   "metadata": {},
   "outputs": [
    {
     "data": {
      "text/plain": [
       "Index(['Row ID', 'Order ID', 'Order Date', 'Ship Date', 'Ship Mode',\n",
       "       'Customer ID', 'Customer Name', 'Segment', 'Country', 'City', 'State',\n",
       "       'Postal Code', 'Region', 'Product ID', 'Category', 'Sub-Category',\n",
       "       'Product Name', 'Sales', 'Quantity', 'Discount', 'Profit', 'rk',\n",
       "       'item sold'],\n",
       "      dtype='object')"
      ]
     },
     "execution_count": 430,
     "metadata": {},
     "output_type": "execute_result"
    }
   ],
   "source": [
    "store.columns"
   ]
  },
  {
   "cell_type": "code",
   "execution_count": 432,
   "id": "9b0ed8ee",
   "metadata": {
    "collapsed": true
   },
   "outputs": [
    {
     "data": {
      "text/html": [
       "<div>\n",
       "<style scoped>\n",
       "    .dataframe tbody tr th:only-of-type {\n",
       "        vertical-align: middle;\n",
       "    }\n",
       "\n",
       "    .dataframe tbody tr th {\n",
       "        vertical-align: top;\n",
       "    }\n",
       "\n",
       "    .dataframe thead th {\n",
       "        text-align: right;\n",
       "    }\n",
       "</style>\n",
       "<table border=\"1\" class=\"dataframe\">\n",
       "  <thead>\n",
       "    <tr style=\"text-align: right;\">\n",
       "      <th></th>\n",
       "      <th>Sales</th>\n",
       "      <th>Quantity</th>\n",
       "      <th>item sold</th>\n",
       "      <th>Discount</th>\n",
       "      <th>Profit</th>\n",
       "      <th>rk</th>\n",
       "    </tr>\n",
       "  </thead>\n",
       "  <tbody>\n",
       "    <tr>\n",
       "      <th>0</th>\n",
       "      <td>25.500</td>\n",
       "      <td>3</td>\n",
       "      <td>76.500</td>\n",
       "      <td>0.0</td>\n",
       "      <td>6.6300</td>\n",
       "      <td>1</td>\n",
       "    </tr>\n",
       "    <tr>\n",
       "      <th>1</th>\n",
       "      <td>1.392</td>\n",
       "      <td>2</td>\n",
       "      <td>2.784</td>\n",
       "      <td>0.8</td>\n",
       "      <td>-3.7584</td>\n",
       "      <td>1</td>\n",
       "    </tr>\n",
       "    <tr>\n",
       "      <th>2</th>\n",
       "      <td>2.286</td>\n",
       "      <td>2</td>\n",
       "      <td>4.572</td>\n",
       "      <td>0.7</td>\n",
       "      <td>-1.6764</td>\n",
       "      <td>1</td>\n",
       "    </tr>\n",
       "    <tr>\n",
       "      <th>3</th>\n",
       "      <td>4.368</td>\n",
       "      <td>2</td>\n",
       "      <td>8.736</td>\n",
       "      <td>0.7</td>\n",
       "      <td>-3.0576</td>\n",
       "      <td>2</td>\n",
       "    </tr>\n",
       "    <tr>\n",
       "      <th>4</th>\n",
       "      <td>5.742</td>\n",
       "      <td>3</td>\n",
       "      <td>17.226</td>\n",
       "      <td>0.7</td>\n",
       "      <td>-4.5936</td>\n",
       "      <td>3</td>\n",
       "    </tr>\n",
       "    <tr>\n",
       "      <th>...</th>\n",
       "      <td>...</td>\n",
       "      <td>...</td>\n",
       "      <td>...</td>\n",
       "      <td>...</td>\n",
       "      <td>...</td>\n",
       "      <td>...</td>\n",
       "    </tr>\n",
       "    <tr>\n",
       "      <th>9689</th>\n",
       "      <td>50.800</td>\n",
       "      <td>5</td>\n",
       "      <td>254.000</td>\n",
       "      <td>0.0</td>\n",
       "      <td>13.2080</td>\n",
       "      <td>1</td>\n",
       "    </tr>\n",
       "    <tr>\n",
       "      <th>9690</th>\n",
       "      <td>10.496</td>\n",
       "      <td>4</td>\n",
       "      <td>41.984</td>\n",
       "      <td>0.2</td>\n",
       "      <td>1.1808</td>\n",
       "      <td>1</td>\n",
       "    </tr>\n",
       "    <tr>\n",
       "      <th>9691</th>\n",
       "      <td>44.856</td>\n",
       "      <td>6</td>\n",
       "      <td>269.136</td>\n",
       "      <td>0.7</td>\n",
       "      <td>-35.8848</td>\n",
       "      <td>2</td>\n",
       "    </tr>\n",
       "    <tr>\n",
       "      <th>9692</th>\n",
       "      <td>185.528</td>\n",
       "      <td>7</td>\n",
       "      <td>1298.696</td>\n",
       "      <td>0.2</td>\n",
       "      <td>48.7011</td>\n",
       "      <td>3</td>\n",
       "    </tr>\n",
       "    <tr>\n",
       "      <th>9693</th>\n",
       "      <td>599.985</td>\n",
       "      <td>5</td>\n",
       "      <td>2999.925</td>\n",
       "      <td>0.7</td>\n",
       "      <td>-479.9880</td>\n",
       "      <td>4</td>\n",
       "    </tr>\n",
       "  </tbody>\n",
       "</table>\n",
       "<p>9694 rows × 6 columns</p>\n",
       "</div>"
      ],
      "text/plain": [
       "        Sales  Quantity  item sold  Discount    Profit  rk\n",
       "0      25.500         3     76.500       0.0    6.6300   1\n",
       "1       1.392         2      2.784       0.8   -3.7584   1\n",
       "2       2.286         2      4.572       0.7   -1.6764   1\n",
       "3       4.368         2      8.736       0.7   -3.0576   2\n",
       "4       5.742         3     17.226       0.7   -4.5936   3\n",
       "...       ...       ...        ...       ...       ...  ..\n",
       "9689   50.800         5    254.000       0.0   13.2080   1\n",
       "9690   10.496         4     41.984       0.2    1.1808   1\n",
       "9691   44.856         6    269.136       0.7  -35.8848   2\n",
       "9692  185.528         7   1298.696       0.2   48.7011   3\n",
       "9693  599.985         5   2999.925       0.7 -479.9880   4\n",
       "\n",
       "[9694 rows x 6 columns]"
      ]
     },
     "execution_count": 432,
     "metadata": {},
     "output_type": "execute_result"
    }
   ],
   "source": [
    "store[['Sales', 'Quantity','item sold', 'Discount', 'Profit', 'rk',\n",
    "       ]]"
   ]
  },
  {
   "cell_type": "code",
   "execution_count": 435,
   "id": "8b553504",
   "metadata": {},
   "outputs": [
    {
     "data": {
      "text/plain": [
       "Index(['Sales', 'Quantity', 'Discount', 'Profit', 'rk'], dtype='object')"
      ]
     },
     "execution_count": 435,
     "metadata": {},
     "output_type": "execute_result"
    }
   ],
   "source": [
    "sub.columns"
   ]
  },
  {
   "cell_type": "code",
   "execution_count": 434,
   "id": "f1f5ba4e",
   "metadata": {},
   "outputs": [
    {
     "data": {
      "text/html": [
       "<div>\n",
       "<style scoped>\n",
       "    .dataframe tbody tr th:only-of-type {\n",
       "        vertical-align: middle;\n",
       "    }\n",
       "\n",
       "    .dataframe tbody tr th {\n",
       "        vertical-align: top;\n",
       "    }\n",
       "\n",
       "    .dataframe thead th {\n",
       "        text-align: right;\n",
       "    }\n",
       "</style>\n",
       "<table border=\"1\" class=\"dataframe\">\n",
       "  <thead>\n",
       "    <tr style=\"text-align: right;\">\n",
       "      <th></th>\n",
       "      <th>Sales</th>\n",
       "      <th>Quantity</th>\n",
       "      <th>Discount</th>\n",
       "      <th>Profit</th>\n",
       "      <th>rk</th>\n",
       "    </tr>\n",
       "  </thead>\n",
       "  <tbody>\n",
       "    <tr>\n",
       "      <th>0</th>\n",
       "      <td>25.500</td>\n",
       "      <td>3</td>\n",
       "      <td>0.0</td>\n",
       "      <td>6.6300</td>\n",
       "      <td>1</td>\n",
       "    </tr>\n",
       "    <tr>\n",
       "      <th>1</th>\n",
       "      <td>1.392</td>\n",
       "      <td>2</td>\n",
       "      <td>0.8</td>\n",
       "      <td>-3.7584</td>\n",
       "      <td>1</td>\n",
       "    </tr>\n",
       "  </tbody>\n",
       "</table>\n",
       "</div>"
      ],
      "text/plain": [
       "    Sales  Quantity  Discount  Profit  rk\n",
       "0  25.500         3       0.0  6.6300   1\n",
       "1   1.392         2       0.8 -3.7584   1"
      ]
     },
     "execution_count": 434,
     "metadata": {},
     "output_type": "execute_result"
    }
   ],
   "source": [
    "sub[:2]"
   ]
  },
  {
   "cell_type": "code",
   "execution_count": 436,
   "id": "100448f9",
   "metadata": {},
   "outputs": [],
   "source": [
    "sub1 = sub[['rk','Profit','Discount','Quantity','Sales']]"
   ]
  },
  {
   "cell_type": "code",
   "execution_count": 437,
   "id": "18794e4f",
   "metadata": {},
   "outputs": [
    {
     "data": {
      "text/html": [
       "<div>\n",
       "<style scoped>\n",
       "    .dataframe tbody tr th:only-of-type {\n",
       "        vertical-align: middle;\n",
       "    }\n",
       "\n",
       "    .dataframe tbody tr th {\n",
       "        vertical-align: top;\n",
       "    }\n",
       "\n",
       "    .dataframe thead th {\n",
       "        text-align: right;\n",
       "    }\n",
       "</style>\n",
       "<table border=\"1\" class=\"dataframe\">\n",
       "  <thead>\n",
       "    <tr style=\"text-align: right;\">\n",
       "      <th></th>\n",
       "      <th>rk</th>\n",
       "      <th>Profit</th>\n",
       "      <th>Discount</th>\n",
       "      <th>Quantity</th>\n",
       "      <th>Sales</th>\n",
       "    </tr>\n",
       "  </thead>\n",
       "  <tbody>\n",
       "    <tr>\n",
       "      <th>0</th>\n",
       "      <td>1</td>\n",
       "      <td>6.6300</td>\n",
       "      <td>0.0</td>\n",
       "      <td>3</td>\n",
       "      <td>25.500</td>\n",
       "    </tr>\n",
       "    <tr>\n",
       "      <th>1</th>\n",
       "      <td>1</td>\n",
       "      <td>-3.7584</td>\n",
       "      <td>0.8</td>\n",
       "      <td>2</td>\n",
       "      <td>1.392</td>\n",
       "    </tr>\n",
       "  </tbody>\n",
       "</table>\n",
       "</div>"
      ],
      "text/plain": [
       "   rk  Profit  Discount  Quantity   Sales\n",
       "0   1  6.6300       0.0         3  25.500\n",
       "1   1 -3.7584       0.8         2   1.392"
      ]
     },
     "execution_count": 437,
     "metadata": {},
     "output_type": "execute_result"
    }
   ],
   "source": [
    "sub1[:2]"
   ]
  },
  {
   "cell_type": "code",
   "execution_count": 440,
   "id": "f0d4117c",
   "metadata": {},
   "outputs": [
    {
     "data": {
      "text/html": [
       "<div>\n",
       "<style scoped>\n",
       "    .dataframe tbody tr th:only-of-type {\n",
       "        vertical-align: middle;\n",
       "    }\n",
       "\n",
       "    .dataframe tbody tr th {\n",
       "        vertical-align: top;\n",
       "    }\n",
       "\n",
       "    .dataframe thead th {\n",
       "        text-align: right;\n",
       "    }\n",
       "</style>\n",
       "<table border=\"1\" class=\"dataframe\">\n",
       "  <thead>\n",
       "    <tr style=\"text-align: right;\">\n",
       "      <th></th>\n",
       "      <th>Discount</th>\n",
       "      <th>Quantity</th>\n",
       "      <th>Sales</th>\n",
       "    </tr>\n",
       "  </thead>\n",
       "  <tbody>\n",
       "    <tr>\n",
       "      <th>0</th>\n",
       "      <td>0.0</td>\n",
       "      <td>3</td>\n",
       "      <td>25.500</td>\n",
       "    </tr>\n",
       "    <tr>\n",
       "      <th>1</th>\n",
       "      <td>0.8</td>\n",
       "      <td>2</td>\n",
       "      <td>1.392</td>\n",
       "    </tr>\n",
       "    <tr>\n",
       "      <th>2</th>\n",
       "      <td>0.7</td>\n",
       "      <td>2</td>\n",
       "      <td>2.286</td>\n",
       "    </tr>\n",
       "    <tr>\n",
       "      <th>3</th>\n",
       "      <td>0.7</td>\n",
       "      <td>2</td>\n",
       "      <td>4.368</td>\n",
       "    </tr>\n",
       "    <tr>\n",
       "      <th>4</th>\n",
       "      <td>0.7</td>\n",
       "      <td>3</td>\n",
       "      <td>5.742</td>\n",
       "    </tr>\n",
       "    <tr>\n",
       "      <th>...</th>\n",
       "      <td>...</td>\n",
       "      <td>...</td>\n",
       "      <td>...</td>\n",
       "    </tr>\n",
       "    <tr>\n",
       "      <th>95</th>\n",
       "      <td>0.2</td>\n",
       "      <td>7</td>\n",
       "      <td>892.136</td>\n",
       "    </tr>\n",
       "    <tr>\n",
       "      <th>96</th>\n",
       "      <td>0.0</td>\n",
       "      <td>9</td>\n",
       "      <td>998.820</td>\n",
       "    </tr>\n",
       "    <tr>\n",
       "      <th>97</th>\n",
       "      <td>0.2</td>\n",
       "      <td>7</td>\n",
       "      <td>1293.488</td>\n",
       "    </tr>\n",
       "    <tr>\n",
       "      <th>98</th>\n",
       "      <td>0.0</td>\n",
       "      <td>2</td>\n",
       "      <td>1295.780</td>\n",
       "    </tr>\n",
       "    <tr>\n",
       "      <th>99</th>\n",
       "      <td>0.0</td>\n",
       "      <td>1</td>\n",
       "      <td>11.210</td>\n",
       "    </tr>\n",
       "  </tbody>\n",
       "</table>\n",
       "<p>100 rows × 3 columns</p>\n",
       "</div>"
      ],
      "text/plain": [
       "    Discount  Quantity     Sales\n",
       "0        0.0         3    25.500\n",
       "1        0.8         2     1.392\n",
       "2        0.7         2     2.286\n",
       "3        0.7         2     4.368\n",
       "4        0.7         3     5.742\n",
       "..       ...       ...       ...\n",
       "95       0.2         7   892.136\n",
       "96       0.0         9   998.820\n",
       "97       0.2         7  1293.488\n",
       "98       0.0         2  1295.780\n",
       "99       0.0         1    11.210\n",
       "\n",
       "[100 rows x 3 columns]"
      ]
     },
     "execution_count": 440,
     "metadata": {},
     "output_type": "execute_result"
    }
   ],
   "source": [
    "sub1.drop(['rk','Profit'],axis=1)"
   ]
  },
  {
   "cell_type": "code",
   "execution_count": null,
   "id": "8f6ec185",
   "metadata": {},
   "outputs": [],
   "source": [
    "df.head()\n",
    "df.tail()\n",
    "df.at - access single value / column\n",
    "df.iat - access single value / colu\n",
    "df.pop() - return item drop from df\n",
    "df.get()\n",
    "df.lookup  - DataFrame.lookup(row_labels, col_labels)\n",
    "\n"
   ]
  },
  {
   "cell_type": "code",
   "execution_count": null,
   "id": "3ad2a742",
   "metadata": {},
   "outputs": [],
   "source": [
    "df.at[postion,label]"
   ]
  },
  {
   "cell_type": "code",
   "execution_count": 442,
   "id": "fbe82919",
   "metadata": {},
   "outputs": [],
   "source": [
    "postion = 2\n",
    "label = \"Sales\""
   ]
  },
  {
   "cell_type": "code",
   "execution_count": 451,
   "id": "90a41ede",
   "metadata": {
    "collapsed": true
   },
   "outputs": [
    {
     "name": "stderr",
     "output_type": "stream",
     "text": [
      "C:\\Users\\Admin\\AppData\\Local\\Temp\\ipykernel_13800\\948919733.py:1: FutureWarning: The 'lookup' method is deprecated and will be removed in a future version. You can use DataFrame.melt and DataFrame.loc as a substitute.\n",
      "  store.lookup(1,\"Sales\")\n"
     ]
    },
    {
     "ename": "TypeError",
     "evalue": "object of type 'int' has no len()",
     "output_type": "error",
     "traceback": [
      "\u001b[1;31m---------------------------------------------------------------------------\u001b[0m",
      "\u001b[1;31mTypeError\u001b[0m                                 Traceback (most recent call last)",
      "Input \u001b[1;32mIn [451]\u001b[0m, in \u001b[0;36m<cell line: 1>\u001b[1;34m()\u001b[0m\n\u001b[1;32m----> 1\u001b[0m \u001b[43mstore\u001b[49m\u001b[38;5;241;43m.\u001b[39;49m\u001b[43mlookup\u001b[49m\u001b[43m(\u001b[49m\u001b[38;5;241;43m1\u001b[39;49m\u001b[43m,\u001b[49m\u001b[38;5;124;43m\"\u001b[39;49m\u001b[38;5;124;43mSales\u001b[39;49m\u001b[38;5;124;43m\"\u001b[39;49m\u001b[43m)\u001b[49m\n",
      "File \u001b[1;32m~\\anaconda3\\lib\\site-packages\\pandas\\core\\frame.py:4581\u001b[0m, in \u001b[0;36mDataFrame.lookup\u001b[1;34m(self, row_labels, col_labels)\u001b[0m\n\u001b[0;32m   4573\u001b[0m msg \u001b[38;5;241m=\u001b[39m (\n\u001b[0;32m   4574\u001b[0m     \u001b[38;5;124m\"\u001b[39m\u001b[38;5;124mThe \u001b[39m\u001b[38;5;124m'\u001b[39m\u001b[38;5;124mlookup\u001b[39m\u001b[38;5;124m'\u001b[39m\u001b[38;5;124m method is deprecated and will be \u001b[39m\u001b[38;5;124m\"\u001b[39m\n\u001b[0;32m   4575\u001b[0m     \u001b[38;5;124m\"\u001b[39m\u001b[38;5;124mremoved in a future version. \u001b[39m\u001b[38;5;124m\"\u001b[39m\n\u001b[0;32m   4576\u001b[0m     \u001b[38;5;124m\"\u001b[39m\u001b[38;5;124mYou can use DataFrame.melt and DataFrame.loc \u001b[39m\u001b[38;5;124m\"\u001b[39m\n\u001b[0;32m   4577\u001b[0m     \u001b[38;5;124m\"\u001b[39m\u001b[38;5;124mas a substitute.\u001b[39m\u001b[38;5;124m\"\u001b[39m\n\u001b[0;32m   4578\u001b[0m )\n\u001b[0;32m   4579\u001b[0m warnings\u001b[38;5;241m.\u001b[39mwarn(msg, \u001b[38;5;167;01mFutureWarning\u001b[39;00m, stacklevel\u001b[38;5;241m=\u001b[39mfind_stack_level())\n\u001b[1;32m-> 4581\u001b[0m n \u001b[38;5;241m=\u001b[39m \u001b[38;5;28;43mlen\u001b[39;49m\u001b[43m(\u001b[49m\u001b[43mrow_labels\u001b[49m\u001b[43m)\u001b[49m\n\u001b[0;32m   4582\u001b[0m \u001b[38;5;28;01mif\u001b[39;00m n \u001b[38;5;241m!=\u001b[39m \u001b[38;5;28mlen\u001b[39m(col_labels):\n\u001b[0;32m   4583\u001b[0m     \u001b[38;5;28;01mraise\u001b[39;00m \u001b[38;5;167;01mValueError\u001b[39;00m(\u001b[38;5;124m\"\u001b[39m\u001b[38;5;124mRow labels must have same size as column labels\u001b[39m\u001b[38;5;124m\"\u001b[39m)\n",
      "\u001b[1;31mTypeError\u001b[0m: object of type 'int' has no len()"
     ]
    }
   ],
   "source": [
    "store.lookup(1,\"Sales\")"
   ]
  },
  {
   "cell_type": "code",
   "execution_count": 524,
   "id": "0398d788",
   "metadata": {},
   "outputs": [
    {
     "data": {
      "text/html": [
       "<div>\n",
       "<style scoped>\n",
       "    .dataframe tbody tr th:only-of-type {\n",
       "        vertical-align: middle;\n",
       "    }\n",
       "\n",
       "    .dataframe tbody tr th {\n",
       "        vertical-align: top;\n",
       "    }\n",
       "\n",
       "    .dataframe thead th {\n",
       "        text-align: right;\n",
       "    }\n",
       "</style>\n",
       "<table border=\"1\" class=\"dataframe\">\n",
       "  <thead>\n",
       "    <tr style=\"text-align: right;\">\n",
       "      <th></th>\n",
       "      <th>Date</th>\n",
       "      <th>best</th>\n",
       "      <th>a</th>\n",
       "      <th>b</th>\n",
       "      <th>c</th>\n",
       "      <th>d</th>\n",
       "    </tr>\n",
       "  </thead>\n",
       "  <tbody>\n",
       "    <tr>\n",
       "      <th>0</th>\n",
       "      <td>1990</td>\n",
       "      <td>a</td>\n",
       "      <td>5</td>\n",
       "      <td>4</td>\n",
       "      <td>7</td>\n",
       "      <td>2</td>\n",
       "    </tr>\n",
       "    <tr>\n",
       "      <th>1</th>\n",
       "      <td>1991</td>\n",
       "      <td>c</td>\n",
       "      <td>10</td>\n",
       "      <td>1</td>\n",
       "      <td>2</td>\n",
       "      <td>0</td>\n",
       "    </tr>\n",
       "    <tr>\n",
       "      <th>2</th>\n",
       "      <td>1992</td>\n",
       "      <td>d</td>\n",
       "      <td>2</td>\n",
       "      <td>1</td>\n",
       "      <td>4</td>\n",
       "      <td>12</td>\n",
       "    </tr>\n",
       "    <tr>\n",
       "      <th>3</th>\n",
       "      <td>1993</td>\n",
       "      <td>a</td>\n",
       "      <td>5</td>\n",
       "      <td>8</td>\n",
       "      <td>11</td>\n",
       "      <td>6</td>\n",
       "    </tr>\n",
       "  </tbody>\n",
       "</table>\n",
       "</div>"
      ],
      "text/plain": [
       "   Date best   a  b   c   d\n",
       "0  1990    a   5  4   7   2\n",
       "1  1991    c  10  1   2   0\n",
       "2  1992    d   2  1   4  12\n",
       "3  1993    a   5  8  11   6"
      ]
     },
     "execution_count": 524,
     "metadata": {},
     "output_type": "execute_result"
    }
   ],
   "source": [
    "df = pd.DataFrame([['1990', 'a', 5, 4, 7, 2], ['1991', 'c', 10, 1, 2, 0], ['1992', 'd', 2, 1, 4, 12], ['1993', 'a', 5, 8, 11, 6]], columns=('Date', 'best', 'a', 'b', 'c', 'd'))\n",
    "df"
   ]
  },
  {
   "cell_type": "code",
   "execution_count": 453,
   "id": "d33ab9f4",
   "metadata": {},
   "outputs": [
    {
     "name": "stderr",
     "output_type": "stream",
     "text": [
      "C:\\Users\\Admin\\AppData\\Local\\Temp\\ipykernel_13800\\3577854380.py:1: FutureWarning: The 'lookup' method is deprecated and will be removed in a future version. You can use DataFrame.melt and DataFrame.loc as a substitute.\n",
      "  df['value'] = df.lookup(df.index, df['best'])\n"
     ]
    },
    {
     "data": {
      "text/html": [
       "<div>\n",
       "<style scoped>\n",
       "    .dataframe tbody tr th:only-of-type {\n",
       "        vertical-align: middle;\n",
       "    }\n",
       "\n",
       "    .dataframe tbody tr th {\n",
       "        vertical-align: top;\n",
       "    }\n",
       "\n",
       "    .dataframe thead th {\n",
       "        text-align: right;\n",
       "    }\n",
       "</style>\n",
       "<table border=\"1\" class=\"dataframe\">\n",
       "  <thead>\n",
       "    <tr style=\"text-align: right;\">\n",
       "      <th></th>\n",
       "      <th>Date</th>\n",
       "      <th>best</th>\n",
       "      <th>a</th>\n",
       "      <th>b</th>\n",
       "      <th>c</th>\n",
       "      <th>d</th>\n",
       "      <th>value</th>\n",
       "    </tr>\n",
       "  </thead>\n",
       "  <tbody>\n",
       "    <tr>\n",
       "      <th>0</th>\n",
       "      <td>1990</td>\n",
       "      <td>a</td>\n",
       "      <td>5</td>\n",
       "      <td>4</td>\n",
       "      <td>7</td>\n",
       "      <td>2</td>\n",
       "      <td>5</td>\n",
       "    </tr>\n",
       "    <tr>\n",
       "      <th>1</th>\n",
       "      <td>1991</td>\n",
       "      <td>c</td>\n",
       "      <td>10</td>\n",
       "      <td>1</td>\n",
       "      <td>2</td>\n",
       "      <td>0</td>\n",
       "      <td>2</td>\n",
       "    </tr>\n",
       "    <tr>\n",
       "      <th>2</th>\n",
       "      <td>1992</td>\n",
       "      <td>d</td>\n",
       "      <td>2</td>\n",
       "      <td>1</td>\n",
       "      <td>4</td>\n",
       "      <td>12</td>\n",
       "      <td>12</td>\n",
       "    </tr>\n",
       "    <tr>\n",
       "      <th>3</th>\n",
       "      <td>1993</td>\n",
       "      <td>a</td>\n",
       "      <td>5</td>\n",
       "      <td>8</td>\n",
       "      <td>11</td>\n",
       "      <td>6</td>\n",
       "      <td>5</td>\n",
       "    </tr>\n",
       "  </tbody>\n",
       "</table>\n",
       "</div>"
      ],
      "text/plain": [
       "   Date best   a  b   c   d  value\n",
       "0  1990    a   5  4   7   2      5\n",
       "1  1991    c  10  1   2   0      2\n",
       "2  1992    d   2  1   4  12     12\n",
       "3  1993    a   5  8  11   6      5"
      ]
     },
     "execution_count": 453,
     "metadata": {},
     "output_type": "execute_result"
    }
   ],
   "source": [
    "df['value'] = df.lookup(df.index, df['best'])   \n",
    "df"
   ]
  },
  {
   "cell_type": "code",
   "execution_count": 454,
   "id": "fb5634bf",
   "metadata": {},
   "outputs": [],
   "source": [
    "df.to_csv(\"df.csv\")"
   ]
  },
  {
   "cell_type": "code",
   "execution_count": null,
   "id": "b396b0f4",
   "metadata": {},
   "outputs": [],
   "source": [
    "txt - bring in to python - df  - data frame \n",
    "\n",
    "\n",
    "df.to_excel , csv , sas , \n"
   ]
  },
  {
   "cell_type": "code",
   "execution_count": 455,
   "id": "2c5025dc",
   "metadata": {},
   "outputs": [],
   "source": [
    "df.to_json(\"df.json\")"
   ]
  },
  {
   "cell_type": "code",
   "execution_count": 456,
   "id": "f10b2093",
   "metadata": {},
   "outputs": [],
   "source": [
    "Revenue_json = '{\"ModelMetadataID\":{\"0\":1,\"1\":2,\"2\":3,\"3\":4,\"4\":5,\"5\":6,\"6\":7,\"7\":8,\"8\":26},\"ModelName\":{\"0\":\"EIFA.db::RevenueActual\",\"1\":\"EIFA.db::RevenueActual\",\"2\":\"EIFA.db::RevenueActual\",\"3\":\"EIFA.db::RevenueActual\",\"4\":\"EIFA.db::RevenueActual\",\"5\":\"EIFA.db::RevenueActual\",\"6\":\"EIFA.db::RevenueActual\",\"7\":\"EIFA.db::RevenueActual\",\"8\":\"EIFA.db::RevenueActual\"},\"FieldName\":{\"0\":\"Amount\",\"1\":\"CompanyCode\",\"2\":\"Year\",\"3\":\"AccountingNumber\",\"4\":\"BusinessArea\",\"5\":\"PostingPeriod\",\"6\":\"PostingDate\",\"7\":\"DocumentDate\",\"8\":\"Quarter\"},\"FieldCategory\":{\"0\":\"Measure\",\"1\":\"Dimension\",\"2\":\"Dimension\",\"3\":\"Dimension\",\"4\":\"Dimension\",\"5\":\"Dimension\",\"6\":\"Dimension\",\"7\":\"Dimension\",\"8\":\"Dimension\"},\"FieldType\":{\"0\":\"DECIMAL\",\"1\":\"NVARCHAR\",\"2\":\"NVARCHAR\",\"3\":\"NVARCHAR\",\"4\":\"NVARCHAR\",\"5\":\"NVARCHAR\",\"6\":\"NVARCHAR\",\"7\":\"NVARCHAR\",\"8\":\"VARCHAR\"},\"FieldLength\":{\"0\":23,\"1\":4,\"2\":4,\"3\":10,\"4\":4,\"5\":3,\"6\":8,\"7\":8,\"8\":2},\"FieldScale\":{\"0\":2.0,\"1\":null,\"2\":null,\"3\":null,\"4\":null,\"5\":null,\"6\":null,\"7\":null,\"8\":null},\"AggregationType\":{\"0\":\"SUM\",\"1\":null,\"2\":null,\"3\":null,\"4\":null,\"5\":null,\"6\":null,\"7\":null,\"8\":null},\"values\":{\"0\":\"0\",\"1\":\"6000\",\"2\":\"2017\",\"3\":\"303000\",\"4\":\"BUSS,SPPV,TRKS\",\"5\":null,\"6\":null,\"7\":null,\"8\":\"Q1,Q2,Q3,Q4\"}}'"
   ]
  },
  {
   "cell_type": "code",
   "execution_count": 457,
   "id": "50ece4d7",
   "metadata": {},
   "outputs": [
    {
     "data": {
      "text/plain": [
       "str"
      ]
     },
     "execution_count": 457,
     "metadata": {},
     "output_type": "execute_result"
    }
   ],
   "source": [
    "type(Revenue_json)"
   ]
  },
  {
   "cell_type": "code",
   "execution_count": 458,
   "id": "4158fe40",
   "metadata": {},
   "outputs": [],
   "source": [
    "revenue_meta = pd.read_json(Revenue_json)"
   ]
  },
  {
   "cell_type": "code",
   "execution_count": 459,
   "id": "aef28e47",
   "metadata": {},
   "outputs": [
    {
     "data": {
      "text/html": [
       "<div>\n",
       "<style scoped>\n",
       "    .dataframe tbody tr th:only-of-type {\n",
       "        vertical-align: middle;\n",
       "    }\n",
       "\n",
       "    .dataframe tbody tr th {\n",
       "        vertical-align: top;\n",
       "    }\n",
       "\n",
       "    .dataframe thead th {\n",
       "        text-align: right;\n",
       "    }\n",
       "</style>\n",
       "<table border=\"1\" class=\"dataframe\">\n",
       "  <thead>\n",
       "    <tr style=\"text-align: right;\">\n",
       "      <th></th>\n",
       "      <th>ModelMetadataID</th>\n",
       "      <th>ModelName</th>\n",
       "      <th>FieldName</th>\n",
       "      <th>FieldCategory</th>\n",
       "      <th>FieldType</th>\n",
       "      <th>FieldLength</th>\n",
       "      <th>FieldScale</th>\n",
       "      <th>AggregationType</th>\n",
       "      <th>values</th>\n",
       "    </tr>\n",
       "  </thead>\n",
       "  <tbody>\n",
       "    <tr>\n",
       "      <th>0</th>\n",
       "      <td>1</td>\n",
       "      <td>EIFA.db::RevenueActual</td>\n",
       "      <td>Amount</td>\n",
       "      <td>Measure</td>\n",
       "      <td>DECIMAL</td>\n",
       "      <td>23</td>\n",
       "      <td>2.0</td>\n",
       "      <td>SUM</td>\n",
       "      <td>0</td>\n",
       "    </tr>\n",
       "    <tr>\n",
       "      <th>1</th>\n",
       "      <td>2</td>\n",
       "      <td>EIFA.db::RevenueActual</td>\n",
       "      <td>CompanyCode</td>\n",
       "      <td>Dimension</td>\n",
       "      <td>NVARCHAR</td>\n",
       "      <td>4</td>\n",
       "      <td>NaN</td>\n",
       "      <td>None</td>\n",
       "      <td>6000</td>\n",
       "    </tr>\n",
       "    <tr>\n",
       "      <th>2</th>\n",
       "      <td>3</td>\n",
       "      <td>EIFA.db::RevenueActual</td>\n",
       "      <td>Year</td>\n",
       "      <td>Dimension</td>\n",
       "      <td>NVARCHAR</td>\n",
       "      <td>4</td>\n",
       "      <td>NaN</td>\n",
       "      <td>None</td>\n",
       "      <td>2017</td>\n",
       "    </tr>\n",
       "    <tr>\n",
       "      <th>3</th>\n",
       "      <td>4</td>\n",
       "      <td>EIFA.db::RevenueActual</td>\n",
       "      <td>AccountingNumber</td>\n",
       "      <td>Dimension</td>\n",
       "      <td>NVARCHAR</td>\n",
       "      <td>10</td>\n",
       "      <td>NaN</td>\n",
       "      <td>None</td>\n",
       "      <td>303000</td>\n",
       "    </tr>\n",
       "    <tr>\n",
       "      <th>4</th>\n",
       "      <td>5</td>\n",
       "      <td>EIFA.db::RevenueActual</td>\n",
       "      <td>BusinessArea</td>\n",
       "      <td>Dimension</td>\n",
       "      <td>NVARCHAR</td>\n",
       "      <td>4</td>\n",
       "      <td>NaN</td>\n",
       "      <td>None</td>\n",
       "      <td>BUSS,SPPV,TRKS</td>\n",
       "    </tr>\n",
       "    <tr>\n",
       "      <th>5</th>\n",
       "      <td>6</td>\n",
       "      <td>EIFA.db::RevenueActual</td>\n",
       "      <td>PostingPeriod</td>\n",
       "      <td>Dimension</td>\n",
       "      <td>NVARCHAR</td>\n",
       "      <td>3</td>\n",
       "      <td>NaN</td>\n",
       "      <td>None</td>\n",
       "      <td>None</td>\n",
       "    </tr>\n",
       "    <tr>\n",
       "      <th>6</th>\n",
       "      <td>7</td>\n",
       "      <td>EIFA.db::RevenueActual</td>\n",
       "      <td>PostingDate</td>\n",
       "      <td>Dimension</td>\n",
       "      <td>NVARCHAR</td>\n",
       "      <td>8</td>\n",
       "      <td>NaN</td>\n",
       "      <td>None</td>\n",
       "      <td>None</td>\n",
       "    </tr>\n",
       "    <tr>\n",
       "      <th>7</th>\n",
       "      <td>8</td>\n",
       "      <td>EIFA.db::RevenueActual</td>\n",
       "      <td>DocumentDate</td>\n",
       "      <td>Dimension</td>\n",
       "      <td>NVARCHAR</td>\n",
       "      <td>8</td>\n",
       "      <td>NaN</td>\n",
       "      <td>None</td>\n",
       "      <td>None</td>\n",
       "    </tr>\n",
       "    <tr>\n",
       "      <th>8</th>\n",
       "      <td>26</td>\n",
       "      <td>EIFA.db::RevenueActual</td>\n",
       "      <td>Quarter</td>\n",
       "      <td>Dimension</td>\n",
       "      <td>VARCHAR</td>\n",
       "      <td>2</td>\n",
       "      <td>NaN</td>\n",
       "      <td>None</td>\n",
       "      <td>Q1,Q2,Q3,Q4</td>\n",
       "    </tr>\n",
       "  </tbody>\n",
       "</table>\n",
       "</div>"
      ],
      "text/plain": [
       "   ModelMetadataID               ModelName         FieldName FieldCategory  \\\n",
       "0                1  EIFA.db::RevenueActual            Amount       Measure   \n",
       "1                2  EIFA.db::RevenueActual       CompanyCode     Dimension   \n",
       "2                3  EIFA.db::RevenueActual              Year     Dimension   \n",
       "3                4  EIFA.db::RevenueActual  AccountingNumber     Dimension   \n",
       "4                5  EIFA.db::RevenueActual      BusinessArea     Dimension   \n",
       "5                6  EIFA.db::RevenueActual     PostingPeriod     Dimension   \n",
       "6                7  EIFA.db::RevenueActual       PostingDate     Dimension   \n",
       "7                8  EIFA.db::RevenueActual      DocumentDate     Dimension   \n",
       "8               26  EIFA.db::RevenueActual           Quarter     Dimension   \n",
       "\n",
       "  FieldType  FieldLength  FieldScale AggregationType          values  \n",
       "0   DECIMAL           23         2.0             SUM               0  \n",
       "1  NVARCHAR            4         NaN            None            6000  \n",
       "2  NVARCHAR            4         NaN            None            2017  \n",
       "3  NVARCHAR           10         NaN            None          303000  \n",
       "4  NVARCHAR            4         NaN            None  BUSS,SPPV,TRKS  \n",
       "5  NVARCHAR            3         NaN            None            None  \n",
       "6  NVARCHAR            8         NaN            None            None  \n",
       "7  NVARCHAR            8         NaN            None            None  \n",
       "8   VARCHAR            2         NaN            None     Q1,Q2,Q3,Q4  "
      ]
     },
     "execution_count": 459,
     "metadata": {},
     "output_type": "execute_result"
    }
   ],
   "source": [
    "revenue_meta"
   ]
  },
  {
   "cell_type": "code",
   "execution_count": 461,
   "id": "a6949476",
   "metadata": {},
   "outputs": [],
   "source": [
    "revenue_meta.to_json(\"sample.json\")"
   ]
  },
  {
   "cell_type": "code",
   "execution_count": 462,
   "id": "1d3774fb",
   "metadata": {},
   "outputs": [],
   "source": [
    "# Revenue_json.key() , .values"
   ]
  },
  {
   "cell_type": "code",
   "execution_count": 463,
   "id": "971f91c7",
   "metadata": {},
   "outputs": [],
   "source": [
    "import math"
   ]
  },
  {
   "cell_type": "code",
   "execution_count": 465,
   "id": "e6a397db",
   "metadata": {},
   "outputs": [],
   "source": [
    "# math.lcm(2,6)   "
   ]
  },
  {
   "cell_type": "code",
   "execution_count": 466,
   "id": "be8cdcfc",
   "metadata": {},
   "outputs": [],
   "source": [
    "# prime number - n/1 ,n/n "
   ]
  },
  {
   "cell_type": "code",
   "execution_count": 467,
   "id": "08eb202b",
   "metadata": {
    "collapsed": true
   },
   "outputs": [
    {
     "data": {
      "text/html": [
       "<div>\n",
       "<style scoped>\n",
       "    .dataframe tbody tr th:only-of-type {\n",
       "        vertical-align: middle;\n",
       "    }\n",
       "\n",
       "    .dataframe tbody tr th {\n",
       "        vertical-align: top;\n",
       "    }\n",
       "\n",
       "    .dataframe thead th {\n",
       "        text-align: right;\n",
       "    }\n",
       "</style>\n",
       "<table border=\"1\" class=\"dataframe\">\n",
       "  <thead>\n",
       "    <tr style=\"text-align: right;\">\n",
       "      <th></th>\n",
       "      <th>Date</th>\n",
       "      <th>best</th>\n",
       "      <th>a</th>\n",
       "      <th>b</th>\n",
       "      <th>c</th>\n",
       "      <th>d</th>\n",
       "      <th>value</th>\n",
       "    </tr>\n",
       "  </thead>\n",
       "  <tbody>\n",
       "    <tr>\n",
       "      <th>0</th>\n",
       "      <td>1990</td>\n",
       "      <td>a</td>\n",
       "      <td>5</td>\n",
       "      <td>4</td>\n",
       "      <td>7</td>\n",
       "      <td>2</td>\n",
       "      <td>5</td>\n",
       "    </tr>\n",
       "    <tr>\n",
       "      <th>1</th>\n",
       "      <td>1991</td>\n",
       "      <td>c</td>\n",
       "      <td>10</td>\n",
       "      <td>1</td>\n",
       "      <td>2</td>\n",
       "      <td>0</td>\n",
       "      <td>2</td>\n",
       "    </tr>\n",
       "    <tr>\n",
       "      <th>2</th>\n",
       "      <td>1992</td>\n",
       "      <td>d</td>\n",
       "      <td>2</td>\n",
       "      <td>1</td>\n",
       "      <td>4</td>\n",
       "      <td>12</td>\n",
       "      <td>12</td>\n",
       "    </tr>\n",
       "    <tr>\n",
       "      <th>3</th>\n",
       "      <td>1993</td>\n",
       "      <td>a</td>\n",
       "      <td>5</td>\n",
       "      <td>8</td>\n",
       "      <td>11</td>\n",
       "      <td>6</td>\n",
       "      <td>5</td>\n",
       "    </tr>\n",
       "  </tbody>\n",
       "</table>\n",
       "</div>"
      ],
      "text/plain": [
       "   Date best   a  b   c   d  value\n",
       "0  1990    a   5  4   7   2      5\n",
       "1  1991    c  10  1   2   0      2\n",
       "2  1992    d   2  1   4  12     12\n",
       "3  1993    a   5  8  11   6      5"
      ]
     },
     "execution_count": 467,
     "metadata": {},
     "output_type": "execute_result"
    }
   ],
   "source": [
    "df"
   ]
  },
  {
   "cell_type": "code",
   "execution_count": 469,
   "id": "09c8ccab",
   "metadata": {},
   "outputs": [
    {
     "ename": "TypeError",
     "evalue": "insert() missing 1 required positional argument: 'value'",
     "output_type": "error",
     "traceback": [
      "\u001b[1;31m---------------------------------------------------------------------------\u001b[0m",
      "\u001b[1;31mTypeError\u001b[0m                                 Traceback (most recent call last)",
      "Input \u001b[1;32mIn [469]\u001b[0m, in \u001b[0;36m<cell line: 1>\u001b[1;34m()\u001b[0m\n\u001b[1;32m----> 1\u001b[0m \u001b[43msub\u001b[49m\u001b[38;5;241;43m.\u001b[39;49m\u001b[43minsert\u001b[49m\u001b[43m(\u001b[49m\u001b[38;5;241;43m2\u001b[39;49m\u001b[43m,\u001b[49m\u001b[38;5;124;43m\"\u001b[39;49m\u001b[38;5;124;43mcolumnnsmae\u001b[39;49m\u001b[38;5;124;43m\"\u001b[39;49m\u001b[43m)\u001b[49m\n",
      "\u001b[1;31mTypeError\u001b[0m: insert() missing 1 required positional argument: 'value'"
     ]
    }
   ],
   "source": [
    "# sub.insert(2,\"columnnname\")"
   ]
  },
  {
   "cell_type": "code",
   "execution_count": 470,
   "id": "1d33544b",
   "metadata": {},
   "outputs": [
    {
     "data": {
      "text/html": [
       "<div>\n",
       "<style scoped>\n",
       "    .dataframe tbody tr th:only-of-type {\n",
       "        vertical-align: middle;\n",
       "    }\n",
       "\n",
       "    .dataframe tbody tr th {\n",
       "        vertical-align: top;\n",
       "    }\n",
       "\n",
       "    .dataframe thead th {\n",
       "        text-align: right;\n",
       "    }\n",
       "</style>\n",
       "<table border=\"1\" class=\"dataframe\">\n",
       "  <thead>\n",
       "    <tr style=\"text-align: right;\">\n",
       "      <th></th>\n",
       "      <th>Date</th>\n",
       "      <th>best</th>\n",
       "      <th>a</th>\n",
       "      <th>b</th>\n",
       "      <th>c</th>\n",
       "      <th>d</th>\n",
       "      <th>value</th>\n",
       "    </tr>\n",
       "  </thead>\n",
       "  <tbody>\n",
       "    <tr>\n",
       "      <th>0</th>\n",
       "      <td>1990</td>\n",
       "      <td>a</td>\n",
       "      <td>5</td>\n",
       "      <td>4</td>\n",
       "      <td>7</td>\n",
       "      <td>2</td>\n",
       "      <td>5</td>\n",
       "    </tr>\n",
       "    <tr>\n",
       "      <th>1</th>\n",
       "      <td>1991</td>\n",
       "      <td>c</td>\n",
       "      <td>10</td>\n",
       "      <td>1</td>\n",
       "      <td>2</td>\n",
       "      <td>0</td>\n",
       "      <td>2</td>\n",
       "    </tr>\n",
       "    <tr>\n",
       "      <th>2</th>\n",
       "      <td>1992</td>\n",
       "      <td>d</td>\n",
       "      <td>2</td>\n",
       "      <td>1</td>\n",
       "      <td>4</td>\n",
       "      <td>12</td>\n",
       "      <td>12</td>\n",
       "    </tr>\n",
       "    <tr>\n",
       "      <th>3</th>\n",
       "      <td>1993</td>\n",
       "      <td>a</td>\n",
       "      <td>5</td>\n",
       "      <td>8</td>\n",
       "      <td>11</td>\n",
       "      <td>6</td>\n",
       "      <td>5</td>\n",
       "    </tr>\n",
       "  </tbody>\n",
       "</table>\n",
       "</div>"
      ],
      "text/plain": [
       "   Date best   a  b   c   d  value\n",
       "0  1990    a   5  4   7   2      5\n",
       "1  1991    c  10  1   2   0      2\n",
       "2  1992    d   2  1   4  12     12\n",
       "3  1993    a   5  8  11   6      5"
      ]
     },
     "execution_count": 470,
     "metadata": {},
     "output_type": "execute_result"
    }
   ],
   "source": [
    "df"
   ]
  },
  {
   "cell_type": "code",
   "execution_count": 472,
   "id": "2ae578e6",
   "metadata": {},
   "outputs": [],
   "source": [
    "df.insert(2,\"team\",\"any\")"
   ]
  },
  {
   "cell_type": "code",
   "execution_count": 480,
   "id": "a5498566",
   "metadata": {},
   "outputs": [
    {
     "data": {
      "text/html": [
       "<div>\n",
       "<style scoped>\n",
       "    .dataframe tbody tr th:only-of-type {\n",
       "        vertical-align: middle;\n",
       "    }\n",
       "\n",
       "    .dataframe tbody tr th {\n",
       "        vertical-align: top;\n",
       "    }\n",
       "\n",
       "    .dataframe thead th {\n",
       "        text-align: right;\n",
       "    }\n",
       "</style>\n",
       "<table border=\"1\" class=\"dataframe\">\n",
       "  <thead>\n",
       "    <tr style=\"text-align: right;\">\n",
       "      <th></th>\n",
       "      <th>Date</th>\n",
       "      <th>best</th>\n",
       "      <th>team</th>\n",
       "      <th>a</th>\n",
       "      <th>b</th>\n",
       "      <th>c</th>\n",
       "      <th>d</th>\n",
       "      <th>value</th>\n",
       "    </tr>\n",
       "  </thead>\n",
       "  <tbody>\n",
       "    <tr>\n",
       "      <th>0</th>\n",
       "      <td>1990</td>\n",
       "      <td>a</td>\n",
       "      <td>any</td>\n",
       "      <td>5</td>\n",
       "      <td>4</td>\n",
       "      <td>7</td>\n",
       "      <td>2</td>\n",
       "      <td>5</td>\n",
       "    </tr>\n",
       "    <tr>\n",
       "      <th>1</th>\n",
       "      <td>1991</td>\n",
       "      <td>c</td>\n",
       "      <td>any</td>\n",
       "      <td>10</td>\n",
       "      <td>1</td>\n",
       "      <td>2</td>\n",
       "      <td>0</td>\n",
       "      <td>2</td>\n",
       "    </tr>\n",
       "    <tr>\n",
       "      <th>2</th>\n",
       "      <td>1992</td>\n",
       "      <td>d</td>\n",
       "      <td>any</td>\n",
       "      <td>2</td>\n",
       "      <td>1</td>\n",
       "      <td>4</td>\n",
       "      <td>12</td>\n",
       "      <td>12</td>\n",
       "    </tr>\n",
       "    <tr>\n",
       "      <th>3</th>\n",
       "      <td>1993</td>\n",
       "      <td>a</td>\n",
       "      <td>any</td>\n",
       "      <td>5</td>\n",
       "      <td>8</td>\n",
       "      <td>11</td>\n",
       "      <td>6</td>\n",
       "      <td>5</td>\n",
       "    </tr>\n",
       "  </tbody>\n",
       "</table>\n",
       "</div>"
      ],
      "text/plain": [
       "   Date best team   a  b   c   d  value\n",
       "0  1990    a  any   5  4   7   2      5\n",
       "1  1991    c  any  10  1   2   0      2\n",
       "2  1992    d  any   2  1   4  12     12\n",
       "3  1993    a  any   5  8  11   6      5"
      ]
     },
     "execution_count": 480,
     "metadata": {},
     "output_type": "execute_result"
    }
   ],
   "source": [
    "df"
   ]
  },
  {
   "cell_type": "code",
   "execution_count": 478,
   "id": "3f6b4e53",
   "metadata": {
    "collapsed": true
   },
   "outputs": [
    {
     "name": "stdout",
     "output_type": "stream",
     "text": [
      "   Date best team  a  b  c  d  value\n",
      "0  1990    a  any  5  4  7  2      5\n",
      "   Date best team   a  b  c  d  value\n",
      "0  1990    a  any   5  4  7  2      5\n",
      "1  1991    c  any  10  1  2  0      2\n",
      "   Date best team   a  b  c   d  value\n",
      "0  1990    a  any   5  4  7   2      5\n",
      "1  1991    c  any  10  1  2   0      2\n",
      "2  1992    d  any   2  1  4  12     12\n",
      "   Date best team   a  b   c   d  value\n",
      "0  1990    a  any   5  4   7   2      5\n",
      "1  1991    c  any  10  1   2   0      2\n",
      "2  1992    d  any   2  1   4  12     12\n",
      "3  1993    a  any   5  8  11   6      5\n"
     ]
    }
   ],
   "source": [
    "for i in range(len(df)):      range(0,4 )\n",
    "    print(df.loc[:i])          row selection , row postion , "
   ]
  },
  {
   "cell_type": "code",
   "execution_count": 481,
   "id": "d957bc09",
   "metadata": {},
   "outputs": [
    {
     "name": "stdout",
     "output_type": "stream",
     "text": [
      "a\n",
      "c\n",
      "d\n",
      "a\n"
     ]
    }
   ],
   "source": [
    "for i in range(len(df)):\n",
    "    print(df['best'][i])"
   ]
  },
  {
   "cell_type": "code",
   "execution_count": 482,
   "id": "5c1ee7e9",
   "metadata": {},
   "outputs": [
    {
     "data": {
      "text/html": [
       "<div>\n",
       "<style scoped>\n",
       "    .dataframe tbody tr th:only-of-type {\n",
       "        vertical-align: middle;\n",
       "    }\n",
       "\n",
       "    .dataframe tbody tr th {\n",
       "        vertical-align: top;\n",
       "    }\n",
       "\n",
       "    .dataframe thead th {\n",
       "        text-align: right;\n",
       "    }\n",
       "</style>\n",
       "<table border=\"1\" class=\"dataframe\">\n",
       "  <thead>\n",
       "    <tr style=\"text-align: right;\">\n",
       "      <th></th>\n",
       "      <th>Date</th>\n",
       "      <th>best</th>\n",
       "      <th>team</th>\n",
       "      <th>a</th>\n",
       "      <th>b</th>\n",
       "      <th>c</th>\n",
       "      <th>d</th>\n",
       "      <th>value</th>\n",
       "    </tr>\n",
       "  </thead>\n",
       "  <tbody>\n",
       "    <tr>\n",
       "      <th>0</th>\n",
       "      <td>1990</td>\n",
       "      <td>a</td>\n",
       "      <td>any</td>\n",
       "      <td>5</td>\n",
       "      <td>4</td>\n",
       "      <td>7</td>\n",
       "      <td>2</td>\n",
       "      <td>5</td>\n",
       "    </tr>\n",
       "    <tr>\n",
       "      <th>1</th>\n",
       "      <td>1991</td>\n",
       "      <td>c</td>\n",
       "      <td>any</td>\n",
       "      <td>10</td>\n",
       "      <td>1</td>\n",
       "      <td>2</td>\n",
       "      <td>0</td>\n",
       "      <td>2</td>\n",
       "    </tr>\n",
       "    <tr>\n",
       "      <th>2</th>\n",
       "      <td>1992</td>\n",
       "      <td>d</td>\n",
       "      <td>any</td>\n",
       "      <td>2</td>\n",
       "      <td>1</td>\n",
       "      <td>4</td>\n",
       "      <td>12</td>\n",
       "      <td>12</td>\n",
       "    </tr>\n",
       "    <tr>\n",
       "      <th>3</th>\n",
       "      <td>1993</td>\n",
       "      <td>a</td>\n",
       "      <td>any</td>\n",
       "      <td>5</td>\n",
       "      <td>8</td>\n",
       "      <td>11</td>\n",
       "      <td>6</td>\n",
       "      <td>5</td>\n",
       "    </tr>\n",
       "  </tbody>\n",
       "</table>\n",
       "</div>"
      ],
      "text/plain": [
       "   Date best team   a  b   c   d  value\n",
       "0  1990    a  any   5  4   7   2      5\n",
       "1  1991    c  any  10  1   2   0      2\n",
       "2  1992    d  any   2  1   4  12     12\n",
       "3  1993    a  any   5  8  11   6      5"
      ]
     },
     "execution_count": 482,
     "metadata": {},
     "output_type": "execute_result"
    }
   ],
   "source": [
    "df"
   ]
  },
  {
   "cell_type": "code",
   "execution_count": 483,
   "id": "3539a71e",
   "metadata": {},
   "outputs": [],
   "source": [
    "df['new'] = np.where( df['best'] == 'a' , \"the value is a\" , \"other\" )  - if else in df"
   ]
  },
  {
   "cell_type": "code",
   "execution_count": 484,
   "id": "d1f9a674",
   "metadata": {},
   "outputs": [
    {
     "data": {
      "text/html": [
       "<div>\n",
       "<style scoped>\n",
       "    .dataframe tbody tr th:only-of-type {\n",
       "        vertical-align: middle;\n",
       "    }\n",
       "\n",
       "    .dataframe tbody tr th {\n",
       "        vertical-align: top;\n",
       "    }\n",
       "\n",
       "    .dataframe thead th {\n",
       "        text-align: right;\n",
       "    }\n",
       "</style>\n",
       "<table border=\"1\" class=\"dataframe\">\n",
       "  <thead>\n",
       "    <tr style=\"text-align: right;\">\n",
       "      <th></th>\n",
       "      <th>Date</th>\n",
       "      <th>best</th>\n",
       "      <th>team</th>\n",
       "      <th>a</th>\n",
       "      <th>b</th>\n",
       "      <th>c</th>\n",
       "      <th>d</th>\n",
       "      <th>value</th>\n",
       "      <th>new</th>\n",
       "    </tr>\n",
       "  </thead>\n",
       "  <tbody>\n",
       "    <tr>\n",
       "      <th>0</th>\n",
       "      <td>1990</td>\n",
       "      <td>a</td>\n",
       "      <td>any</td>\n",
       "      <td>5</td>\n",
       "      <td>4</td>\n",
       "      <td>7</td>\n",
       "      <td>2</td>\n",
       "      <td>5</td>\n",
       "      <td>the value is a</td>\n",
       "    </tr>\n",
       "    <tr>\n",
       "      <th>1</th>\n",
       "      <td>1991</td>\n",
       "      <td>c</td>\n",
       "      <td>any</td>\n",
       "      <td>10</td>\n",
       "      <td>1</td>\n",
       "      <td>2</td>\n",
       "      <td>0</td>\n",
       "      <td>2</td>\n",
       "      <td>other</td>\n",
       "    </tr>\n",
       "    <tr>\n",
       "      <th>2</th>\n",
       "      <td>1992</td>\n",
       "      <td>d</td>\n",
       "      <td>any</td>\n",
       "      <td>2</td>\n",
       "      <td>1</td>\n",
       "      <td>4</td>\n",
       "      <td>12</td>\n",
       "      <td>12</td>\n",
       "      <td>other</td>\n",
       "    </tr>\n",
       "    <tr>\n",
       "      <th>3</th>\n",
       "      <td>1993</td>\n",
       "      <td>a</td>\n",
       "      <td>any</td>\n",
       "      <td>5</td>\n",
       "      <td>8</td>\n",
       "      <td>11</td>\n",
       "      <td>6</td>\n",
       "      <td>5</td>\n",
       "      <td>the value is a</td>\n",
       "    </tr>\n",
       "  </tbody>\n",
       "</table>\n",
       "</div>"
      ],
      "text/plain": [
       "   Date best team   a  b   c   d  value             new\n",
       "0  1990    a  any   5  4   7   2      5  the value is a\n",
       "1  1991    c  any  10  1   2   0      2           other\n",
       "2  1992    d  any   2  1   4  12     12           other\n",
       "3  1993    a  any   5  8  11   6      5  the value is a"
      ]
     },
     "execution_count": 484,
     "metadata": {},
     "output_type": "execute_result"
    }
   ],
   "source": [
    "df"
   ]
  },
  {
   "cell_type": "code",
   "execution_count": 486,
   "id": "be95f2ec",
   "metadata": {},
   "outputs": [],
   "source": [
    "df['new1'] = np.where( df['best'] == 'a' , \"the value is a\" , np.where(df['best'] == 'c',\"the value is c\",\"others\"))"
   ]
  },
  {
   "cell_type": "code",
   "execution_count": 487,
   "id": "9e04fcaa",
   "metadata": {},
   "outputs": [
    {
     "data": {
      "text/html": [
       "<div>\n",
       "<style scoped>\n",
       "    .dataframe tbody tr th:only-of-type {\n",
       "        vertical-align: middle;\n",
       "    }\n",
       "\n",
       "    .dataframe tbody tr th {\n",
       "        vertical-align: top;\n",
       "    }\n",
       "\n",
       "    .dataframe thead th {\n",
       "        text-align: right;\n",
       "    }\n",
       "</style>\n",
       "<table border=\"1\" class=\"dataframe\">\n",
       "  <thead>\n",
       "    <tr style=\"text-align: right;\">\n",
       "      <th></th>\n",
       "      <th>Date</th>\n",
       "      <th>best</th>\n",
       "      <th>team</th>\n",
       "      <th>a</th>\n",
       "      <th>b</th>\n",
       "      <th>c</th>\n",
       "      <th>d</th>\n",
       "      <th>value</th>\n",
       "      <th>new</th>\n",
       "      <th>new1</th>\n",
       "    </tr>\n",
       "  </thead>\n",
       "  <tbody>\n",
       "    <tr>\n",
       "      <th>0</th>\n",
       "      <td>1990</td>\n",
       "      <td>a</td>\n",
       "      <td>any</td>\n",
       "      <td>5</td>\n",
       "      <td>4</td>\n",
       "      <td>7</td>\n",
       "      <td>2</td>\n",
       "      <td>5</td>\n",
       "      <td>the value is a</td>\n",
       "      <td>the value is a</td>\n",
       "    </tr>\n",
       "    <tr>\n",
       "      <th>1</th>\n",
       "      <td>1991</td>\n",
       "      <td>c</td>\n",
       "      <td>any</td>\n",
       "      <td>10</td>\n",
       "      <td>1</td>\n",
       "      <td>2</td>\n",
       "      <td>0</td>\n",
       "      <td>2</td>\n",
       "      <td>other</td>\n",
       "      <td>the value is c</td>\n",
       "    </tr>\n",
       "    <tr>\n",
       "      <th>2</th>\n",
       "      <td>1992</td>\n",
       "      <td>d</td>\n",
       "      <td>any</td>\n",
       "      <td>2</td>\n",
       "      <td>1</td>\n",
       "      <td>4</td>\n",
       "      <td>12</td>\n",
       "      <td>12</td>\n",
       "      <td>other</td>\n",
       "      <td>others</td>\n",
       "    </tr>\n",
       "    <tr>\n",
       "      <th>3</th>\n",
       "      <td>1993</td>\n",
       "      <td>a</td>\n",
       "      <td>any</td>\n",
       "      <td>5</td>\n",
       "      <td>8</td>\n",
       "      <td>11</td>\n",
       "      <td>6</td>\n",
       "      <td>5</td>\n",
       "      <td>the value is a</td>\n",
       "      <td>the value is a</td>\n",
       "    </tr>\n",
       "  </tbody>\n",
       "</table>\n",
       "</div>"
      ],
      "text/plain": [
       "   Date best team   a  b   c   d  value             new            new1\n",
       "0  1990    a  any   5  4   7   2      5  the value is a  the value is a\n",
       "1  1991    c  any  10  1   2   0      2           other  the value is c\n",
       "2  1992    d  any   2  1   4  12     12           other          others\n",
       "3  1993    a  any   5  8  11   6      5  the value is a  the value is a"
      ]
     },
     "execution_count": 487,
     "metadata": {},
     "output_type": "execute_result"
    }
   ],
   "source": [
    "df"
   ]
  },
  {
   "cell_type": "code",
   "execution_count": 489,
   "id": "220edf96",
   "metadata": {},
   "outputs": [
    {
     "name": "stdout",
     "output_type": "stream",
     "text": [
      "the value is a a\n",
      "others c\n",
      "others d\n",
      "the value is a a\n"
     ]
    }
   ],
   "source": [
    "for i in range(len(df)):             0,4\n",
    "    if df['best'][i] == 'a':\n",
    "        print(\"the value is a\",df['best'][i])\n",
    "    else:\n",
    "        print(\"others\",df['best'][i])"
   ]
  },
  {
   "cell_type": "code",
   "execution_count": 494,
   "id": "3c695d99",
   "metadata": {},
   "outputs": [
    {
     "data": {
      "text/plain": [
       "'c'"
      ]
     },
     "execution_count": 494,
     "metadata": {},
     "output_type": "execute_result"
    }
   ],
   "source": [
    "df['best'][1]"
   ]
  },
  {
   "cell_type": "code",
   "execution_count": null,
   "id": "213f3593",
   "metadata": {},
   "outputs": [],
   "source": [
    "subset - male"
   ]
  },
  {
   "cell_type": "code",
   "execution_count": 495,
   "id": "ad16d600",
   "metadata": {},
   "outputs": [
    {
     "data": {
      "text/html": [
       "<div>\n",
       "<style scoped>\n",
       "    .dataframe tbody tr th:only-of-type {\n",
       "        vertical-align: middle;\n",
       "    }\n",
       "\n",
       "    .dataframe tbody tr th {\n",
       "        vertical-align: top;\n",
       "    }\n",
       "\n",
       "    .dataframe thead th {\n",
       "        text-align: right;\n",
       "    }\n",
       "</style>\n",
       "<table border=\"1\" class=\"dataframe\">\n",
       "  <thead>\n",
       "    <tr style=\"text-align: right;\">\n",
       "      <th></th>\n",
       "      <th>Date</th>\n",
       "      <th>best</th>\n",
       "      <th>team</th>\n",
       "      <th>a</th>\n",
       "      <th>b</th>\n",
       "      <th>c</th>\n",
       "      <th>d</th>\n",
       "      <th>value</th>\n",
       "      <th>new</th>\n",
       "      <th>new1</th>\n",
       "    </tr>\n",
       "  </thead>\n",
       "  <tbody>\n",
       "    <tr>\n",
       "      <th>0</th>\n",
       "      <td>1990</td>\n",
       "      <td>a</td>\n",
       "      <td>any</td>\n",
       "      <td>5</td>\n",
       "      <td>4</td>\n",
       "      <td>7</td>\n",
       "      <td>2</td>\n",
       "      <td>5</td>\n",
       "      <td>the value is a</td>\n",
       "      <td>the value is a</td>\n",
       "    </tr>\n",
       "    <tr>\n",
       "      <th>1</th>\n",
       "      <td>1991</td>\n",
       "      <td>c</td>\n",
       "      <td>any</td>\n",
       "      <td>10</td>\n",
       "      <td>1</td>\n",
       "      <td>2</td>\n",
       "      <td>0</td>\n",
       "      <td>2</td>\n",
       "      <td>other</td>\n",
       "      <td>the value is c</td>\n",
       "    </tr>\n",
       "    <tr>\n",
       "      <th>2</th>\n",
       "      <td>1992</td>\n",
       "      <td>d</td>\n",
       "      <td>any</td>\n",
       "      <td>2</td>\n",
       "      <td>1</td>\n",
       "      <td>4</td>\n",
       "      <td>12</td>\n",
       "      <td>12</td>\n",
       "      <td>other</td>\n",
       "      <td>others</td>\n",
       "    </tr>\n",
       "    <tr>\n",
       "      <th>3</th>\n",
       "      <td>1993</td>\n",
       "      <td>a</td>\n",
       "      <td>any</td>\n",
       "      <td>5</td>\n",
       "      <td>8</td>\n",
       "      <td>11</td>\n",
       "      <td>6</td>\n",
       "      <td>5</td>\n",
       "      <td>the value is a</td>\n",
       "      <td>the value is a</td>\n",
       "    </tr>\n",
       "  </tbody>\n",
       "</table>\n",
       "</div>"
      ],
      "text/plain": [
       "   Date best team   a  b   c   d  value             new            new1\n",
       "0  1990    a  any   5  4   7   2      5  the value is a  the value is a\n",
       "1  1991    c  any  10  1   2   0      2           other  the value is c\n",
       "2  1992    d  any   2  1   4  12     12           other          others\n",
       "3  1993    a  any   5  8  11   6      5  the value is a  the value is a"
      ]
     },
     "execution_count": 495,
     "metadata": {},
     "output_type": "execute_result"
    }
   ],
   "source": [
    "df"
   ]
  },
  {
   "cell_type": "code",
   "execution_count": 497,
   "id": "f4f57898",
   "metadata": {},
   "outputs": [
    {
     "data": {
      "text/plain": [
       "array(['a', 'c', 'd'], dtype=object)"
      ]
     },
     "execution_count": 497,
     "metadata": {},
     "output_type": "execute_result"
    }
   ],
   "source": [
    "ls  = df['best'].unique()\n",
    "ls"
   ]
  },
  {
   "cell_type": "code",
   "execution_count": 502,
   "id": "7578c229",
   "metadata": {},
   "outputs": [
    {
     "data": {
      "text/plain": [
       "True"
      ]
     },
     "execution_count": 502,
     "metadata": {},
     "output_type": "execute_result"
    }
   ],
   "source": [
    "(df['best'][0] == 'a')\n",
    "# df[x]"
   ]
  },
  {
   "cell_type": "code",
   "execution_count": 505,
   "id": "1831a8d6",
   "metadata": {},
   "outputs": [],
   "source": [
    "df[df['best'] == 'female'].to_csv(\"x.csv\")"
   ]
  },
  {
   "cell_type": "code",
   "execution_count": 511,
   "id": "3c9d3faa",
   "metadata": {},
   "outputs": [],
   "source": [
    "# for i in ls:\n",
    "#     df[df['best'] == i].to_csv(i.csv)\n",
    "    "
   ]
  },
  {
   "cell_type": "code",
   "execution_count": 512,
   "id": "1822bf61",
   "metadata": {},
   "outputs": [
    {
     "data": {
      "text/html": [
       "<div>\n",
       "<style scoped>\n",
       "    .dataframe tbody tr th:only-of-type {\n",
       "        vertical-align: middle;\n",
       "    }\n",
       "\n",
       "    .dataframe tbody tr th {\n",
       "        vertical-align: top;\n",
       "    }\n",
       "\n",
       "    .dataframe thead th {\n",
       "        text-align: right;\n",
       "    }\n",
       "</style>\n",
       "<table border=\"1\" class=\"dataframe\">\n",
       "  <thead>\n",
       "    <tr style=\"text-align: right;\">\n",
       "      <th></th>\n",
       "      <th>Date</th>\n",
       "      <th>best</th>\n",
       "      <th>team</th>\n",
       "      <th>a</th>\n",
       "      <th>b</th>\n",
       "      <th>c</th>\n",
       "      <th>d</th>\n",
       "      <th>value</th>\n",
       "      <th>new</th>\n",
       "      <th>new1</th>\n",
       "    </tr>\n",
       "  </thead>\n",
       "  <tbody>\n",
       "    <tr>\n",
       "      <th>0</th>\n",
       "      <td>1990</td>\n",
       "      <td>a</td>\n",
       "      <td>any</td>\n",
       "      <td>5</td>\n",
       "      <td>4</td>\n",
       "      <td>7</td>\n",
       "      <td>2</td>\n",
       "      <td>5</td>\n",
       "      <td>the value is a</td>\n",
       "      <td>the value is a</td>\n",
       "    </tr>\n",
       "    <tr>\n",
       "      <th>1</th>\n",
       "      <td>1991</td>\n",
       "      <td>c</td>\n",
       "      <td>any</td>\n",
       "      <td>10</td>\n",
       "      <td>1</td>\n",
       "      <td>2</td>\n",
       "      <td>0</td>\n",
       "      <td>2</td>\n",
       "      <td>other</td>\n",
       "      <td>the value is c</td>\n",
       "    </tr>\n",
       "    <tr>\n",
       "      <th>2</th>\n",
       "      <td>1992</td>\n",
       "      <td>d</td>\n",
       "      <td>any</td>\n",
       "      <td>2</td>\n",
       "      <td>1</td>\n",
       "      <td>4</td>\n",
       "      <td>12</td>\n",
       "      <td>12</td>\n",
       "      <td>other</td>\n",
       "      <td>others</td>\n",
       "    </tr>\n",
       "    <tr>\n",
       "      <th>3</th>\n",
       "      <td>1993</td>\n",
       "      <td>a</td>\n",
       "      <td>any</td>\n",
       "      <td>5</td>\n",
       "      <td>8</td>\n",
       "      <td>11</td>\n",
       "      <td>6</td>\n",
       "      <td>5</td>\n",
       "      <td>the value is a</td>\n",
       "      <td>the value is a</td>\n",
       "    </tr>\n",
       "  </tbody>\n",
       "</table>\n",
       "</div>"
      ],
      "text/plain": [
       "   Date best team   a  b   c   d  value             new            new1\n",
       "0  1990    a  any   5  4   7   2      5  the value is a  the value is a\n",
       "1  1991    c  any  10  1   2   0      2           other  the value is c\n",
       "2  1992    d  any   2  1   4  12     12           other          others\n",
       "3  1993    a  any   5  8  11   6      5  the value is a  the value is a"
      ]
     },
     "execution_count": 512,
     "metadata": {},
     "output_type": "execute_result"
    }
   ],
   "source": [
    "df"
   ]
  },
  {
   "cell_type": "code",
   "execution_count": 515,
   "id": "b0507ab6",
   "metadata": {},
   "outputs": [],
   "source": [
    "df['calc'] = df.apply(lambda x : x.value * 5 , axis = 1)     "
   ]
  },
  {
   "cell_type": "code",
   "execution_count": 518,
   "id": "3297c6ec",
   "metadata": {},
   "outputs": [
    {
     "data": {
      "text/html": [
       "<div>\n",
       "<style scoped>\n",
       "    .dataframe tbody tr th:only-of-type {\n",
       "        vertical-align: middle;\n",
       "    }\n",
       "\n",
       "    .dataframe tbody tr th {\n",
       "        vertical-align: top;\n",
       "    }\n",
       "\n",
       "    .dataframe thead th {\n",
       "        text-align: right;\n",
       "    }\n",
       "</style>\n",
       "<table border=\"1\" class=\"dataframe\">\n",
       "  <thead>\n",
       "    <tr style=\"text-align: right;\">\n",
       "      <th></th>\n",
       "      <th>DATE</th>\n",
       "      <th>BEST</th>\n",
       "      <th>TEAM</th>\n",
       "      <th>A</th>\n",
       "      <th>B</th>\n",
       "      <th>C</th>\n",
       "      <th>D</th>\n",
       "      <th>VALUE</th>\n",
       "      <th>NEW</th>\n",
       "      <th>NEW1</th>\n",
       "      <th>CALC</th>\n",
       "    </tr>\n",
       "  </thead>\n",
       "  <tbody>\n",
       "    <tr>\n",
       "      <th>0</th>\n",
       "      <td>1990</td>\n",
       "      <td>a</td>\n",
       "      <td>any</td>\n",
       "      <td>5</td>\n",
       "      <td>4</td>\n",
       "      <td>7</td>\n",
       "      <td>2</td>\n",
       "      <td>5</td>\n",
       "      <td>the value is a</td>\n",
       "      <td>the value is a</td>\n",
       "      <td>25</td>\n",
       "    </tr>\n",
       "    <tr>\n",
       "      <th>1</th>\n",
       "      <td>1991</td>\n",
       "      <td>c</td>\n",
       "      <td>any</td>\n",
       "      <td>10</td>\n",
       "      <td>1</td>\n",
       "      <td>2</td>\n",
       "      <td>0</td>\n",
       "      <td>2</td>\n",
       "      <td>other</td>\n",
       "      <td>the value is c</td>\n",
       "      <td>10</td>\n",
       "    </tr>\n",
       "    <tr>\n",
       "      <th>2</th>\n",
       "      <td>1992</td>\n",
       "      <td>d</td>\n",
       "      <td>any</td>\n",
       "      <td>2</td>\n",
       "      <td>1</td>\n",
       "      <td>4</td>\n",
       "      <td>12</td>\n",
       "      <td>12</td>\n",
       "      <td>other</td>\n",
       "      <td>others</td>\n",
       "      <td>60</td>\n",
       "    </tr>\n",
       "    <tr>\n",
       "      <th>3</th>\n",
       "      <td>1993</td>\n",
       "      <td>a</td>\n",
       "      <td>any</td>\n",
       "      <td>5</td>\n",
       "      <td>8</td>\n",
       "      <td>11</td>\n",
       "      <td>6</td>\n",
       "      <td>5</td>\n",
       "      <td>the value is a</td>\n",
       "      <td>the value is a</td>\n",
       "      <td>25</td>\n",
       "    </tr>\n",
       "  </tbody>\n",
       "</table>\n",
       "</div>"
      ],
      "text/plain": [
       "   DATE BEST TEAM   A  B   C   D  VALUE             NEW            NEW1  CALC\n",
       "0  1990    a  any   5  4   7   2      5  the value is a  the value is a    25\n",
       "1  1991    c  any  10  1   2   0      2           other  the value is c    10\n",
       "2  1992    d  any   2  1   4  12     12           other          others    60\n",
       "3  1993    a  any   5  8  11   6      5  the value is a  the value is a    25"
      ]
     },
     "execution_count": 518,
     "metadata": {},
     "output_type": "execute_result"
    }
   ],
   "source": [
    "df.columns = map(str.upper, df.columns)\n",
    "df"
   ]
  },
  {
   "cell_type": "code",
   "execution_count": 528,
   "id": "2eef34a7",
   "metadata": {},
   "outputs": [
    {
     "data": {
      "text/plain": [
       "Index(['date', 'best', 'a', 'b', 'c', 'd'], dtype='object')"
      ]
     },
     "execution_count": 528,
     "metadata": {},
     "output_type": "execute_result"
    }
   ],
   "source": [
    "df.columns = map(str.lower,df.columns)\n",
    "df.columns"
   ]
  },
  {
   "cell_type": "code",
   "execution_count": 531,
   "id": "6c7e15b6",
   "metadata": {},
   "outputs": [
    {
     "data": {
      "text/html": [
       "<div>\n",
       "<style scoped>\n",
       "    .dataframe tbody tr th:only-of-type {\n",
       "        vertical-align: middle;\n",
       "    }\n",
       "\n",
       "    .dataframe tbody tr th {\n",
       "        vertical-align: top;\n",
       "    }\n",
       "\n",
       "    .dataframe thead th {\n",
       "        text-align: right;\n",
       "    }\n",
       "</style>\n",
       "<table border=\"1\" class=\"dataframe\">\n",
       "  <thead>\n",
       "    <tr style=\"text-align: right;\">\n",
       "      <th></th>\n",
       "      <th>date</th>\n",
       "      <th>best</th>\n",
       "      <th>a</th>\n",
       "      <th>b</th>\n",
       "      <th>c</th>\n",
       "      <th>d</th>\n",
       "    </tr>\n",
       "  </thead>\n",
       "  <tbody>\n",
       "    <tr>\n",
       "      <th>0</th>\n",
       "      <td>1990</td>\n",
       "      <td>a</td>\n",
       "      <td>5</td>\n",
       "      <td>4</td>\n",
       "      <td>7</td>\n",
       "      <td>2</td>\n",
       "    </tr>\n",
       "    <tr>\n",
       "      <th>1</th>\n",
       "      <td>1991</td>\n",
       "      <td>c</td>\n",
       "      <td>10</td>\n",
       "      <td>1</td>\n",
       "      <td>2</td>\n",
       "      <td>0</td>\n",
       "    </tr>\n",
       "    <tr>\n",
       "      <th>2</th>\n",
       "      <td>1992</td>\n",
       "      <td>d</td>\n",
       "      <td>2</td>\n",
       "      <td>1</td>\n",
       "      <td>4</td>\n",
       "      <td>12</td>\n",
       "    </tr>\n",
       "    <tr>\n",
       "      <th>3</th>\n",
       "      <td>1993</td>\n",
       "      <td>a</td>\n",
       "      <td>5</td>\n",
       "      <td>8</td>\n",
       "      <td>11</td>\n",
       "      <td>6</td>\n",
       "    </tr>\n",
       "  </tbody>\n",
       "</table>\n",
       "</div>"
      ],
      "text/plain": [
       "   date best   a  b   c   d\n",
       "0  1990    a   5  4   7   2\n",
       "1  1991    c  10  1   2   0\n",
       "2  1992    d   2  1   4  12\n",
       "3  1993    a   5  8  11   6"
      ]
     },
     "execution_count": 531,
     "metadata": {},
     "output_type": "execute_result"
    }
   ],
   "source": [
    "df.drop_duplicates(['best','c'])"
   ]
  },
  {
   "cell_type": "code",
   "execution_count": 532,
   "id": "a1de3ce7",
   "metadata": {},
   "outputs": [
    {
     "data": {
      "text/plain": [
       "array(['a', 'c', 'd'], dtype=object)"
      ]
     },
     "execution_count": 532,
     "metadata": {},
     "output_type": "execute_result"
    }
   ],
   "source": [
    "# you are connecting DB \n",
    "\n",
    "\n",
    "df['best'].unique()"
   ]
  },
  {
   "cell_type": "code",
   "execution_count": null,
   "id": "9f777ed7",
   "metadata": {},
   "outputs": [],
   "source": [
    "# connection - integrate two system"
   ]
  },
  {
   "cell_type": "code",
   "execution_count": 533,
   "id": "3e6dfaad",
   "metadata": {},
   "outputs": [
    {
     "data": {
      "text/html": [
       "<div>\n",
       "<style scoped>\n",
       "    .dataframe tbody tr th:only-of-type {\n",
       "        vertical-align: middle;\n",
       "    }\n",
       "\n",
       "    .dataframe tbody tr th {\n",
       "        vertical-align: top;\n",
       "    }\n",
       "\n",
       "    .dataframe thead th {\n",
       "        text-align: right;\n",
       "    }\n",
       "</style>\n",
       "<table border=\"1\" class=\"dataframe\">\n",
       "  <thead>\n",
       "    <tr style=\"text-align: right;\">\n",
       "      <th></th>\n",
       "      <th>date</th>\n",
       "      <th>best</th>\n",
       "      <th>a</th>\n",
       "      <th>b</th>\n",
       "      <th>c</th>\n",
       "      <th>d</th>\n",
       "    </tr>\n",
       "  </thead>\n",
       "  <tbody>\n",
       "    <tr>\n",
       "      <th>0</th>\n",
       "      <td>1990</td>\n",
       "      <td>a</td>\n",
       "      <td>5</td>\n",
       "      <td>4</td>\n",
       "      <td>7</td>\n",
       "      <td>2</td>\n",
       "    </tr>\n",
       "    <tr>\n",
       "      <th>1</th>\n",
       "      <td>1991</td>\n",
       "      <td>c</td>\n",
       "      <td>10</td>\n",
       "      <td>1</td>\n",
       "      <td>2</td>\n",
       "      <td>0</td>\n",
       "    </tr>\n",
       "    <tr>\n",
       "      <th>2</th>\n",
       "      <td>1992</td>\n",
       "      <td>d</td>\n",
       "      <td>2</td>\n",
       "      <td>1</td>\n",
       "      <td>4</td>\n",
       "      <td>12</td>\n",
       "    </tr>\n",
       "    <tr>\n",
       "      <th>3</th>\n",
       "      <td>1993</td>\n",
       "      <td>a</td>\n",
       "      <td>5</td>\n",
       "      <td>8</td>\n",
       "      <td>11</td>\n",
       "      <td>6</td>\n",
       "    </tr>\n",
       "  </tbody>\n",
       "</table>\n",
       "</div>"
      ],
      "text/plain": [
       "   date best   a  b   c   d\n",
       "0  1990    a   5  4   7   2\n",
       "1  1991    c  10  1   2   0\n",
       "2  1992    d   2  1   4  12\n",
       "3  1993    a   5  8  11   6"
      ]
     },
     "execution_count": 533,
     "metadata": {},
     "output_type": "execute_result"
    }
   ],
   "source": [
    "df"
   ]
  },
  {
   "cell_type": "code",
   "execution_count": 534,
   "id": "61afeec5",
   "metadata": {},
   "outputs": [
    {
     "data": {
      "text/plain": [
       "20"
      ]
     },
     "execution_count": 534,
     "metadata": {},
     "output_type": "execute_result"
    }
   ],
   "source": [
    "df['d'].sum()"
   ]
  },
  {
   "cell_type": "code",
   "execution_count": 535,
   "id": "00d70d37",
   "metadata": {},
   "outputs": [
    {
     "data": {
      "text/plain": [
       "12"
      ]
     },
     "execution_count": 535,
     "metadata": {},
     "output_type": "execute_result"
    }
   ],
   "source": [
    "df['d'].max()"
   ]
  },
  {
   "cell_type": "code",
   "execution_count": 536,
   "id": "b742b94c",
   "metadata": {},
   "outputs": [
    {
     "data": {
      "text/plain": [
       "0"
      ]
     },
     "execution_count": 536,
     "metadata": {},
     "output_type": "execute_result"
    }
   ],
   "source": [
    "df['d'].min()"
   ]
  },
  {
   "cell_type": "code",
   "execution_count": 537,
   "id": "92e509d5",
   "metadata": {},
   "outputs": [
    {
     "data": {
      "text/plain": [
       "4"
      ]
     },
     "execution_count": 537,
     "metadata": {},
     "output_type": "execute_result"
    }
   ],
   "source": [
    "df['d'].count()"
   ]
  },
  {
   "cell_type": "code",
   "execution_count": 538,
   "id": "1875e260",
   "metadata": {},
   "outputs": [
    {
     "data": {
      "text/plain": [
       "5.0"
      ]
     },
     "execution_count": 538,
     "metadata": {},
     "output_type": "execute_result"
    }
   ],
   "source": [
    "df['d'].mean()"
   ]
  },
  {
   "cell_type": "code",
   "execution_count": null,
   "id": "c8bcbc84",
   "metadata": {},
   "outputs": [],
   "source": [
    "1. one column having dup\n",
    "2.all the coulmn is dup\n",
    "\n",
    "\n",
    "1. df.drop_duplicates([customer id])\n",
    "col = df.columns\n",
    "df.drop_duplicates(col)"
   ]
  },
  {
   "cell_type": "code",
   "execution_count": null,
   "id": "cf3bf330",
   "metadata": {},
   "outputs": [],
   "source": [
    "pandas - NaN ( missing)\n",
    "Nat - date missing"
   ]
  },
  {
   "cell_type": "code",
   "execution_count": 539,
   "id": "0545da81",
   "metadata": {},
   "outputs": [
    {
     "data": {
      "text/html": [
       "<div>\n",
       "<style scoped>\n",
       "    .dataframe tbody tr th:only-of-type {\n",
       "        vertical-align: middle;\n",
       "    }\n",
       "\n",
       "    .dataframe tbody tr th {\n",
       "        vertical-align: top;\n",
       "    }\n",
       "\n",
       "    .dataframe thead th {\n",
       "        text-align: right;\n",
       "    }\n",
       "</style>\n",
       "<table border=\"1\" class=\"dataframe\">\n",
       "  <thead>\n",
       "    <tr style=\"text-align: right;\">\n",
       "      <th></th>\n",
       "      <th>date</th>\n",
       "      <th>best</th>\n",
       "      <th>a</th>\n",
       "      <th>b</th>\n",
       "      <th>c</th>\n",
       "      <th>d</th>\n",
       "    </tr>\n",
       "  </thead>\n",
       "  <tbody>\n",
       "    <tr>\n",
       "      <th>0</th>\n",
       "      <td>1990</td>\n",
       "      <td>a</td>\n",
       "      <td>5</td>\n",
       "      <td>4</td>\n",
       "      <td>7</td>\n",
       "      <td>2</td>\n",
       "    </tr>\n",
       "    <tr>\n",
       "      <th>1</th>\n",
       "      <td>1991</td>\n",
       "      <td>c</td>\n",
       "      <td>10</td>\n",
       "      <td>1</td>\n",
       "      <td>2</td>\n",
       "      <td>0</td>\n",
       "    </tr>\n",
       "    <tr>\n",
       "      <th>2</th>\n",
       "      <td>1992</td>\n",
       "      <td>d</td>\n",
       "      <td>2</td>\n",
       "      <td>1</td>\n",
       "      <td>4</td>\n",
       "      <td>12</td>\n",
       "    </tr>\n",
       "    <tr>\n",
       "      <th>3</th>\n",
       "      <td>1993</td>\n",
       "      <td>a</td>\n",
       "      <td>5</td>\n",
       "      <td>8</td>\n",
       "      <td>11</td>\n",
       "      <td>6</td>\n",
       "    </tr>\n",
       "  </tbody>\n",
       "</table>\n",
       "</div>"
      ],
      "text/plain": [
       "   date best   a  b   c   d\n",
       "0  1990    a   5  4   7   2\n",
       "1  1991    c  10  1   2   0\n",
       "2  1992    d   2  1   4  12\n",
       "3  1993    a   5  8  11   6"
      ]
     },
     "execution_count": 539,
     "metadata": {},
     "output_type": "execute_result"
    }
   ],
   "source": [
    "df"
   ]
  },
  {
   "cell_type": "code",
   "execution_count": 542,
   "id": "97a11586",
   "metadata": {},
   "outputs": [
    {
     "data": {
      "text/html": [
       "<div>\n",
       "<style scoped>\n",
       "    .dataframe tbody tr th:only-of-type {\n",
       "        vertical-align: middle;\n",
       "    }\n",
       "\n",
       "    .dataframe tbody tr th {\n",
       "        vertical-align: top;\n",
       "    }\n",
       "\n",
       "    .dataframe thead th {\n",
       "        text-align: right;\n",
       "    }\n",
       "</style>\n",
       "<table border=\"1\" class=\"dataframe\">\n",
       "  <thead>\n",
       "    <tr style=\"text-align: right;\">\n",
       "      <th></th>\n",
       "      <th>date</th>\n",
       "      <th>best</th>\n",
       "      <th>a</th>\n",
       "      <th>b</th>\n",
       "      <th>c</th>\n",
       "      <th>d</th>\n",
       "    </tr>\n",
       "  </thead>\n",
       "  <tbody>\n",
       "    <tr>\n",
       "      <th>0</th>\n",
       "      <td>1990</td>\n",
       "      <td>a</td>\n",
       "      <td>5</td>\n",
       "      <td>4</td>\n",
       "      <td>7</td>\n",
       "      <td>2</td>\n",
       "    </tr>\n",
       "    <tr>\n",
       "      <th>3</th>\n",
       "      <td>1993</td>\n",
       "      <td>a</td>\n",
       "      <td>5</td>\n",
       "      <td>8</td>\n",
       "      <td>11</td>\n",
       "      <td>6</td>\n",
       "    </tr>\n",
       "    <tr>\n",
       "      <th>1</th>\n",
       "      <td>1991</td>\n",
       "      <td>c</td>\n",
       "      <td>10</td>\n",
       "      <td>1</td>\n",
       "      <td>2</td>\n",
       "      <td>0</td>\n",
       "    </tr>\n",
       "    <tr>\n",
       "      <th>2</th>\n",
       "      <td>1992</td>\n",
       "      <td>d</td>\n",
       "      <td>2</td>\n",
       "      <td>1</td>\n",
       "      <td>4</td>\n",
       "      <td>12</td>\n",
       "    </tr>\n",
       "  </tbody>\n",
       "</table>\n",
       "</div>"
      ],
      "text/plain": [
       "   date best   a  b   c   d\n",
       "0  1990    a   5  4   7   2\n",
       "3  1993    a   5  8  11   6\n",
       "1  1991    c  10  1   2   0\n",
       "2  1992    d   2  1   4  12"
      ]
     },
     "execution_count": 542,
     "metadata": {},
     "output_type": "execute_result"
    }
   ],
   "source": [
    "df.sort_values('best',ascending=True)"
   ]
  },
  {
   "cell_type": "code",
   "execution_count": 544,
   "id": "57069bd0",
   "metadata": {},
   "outputs": [
    {
     "data": {
      "text/html": [
       "<div>\n",
       "<style scoped>\n",
       "    .dataframe tbody tr th:only-of-type {\n",
       "        vertical-align: middle;\n",
       "    }\n",
       "\n",
       "    .dataframe tbody tr th {\n",
       "        vertical-align: top;\n",
       "    }\n",
       "\n",
       "    .dataframe thead th {\n",
       "        text-align: right;\n",
       "    }\n",
       "</style>\n",
       "<table border=\"1\" class=\"dataframe\">\n",
       "  <thead>\n",
       "    <tr style=\"text-align: right;\">\n",
       "      <th></th>\n",
       "      <th>date</th>\n",
       "      <th>best</th>\n",
       "      <th>a</th>\n",
       "      <th>b</th>\n",
       "      <th>c</th>\n",
       "      <th>d</th>\n",
       "    </tr>\n",
       "  </thead>\n",
       "  <tbody>\n",
       "    <tr>\n",
       "      <th>2</th>\n",
       "      <td>1992</td>\n",
       "      <td>d</td>\n",
       "      <td>2</td>\n",
       "      <td>1</td>\n",
       "      <td>4</td>\n",
       "      <td>12</td>\n",
       "    </tr>\n",
       "    <tr>\n",
       "      <th>1</th>\n",
       "      <td>1991</td>\n",
       "      <td>c</td>\n",
       "      <td>10</td>\n",
       "      <td>1</td>\n",
       "      <td>2</td>\n",
       "      <td>0</td>\n",
       "    </tr>\n",
       "    <tr>\n",
       "      <th>0</th>\n",
       "      <td>1990</td>\n",
       "      <td>a</td>\n",
       "      <td>5</td>\n",
       "      <td>4</td>\n",
       "      <td>7</td>\n",
       "      <td>2</td>\n",
       "    </tr>\n",
       "    <tr>\n",
       "      <th>3</th>\n",
       "      <td>1993</td>\n",
       "      <td>a</td>\n",
       "      <td>5</td>\n",
       "      <td>8</td>\n",
       "      <td>11</td>\n",
       "      <td>6</td>\n",
       "    </tr>\n",
       "  </tbody>\n",
       "</table>\n",
       "</div>"
      ],
      "text/plain": [
       "   date best   a  b   c   d\n",
       "2  1992    d   2  1   4  12\n",
       "1  1991    c  10  1   2   0\n",
       "0  1990    a   5  4   7   2\n",
       "3  1993    a   5  8  11   6"
      ]
     },
     "execution_count": 544,
     "metadata": {},
     "output_type": "execute_result"
    }
   ],
   "source": [
    "df.sort_values(['best','a'],ascending=False)"
   ]
  },
  {
   "cell_type": "code",
   "execution_count": 549,
   "id": "7c00851a",
   "metadata": {},
   "outputs": [],
   "source": [
    "df1  = pd.read_csv(\"df.csv\")"
   ]
  },
  {
   "cell_type": "code",
   "execution_count": 553,
   "id": "7449d1ff",
   "metadata": {},
   "outputs": [
    {
     "data": {
      "text/html": [
       "<div>\n",
       "<style scoped>\n",
       "    .dataframe tbody tr th:only-of-type {\n",
       "        vertical-align: middle;\n",
       "    }\n",
       "\n",
       "    .dataframe tbody tr th {\n",
       "        vertical-align: top;\n",
       "    }\n",
       "\n",
       "    .dataframe thead th {\n",
       "        text-align: right;\n",
       "    }\n",
       "</style>\n",
       "<table border=\"1\" class=\"dataframe\">\n",
       "  <thead>\n",
       "    <tr style=\"text-align: right;\">\n",
       "      <th></th>\n",
       "      <th>Date</th>\n",
       "      <th>best</th>\n",
       "      <th>a</th>\n",
       "      <th>b</th>\n",
       "      <th>c</th>\n",
       "      <th>d</th>\n",
       "      <th>value</th>\n",
       "    </tr>\n",
       "  </thead>\n",
       "  <tbody>\n",
       "    <tr>\n",
       "      <th>0</th>\n",
       "      <td>1990</td>\n",
       "      <td>a</td>\n",
       "      <td>5</td>\n",
       "      <td>4.0</td>\n",
       "      <td>7</td>\n",
       "      <td>2.0</td>\n",
       "      <td>5</td>\n",
       "    </tr>\n",
       "    <tr>\n",
       "      <th>3</th>\n",
       "      <td>1993</td>\n",
       "      <td>a</td>\n",
       "      <td>5</td>\n",
       "      <td>8.0</td>\n",
       "      <td>11</td>\n",
       "      <td>6.0</td>\n",
       "      <td>5</td>\n",
       "    </tr>\n",
       "  </tbody>\n",
       "</table>\n",
       "</div>"
      ],
      "text/plain": [
       "   Date best  a    b   c    d  value\n",
       "0  1990    a  5  4.0   7  2.0      5\n",
       "3  1993    a  5  8.0  11  6.0      5"
      ]
     },
     "execution_count": 553,
     "metadata": {},
     "output_type": "execute_result"
    }
   ],
   "source": [
    "df1.dropna()\n"
   ]
  },
  {
   "cell_type": "code",
   "execution_count": 548,
   "id": "19eb8fbc",
   "metadata": {},
   "outputs": [
    {
     "data": {
      "text/plain": [
       "0    4.0\n",
       "1    0.0\n",
       "2    0.0\n",
       "3    8.0\n",
       "Name: b, dtype: float64"
      ]
     },
     "execution_count": 548,
     "metadata": {},
     "output_type": "execute_result"
    }
   ],
   "source": [
    "df1['b'].fillna(0)"
   ]
  },
  {
   "cell_type": "code",
   "execution_count": 552,
   "id": "f5142b61",
   "metadata": {},
   "outputs": [
    {
     "data": {
      "text/plain": [
       "0    a\n",
       "1     \n",
       "2    d\n",
       "3    a\n",
       "Name: best, dtype: object"
      ]
     },
     "execution_count": 552,
     "metadata": {},
     "output_type": "execute_result"
    }
   ],
   "source": [
    "df1['best'].fillna('')"
   ]
  },
  {
   "cell_type": "code",
   "execution_count": 561,
   "id": "3ee21685",
   "metadata": {},
   "outputs": [],
   "source": [
    "# df[df.dtypes =='object']"
   ]
  },
  {
   "cell_type": "code",
   "execution_count": 563,
   "id": "79690e63",
   "metadata": {},
   "outputs": [
    {
     "data": {
      "text/html": [
       "<div>\n",
       "<style scoped>\n",
       "    .dataframe tbody tr th:only-of-type {\n",
       "        vertical-align: middle;\n",
       "    }\n",
       "\n",
       "    .dataframe tbody tr th {\n",
       "        vertical-align: top;\n",
       "    }\n",
       "\n",
       "    .dataframe thead th {\n",
       "        text-align: right;\n",
       "    }\n",
       "</style>\n",
       "<table border=\"1\" class=\"dataframe\">\n",
       "  <thead>\n",
       "    <tr style=\"text-align: right;\">\n",
       "      <th></th>\n",
       "      <th>Date</th>\n",
       "      <th>best</th>\n",
       "      <th>a</th>\n",
       "      <th>b</th>\n",
       "      <th>c</th>\n",
       "      <th>d</th>\n",
       "      <th>value</th>\n",
       "    </tr>\n",
       "  </thead>\n",
       "  <tbody>\n",
       "    <tr>\n",
       "      <th>0</th>\n",
       "      <td>1990</td>\n",
       "      <td>a</td>\n",
       "      <td>5</td>\n",
       "      <td>4.0</td>\n",
       "      <td>7</td>\n",
       "      <td>2.0</td>\n",
       "      <td>5</td>\n",
       "    </tr>\n",
       "    <tr>\n",
       "      <th>1</th>\n",
       "      <td>1991</td>\n",
       "      <td>NaN</td>\n",
       "      <td>10</td>\n",
       "      <td>NaN</td>\n",
       "      <td>2</td>\n",
       "      <td>NaN</td>\n",
       "      <td>2</td>\n",
       "    </tr>\n",
       "    <tr>\n",
       "      <th>2</th>\n",
       "      <td>1992</td>\n",
       "      <td>d</td>\n",
       "      <td>2</td>\n",
       "      <td>NaN</td>\n",
       "      <td>4</td>\n",
       "      <td>12.0</td>\n",
       "      <td>12</td>\n",
       "    </tr>\n",
       "    <tr>\n",
       "      <th>3</th>\n",
       "      <td>1993</td>\n",
       "      <td>a</td>\n",
       "      <td>5</td>\n",
       "      <td>8.0</td>\n",
       "      <td>11</td>\n",
       "      <td>6.0</td>\n",
       "      <td>5</td>\n",
       "    </tr>\n",
       "  </tbody>\n",
       "</table>\n",
       "</div>"
      ],
      "text/plain": [
       "   Date best   a    b   c     d  value\n",
       "0  1990    a   5  4.0   7   2.0      5\n",
       "1  1991  NaN  10  NaN   2   NaN      2\n",
       "2  1992    d   2  NaN   4  12.0     12\n",
       "3  1993    a   5  8.0  11   6.0      5"
      ]
     },
     "execution_count": 563,
     "metadata": {},
     "output_type": "execute_result"
    }
   ],
   "source": [
    "df1"
   ]
  },
  {
   "cell_type": "code",
   "execution_count": 564,
   "id": "2646dd8c",
   "metadata": {},
   "outputs": [
    {
     "data": {
      "text/plain": [
       "6.0"
      ]
     },
     "execution_count": 564,
     "metadata": {},
     "output_type": "execute_result"
    }
   ],
   "source": [
    "df1['b'].mean()"
   ]
  },
  {
   "cell_type": "code",
   "execution_count": 565,
   "id": "05300297",
   "metadata": {},
   "outputs": [
    {
     "data": {
      "text/plain": [
       "0    4.0\n",
       "1    6.0\n",
       "2    6.0\n",
       "3    8.0\n",
       "Name: b, dtype: float64"
      ]
     },
     "execution_count": 565,
     "metadata": {},
     "output_type": "execute_result"
    }
   ],
   "source": [
    "df1['b'].fillna(6)"
   ]
  },
  {
   "cell_type": "code",
   "execution_count": 566,
   "id": "7cf47c52",
   "metadata": {},
   "outputs": [
    {
     "data": {
      "text/html": [
       "<div>\n",
       "<style scoped>\n",
       "    .dataframe tbody tr th:only-of-type {\n",
       "        vertical-align: middle;\n",
       "    }\n",
       "\n",
       "    .dataframe tbody tr th {\n",
       "        vertical-align: top;\n",
       "    }\n",
       "\n",
       "    .dataframe thead th {\n",
       "        text-align: right;\n",
       "    }\n",
       "</style>\n",
       "<table border=\"1\" class=\"dataframe\">\n",
       "  <thead>\n",
       "    <tr style=\"text-align: right;\">\n",
       "      <th></th>\n",
       "      <th>date</th>\n",
       "      <th>best</th>\n",
       "      <th>a</th>\n",
       "      <th>b</th>\n",
       "      <th>c</th>\n",
       "      <th>d</th>\n",
       "    </tr>\n",
       "  </thead>\n",
       "  <tbody>\n",
       "    <tr>\n",
       "      <th>0</th>\n",
       "      <td>1990</td>\n",
       "      <td>a</td>\n",
       "      <td>5</td>\n",
       "      <td>4</td>\n",
       "      <td>7</td>\n",
       "      <td>2</td>\n",
       "    </tr>\n",
       "    <tr>\n",
       "      <th>1</th>\n",
       "      <td>1991</td>\n",
       "      <td>c</td>\n",
       "      <td>10</td>\n",
       "      <td>1</td>\n",
       "      <td>2</td>\n",
       "      <td>0</td>\n",
       "    </tr>\n",
       "    <tr>\n",
       "      <th>2</th>\n",
       "      <td>1992</td>\n",
       "      <td>d</td>\n",
       "      <td>2</td>\n",
       "      <td>1</td>\n",
       "      <td>4</td>\n",
       "      <td>12</td>\n",
       "    </tr>\n",
       "    <tr>\n",
       "      <th>3</th>\n",
       "      <td>1993</td>\n",
       "      <td>a</td>\n",
       "      <td>5</td>\n",
       "      <td>8</td>\n",
       "      <td>11</td>\n",
       "      <td>6</td>\n",
       "    </tr>\n",
       "  </tbody>\n",
       "</table>\n",
       "</div>"
      ],
      "text/plain": [
       "   date best   a  b   c   d\n",
       "0  1990    a   5  4   7   2\n",
       "1  1991    c  10  1   2   0\n",
       "2  1992    d   2  1   4  12\n",
       "3  1993    a   5  8  11   6"
      ]
     },
     "execution_count": 566,
     "metadata": {},
     "output_type": "execute_result"
    }
   ],
   "source": [
    "df"
   ]
  },
  {
   "cell_type": "code",
   "execution_count": 569,
   "id": "aa52f169",
   "metadata": {},
   "outputs": [
    {
     "data": {
      "text/html": [
       "<div>\n",
       "<style scoped>\n",
       "    .dataframe tbody tr th:only-of-type {\n",
       "        vertical-align: middle;\n",
       "    }\n",
       "\n",
       "    .dataframe tbody tr th {\n",
       "        vertical-align: top;\n",
       "    }\n",
       "\n",
       "    .dataframe thead th {\n",
       "        text-align: right;\n",
       "    }\n",
       "</style>\n",
       "<table border=\"1\" class=\"dataframe\">\n",
       "  <thead>\n",
       "    <tr style=\"text-align: right;\">\n",
       "      <th></th>\n",
       "      <th>date</th>\n",
       "      <th>best</th>\n",
       "      <th>a</th>\n",
       "      <th>b</th>\n",
       "      <th>c</th>\n",
       "      <th>d</th>\n",
       "    </tr>\n",
       "  </thead>\n",
       "  <tbody>\n",
       "    <tr>\n",
       "      <th>0</th>\n",
       "      <td>1990</td>\n",
       "      <td>a</td>\n",
       "      <td>5</td>\n",
       "      <td>4</td>\n",
       "      <td>7</td>\n",
       "      <td>2</td>\n",
       "    </tr>\n",
       "    <tr>\n",
       "      <th>3</th>\n",
       "      <td>1993</td>\n",
       "      <td>a</td>\n",
       "      <td>5</td>\n",
       "      <td>8</td>\n",
       "      <td>11</td>\n",
       "      <td>6</td>\n",
       "    </tr>\n",
       "  </tbody>\n",
       "</table>\n",
       "</div>"
      ],
      "text/plain": [
       "   date best  a  b   c  d\n",
       "0  1990    a  5  4   7  2\n",
       "3  1993    a  5  8  11  6"
      ]
     },
     "execution_count": 569,
     "metadata": {},
     "output_type": "execute_result"
    }
   ],
   "source": [
    "df[df['best'].str.contains('a')]"
   ]
  },
  {
   "cell_type": "code",
   "execution_count": 570,
   "id": "72e45a98",
   "metadata": {},
   "outputs": [
    {
     "data": {
      "text/html": [
       "<div>\n",
       "<style scoped>\n",
       "    .dataframe tbody tr th:only-of-type {\n",
       "        vertical-align: middle;\n",
       "    }\n",
       "\n",
       "    .dataframe tbody tr th {\n",
       "        vertical-align: top;\n",
       "    }\n",
       "\n",
       "    .dataframe thead th {\n",
       "        text-align: right;\n",
       "    }\n",
       "</style>\n",
       "<table border=\"1\" class=\"dataframe\">\n",
       "  <thead>\n",
       "    <tr style=\"text-align: right;\">\n",
       "      <th></th>\n",
       "      <th>date</th>\n",
       "      <th>best</th>\n",
       "      <th>a</th>\n",
       "      <th>b</th>\n",
       "      <th>c</th>\n",
       "      <th>d</th>\n",
       "    </tr>\n",
       "  </thead>\n",
       "  <tbody>\n",
       "    <tr>\n",
       "      <th>1</th>\n",
       "      <td>1991</td>\n",
       "      <td>c</td>\n",
       "      <td>10</td>\n",
       "      <td>1</td>\n",
       "      <td>2</td>\n",
       "      <td>0</td>\n",
       "    </tr>\n",
       "  </tbody>\n",
       "</table>\n",
       "</div>"
      ],
      "text/plain": [
       "   date best   a  b  c  d\n",
       "1  1991    c  10  1  2  0"
      ]
     },
     "execution_count": 570,
     "metadata": {},
     "output_type": "execute_result"
    }
   ],
   "source": [
    "df[df['best'].str.contains('c')]"
   ]
  },
  {
   "cell_type": "code",
   "execution_count": null,
   "id": "fa9b0478",
   "metadata": {},
   "outputs": [],
   "source": [
    "create data frame , columns = [red,green , y , bb ,blue]"
   ]
  },
  {
   "cell_type": "code",
   "execution_count": null,
   "id": "107ddbff",
   "metadata": {},
   "outputs": [],
   "source": [
    "if red , g - go , y - rd , others - stop - new column action"
   ]
  },
  {
   "cell_type": "code",
   "execution_count": 573,
   "id": "e3de8a6f",
   "metadata": {},
   "outputs": [
    {
     "data": {
      "text/plain": [
       "Index(['Row ID', 'Order ID', 'Order Date', 'Ship Date', 'Ship Mode',\n",
       "       'Customer ID', 'Customer Name', 'Segment', 'Country', 'City', 'State',\n",
       "       'Postal Code', 'Region', 'Product ID', 'Category', 'Sub-Category',\n",
       "       'Product Name', 'Quantity', 'Discount', 'Profit', 'rk', 'item sold'],\n",
       "      dtype='object')"
      ]
     },
     "execution_count": 573,
     "metadata": {},
     "output_type": "execute_result"
    }
   ],
   "source": [
    "store.columns"
   ]
  },
  {
   "cell_type": "code",
   "execution_count": 574,
   "id": "e2700323",
   "metadata": {},
   "outputs": [
    {
     "data": {
      "text/plain": [
       "1      Dennis Kane\n",
       "2       Karl Braun\n",
       "3    Maribeth Dona\n",
       "4      Alyssa Tate\n",
       "Name: Customer Name, dtype: object"
      ]
     },
     "execution_count": 574,
     "metadata": {},
     "output_type": "execute_result"
    }
   ],
   "source": [
    "store['Customer Name'][1:5]"
   ]
  },
  {
   "cell_type": "code",
   "execution_count": null,
   "id": "07fa1204",
   "metadata": {},
   "outputs": [],
   "source": [
    "1      Dennis Kane     10\n",
    "2       Karl Braun       9\n",
    "3    Maribeth Dona      20\n",
    "4      Alyssa Tate      15"
   ]
  },
  {
   "cell_type": "code",
   "execution_count": null,
   "id": "74fc1e32",
   "metadata": {},
   "outputs": [],
   "source": [
    "class numbers:\n",
    "    def __init__(self,a,b):\n",
    "        self.a=a\n",
    "        self.b=b\n",
    "    def LCM(self):\n",
    "        if self.a>=self.b:     5 > 6\n",
    "            d=self.a\n",
    "            while(d>=self.a):\n",
    "                if d%self.a==0 and d%self.b==0:\n",
    "                    break\n",
    "                d=d+1\n",
    "            print('LCM',d)\n",
    "        else:\n",
    "            d=self.b\n",
    "            while(d>=self.b):\n",
    "                if d%self.a==0 and d%self.b==0:\n",
    "                    break\n",
    "                d=d+1\n",
    "            print('LCM',d)\n"
   ]
  },
  {
   "cell_type": "code",
   "execution_count": 743,
   "id": "094374aa",
   "metadata": {},
   "outputs": [
    {
     "data": {
      "text/plain": [
       "30"
      ]
     },
     "execution_count": 743,
     "metadata": {},
     "output_type": "execute_result"
    }
   ],
   "source": [
    "import math\n",
    "math.lcm(5,6)"
   ]
  },
  {
   "cell_type": "code",
   "execution_count": 746,
   "id": "c30f3b09",
   "metadata": {},
   "outputs": [
    {
     "data": {
      "text/plain": [
       "Index(['Row ID', 'Order ID', 'Order Date', 'Ship Date', 'Ship Mode',\n",
       "       'Customer ID', 'Customer Name', 'Segment', 'Country', 'City', 'State',\n",
       "       'Postal Code', 'Region', 'Product ID', 'Category', 'Sub-Category',\n",
       "       'Product Name', 'Quantity', 'Discount', 'Profit', 'rk', 'item sold'],\n",
       "      dtype='object')"
      ]
     },
     "execution_count": 746,
     "metadata": {},
     "output_type": "execute_result"
    }
   ],
   "source": [
    "store.columns"
   ]
  },
  {
   "cell_type": "code",
   "execution_count": 747,
   "id": "9c06e3ae",
   "metadata": {},
   "outputs": [
    {
     "name": "stderr",
     "output_type": "stream",
     "text": [
      "C:\\Users\\Admin\\AppData\\Local\\Temp\\ipykernel_13800\\2553757181.py:1: FutureWarning: Dropping of nuisance columns in DataFrame reductions (with 'numeric_only=None') is deprecated; in a future version this will raise TypeError.  Select only valid columns before calling the reduction.\n",
      "  store.mean()\n"
     ]
    },
    {
     "data": {
      "text/plain": [
       "Row ID          4993.926140\n",
       "Ship Date      42492.419228\n",
       "Postal Code    55190.491025\n",
       "Quantity           3.790902\n",
       "Discount           0.155167\n",
       "Profit            29.178642\n",
       "rk               130.193934\n",
       "item sold       1172.894920\n",
       "dtype: float64"
      ]
     },
     "execution_count": 747,
     "metadata": {},
     "output_type": "execute_result"
    }
   ],
   "source": [
    "store.mean()"
   ]
  },
  {
   "cell_type": "code",
   "execution_count": 748,
   "id": "79a8fb45",
   "metadata": {},
   "outputs": [
    {
     "name": "stderr",
     "output_type": "stream",
     "text": [
      "C:\\Users\\Admin\\AppData\\Local\\Temp\\ipykernel_13800\\4031606683.py:1: FutureWarning: Dropping of nuisance columns in DataFrame reductions (with 'numeric_only=None') is deprecated; in a future version this will raise TypeError.  Select only valid columns before calling the reduction.\n",
      "  store.mean(1)\n"
     ]
    },
    {
     "data": {
      "text/plain": [
       "0       13725.266250\n",
       "1       16209.978200\n",
       "2       11337.074450\n",
       "3       11359.047300\n",
       "4       12028.291550\n",
       "            ...     \n",
       "9689    17282.026000\n",
       "9690    17018.045600\n",
       "9691    16623.868900\n",
       "9692    17063.199638\n",
       "9693    17275.579625\n",
       "Length: 9694, dtype: float64"
      ]
     },
     "execution_count": 748,
     "metadata": {},
     "output_type": "execute_result"
    }
   ],
   "source": [
    "store.mean(1)"
   ]
  },
  {
   "cell_type": "code",
   "execution_count": 749,
   "id": "ca2a434f",
   "metadata": {},
   "outputs": [
    {
     "data": {
      "text/plain": [
       "Row ID           9694\n",
       "Order ID         9694\n",
       "Order Date       9694\n",
       "Ship Date        9694\n",
       "Ship Mode        9694\n",
       "Customer ID      9694\n",
       "Customer Name    9694\n",
       "Segment          9694\n",
       "Country          9694\n",
       "City             9694\n",
       "State            9694\n",
       "Postal Code      9694\n",
       "Region           9694\n",
       "Product ID       9694\n",
       "Category         9694\n",
       "Sub-Category     9694\n",
       "Product Name     9694\n",
       "Quantity         9694\n",
       "Discount         9694\n",
       "Profit           9694\n",
       "rk               9694\n",
       "item sold        9694\n",
       "dtype: int64"
      ]
     },
     "execution_count": 749,
     "metadata": {},
     "output_type": "execute_result"
    }
   ],
   "source": [
    "store.count()"
   ]
  },
  {
   "cell_type": "code",
   "execution_count": 750,
   "id": "5e4f2630",
   "metadata": {},
   "outputs": [
    {
     "data": {
      "text/html": [
       "<div>\n",
       "<style scoped>\n",
       "    .dataframe tbody tr th:only-of-type {\n",
       "        vertical-align: middle;\n",
       "    }\n",
       "\n",
       "    .dataframe tbody tr th {\n",
       "        vertical-align: top;\n",
       "    }\n",
       "\n",
       "    .dataframe thead th {\n",
       "        text-align: right;\n",
       "    }\n",
       "</style>\n",
       "<table border=\"1\" class=\"dataframe\">\n",
       "  <thead>\n",
       "    <tr style=\"text-align: right;\">\n",
       "      <th></th>\n",
       "      <th>Row ID</th>\n",
       "      <th>Order ID</th>\n",
       "      <th>Order Date</th>\n",
       "      <th>Ship Date</th>\n",
       "      <th>Ship Mode</th>\n",
       "      <th>Customer ID</th>\n",
       "      <th>Customer Name</th>\n",
       "      <th>Segment</th>\n",
       "      <th>Country</th>\n",
       "      <th>City</th>\n",
       "      <th>...</th>\n",
       "      <th>Region</th>\n",
       "      <th>Product ID</th>\n",
       "      <th>Category</th>\n",
       "      <th>Sub-Category</th>\n",
       "      <th>Product Name</th>\n",
       "      <th>Quantity</th>\n",
       "      <th>Discount</th>\n",
       "      <th>Profit</th>\n",
       "      <th>rk</th>\n",
       "      <th>item sold</th>\n",
       "    </tr>\n",
       "  </thead>\n",
       "  <tbody>\n",
       "    <tr>\n",
       "      <th>0</th>\n",
       "      <td>9261</td>\n",
       "      <td>CA-2017-167976</td>\n",
       "      <td>11/11/2017</td>\n",
       "      <td>43053</td>\n",
       "      <td>Second Class</td>\n",
       "      <td>JL-15505</td>\n",
       "      <td>Jeremy Lonsdale</td>\n",
       "      <td>Consumer</td>\n",
       "      <td>United States</td>\n",
       "      <td>Aberdeen</td>\n",
       "      <td>...</td>\n",
       "      <td>Central</td>\n",
       "      <td>OFF-SU-10004661</td>\n",
       "      <td>Office Supplies</td>\n",
       "      <td>Supplies</td>\n",
       "      <td>Acme Titanium Bonded Scissors</td>\n",
       "      <td>3</td>\n",
       "      <td>0.0</td>\n",
       "      <td>6.6300</td>\n",
       "      <td>1</td>\n",
       "      <td>76.500</td>\n",
       "    </tr>\n",
       "    <tr>\n",
       "      <th>1</th>\n",
       "      <td>6990</td>\n",
       "      <td>CA-2017-165099</td>\n",
       "      <td>12/11/2017</td>\n",
       "      <td>43082</td>\n",
       "      <td>First Class</td>\n",
       "      <td>DK-13375</td>\n",
       "      <td>Dennis Kane</td>\n",
       "      <td>Consumer</td>\n",
       "      <td>United States</td>\n",
       "      <td>Abilene</td>\n",
       "      <td>...</td>\n",
       "      <td>Central</td>\n",
       "      <td>OFF-AP-10001634</td>\n",
       "      <td>Office Supplies</td>\n",
       "      <td>Appliances</td>\n",
       "      <td>Hoover Commercial Lightweight Upright Vacuum</td>\n",
       "      <td>2</td>\n",
       "      <td>0.8</td>\n",
       "      <td>-3.7584</td>\n",
       "      <td>1</td>\n",
       "      <td>2.784</td>\n",
       "    </tr>\n",
       "    <tr>\n",
       "      <th>2</th>\n",
       "      <td>4324</td>\n",
       "      <td>US-2015-147662</td>\n",
       "      <td>2/14/2015</td>\n",
       "      <td>42054</td>\n",
       "      <td>Standard Class</td>\n",
       "      <td>KB-16315</td>\n",
       "      <td>Karl Braun</td>\n",
       "      <td>Consumer</td>\n",
       "      <td>United States</td>\n",
       "      <td>Akron</td>\n",
       "      <td>...</td>\n",
       "      <td>East</td>\n",
       "      <td>OFF-BI-10002160</td>\n",
       "      <td>Office Supplies</td>\n",
       "      <td>Binders</td>\n",
       "      <td>Acco Hanging Data Binders</td>\n",
       "      <td>2</td>\n",
       "      <td>0.7</td>\n",
       "      <td>-1.6764</td>\n",
       "      <td>1</td>\n",
       "      <td>4.572</td>\n",
       "    </tr>\n",
       "    <tr>\n",
       "      <th>3</th>\n",
       "      <td>3563</td>\n",
       "      <td>CA-2017-109757</td>\n",
       "      <td>9/4/2017</td>\n",
       "      <td>42987</td>\n",
       "      <td>Second Class</td>\n",
       "      <td>MD-17350</td>\n",
       "      <td>Maribeth Dona</td>\n",
       "      <td>Consumer</td>\n",
       "      <td>United States</td>\n",
       "      <td>Akron</td>\n",
       "      <td>...</td>\n",
       "      <td>East</td>\n",
       "      <td>OFF-BI-10001634</td>\n",
       "      <td>Office Supplies</td>\n",
       "      <td>Binders</td>\n",
       "      <td>Wilson Jones Active Use Binders</td>\n",
       "      <td>2</td>\n",
       "      <td>0.7</td>\n",
       "      <td>-3.0576</td>\n",
       "      <td>2</td>\n",
       "      <td>8.736</td>\n",
       "    </tr>\n",
       "  </tbody>\n",
       "</table>\n",
       "<p>4 rows × 22 columns</p>\n",
       "</div>"
      ],
      "text/plain": [
       "   Row ID        Order ID  Order Date  Ship Date       Ship Mode Customer ID  \\\n",
       "0    9261  CA-2017-167976  11/11/2017      43053    Second Class    JL-15505   \n",
       "1    6990  CA-2017-165099  12/11/2017      43082     First Class    DK-13375   \n",
       "2    4324  US-2015-147662   2/14/2015      42054  Standard Class    KB-16315   \n",
       "3    3563  CA-2017-109757    9/4/2017      42987    Second Class    MD-17350   \n",
       "\n",
       "     Customer Name   Segment        Country      City  ...   Region  \\\n",
       "0  Jeremy Lonsdale  Consumer  United States  Aberdeen  ...  Central   \n",
       "1      Dennis Kane  Consumer  United States   Abilene  ...  Central   \n",
       "2       Karl Braun  Consumer  United States     Akron  ...     East   \n",
       "3    Maribeth Dona  Consumer  United States     Akron  ...     East   \n",
       "\n",
       "        Product ID         Category Sub-Category  \\\n",
       "0  OFF-SU-10004661  Office Supplies     Supplies   \n",
       "1  OFF-AP-10001634  Office Supplies   Appliances   \n",
       "2  OFF-BI-10002160  Office Supplies      Binders   \n",
       "3  OFF-BI-10001634  Office Supplies      Binders   \n",
       "\n",
       "                                   Product Name Quantity Discount  Profit  rk  \\\n",
       "0                 Acme Titanium Bonded Scissors        3      0.0  6.6300   1   \n",
       "1  Hoover Commercial Lightweight Upright Vacuum        2      0.8 -3.7584   1   \n",
       "2                     Acco Hanging Data Binders        2      0.7 -1.6764   1   \n",
       "3               Wilson Jones Active Use Binders        2      0.7 -3.0576   2   \n",
       "\n",
       "   item sold  \n",
       "0     76.500  \n",
       "1      2.784  \n",
       "2      4.572  \n",
       "3      8.736  \n",
       "\n",
       "[4 rows x 22 columns]"
      ]
     },
     "execution_count": 750,
     "metadata": {},
     "output_type": "execute_result"
    }
   ],
   "source": [
    "store[:4]"
   ]
  },
  {
   "cell_type": "raw",
   "id": "73036256",
   "metadata": {},
   "source": []
  },
  {
   "cell_type": "code",
   "execution_count": 752,
   "id": "1000cb7c",
   "metadata": {},
   "outputs": [
    {
     "data": {
      "text/plain": [
       "array(['Central', 'East', 'West', 'South'], dtype=object)"
      ]
     },
     "execution_count": 752,
     "metadata": {},
     "output_type": "execute_result"
    }
   ],
   "source": [
    "store.Region.unique()"
   ]
  },
  {
   "cell_type": "code",
   "execution_count": 753,
   "id": "f227d8c4",
   "metadata": {},
   "outputs": [
    {
     "data": {
      "text/plain": [
       "9694"
      ]
     },
     "execution_count": 753,
     "metadata": {},
     "output_type": "execute_result"
    }
   ],
   "source": [
    "len(store)"
   ]
  },
  {
   "cell_type": "code",
   "execution_count": 756,
   "id": "841ab7c1",
   "metadata": {},
   "outputs": [],
   "source": [
    "x  = store[ store.Region == 'Central' ]\n",
    "y  = store[ store.Region != 'Central' ]"
   ]
  },
  {
   "cell_type": "code",
   "execution_count": 757,
   "id": "ed583176",
   "metadata": {},
   "outputs": [
    {
     "data": {
      "text/plain": [
       "(array(['Central'], dtype=object),\n",
       " array(['East', 'West', 'South'], dtype=object))"
      ]
     },
     "execution_count": 757,
     "metadata": {},
     "output_type": "execute_result"
    }
   ],
   "source": [
    "x['Region'].unique() , y['Region'].unique()"
   ]
  },
  {
   "cell_type": "code",
   "execution_count": 758,
   "id": "f0003d2f",
   "metadata": {},
   "outputs": [
    {
     "data": {
      "text/plain": [
       "array(['Central', 'East', 'West', 'South'], dtype=object)"
      ]
     },
     "execution_count": 758,
     "metadata": {},
     "output_type": "execute_result"
    }
   ],
   "source": [
    "store.Region.unique()"
   ]
  },
  {
   "cell_type": "code",
   "execution_count": 761,
   "id": "9442651e",
   "metadata": {},
   "outputs": [],
   "source": [
    "# y  = store[ (store.Region != 'Central')  and (store.Region != 'South') ]\n",
    "y  = store[ store.Region.isin(['Central','South']) ]   - Region is eq to central & south\n",
    "\n"
   ]
  },
  {
   "cell_type": "code",
   "execution_count": 762,
   "id": "585ff3d9",
   "metadata": {},
   "outputs": [
    {
     "data": {
      "text/plain": [
       "array(['Central', 'South'], dtype=object)"
      ]
     },
     "execution_count": 762,
     "metadata": {},
     "output_type": "execute_result"
    }
   ],
   "source": [
    "y['Region'].unique()"
   ]
  },
  {
   "cell_type": "code",
   "execution_count": 763,
   "id": "c51c1348",
   "metadata": {},
   "outputs": [],
   "source": [
    "y  = store[ ~ store.Region.isin(['Central','South']) ] - region is not eg 'cental' & south"
   ]
  },
  {
   "cell_type": "code",
   "execution_count": 767,
   "id": "3fd37d3b",
   "metadata": {},
   "outputs": [
    {
     "ename": "NameError",
     "evalue": "name 'lower' is not defined",
     "output_type": "error",
     "traceback": [
      "\u001b[1;31m---------------------------------------------------------------------------\u001b[0m",
      "\u001b[1;31mNameError\u001b[0m                                 Traceback (most recent call last)",
      "Input \u001b[1;32mIn [767]\u001b[0m, in \u001b[0;36m<cell line: 1>\u001b[1;34m()\u001b[0m\n\u001b[1;32m----> 1\u001b[0m y[\u001b[38;5;124m'\u001b[39m\u001b[38;5;124mRegion\u001b[39m\u001b[38;5;124m'\u001b[39m]\u001b[38;5;241m.\u001b[39mapply(\u001b[43mlower\u001b[49m())\n",
      "\u001b[1;31mNameError\u001b[0m: name 'lower' is not defined"
     ]
    }
   ],
   "source": [
    "y['Region'].apply("
   ]
  },
  {
   "cell_type": "code",
   "execution_count": null,
   "id": "4a8396ac",
   "metadata": {},
   "outputs": [],
   "source": []
  },
  {
   "cell_type": "code",
   "execution_count": null,
   "id": "082e8281",
   "metadata": {},
   "outputs": [],
   "source": [
    "#!/usr/bin/env python\n",
    "# coding: utf-8\n",
    "\n",
    "# In[1]:\n",
    "\n",
    "\n",
    "import numpy as np\n",
    "\n",
    "print(\" we are learnig python \")\n",
    "\n",
    "\n",
    "# In[2]:\n",
    "\n",
    "\n",
    "print( \" hello every one\")\n",
    "\n",
    "\n",
    "# In[4]:\n",
    "\n",
    "\n",
    "print('welcome you all to guvi')\n",
    "\n",
    "\n",
    "# In[9]:\n",
    "\n",
    "\n",
    "2 +2 \n",
    "\n",
    "\n",
    "# In[10]:\n",
    "\n",
    "\n",
    "2 * 2\n",
    "\n",
    "\n",
    "# In[7]:\n",
    "\n",
    "\n",
    "9/3\n",
    "\n",
    "\n",
    "# In[8]:\n",
    "\n",
    "\n",
    "8 -3\n",
    "\n",
    "\n",
    "# In[11]:\n",
    "\n",
    "\n",
    "5 ** 2\n",
    "\n",
    "\n",
    "# In[18]:\n",
    "\n",
    "\n",
    "6 ^ 5\n",
    "\n",
    "\n",
    "# In[ ]:\n",
    "\n",
    "\n",
    "maximum , min , numeric operation\n",
    "\n",
    "\n",
    "# In[14]:\n",
    "\n",
    "\n",
    "max(3,4,5)\n",
    "\n",
    "\n",
    "# In[15]:\n",
    "\n",
    "\n",
    "min(1,2,3)\n",
    "\n",
    "\n",
    "# In[19]:\n",
    "\n",
    "\n",
    "import numpy as np\n",
    "\n",
    "\n",
    "# In[ ]:\n",
    "\n",
    "\n",
    "numeric operation - i have used numpy\n",
    "\n",
    "\n",
    "# In[28]:\n",
    "\n",
    "\n",
    "import numpy as np\n",
    "\n",
    "\n",
    "# In[25]:\n",
    "\n",
    "\n",
    "numpy.sqrt(9)\n",
    "\n",
    "\n",
    "# In[27]:\n",
    "\n",
    "\n",
    "vj.sqrt(16)\n",
    "\n",
    "\n",
    "# In[29]:\n",
    "\n",
    "\n",
    "max(1,2,3)\n",
    "\n",
    "\n",
    "# In[ ]:\n",
    "\n",
    "\n",
    "max()\n",
    "\n",
    "\n",
    "# In[ ]:\n",
    "\n",
    "\n",
    "\n",
    "\n",
    "\n",
    "# In[21]:\n",
    "\n",
    "\n",
    "np.sqrt(16)\n",
    "\n",
    "\n",
    "# In[23]:\n",
    "\n",
    "\n",
    "np.max([1,2])\n",
    "\n",
    "\n",
    "# In[ ]:\n",
    "\n",
    "\n",
    "np.\n",
    "\n",
    "\n",
    "# In[30]:\n",
    "\n",
    "\n",
    "name = input(\"enter your name :\")\n",
    "\n",
    "\n",
    "# In[31]:\n",
    "\n",
    "\n",
    "print(name), indent\n",
    "\n",
    "\n",
    "# In[34]:\n",
    "\n",
    "\n",
    "# x = 5\n",
    "if 5 > 2:\n",
    "    print( \" 5 is gt 2\")\n",
    "\n",
    "\n",
    "# In[39]:\n",
    "\n",
    "\n",
    "x = int(input(\"enter number :\"))\n",
    "if 5 > x:\n",
    "    print( \" 5 gt 2\")\n",
    "elif 5 < x:\n",
    "    print(\" 5 gt 10\")\n",
    "else:\n",
    "    print(\"no values gt\")\n",
    "\n",
    "\n",
    "# In[40]:\n",
    "\n",
    "\n",
    "x = 4\n",
    "\n",
    "\n",
    "# In[41]:\n",
    "\n",
    "\n",
    "A = \"salary\"\n",
    "\n",
    "\n",
    "# In[42]:\n",
    "\n",
    "\n",
    "type(x)\n",
    "\n",
    "\n",
    "# In[43]:\n",
    "\n",
    "\n",
    "type(A)\n",
    "\n",
    "\n",
    "# In[ ]:\n",
    "\n",
    "\n",
    "Built in Data types in python\n",
    "\n",
    "\n",
    "# In[ ]:\n",
    "\n",
    "\n",
    "\n",
    "\n",
    "text type   - str\n",
    "numeric type - int , float , complex\n",
    "seqence type - list , tuples , range\n",
    "mapping type - dict\n",
    "\n",
    "set type - set\n",
    "boolean type - bool\n",
    "binary type - bytes\n",
    "None type - None \n",
    " \n",
    "\n",
    "\n",
    "# In[75]:\n",
    "\n",
    "\n",
    "name = \"thillai\" \n",
    "salary = 1j\n",
    "tree = ['mango','apple','orange',8]\n",
    "tuplp1 = ( 'mango','apple','orange' )\n",
    "x = range(0,6)      - 0,1,2,3,4,5\n",
    "y = range(1,3) - 1,2\n",
    "print(x)     \n",
    "dictionary    - english - tamil (  eventually  -  atlast  )\n",
    "\n",
    "x = dict( name = \"thillai\" , age =  34 )\n",
    "    \n",
    "\n",
    "\n",
    "# In[79]:\n",
    "\n",
    "\n",
    "x = dict( name = \"thillai\" , age = 34  )\n",
    "x = set(('mango','apple','orange',8))\n",
    "\n",
    "\n",
    "# In[94]:\n",
    "\n",
    "\n",
    "x = bool(5)\n",
    "x = True\n",
    "x = b'Hello'\n",
    "\n",
    "\n",
    "# In[63]:\n",
    "\n",
    "\n",
    "tree[3]\n",
    "\n",
    "\n",
    "# In[95]:\n",
    "\n",
    "\n",
    "x = \" hello , world\"\n",
    "\n",
    "\n",
    "# In[96]:\n",
    "\n",
    "\n",
    "type(x)\n",
    "\n",
    "\n",
    "# In[97]:\n",
    "\n",
    "\n",
    "print(x[2:5])\n",
    "\n",
    "\n",
    "# In[98]:\n",
    "\n",
    "\n",
    "print(x[:5])\n",
    "\n",
    "\n",
    "# In[99]:\n",
    "\n",
    "\n",
    "print(x[2:])\n",
    "\n",
    "\n",
    "# In[100]:\n",
    "\n",
    "\n",
    "name  = \"thillai , murali\"\n",
    "                -5-4-3-2-10\n",
    "\n",
    "\n",
    "# In[114]:\n",
    "\n",
    "\n",
    "fname = name[-5:-2]\n",
    "\n",
    "\n",
    "# In[105]:\n",
    "\n",
    "\n",
    "fname\n",
    "\n",
    "\n",
    "# In[106]:\n",
    "\n",
    "\n",
    "name.upper()\n",
    "\n",
    "\n",
    "# In[107]:\n",
    "\n",
    "\n",
    "name.lower()\n",
    "\n",
    "\n",
    "# In[108]:\n",
    "\n",
    "\n",
    "name = \"   spaces   thillai  \"\n",
    "\n",
    "\n",
    "# In[109]:\n",
    "\n",
    "\n",
    "name.strip()\n",
    "\n",
    "\n",
    "# In[110]:\n",
    "\n",
    "\n",
    "a = \"Hello , world\"\n",
    "\n",
    "\n",
    "# In[111]:\n",
    "\n",
    "\n",
    "a.replace(\"H\",\"J\")\n",
    "\n",
    "\n",
    "# In[115]:\n",
    "\n",
    "\n",
    "# a[-5.-2]\n",
    "\n",
    "\n",
    "# In[116]:\n",
    "\n",
    "\n",
    "# String funcition \n",
    "\n",
    "\n",
    "# In[117]:\n",
    "\n",
    "\n",
    "a\n",
    "\n",
    "\n",
    "# In[118]:\n",
    "\n",
    "\n",
    "a.split(\",\")\n",
    "\n",
    "\n",
    "# In[119]:\n",
    "\n",
    "\n",
    "fname = \"thillai\"\n",
    "lname = 'murali'\n",
    "\n",
    "\n",
    "# In[120]:\n",
    "\n",
    "\n",
    "# concatenate 2 strings\n",
    "\n",
    "fname + lname\n",
    "\n",
    "\n",
    "# In[121]:\n",
    "\n",
    "\n",
    "fname + ' ' + lname\n",
    "\n",
    "\n",
    "# In[122]:\n",
    "\n",
    "\n",
    "len(name)\n",
    "\n",
    "\n",
    "# In[123]:\n",
    "\n",
    "\n",
    "name\n",
    "\n",
    "\n",
    "# In[124]:\n",
    "\n",
    "\n",
    "x = 'ram'\n",
    "\n",
    "\n",
    "# In[125]:\n",
    "\n",
    "\n",
    "len(x)\n",
    "\n",
    "\n",
    "# In[126]:\n",
    "\n",
    "\n",
    "print( 10 > 9)\n",
    "\n",
    "\n",
    "# In[128]:\n",
    "\n",
    "\n",
    "print(10 == 9)\n",
    "x = 8\n",
    "y = 2\n",
    "\n",
    "\n",
    "# In[ ]:\n",
    "\n",
    "\n",
    "# python Arithmatic operatiors :\n",
    "    \n",
    "    \n",
    "x+y\n",
    "x-y\n",
    "x*y\n",
    "x/y\n",
    "x%y - modulas\n",
    "x ** y\n",
    "\n",
    "# comparision operator\n",
    "\n",
    "x  == y\n",
    "x != y\n",
    "x > y\n",
    "x < y\n",
    "x <= y\n",
    "x >= y\n",
    "\n",
    "# logical operators\n",
    "\n",
    "and   --- x < 5 and x > 10\n",
    "or   x < 5 or x >10\n",
    "not   not(x < 5 and x > 10)\n",
    "\n",
    "\n",
    "# membership operators\n",
    "\n",
    "in    x in y\n",
    "not in   x not in y    \n",
    "    \n",
    "    \n",
    "\n",
    "\n",
    "# In[129]:\n",
    "\n",
    "\n",
    "x = \"thillai\"\n",
    "\"a\" in x\n",
    "\n",
    "\n",
    "# In[ ]:\n",
    "\n",
    "\n",
    "List  -  list are ordered , changable , allow duplicates   , [0] , [1] , .... indexed with\n",
    "\n",
    "\n",
    "# In[159]:\n",
    "\n",
    "\n",
    "mylist = [\"apple\",\"apple\",\"apple\",\"mango\"]\n",
    "\n",
    "\n",
    "# In[131]:\n",
    "\n",
    "\n",
    "mylist  - 0,1,2,3\n",
    "\n",
    "\n",
    "# In[132]:\n",
    "\n",
    "\n",
    "len(mylist)\n",
    "\n",
    "\n",
    "# In[135]:\n",
    "\n",
    "\n",
    "mylist = [1,2,4,True]\n",
    "\n",
    "\n",
    "# In[136]:\n",
    "\n",
    "\n",
    "mylist\n",
    "\n",
    "\n",
    "# In[ ]:\n",
    "\n",
    "\n",
    "tuple - is ordered , unchangable , allow dupicates\n",
    "set - unordered , unchangable , unidexed, no duplicates\n",
    "dictionary - ordered , changable , no duplicate\n",
    "\n",
    "\n",
    "# In[146]:\n",
    "\n",
    "\n",
    "mylist = ['apple', 'lemon', 'mango',1j]\n",
    "\n",
    "\n",
    "# In[147]:\n",
    "\n",
    "\n",
    "mylist\n",
    "\n",
    "\n",
    "# In[141]:\n",
    "\n",
    "\n",
    "mylist[1] = 'orange'\n",
    "\n",
    "\n",
    "# In[142]:\n",
    "\n",
    "\n",
    "mylist\n",
    "\n",
    "\n",
    "# In[144]:\n",
    "\n",
    "\n",
    "mylist.insert(1,'lemon')\n",
    "\n",
    "\n",
    "# In[152]:\n",
    "\n",
    "\n",
    "# thistuple = ('kiwi')\n",
    "mylist.extend(\"kiwi\")\n",
    "\n",
    "\n",
    "# In[153]:\n",
    "\n",
    "\n",
    "mylist\n",
    "\n",
    "\n",
    "# In[154]:\n",
    "\n",
    "\n",
    "mylist.remove('lemon')\n",
    "\n",
    "\n",
    "# In[155]:\n",
    "\n",
    "\n",
    "mylist\n",
    "\n",
    "\n",
    "# In[156]:\n",
    "\n",
    "\n",
    "del mylist\n",
    "\n",
    "\n",
    "# In[158]:\n",
    "\n",
    "\n",
    "# mylist\n",
    "\n",
    "\n",
    "# In[160]:\n",
    "\n",
    "\n",
    "# python loops \n",
    "\n",
    "\n",
    "# In[164]:\n",
    "\n",
    "\n",
    "mylist = ['apple', 'orange', 'banana', 'mango']\n",
    "len(mylist)\n",
    "\n",
    "\n",
    "# In[ ]:\n",
    "\n",
    "\n",
    "for i in (iteration range):\n",
    "    \n",
    "    sttatment to excute\n",
    "    \n",
    "\n",
    "\n",
    "# In[166]:\n",
    "\n",
    "\n",
    "for i in range(0,3):\n",
    "    print(\"hello there\",i)\n",
    "\n",
    "\n",
    "# In[167]:\n",
    "\n",
    "\n",
    "for i in mylist:\n",
    "    print(i)\n",
    "\n",
    "\n",
    "# In[ ]:\n",
    "\n",
    "\n",
    "\n",
    "\n",
    "\n",
    "# In[168]:\n",
    "\n",
    "\n",
    "for i in mylist:\n",
    "    print(i)\n",
    "\n",
    "\n",
    "# In[169]:\n",
    "\n",
    "\n",
    "# through index number\n",
    "\n",
    "for i in range(0,len(mylist)):\n",
    "    print(i,mylist[i])\n",
    "\n",
    "    \n",
    "\n",
    "\n",
    "# In[ ]:\n",
    "\n",
    "\n",
    "while loop  - always condition\n",
    "\n",
    "\n",
    "# In[178]:\n",
    "\n",
    "\n",
    "mylist\n",
    "len(mylist)\n",
    "\n",
    "i = 0 \n",
    "while i > len(mylist):\n",
    "    print(mylist[i])\n",
    "    i = i+1\n",
    "\n",
    "# i = 0  , 0 < 4 len\n",
    "# i 0+1=1  , 1<4\n",
    "\n",
    "\n",
    "# In[174]:\n",
    "\n",
    "\n",
    "mylist[0] \n",
    "mylist[1]\n",
    "\n",
    "\n",
    "# In[175]:\n",
    "\n",
    "\n",
    "mylist\n",
    "\n",
    "\n",
    "# In[183]:\n",
    "\n",
    "\n",
    "mylist.sort(reverse = True)\n",
    "\n",
    "\n",
    "# In[180]:\n",
    "\n",
    "\n",
    "# import pandas as pd\n",
    "\n",
    "\n",
    "# In[184]:\n",
    "\n",
    "\n",
    "mylist\n",
    "\n",
    "\n",
    "# In[185]:\n",
    "\n",
    "\n",
    "list2 = mylist.copy()\n",
    "\n",
    "\n",
    "# In[186]:\n",
    "\n",
    "\n",
    "list2\n",
    "\n",
    "\n",
    "# In[187]:\n",
    "\n",
    "\n",
    "list3 = [1,2,3]\n",
    "\n",
    "\n",
    "# In[188]:\n",
    "\n",
    "\n",
    "list2+list3\n",
    "\n",
    "\n",
    "# In[189]:\n",
    "\n",
    "\n",
    "list2.extend(list3)\n",
    "\n",
    "\n",
    "# In[190]:\n",
    "\n",
    "\n",
    "list2\n",
    "\n",
    "\n",
    "# In[ ]:\n",
    "\n",
    "\n",
    "\n",
    "\n",
    "\n",
    "# In[191]:\n",
    "\n",
    "\n",
    "tupl1 = (\"a\",\"b\",\"c\")\n",
    "tup2 = (1,2,3)\n",
    "\n",
    "\n",
    "# In[192]:\n",
    "\n",
    "\n",
    "tupl1 + tup2\n",
    "\n",
    "\n",
    "# In[194]:\n",
    "\n",
    "\n",
    "set1 = { \"apple \" , \"orange\"}\n",
    "set2 = {1,5,7}\n",
    "\n",
    "\n",
    "# In[197]:\n",
    "\n",
    "\n",
    "set1.add(\"mango\")\n",
    "set1\n",
    "\n",
    "\n",
    "# In[ ]:\n",
    "\n",
    "\n",
    "\n",
    "lower()\n",
    "upper()\n",
    "\n",
    "strip()\n",
    "len()\n",
    "\n",
    "\n",
    "# In[200]:\n",
    "\n",
    "\n",
    "def my_func():\n",
    "    name = input()\n",
    "    age = input()\n",
    "    name = name.upper()\n",
    "    c= int(age)*4\n",
    "    return c,name\n",
    "    \n",
    "    \n",
    "\n",
    "\n",
    "# In[201]:\n",
    "\n",
    "\n",
    "my_func()\n",
    "\n",
    "\n",
    "# In[ ]:\n",
    "\n",
    "\n",
    "def func():\n",
    "    \n",
    "    stttt\n",
    "    \n",
    "    return value\n",
    "    \n",
    "\n",
    "\n",
    "# In[206]:\n",
    "\n",
    "\n",
    "def dob():\n",
    "    age = input(\"enter age:\")\n",
    "    age = int(age) * 365\n",
    "    return age\n",
    "    \n",
    "    \n",
    "\n",
    "\n",
    "# In[207]:\n",
    "\n",
    "\n",
    "dob()\n",
    "\n",
    "\n",
    "# In[211]:\n",
    "\n",
    "\n",
    "def log1():\n",
    "    \n",
    "    x = int(input())\n",
    "    y = np.log(x)\n",
    "    return x,y\n",
    "    \n",
    "\n",
    "\n",
    "# In[214]:\n",
    "\n",
    "\n",
    "log1()\n",
    "\n",
    "\n",
    "# In[210]:\n",
    "\n",
    "\n",
    "\n",
    "\n",
    "\n",
    "# In[ ]:\n",
    "\n",
    "\n",
    "\n",
    "\n",
    "\n",
    "# In[ ]:\n",
    "\n",
    "\n",
    "1.Assessment\n",
    "\n",
    "\n",
    "1.creat list , tuples , set \n",
    "\n",
    "a) perform add , remove elements\n",
    "b) concatenate the list , tuples\n",
    "\n",
    "\n",
    "2. calculate the log values from 1,100 using loop\n",
    "3.create fucntion which asks your bank details , family informaiton , savings balance more than 10000 then calcualte 10 %\n",
    "\n",
    "\n",
    "# In[232]:\n",
    "\n",
    "\n",
    "name = \"thillai\"\n",
    "# for i in name:\n",
    "' '.join(name)\n",
    "\n",
    "\n",
    "# In[231]:\n",
    "\n",
    "\n",
    "for i in range(0,len(name)):\n",
    "    print((name[i]))\n",
    "\n",
    "\n",
    "# In[1]:\n",
    "\n",
    "\n",
    "import pandas as pd\n",
    "\n",
    "\n",
    "# In[2]:\n",
    "\n",
    "\n",
    "store = pd.read_csv(\"store2.csv\")\n",
    "\n",
    "\n",
    "# In[3]:\n",
    "\n",
    "\n",
    "store\n",
    "\n",
    "\n",
    "# In[5]:\n",
    "\n",
    "\n",
    "store.columns\n",
    "\n",
    "\n",
    "# In[7]:\n",
    "\n",
    "\n",
    "x = store['Profit']\n",
    "\n",
    "\n",
    "# In[10]:\n",
    "\n",
    "\n",
    "import numpy as np\n",
    "x.apply(np.cumsum)\n",
    "\n",
    "\n",
    "# In[11]:\n",
    "\n",
    "\n",
    "np.where( store.Region == 'Cental' , 1, 0  )\n",
    "\n",
    "\n",
    "# In[12]:\n",
    "\n",
    "\n",
    "np.sum(store.Profit)\n",
    "\n",
    "\n",
    "# In[13]:\n",
    "\n",
    "\n",
    "np.max(store.Discount)\n",
    "\n",
    "\n",
    "# In[14]:\n",
    "\n",
    "\n",
    "np.min(store.Quantity)\n",
    "\n",
    "\n",
    "# In[20]:\n",
    "\n",
    "\n",
    "x = pd.Series(np.random.randint(0,7,size=10))\n",
    "\n",
    "\n",
    "# In[21]:\n",
    "\n",
    "\n",
    "x\n",
    "\n",
    "\n",
    "# In[22]:\n",
    "\n",
    "\n",
    "x.value_counts()\n",
    "\n",
    "\n",
    "# In[23]:\n",
    "\n",
    "\n",
    "df = pd.DataFrame( np.random.randn(10,4))\n",
    "\n",
    "\n",
    "# In[25]:\n",
    "\n",
    "\n",
    "pieces = [df[:3],df[3:7],df[7:]]\n",
    "\n",
    "\n",
    "# In[26]:\n",
    "\n",
    "\n",
    "pieces\n",
    "\n",
    "\n",
    "# In[27]:\n",
    "\n",
    "\n",
    "pd.concat(pieces)  -- row concatenation , append , row combining , join two df by row wise\n",
    "\n",
    "\n",
    "# In[28]:\n",
    "\n",
    "\n",
    "df = pd.DataFrame( np.random.randn(10,4))\n",
    "\n",
    "\n",
    "# In[30]:\n",
    "\n",
    "\n",
    "df1 = pd.DataFrame( np.random.randn(5,4))\n",
    "\n",
    "\n",
    "# In[31]:\n",
    "\n",
    "\n",
    "df1\n",
    "\n",
    "\n",
    "# In[32]:\n",
    "\n",
    "\n",
    "df3 = pd.concat([df,df1])  - row wise\n",
    "\n",
    "\n",
    "# In[33]:\n",
    "\n",
    "\n",
    "df3\n",
    "\n",
    "\n",
    "# In[58]:\n",
    "\n",
    "\n",
    "# join or merge  ( left , right , inner , outer - SQL)\n",
    "\n",
    "left = pd.DataFrame( {'id':[\"123\",\"456\",\"789\"], \"salary\":[1,2,3] })\n",
    "right = pd.DataFrame( {'cust_id':[\"1231\",\"4561\"], \"age\":[4,5] })\n",
    "\n",
    "\n",
    "# In[60]:\n",
    "\n",
    "\n",
    "left \n",
    "\n",
    "\n",
    "# In[61]:\n",
    "\n",
    "\n",
    "right \n",
    "\n",
    "\n",
    "# In[64]:\n",
    "\n",
    "\n",
    "pd.merge(left,right,left_on=\"id\",right_on=\"cust_id\",how = 'left')\n",
    "\n",
    "\n",
    "# In[63]:\n",
    "\n",
    "\n",
    "pd.merge(left,right,left_on=\"id\",right_on=\"cust_id\",how = 'right')\n",
    "\n",
    "\n",
    "# In[62]:\n",
    "\n",
    "\n",
    "pd.merge(left,right,left_on=\"id\",right_on=\"cust_id\",how = 'inner')\n",
    "\n",
    "\n",
    "# In[57]:\n",
    "\n",
    "\n",
    "pd.merge(left,right,left_on=\"id\",right_on=\"cust_id\",how = 'outer')\n",
    "\n",
    "\n",
    "# In[ ]:\n",
    "\n",
    "\n",
    "merge is for column wise join for 2 diffeerent df\n",
    "\n"
   ]
  },
  {
   "cell_type": "code",
   "execution_count": 1,
   "id": "9ece4786",
   "metadata": {},
   "outputs": [],
   "source": [
    "import pandas as pd"
   ]
  },
  {
   "cell_type": "code",
   "execution_count": 2,
   "id": "94411a43",
   "metadata": {},
   "outputs": [],
   "source": [
    "store = pd.read_csv(\"store2.csv\")"
   ]
  },
  {
   "cell_type": "code",
   "execution_count": 3,
   "id": "bc34e2b7",
   "metadata": {},
   "outputs": [
    {
     "data": {
      "text/plain": [
       "Index(['Row ID', 'Order ID', 'Order Date', 'Ship Date', 'Ship Mode',\n",
       "       'Customer ID', 'Customer Name', 'Segment', 'Country', 'City', 'State',\n",
       "       'Postal Code', 'Region', 'Product ID', 'Category', 'Sub-Category',\n",
       "       'Product Name', 'Sales', 'Quantity', 'Discount', 'Profit', 'rk'],\n",
       "      dtype='object')"
      ]
     },
     "execution_count": 3,
     "metadata": {},
     "output_type": "execute_result"
    }
   ],
   "source": [
    "store.columns"
   ]
  },
  {
   "cell_type": "code",
   "execution_count": 4,
   "id": "9de5c36b",
   "metadata": {
    "collapsed": true
   },
   "outputs": [
    {
     "data": {
      "text/plain": [
       "array(['Aberdeen', 'Abilene', 'Akron', 'Albuquerque', 'Alexandria',\n",
       "       'Allen', 'Allentown', 'Altoona', 'Amarillo', 'Anaheim', 'Andover',\n",
       "       'Ann Arbor', 'Antioch', 'Apopka', 'Apple Valley', 'Appleton',\n",
       "       'Arlington', 'Arlington Heights', 'Arvada', 'Asheville', 'Athens',\n",
       "       'Atlanta', 'Atlantic City', 'Auburn', 'Aurora', 'Austin',\n",
       "       'Avondale', 'Bakersfield', 'Baltimore', 'Bangor', 'Bayonne',\n",
       "       'Baytown', 'Beaumont', 'Bedford', 'Belleville', 'Bellevue',\n",
       "       'Bellingham', 'Bethlehem', 'Beverly', 'Billings', 'Bloomington',\n",
       "       'Boca Raton', 'Boise', 'Bolingbrook', 'Bossier City',\n",
       "       'Bowling Green', 'Boynton Beach', 'Bozeman', 'Brentwood',\n",
       "       'Bridgeton', 'Bristol', 'Broken Arrow', 'Broomfield',\n",
       "       'Brownsville', 'Bryan', 'Buffalo', 'Buffalo Grove',\n",
       "       'Bullhead City', 'Burbank', 'Burlington', 'Caldwell', 'Camarillo',\n",
       "       'Cambridge', 'Canton', 'Carlsbad', 'Carol Stream', 'Carrollton',\n",
       "       'Cary', 'Cedar Hill', 'Cedar Rapids', 'Champaign', 'Chandler',\n",
       "       'Chapel Hill', 'Charlotte', 'Charlottesville', 'Chattanooga',\n",
       "       'Chesapeake', 'Chester', 'Cheyenne', 'Chicago', 'Chico',\n",
       "       'Chula Vista', 'Cincinnati', 'Citrus Heights', 'Clarksville',\n",
       "       'Cleveland', 'Clifton', 'Clinton', 'Clovis', 'Coachella',\n",
       "       'College Station', 'Colorado Springs', 'Columbia', 'Columbus',\n",
       "       'Commerce City', 'Concord', 'Conroe', 'Conway', 'Coon Rapids',\n",
       "       'Coppell', 'Coral Gables', 'Coral Springs', 'Corpus Christi',\n",
       "       'Costa Mesa', 'Cottage Grove', 'Covington', 'Cranston',\n",
       "       'Cuyahoga Falls', 'Dallas', 'Danbury', 'Danville', 'Davis',\n",
       "       'Daytona Beach', 'Dearborn', 'Dearborn Heights', 'Decatur',\n",
       "       'Deer Park', 'Delray Beach', 'Deltona', 'Denver', 'Des Moines',\n",
       "       'Des Plaines', 'Detroit', 'Dover', 'Draper', 'Dublin', 'Dubuque',\n",
       "       'Durham', 'Eagan', 'East Orange', 'East Point', 'Eau Claire',\n",
       "       'Edinburg', 'Edmond', 'Edmonds', 'El Cajon', 'El Paso', 'Elkhart',\n",
       "       'Elmhurst', 'Elyria', 'Encinitas', 'Englewood', 'Escondido',\n",
       "       'Eugene', 'Evanston', 'Everett', 'Fairfield', 'Fargo',\n",
       "       'Farmington', 'Fayetteville', 'Florence', 'Fort Collins',\n",
       "       'Fort Lauderdale', 'Fort Worth', 'Frankfort', 'Franklin',\n",
       "       'Freeport', 'Fremont', 'Fresno', 'Frisco', 'Gaithersburg',\n",
       "       'Garden City', 'Garland', 'Gastonia', 'Georgetown', 'Gilbert',\n",
       "       'Gladstone', 'Glendale', 'Glenview', 'Goldsboro', 'Grand Island',\n",
       "       'Grand Prairie', 'Grand Rapids', 'Grapevine', 'Great Falls',\n",
       "       'Greeley', 'Green Bay', 'Greensboro', 'Greenville', 'Greenwood',\n",
       "       'Gresham', 'Grove City', 'Gulfport', 'Hackensack', 'Hagerstown',\n",
       "       'Haltom City', 'Hamilton', 'Hampton', 'Harlingen', 'Harrisonburg',\n",
       "       'Hattiesburg', 'Helena', 'Hempstead', 'Henderson',\n",
       "       'Hendersonville', 'Hesperia', 'Hialeah', 'Hickory',\n",
       "       'Highland Park', 'Hillsboro', 'Holland', 'Hollywood', 'Holyoke',\n",
       "       'Homestead', 'Hoover', 'Hot Springs', 'Houston',\n",
       "       'Huntington Beach', 'Huntsville', 'Independence', 'Indianapolis',\n",
       "       'Inglewood', 'Iowa City', 'Irving', 'Jackson', 'Jacksonville',\n",
       "       'Jamestown', 'Jefferson City', 'Johnson City', 'Jonesboro',\n",
       "       'Jupiter', 'Keller', 'Kenner', 'Kenosha', 'Kent', 'Kirkwood',\n",
       "       'Kissimmee', 'Knoxville', 'La Crosse', 'La Mesa', 'La Porte',\n",
       "       'La Quinta', 'Lafayette', 'Laguna Niguel', 'Lake Charles',\n",
       "       'Lake Elsinore', 'Lake Forest', 'Lakeland', 'Lakeville',\n",
       "       'Lakewood', 'Lancaster', 'Lansing', 'Laredo', 'Las Cruces',\n",
       "       'Las Vegas', 'Laurel', 'Lawrence', 'Lawton', 'League City',\n",
       "       'Lebanon', 'Lehi', 'Leominster', 'Lewiston', 'Lincoln Park',\n",
       "       'Linden', 'Lindenhurst', 'Little Rock', 'Littleton', 'Lodi',\n",
       "       'Logan', 'Long Beach', 'Longmont', 'Longview', 'Lorain',\n",
       "       'Los Angeles', 'Louisville', 'Loveland', 'Lowell', 'Lubbock',\n",
       "       'Macon', 'Madison', 'Malden', 'Manchester', 'Manhattan',\n",
       "       'Mansfield', 'Manteca', 'Maple Grove', 'Margate', 'Marietta',\n",
       "       'Marion', 'Marlborough', 'Marysville', 'Mason', 'Mcallen',\n",
       "       'Medford', 'Medina', 'Melbourne', 'Memphis', 'Mentor', 'Meriden',\n",
       "       'Meridian', 'Mesa', 'Mesquite', 'Miami', 'Middletown', 'Midland',\n",
       "       'Milford', 'Milwaukee', 'Minneapolis', 'Miramar', 'Mishawaka',\n",
       "       'Mission Viejo', 'Missoula', 'Missouri City', 'Mobile', 'Modesto',\n",
       "       'Monroe', 'Montebello', 'Montgomery', 'Moorhead', 'Moreno Valley',\n",
       "       'Morgan Hill', 'Morristown', 'Mount Pleasant', 'Mount Vernon',\n",
       "       'Murfreesboro', 'Murray', 'Murrieta', 'Muskogee', 'Naperville',\n",
       "       'Nashua', 'Nashville', 'New Albany', 'New Bedford',\n",
       "       'New Brunswick', 'New Castle', 'New Rochelle', 'New York City',\n",
       "       'Newark', 'Newport News', 'Niagara Falls', 'Noblesville',\n",
       "       'Norfolk', 'Normal', 'Norman', 'North Charleston',\n",
       "       'North Las Vegas', 'North Miami', 'Norwich', 'Oak Park', 'Oakland',\n",
       "       'Oceanside', 'Odessa', 'Oklahoma City', 'Olathe', 'Olympia',\n",
       "       'Omaha', 'Ontario', 'Orange', 'Orem', 'Orland Park', 'Orlando',\n",
       "       'Ormond Beach', 'Oswego', 'Overland Park', 'Owensboro', 'Oxnard',\n",
       "       'Palatine', 'Palm Coast', 'Park Ridge', 'Parker', 'Parma',\n",
       "       'Pasadena', 'Pasco', 'Passaic', 'Paterson', 'Pearland',\n",
       "       'Pembroke Pines', 'Pensacola', 'Peoria', 'Perth Amboy', 'Pharr',\n",
       "       'Philadelphia', 'Phoenix', 'Pico Rivera', 'Pine Bluff',\n",
       "       'Plainfield', 'Plano', 'Plantation', 'Pleasant Grove', 'Pocatello',\n",
       "       'Pomona', 'Pompano Beach', 'Port Arthur', 'Port Orange',\n",
       "       'Port Saint Lucie', 'Portage', 'Portland', 'Providence', 'Provo',\n",
       "       'Pueblo', 'Quincy', 'Raleigh', 'Rancho Cucamonga', 'Rapid City',\n",
       "       'Reading', 'Redding', 'Redlands', 'Redmond', 'Redondo Beach',\n",
       "       'Redwood City', 'Reno', 'Renton', 'Revere', 'Richardson',\n",
       "       'Richmond', 'Rio Rancho', 'Riverside', 'Rochester',\n",
       "       'Rochester Hills', 'Rock Hill', 'Rockford', 'Rockville', 'Rogers',\n",
       "       'Rome', 'Romeoville', 'Roseville', 'Roswell', 'Round Rock',\n",
       "       'Royal Oak', 'Sacramento', 'Saginaw', 'Saint Charles',\n",
       "       'Saint Cloud', 'Saint Louis', 'Saint Paul', 'Saint Peters',\n",
       "       'Saint Petersburg', 'Salem', 'Salinas', 'Salt Lake City',\n",
       "       'San Angelo', 'San Antonio', 'San Bernardino', 'San Clemente',\n",
       "       'San Diego', 'San Francisco', 'San Gabriel', 'San Jose',\n",
       "       'San Luis Obispo', 'San Marcos', 'San Mateo', 'Sandy Springs',\n",
       "       'Sanford', 'Santa Ana', 'Santa Barbara', 'Santa Clara', 'Santa Fe',\n",
       "       'Santa Maria', 'Scottsdale', 'Seattle', 'Sheboygan', 'Shelton',\n",
       "       'Sierra Vista', 'Sioux Falls', 'Skokie', 'Smyrna', 'South Bend',\n",
       "       'Southaven', 'Sparks', 'Spokane', 'Springdale', 'Springfield',\n",
       "       'Sterling Heights', 'Stockton', 'Suffolk', 'Summerville',\n",
       "       'Sunnyvale', 'Superior', 'Tallahassee', 'Tamarac', 'Tampa',\n",
       "       'Taylor', 'Temecula', 'Tempe', 'Texarkana', 'Texas City',\n",
       "       'The Colony', 'Thomasville', 'Thornton', 'Thousand Oaks', 'Tigard',\n",
       "       'Tinley Park', 'Toledo', 'Torrance', 'Trenton', 'Troy', 'Tucson',\n",
       "       'Tulsa', 'Tuscaloosa', 'Twin Falls', 'Tyler', 'Urbandale', 'Utica',\n",
       "       'Vacaville', 'Vallejo', 'Vancouver', 'Vineland', 'Virginia Beach',\n",
       "       'Visalia', 'Waco', 'Warner Robins', 'Warwick', 'Washington',\n",
       "       'Waterbury', 'Waterloo', 'Watertown', 'Waukesha', 'Wausau',\n",
       "       'Waynesboro', 'West Allis', 'West Jordan', 'West Palm Beach',\n",
       "       'Westfield', 'Westland', 'Westminster', 'Wheeling', 'Whittier',\n",
       "       'Wichita', 'Wilmington', 'Wilson', 'Woodbury', 'Woodland',\n",
       "       'Woodstock', 'Woonsocket', 'Yonkers', 'York', 'Yucaipa', 'Yuma'],\n",
       "      dtype=object)"
      ]
     },
     "execution_count": 4,
     "metadata": {},
     "output_type": "execute_result"
    }
   ],
   "source": [
    "store.City.unique()"
   ]
  },
  {
   "cell_type": "code",
   "execution_count": 6,
   "id": "90fe1e70",
   "metadata": {
    "collapsed": true
   },
   "outputs": [
    {
     "data": {
      "text/html": [
       "<div>\n",
       "<style scoped>\n",
       "    .dataframe tbody tr th:only-of-type {\n",
       "        vertical-align: middle;\n",
       "    }\n",
       "\n",
       "    .dataframe tbody tr th {\n",
       "        vertical-align: top;\n",
       "    }\n",
       "\n",
       "    .dataframe thead th {\n",
       "        text-align: right;\n",
       "    }\n",
       "</style>\n",
       "<table border=\"1\" class=\"dataframe\">\n",
       "  <thead>\n",
       "    <tr style=\"text-align: right;\">\n",
       "      <th></th>\n",
       "      <th>City</th>\n",
       "      <th>Discount</th>\n",
       "    </tr>\n",
       "  </thead>\n",
       "  <tbody>\n",
       "    <tr>\n",
       "      <th>0</th>\n",
       "      <td>Aberdeen</td>\n",
       "      <td>1</td>\n",
       "    </tr>\n",
       "    <tr>\n",
       "      <th>1</th>\n",
       "      <td>Abilene</td>\n",
       "      <td>1</td>\n",
       "    </tr>\n",
       "    <tr>\n",
       "      <th>2</th>\n",
       "      <td>Akron</td>\n",
       "      <td>21</td>\n",
       "    </tr>\n",
       "    <tr>\n",
       "      <th>3</th>\n",
       "      <td>Albuquerque</td>\n",
       "      <td>14</td>\n",
       "    </tr>\n",
       "    <tr>\n",
       "      <th>4</th>\n",
       "      <td>Alexandria</td>\n",
       "      <td>14</td>\n",
       "    </tr>\n",
       "    <tr>\n",
       "      <th>...</th>\n",
       "      <td>...</td>\n",
       "      <td>...</td>\n",
       "    </tr>\n",
       "    <tr>\n",
       "      <th>524</th>\n",
       "      <td>Woonsocket</td>\n",
       "      <td>4</td>\n",
       "    </tr>\n",
       "    <tr>\n",
       "      <th>525</th>\n",
       "      <td>Yonkers</td>\n",
       "      <td>15</td>\n",
       "    </tr>\n",
       "    <tr>\n",
       "      <th>526</th>\n",
       "      <td>York</td>\n",
       "      <td>5</td>\n",
       "    </tr>\n",
       "    <tr>\n",
       "      <th>527</th>\n",
       "      <td>Yucaipa</td>\n",
       "      <td>1</td>\n",
       "    </tr>\n",
       "    <tr>\n",
       "      <th>528</th>\n",
       "      <td>Yuma</td>\n",
       "      <td>4</td>\n",
       "    </tr>\n",
       "  </tbody>\n",
       "</table>\n",
       "<p>529 rows × 2 columns</p>\n",
       "</div>"
      ],
      "text/plain": [
       "            City  Discount\n",
       "0       Aberdeen         1\n",
       "1        Abilene         1\n",
       "2          Akron        21\n",
       "3    Albuquerque        14\n",
       "4     Alexandria        14\n",
       "..           ...       ...\n",
       "524   Woonsocket         4\n",
       "525      Yonkers        15\n",
       "526         York         5\n",
       "527      Yucaipa         1\n",
       "528         Yuma         4\n",
       "\n",
       "[529 rows x 2 columns]"
      ]
     },
     "execution_count": 6,
     "metadata": {},
     "output_type": "execute_result"
    }
   ],
   "source": [
    "store.groupby(['City'],as_index=False)['Discount'].count()"
   ]
  },
  {
   "cell_type": "code",
   "execution_count": 8,
   "id": "f501bb27",
   "metadata": {
    "collapsed": true
   },
   "outputs": [
    {
     "data": {
      "text/html": [
       "<div>\n",
       "<style scoped>\n",
       "    .dataframe tbody tr th:only-of-type {\n",
       "        vertical-align: middle;\n",
       "    }\n",
       "\n",
       "    .dataframe tbody tr th {\n",
       "        vertical-align: top;\n",
       "    }\n",
       "\n",
       "    .dataframe thead th {\n",
       "        text-align: right;\n",
       "    }\n",
       "</style>\n",
       "<table border=\"1\" class=\"dataframe\">\n",
       "  <thead>\n",
       "    <tr style=\"text-align: right;\">\n",
       "      <th></th>\n",
       "      <th>City</th>\n",
       "      <th>State</th>\n",
       "      <th>Discount</th>\n",
       "      <th>Profit</th>\n",
       "    </tr>\n",
       "  </thead>\n",
       "  <tbody>\n",
       "    <tr>\n",
       "      <th>0</th>\n",
       "      <td>Aberdeen</td>\n",
       "      <td>South Dakota</td>\n",
       "      <td>1</td>\n",
       "      <td>1</td>\n",
       "    </tr>\n",
       "    <tr>\n",
       "      <th>1</th>\n",
       "      <td>Abilene</td>\n",
       "      <td>Texas</td>\n",
       "      <td>1</td>\n",
       "      <td>1</td>\n",
       "    </tr>\n",
       "    <tr>\n",
       "      <th>2</th>\n",
       "      <td>Akron</td>\n",
       "      <td>Ohio</td>\n",
       "      <td>21</td>\n",
       "      <td>21</td>\n",
       "    </tr>\n",
       "    <tr>\n",
       "      <th>3</th>\n",
       "      <td>Albuquerque</td>\n",
       "      <td>New Mexico</td>\n",
       "      <td>14</td>\n",
       "      <td>14</td>\n",
       "    </tr>\n",
       "    <tr>\n",
       "      <th>4</th>\n",
       "      <td>Alexandria</td>\n",
       "      <td>Virginia</td>\n",
       "      <td>14</td>\n",
       "      <td>14</td>\n",
       "    </tr>\n",
       "    <tr>\n",
       "      <th>...</th>\n",
       "      <td>...</td>\n",
       "      <td>...</td>\n",
       "      <td>...</td>\n",
       "      <td>...</td>\n",
       "    </tr>\n",
       "    <tr>\n",
       "      <th>597</th>\n",
       "      <td>Woonsocket</td>\n",
       "      <td>Rhode Island</td>\n",
       "      <td>4</td>\n",
       "      <td>4</td>\n",
       "    </tr>\n",
       "    <tr>\n",
       "      <th>598</th>\n",
       "      <td>Yonkers</td>\n",
       "      <td>New York</td>\n",
       "      <td>15</td>\n",
       "      <td>15</td>\n",
       "    </tr>\n",
       "    <tr>\n",
       "      <th>599</th>\n",
       "      <td>York</td>\n",
       "      <td>Pennsylvania</td>\n",
       "      <td>5</td>\n",
       "      <td>5</td>\n",
       "    </tr>\n",
       "    <tr>\n",
       "      <th>600</th>\n",
       "      <td>Yucaipa</td>\n",
       "      <td>California</td>\n",
       "      <td>1</td>\n",
       "      <td>1</td>\n",
       "    </tr>\n",
       "    <tr>\n",
       "      <th>601</th>\n",
       "      <td>Yuma</td>\n",
       "      <td>Arizona</td>\n",
       "      <td>4</td>\n",
       "      <td>4</td>\n",
       "    </tr>\n",
       "  </tbody>\n",
       "</table>\n",
       "<p>602 rows × 4 columns</p>\n",
       "</div>"
      ],
      "text/plain": [
       "            City         State  Discount  Profit\n",
       "0       Aberdeen  South Dakota         1       1\n",
       "1        Abilene         Texas         1       1\n",
       "2          Akron          Ohio        21      21\n",
       "3    Albuquerque    New Mexico        14      14\n",
       "4     Alexandria      Virginia        14      14\n",
       "..           ...           ...       ...     ...\n",
       "597   Woonsocket  Rhode Island         4       4\n",
       "598      Yonkers      New York        15      15\n",
       "599         York  Pennsylvania         5       5\n",
       "600      Yucaipa    California         1       1\n",
       "601         Yuma       Arizona         4       4\n",
       "\n",
       "[602 rows x 4 columns]"
      ]
     },
     "execution_count": 8,
     "metadata": {},
     "output_type": "execute_result"
    }
   ],
   "source": [
    "store.groupby(['City','State'],as_index=False)[['Discount','Profit']].count()"
   ]
  },
  {
   "cell_type": "code",
   "execution_count": 9,
   "id": "4469de9e",
   "metadata": {},
   "outputs": [],
   "source": [
    "left = pd.DataFrame( {'name':[\"kaviya\",\"kaviya\",\"ram\",\"ravi\"], \"salary\":[1,2,3,6] })"
   ]
  },
  {
   "cell_type": "code",
   "execution_count": 10,
   "id": "651c7149",
   "metadata": {},
   "outputs": [
    {
     "data": {
      "text/html": [
       "<div>\n",
       "<style scoped>\n",
       "    .dataframe tbody tr th:only-of-type {\n",
       "        vertical-align: middle;\n",
       "    }\n",
       "\n",
       "    .dataframe tbody tr th {\n",
       "        vertical-align: top;\n",
       "    }\n",
       "\n",
       "    .dataframe thead th {\n",
       "        text-align: right;\n",
       "    }\n",
       "</style>\n",
       "<table border=\"1\" class=\"dataframe\">\n",
       "  <thead>\n",
       "    <tr style=\"text-align: right;\">\n",
       "      <th></th>\n",
       "      <th>name</th>\n",
       "      <th>salary</th>\n",
       "    </tr>\n",
       "  </thead>\n",
       "  <tbody>\n",
       "    <tr>\n",
       "      <th>0</th>\n",
       "      <td>kaviya</td>\n",
       "      <td>1</td>\n",
       "    </tr>\n",
       "    <tr>\n",
       "      <th>1</th>\n",
       "      <td>kaviya</td>\n",
       "      <td>2</td>\n",
       "    </tr>\n",
       "    <tr>\n",
       "      <th>2</th>\n",
       "      <td>ram</td>\n",
       "      <td>3</td>\n",
       "    </tr>\n",
       "    <tr>\n",
       "      <th>3</th>\n",
       "      <td>ravi</td>\n",
       "      <td>6</td>\n",
       "    </tr>\n",
       "  </tbody>\n",
       "</table>\n",
       "</div>"
      ],
      "text/plain": [
       "     name  salary\n",
       "0  kaviya       1\n",
       "1  kaviya       2\n",
       "2     ram       3\n",
       "3    ravi       6"
      ]
     },
     "execution_count": 10,
     "metadata": {},
     "output_type": "execute_result"
    }
   ],
   "source": [
    "left"
   ]
  },
  {
   "cell_type": "code",
   "execution_count": 13,
   "id": "3e74b205",
   "metadata": {},
   "outputs": [
    {
     "data": {
      "text/html": [
       "<div>\n",
       "<style scoped>\n",
       "    .dataframe tbody tr th:only-of-type {\n",
       "        vertical-align: middle;\n",
       "    }\n",
       "\n",
       "    .dataframe tbody tr th {\n",
       "        vertical-align: top;\n",
       "    }\n",
       "\n",
       "    .dataframe thead th {\n",
       "        text-align: right;\n",
       "    }\n",
       "</style>\n",
       "<table border=\"1\" class=\"dataframe\">\n",
       "  <thead>\n",
       "    <tr style=\"text-align: right;\">\n",
       "      <th></th>\n",
       "      <th>name</th>\n",
       "      <th>salary</th>\n",
       "    </tr>\n",
       "  </thead>\n",
       "  <tbody>\n",
       "    <tr>\n",
       "      <th>0</th>\n",
       "      <td>kaviya</td>\n",
       "      <td>2</td>\n",
       "    </tr>\n",
       "    <tr>\n",
       "      <th>1</th>\n",
       "      <td>ram</td>\n",
       "      <td>3</td>\n",
       "    </tr>\n",
       "    <tr>\n",
       "      <th>2</th>\n",
       "      <td>ravi</td>\n",
       "      <td>6</td>\n",
       "    </tr>\n",
       "  </tbody>\n",
       "</table>\n",
       "</div>"
      ],
      "text/plain": [
       "     name  salary\n",
       "0  kaviya       2\n",
       "1     ram       3\n",
       "2    ravi       6"
      ]
     },
     "execution_count": 13,
     "metadata": {},
     "output_type": "execute_result"
    }
   ],
   "source": [
    "left.groupby('name',as_index=False)['salary'].max()"
   ]
  },
  {
   "cell_type": "code",
   "execution_count": 16,
   "id": "9e71bb59",
   "metadata": {},
   "outputs": [
    {
     "data": {
      "text/html": [
       "<div>\n",
       "<style scoped>\n",
       "    .dataframe tbody tr th:only-of-type {\n",
       "        vertical-align: middle;\n",
       "    }\n",
       "\n",
       "    .dataframe tbody tr th {\n",
       "        vertical-align: top;\n",
       "    }\n",
       "\n",
       "    .dataframe thead th {\n",
       "        text-align: right;\n",
       "    }\n",
       "</style>\n",
       "<table border=\"1\" class=\"dataframe\">\n",
       "  <thead>\n",
       "    <tr style=\"text-align: right;\">\n",
       "      <th></th>\n",
       "      <th>name</th>\n",
       "      <th>salary</th>\n",
       "    </tr>\n",
       "  </thead>\n",
       "  <tbody>\n",
       "    <tr>\n",
       "      <th>3</th>\n",
       "      <td>ravi</td>\n",
       "      <td>6</td>\n",
       "    </tr>\n",
       "  </tbody>\n",
       "</table>\n",
       "</div>"
      ],
      "text/plain": [
       "   name  salary\n",
       "3  ravi       6"
      ]
     },
     "execution_count": 16,
     "metadata": {},
     "output_type": "execute_result"
    }
   ],
   "source": [
    "left [ left.salary == left.salary.max() ]"
   ]
  },
  {
   "cell_type": "code",
   "execution_count": 20,
   "id": "c4174ff1",
   "metadata": {},
   "outputs": [],
   "source": [
    "x = left [  left.salary == left.salary.max() ]"
   ]
  },
  {
   "cell_type": "code",
   "execution_count": 21,
   "id": "6e90e563",
   "metadata": {},
   "outputs": [
    {
     "data": {
      "text/html": [
       "<div>\n",
       "<style scoped>\n",
       "    .dataframe tbody tr th:only-of-type {\n",
       "        vertical-align: middle;\n",
       "    }\n",
       "\n",
       "    .dataframe tbody tr th {\n",
       "        vertical-align: top;\n",
       "    }\n",
       "\n",
       "    .dataframe thead th {\n",
       "        text-align: right;\n",
       "    }\n",
       "</style>\n",
       "<table border=\"1\" class=\"dataframe\">\n",
       "  <thead>\n",
       "    <tr style=\"text-align: right;\">\n",
       "      <th></th>\n",
       "      <th>name</th>\n",
       "      <th>salary</th>\n",
       "    </tr>\n",
       "  </thead>\n",
       "  <tbody>\n",
       "    <tr>\n",
       "      <th>3</th>\n",
       "      <td>ravi</td>\n",
       "      <td>6</td>\n",
       "    </tr>\n",
       "  </tbody>\n",
       "</table>\n",
       "</div>"
      ],
      "text/plain": [
       "   name  salary\n",
       "3  ravi       6"
      ]
     },
     "execution_count": 21,
     "metadata": {},
     "output_type": "execute_result"
    }
   ],
   "source": [
    "x"
   ]
  },
  {
   "cell_type": "code",
   "execution_count": 22,
   "id": "72f329ed",
   "metadata": {},
   "outputs": [
    {
     "data": {
      "text/html": [
       "<div>\n",
       "<style scoped>\n",
       "    .dataframe tbody tr th:only-of-type {\n",
       "        vertical-align: middle;\n",
       "    }\n",
       "\n",
       "    .dataframe tbody tr th {\n",
       "        vertical-align: top;\n",
       "    }\n",
       "\n",
       "    .dataframe thead th {\n",
       "        text-align: right;\n",
       "    }\n",
       "</style>\n",
       "<table border=\"1\" class=\"dataframe\">\n",
       "  <thead>\n",
       "    <tr style=\"text-align: right;\">\n",
       "      <th></th>\n",
       "      <th>name</th>\n",
       "      <th>salary</th>\n",
       "    </tr>\n",
       "  </thead>\n",
       "  <tbody>\n",
       "    <tr>\n",
       "      <th>0</th>\n",
       "      <td>kaviya</td>\n",
       "      <td>1</td>\n",
       "    </tr>\n",
       "    <tr>\n",
       "      <th>1</th>\n",
       "      <td>kaviya</td>\n",
       "      <td>2</td>\n",
       "    </tr>\n",
       "    <tr>\n",
       "      <th>2</th>\n",
       "      <td>ram</td>\n",
       "      <td>3</td>\n",
       "    </tr>\n",
       "  </tbody>\n",
       "</table>\n",
       "</div>"
      ],
      "text/plain": [
       "     name  salary\n",
       "0  kaviya       1\n",
       "1  kaviya       2\n",
       "2     ram       3"
      ]
     },
     "execution_count": 22,
     "metadata": {},
     "output_type": "execute_result"
    }
   ],
   "source": [
    "left[~left.name.isin(x.name)]"
   ]
  },
  {
   "cell_type": "code",
   "execution_count": null,
   "id": "bef695f3",
   "metadata": {},
   "outputs": [],
   "source": [
    "map function - map(fun , iterable object)"
   ]
  },
  {
   "cell_type": "code",
   "execution_count": 1,
   "id": "8ef80d38",
   "metadata": {},
   "outputs": [],
   "source": [
    "def addition(n):\n",
    "    return n+n"
   ]
  },
  {
   "cell_type": "code",
   "execution_count": 2,
   "id": "fa252c38",
   "metadata": {},
   "outputs": [],
   "source": [
    "numbers = (1,2,3,4)"
   ]
  },
  {
   "cell_type": "code",
   "execution_count": 4,
   "id": "d9afab22",
   "metadata": {},
   "outputs": [],
   "source": [
    "res = map(addition,numbers)"
   ]
  },
  {
   "cell_type": "code",
   "execution_count": 7,
   "id": "e255cfa9",
   "metadata": {},
   "outputs": [
    {
     "name": "stdout",
     "output_type": "stream",
     "text": [
      "[2, 4, 6, 8]\n"
     ]
    }
   ],
   "source": [
    "print(list(res))"
   ]
  },
  {
   "cell_type": "code",
   "execution_count": 8,
   "id": "3cbc1008",
   "metadata": {},
   "outputs": [],
   "source": [
    "numbers = (1,2,3,4)\n",
    "res = map( lambda x:x + x , numbers )"
   ]
  },
  {
   "cell_type": "code",
   "execution_count": 9,
   "id": "06915f5c",
   "metadata": {},
   "outputs": [
    {
     "name": "stdout",
     "output_type": "stream",
     "text": [
      "[2, 4, 6, 8]\n"
     ]
    }
   ],
   "source": [
    "print(list(res))"
   ]
  },
  {
   "cell_type": "code",
   "execution_count": 10,
   "id": "fb04b9e6",
   "metadata": {},
   "outputs": [],
   "source": [
    "numbers1 = [1,2,3]\n",
    "numbers2 = [4,5,6]"
   ]
  },
  {
   "cell_type": "code",
   "execution_count": 11,
   "id": "3bec0ef1",
   "metadata": {},
   "outputs": [],
   "source": [
    "res = map( lambda x,y : x+ y , numbers1,numbers2 )"
   ]
  },
  {
   "cell_type": "code",
   "execution_count": 12,
   "id": "102872f8",
   "metadata": {},
   "outputs": [
    {
     "name": "stdout",
     "output_type": "stream",
     "text": [
      "[5, 7, 9]\n"
     ]
    }
   ],
   "source": [
    "print(list(res))"
   ]
  },
  {
   "cell_type": "code",
   "execution_count": 19,
   "id": "42a2505c",
   "metadata": {},
   "outputs": [],
   "source": [
    "name = [\"murali\",\"thillai\"]"
   ]
  },
  {
   "cell_type": "code",
   "execution_count": 20,
   "id": "a36a0aee",
   "metadata": {},
   "outputs": [],
   "source": [
    "x = map(str.upper,name)"
   ]
  },
  {
   "cell_type": "code",
   "execution_count": 21,
   "id": "0d0ce6ee",
   "metadata": {},
   "outputs": [
    {
     "name": "stdout",
     "output_type": "stream",
     "text": [
      "['MURALI', 'THILLAI']\n"
     ]
    }
   ],
   "source": [
    "print(list(x))"
   ]
  },
  {
   "cell_type": "code",
   "execution_count": 22,
   "id": "939314cd",
   "metadata": {},
   "outputs": [],
   "source": [
    "# pandas - Reshaping\n",
    "\n",
    "import pandas as pd\n"
   ]
  },
  {
   "cell_type": "code",
   "execution_count": 23,
   "id": "23284286",
   "metadata": {},
   "outputs": [],
   "source": [
    "tuples = list( zip ( [\"bar\",\"bar\",\"baz\",\"baz\",\"foo\",\"foo\",\"qux\",\"qux\"],\n",
    "                    [\"one\",\"two\",\"one\",\"two\",\"one\",\"two\",\"one\",\"two\"]\n",
    "                      ))"
   ]
  },
  {
   "cell_type": "code",
   "execution_count": 24,
   "id": "9f768daf",
   "metadata": {},
   "outputs": [
    {
     "data": {
      "text/plain": [
       "[('bar', 'one'),\n",
       " ('bar', 'two'),\n",
       " ('baz', 'one'),\n",
       " ('baz', 'two'),\n",
       " ('foo', 'one'),\n",
       " ('foo', 'two'),\n",
       " ('qux', 'one'),\n",
       " ('qux', 'two')]"
      ]
     },
     "execution_count": 24,
     "metadata": {},
     "output_type": "execute_result"
    }
   ],
   "source": [
    "tuples"
   ]
  },
  {
   "cell_type": "code",
   "execution_count": 25,
   "id": "185d84a2",
   "metadata": {},
   "outputs": [],
   "source": [
    "index = pd.MultiIndex.from_tuples(tuples,names = ['first','second'])"
   ]
  },
  {
   "cell_type": "code",
   "execution_count": 26,
   "id": "fd69a808",
   "metadata": {},
   "outputs": [
    {
     "data": {
      "text/plain": [
       "MultiIndex([('bar', 'one'),\n",
       "            ('bar', 'two'),\n",
       "            ('baz', 'one'),\n",
       "            ('baz', 'two'),\n",
       "            ('foo', 'one'),\n",
       "            ('foo', 'two'),\n",
       "            ('qux', 'one'),\n",
       "            ('qux', 'two')],\n",
       "           names=['first', 'second'])"
      ]
     },
     "execution_count": 26,
     "metadata": {},
     "output_type": "execute_result"
    }
   ],
   "source": [
    "index"
   ]
  },
  {
   "cell_type": "code",
   "execution_count": 28,
   "id": "891d8f2d",
   "metadata": {},
   "outputs": [],
   "source": [
    "import numpy as np\n",
    "df = pd.DataFrame(np.random.randn(8,2) , index = index , columns = [\"A\",\"B\"])"
   ]
  },
  {
   "cell_type": "code",
   "execution_count": 31,
   "id": "69a556c4",
   "metadata": {},
   "outputs": [],
   "source": [
    "df2 =df[:4]"
   ]
  },
  {
   "cell_type": "code",
   "execution_count": 32,
   "id": "f1abe06c",
   "metadata": {},
   "outputs": [
    {
     "data": {
      "text/html": [
       "<div>\n",
       "<style scoped>\n",
       "    .dataframe tbody tr th:only-of-type {\n",
       "        vertical-align: middle;\n",
       "    }\n",
       "\n",
       "    .dataframe tbody tr th {\n",
       "        vertical-align: top;\n",
       "    }\n",
       "\n",
       "    .dataframe thead th {\n",
       "        text-align: right;\n",
       "    }\n",
       "</style>\n",
       "<table border=\"1\" class=\"dataframe\">\n",
       "  <thead>\n",
       "    <tr style=\"text-align: right;\">\n",
       "      <th></th>\n",
       "      <th></th>\n",
       "      <th>A</th>\n",
       "      <th>B</th>\n",
       "    </tr>\n",
       "    <tr>\n",
       "      <th>first</th>\n",
       "      <th>second</th>\n",
       "      <th></th>\n",
       "      <th></th>\n",
       "    </tr>\n",
       "  </thead>\n",
       "  <tbody>\n",
       "    <tr>\n",
       "      <th rowspan=\"2\" valign=\"top\">bar</th>\n",
       "      <th>one</th>\n",
       "      <td>1.204149</td>\n",
       "      <td>0.012901</td>\n",
       "    </tr>\n",
       "    <tr>\n",
       "      <th>two</th>\n",
       "      <td>2.461511</td>\n",
       "      <td>0.740355</td>\n",
       "    </tr>\n",
       "    <tr>\n",
       "      <th rowspan=\"2\" valign=\"top\">baz</th>\n",
       "      <th>one</th>\n",
       "      <td>-0.131365</td>\n",
       "      <td>-0.867005</td>\n",
       "    </tr>\n",
       "    <tr>\n",
       "      <th>two</th>\n",
       "      <td>-0.374377</td>\n",
       "      <td>-1.026525</td>\n",
       "    </tr>\n",
       "  </tbody>\n",
       "</table>\n",
       "</div>"
      ],
      "text/plain": [
       "                     A         B\n",
       "first second                    \n",
       "bar   one     1.204149  0.012901\n",
       "      two     2.461511  0.740355\n",
       "baz   one    -0.131365 -0.867005\n",
       "      two    -0.374377 -1.026525"
      ]
     },
     "execution_count": 32,
     "metadata": {},
     "output_type": "execute_result"
    }
   ],
   "source": [
    "df2"
   ]
  },
  {
   "cell_type": "code",
   "execution_count": 33,
   "id": "5f8eb265",
   "metadata": {},
   "outputs": [
    {
     "data": {
      "text/plain": [
       "first  second   \n",
       "bar    one     A    1.204149\n",
       "               B    0.012901\n",
       "       two     A    2.461511\n",
       "               B    0.740355\n",
       "baz    one     A   -0.131365\n",
       "               B   -0.867005\n",
       "       two     A   -0.374377\n",
       "               B   -1.026525\n",
       "dtype: float64"
      ]
     },
     "execution_count": 33,
     "metadata": {},
     "output_type": "execute_result"
    }
   ],
   "source": [
    "df2.stack()"
   ]
  },
  {
   "cell_type": "code",
   "execution_count": 37,
   "id": "6a59ade1",
   "metadata": {},
   "outputs": [
    {
     "data": {
      "text/html": [
       "<div>\n",
       "<style scoped>\n",
       "    .dataframe tbody tr th:only-of-type {\n",
       "        vertical-align: middle;\n",
       "    }\n",
       "\n",
       "    .dataframe tbody tr th {\n",
       "        vertical-align: top;\n",
       "    }\n",
       "\n",
       "    .dataframe thead tr th {\n",
       "        text-align: left;\n",
       "    }\n",
       "\n",
       "    .dataframe thead tr:last-of-type th {\n",
       "        text-align: right;\n",
       "    }\n",
       "</style>\n",
       "<table border=\"1\" class=\"dataframe\">\n",
       "  <thead>\n",
       "    <tr>\n",
       "      <th></th>\n",
       "      <th colspan=\"2\" halign=\"left\">A</th>\n",
       "      <th colspan=\"2\" halign=\"left\">B</th>\n",
       "    </tr>\n",
       "    <tr>\n",
       "      <th>first</th>\n",
       "      <th>bar</th>\n",
       "      <th>baz</th>\n",
       "      <th>bar</th>\n",
       "      <th>baz</th>\n",
       "    </tr>\n",
       "    <tr>\n",
       "      <th>second</th>\n",
       "      <th></th>\n",
       "      <th></th>\n",
       "      <th></th>\n",
       "      <th></th>\n",
       "    </tr>\n",
       "  </thead>\n",
       "  <tbody>\n",
       "    <tr>\n",
       "      <th>one</th>\n",
       "      <td>1.204149</td>\n",
       "      <td>-0.131365</td>\n",
       "      <td>0.012901</td>\n",
       "      <td>-0.867005</td>\n",
       "    </tr>\n",
       "    <tr>\n",
       "      <th>two</th>\n",
       "      <td>2.461511</td>\n",
       "      <td>-0.374377</td>\n",
       "      <td>0.740355</td>\n",
       "      <td>-1.026525</td>\n",
       "    </tr>\n",
       "  </tbody>\n",
       "</table>\n",
       "</div>"
      ],
      "text/plain": [
       "               A                   B          \n",
       "first        bar       baz       bar       baz\n",
       "second                                        \n",
       "one     1.204149 -0.131365  0.012901 -0.867005\n",
       "two     2.461511 -0.374377  0.740355 -1.026525"
      ]
     },
     "execution_count": 37,
     "metadata": {},
     "output_type": "execute_result"
    }
   ],
   "source": [
    "df2.unstack(0)"
   ]
  },
  {
   "cell_type": "code",
   "execution_count": 41,
   "id": "52ffe3f6",
   "metadata": {},
   "outputs": [],
   "source": [
    "# pivot table \n",
    "\n",
    "df = pd.DataFrame( { \"A\":[\"one\",\"two\",\"one\",\"three\"] *3 , \n",
    "                      \"B\": [\"A\",\"B\",\"C\"] * 4,\n",
    "                      \"C\":[\"foo\",\"foo\",\"foo\",\"bar\",\"bar\",\"bar\"] * 2,\n",
    "                       \"D\":np.random.randn(12),\n",
    "                        \"E\":np.random.randn(12),\n",
    "                   \n",
    "                   })\n"
   ]
  },
  {
   "cell_type": "code",
   "execution_count": 42,
   "id": "7bdd8b26",
   "metadata": {},
   "outputs": [
    {
     "data": {
      "text/html": [
       "<div>\n",
       "<style scoped>\n",
       "    .dataframe tbody tr th:only-of-type {\n",
       "        vertical-align: middle;\n",
       "    }\n",
       "\n",
       "    .dataframe tbody tr th {\n",
       "        vertical-align: top;\n",
       "    }\n",
       "\n",
       "    .dataframe thead th {\n",
       "        text-align: right;\n",
       "    }\n",
       "</style>\n",
       "<table border=\"1\" class=\"dataframe\">\n",
       "  <thead>\n",
       "    <tr style=\"text-align: right;\">\n",
       "      <th></th>\n",
       "      <th>A</th>\n",
       "      <th>B</th>\n",
       "      <th>C</th>\n",
       "      <th>D</th>\n",
       "      <th>E</th>\n",
       "    </tr>\n",
       "  </thead>\n",
       "  <tbody>\n",
       "    <tr>\n",
       "      <th>0</th>\n",
       "      <td>one</td>\n",
       "      <td>A</td>\n",
       "      <td>foo</td>\n",
       "      <td>0.152104</td>\n",
       "      <td>0.834893</td>\n",
       "    </tr>\n",
       "    <tr>\n",
       "      <th>1</th>\n",
       "      <td>two</td>\n",
       "      <td>B</td>\n",
       "      <td>foo</td>\n",
       "      <td>0.158374</td>\n",
       "      <td>-0.418093</td>\n",
       "    </tr>\n",
       "    <tr>\n",
       "      <th>2</th>\n",
       "      <td>one</td>\n",
       "      <td>C</td>\n",
       "      <td>foo</td>\n",
       "      <td>-0.783454</td>\n",
       "      <td>-0.501181</td>\n",
       "    </tr>\n",
       "    <tr>\n",
       "      <th>3</th>\n",
       "      <td>three</td>\n",
       "      <td>A</td>\n",
       "      <td>bar</td>\n",
       "      <td>-0.792186</td>\n",
       "      <td>0.180533</td>\n",
       "    </tr>\n",
       "    <tr>\n",
       "      <th>4</th>\n",
       "      <td>one</td>\n",
       "      <td>B</td>\n",
       "      <td>bar</td>\n",
       "      <td>-1.394200</td>\n",
       "      <td>-1.036791</td>\n",
       "    </tr>\n",
       "    <tr>\n",
       "      <th>5</th>\n",
       "      <td>two</td>\n",
       "      <td>C</td>\n",
       "      <td>bar</td>\n",
       "      <td>0.197274</td>\n",
       "      <td>0.010992</td>\n",
       "    </tr>\n",
       "    <tr>\n",
       "      <th>6</th>\n",
       "      <td>one</td>\n",
       "      <td>A</td>\n",
       "      <td>foo</td>\n",
       "      <td>1.288240</td>\n",
       "      <td>-0.782294</td>\n",
       "    </tr>\n",
       "    <tr>\n",
       "      <th>7</th>\n",
       "      <td>three</td>\n",
       "      <td>B</td>\n",
       "      <td>foo</td>\n",
       "      <td>0.017186</td>\n",
       "      <td>-0.347512</td>\n",
       "    </tr>\n",
       "    <tr>\n",
       "      <th>8</th>\n",
       "      <td>one</td>\n",
       "      <td>C</td>\n",
       "      <td>foo</td>\n",
       "      <td>0.194520</td>\n",
       "      <td>-0.014455</td>\n",
       "    </tr>\n",
       "    <tr>\n",
       "      <th>9</th>\n",
       "      <td>two</td>\n",
       "      <td>A</td>\n",
       "      <td>bar</td>\n",
       "      <td>-0.896890</td>\n",
       "      <td>0.208985</td>\n",
       "    </tr>\n",
       "    <tr>\n",
       "      <th>10</th>\n",
       "      <td>one</td>\n",
       "      <td>B</td>\n",
       "      <td>bar</td>\n",
       "      <td>-0.726794</td>\n",
       "      <td>1.113604</td>\n",
       "    </tr>\n",
       "    <tr>\n",
       "      <th>11</th>\n",
       "      <td>three</td>\n",
       "      <td>C</td>\n",
       "      <td>bar</td>\n",
       "      <td>1.327434</td>\n",
       "      <td>-0.627464</td>\n",
       "    </tr>\n",
       "  </tbody>\n",
       "</table>\n",
       "</div>"
      ],
      "text/plain": [
       "        A  B    C         D         E\n",
       "0     one  A  foo  0.152104  0.834893\n",
       "1     two  B  foo  0.158374 -0.418093\n",
       "2     one  C  foo -0.783454 -0.501181\n",
       "3   three  A  bar -0.792186  0.180533\n",
       "4     one  B  bar -1.394200 -1.036791\n",
       "5     two  C  bar  0.197274  0.010992\n",
       "6     one  A  foo  1.288240 -0.782294\n",
       "7   three  B  foo  0.017186 -0.347512\n",
       "8     one  C  foo  0.194520 -0.014455\n",
       "9     two  A  bar -0.896890  0.208985\n",
       "10    one  B  bar -0.726794  1.113604\n",
       "11  three  C  bar  1.327434 -0.627464"
      ]
     },
     "execution_count": 42,
     "metadata": {},
     "output_type": "execute_result"
    }
   ],
   "source": [
    "df"
   ]
  },
  {
   "cell_type": "code",
   "execution_count": 44,
   "id": "7fd24877",
   "metadata": {},
   "outputs": [
    {
     "data": {
      "text/html": [
       "<div>\n",
       "<style scoped>\n",
       "    .dataframe tbody tr th:only-of-type {\n",
       "        vertical-align: middle;\n",
       "    }\n",
       "\n",
       "    .dataframe tbody tr th {\n",
       "        vertical-align: top;\n",
       "    }\n",
       "\n",
       "    .dataframe thead th {\n",
       "        text-align: right;\n",
       "    }\n",
       "</style>\n",
       "<table border=\"1\" class=\"dataframe\">\n",
       "  <thead>\n",
       "    <tr style=\"text-align: right;\">\n",
       "      <th>C</th>\n",
       "      <th>bar</th>\n",
       "      <th>foo</th>\n",
       "    </tr>\n",
       "  </thead>\n",
       "  <tbody>\n",
       "    <tr>\n",
       "      <th>D</th>\n",
       "      <td>-0.380894</td>\n",
       "      <td>0.171162</td>\n",
       "    </tr>\n",
       "  </tbody>\n",
       "</table>\n",
       "</div>"
      ],
      "text/plain": [
       "C       bar       foo\n",
       "D -0.380894  0.171162"
      ]
     },
     "execution_count": 44,
     "metadata": {},
     "output_type": "execute_result"
    }
   ],
   "source": [
    "# pivot table , groupby -  both are same\n",
    "\n",
    "# pd.pivot_table(df , values= \"D\" , index = [\"A\",\"B\"] , columns=[\"C\"])\n",
    "pd.pivot_table(df , values= \"D\" , columns=[\"C\"])"
   ]
  },
  {
   "cell_type": "code",
   "execution_count": 45,
   "id": "ac578be7",
   "metadata": {},
   "outputs": [],
   "source": [
    "df = pd.DataFrame({\"A\": [\"foo\", \"foo\", \"foo\", \"foo\", \"foo\",\n",
    "                         \"bar\", \"bar\", \"bar\", \"bar\"],\n",
    "                   \"B\": [\"one\", \"one\", \"one\", \"two\", \"two\",\n",
    "                         \"one\", \"one\", \"two\", \"two\"],\n",
    "                   \"C\": [\"small\", \"large\", \"large\", \"small\",\n",
    "                         \"small\", \"large\", \"small\", \"small\",\n",
    "                         \"large\"],\n",
    "                   \"D\": [1, 2, 2, 3, 3, 4, 5, 6, 7],\n",
    "                   \"E\": [2, 4, 5, 5, 6, 6, 8, 9, 9]})"
   ]
  },
  {
   "cell_type": "code",
   "execution_count": 46,
   "id": "13f068a9",
   "metadata": {},
   "outputs": [],
   "source": [
    "table = pd.pivot_table(df, values=['D', 'E'], index=['A', 'C'],\n",
    "                    aggfunc={'D': np.mean,\n",
    "                             'E': [min, max, np.mean]})"
   ]
  },
  {
   "cell_type": "code",
   "execution_count": 47,
   "id": "b9b01b35",
   "metadata": {},
   "outputs": [
    {
     "data": {
      "text/html": [
       "<div>\n",
       "<style scoped>\n",
       "    .dataframe tbody tr th:only-of-type {\n",
       "        vertical-align: middle;\n",
       "    }\n",
       "\n",
       "    .dataframe tbody tr th {\n",
       "        vertical-align: top;\n",
       "    }\n",
       "\n",
       "    .dataframe thead tr th {\n",
       "        text-align: left;\n",
       "    }\n",
       "\n",
       "    .dataframe thead tr:last-of-type th {\n",
       "        text-align: right;\n",
       "    }\n",
       "</style>\n",
       "<table border=\"1\" class=\"dataframe\">\n",
       "  <thead>\n",
       "    <tr>\n",
       "      <th></th>\n",
       "      <th></th>\n",
       "      <th>D</th>\n",
       "      <th colspan=\"3\" halign=\"left\">E</th>\n",
       "    </tr>\n",
       "    <tr>\n",
       "      <th></th>\n",
       "      <th></th>\n",
       "      <th>mean</th>\n",
       "      <th>max</th>\n",
       "      <th>mean</th>\n",
       "      <th>min</th>\n",
       "    </tr>\n",
       "    <tr>\n",
       "      <th>A</th>\n",
       "      <th>C</th>\n",
       "      <th></th>\n",
       "      <th></th>\n",
       "      <th></th>\n",
       "      <th></th>\n",
       "    </tr>\n",
       "  </thead>\n",
       "  <tbody>\n",
       "    <tr>\n",
       "      <th rowspan=\"2\" valign=\"top\">bar</th>\n",
       "      <th>large</th>\n",
       "      <td>5.500000</td>\n",
       "      <td>9</td>\n",
       "      <td>7.500000</td>\n",
       "      <td>6</td>\n",
       "    </tr>\n",
       "    <tr>\n",
       "      <th>small</th>\n",
       "      <td>5.500000</td>\n",
       "      <td>9</td>\n",
       "      <td>8.500000</td>\n",
       "      <td>8</td>\n",
       "    </tr>\n",
       "    <tr>\n",
       "      <th rowspan=\"2\" valign=\"top\">foo</th>\n",
       "      <th>large</th>\n",
       "      <td>2.000000</td>\n",
       "      <td>5</td>\n",
       "      <td>4.500000</td>\n",
       "      <td>4</td>\n",
       "    </tr>\n",
       "    <tr>\n",
       "      <th>small</th>\n",
       "      <td>2.333333</td>\n",
       "      <td>6</td>\n",
       "      <td>4.333333</td>\n",
       "      <td>2</td>\n",
       "    </tr>\n",
       "  </tbody>\n",
       "</table>\n",
       "</div>"
      ],
      "text/plain": [
       "                  D   E              \n",
       "               mean max      mean min\n",
       "A   C                                \n",
       "bar large  5.500000   9  7.500000   6\n",
       "    small  5.500000   9  8.500000   8\n",
       "foo large  2.000000   5  4.500000   4\n",
       "    small  2.333333   6  4.333333   2"
      ]
     },
     "execution_count": 47,
     "metadata": {},
     "output_type": "execute_result"
    }
   ],
   "source": [
    "table"
   ]
  },
  {
   "cell_type": "code",
   "execution_count": 48,
   "id": "149bd90e",
   "metadata": {
    "scrolled": true
   },
   "outputs": [
    {
     "data": {
      "text/html": [
       "<div>\n",
       "<style scoped>\n",
       "    .dataframe tbody tr th:only-of-type {\n",
       "        vertical-align: middle;\n",
       "    }\n",
       "\n",
       "    .dataframe tbody tr th {\n",
       "        vertical-align: top;\n",
       "    }\n",
       "\n",
       "    .dataframe thead tr th {\n",
       "        text-align: left;\n",
       "    }\n",
       "\n",
       "    .dataframe thead tr:last-of-type th {\n",
       "        text-align: right;\n",
       "    }\n",
       "</style>\n",
       "<table border=\"1\" class=\"dataframe\">\n",
       "  <thead>\n",
       "    <tr>\n",
       "      <th>b</th>\n",
       "      <th colspan=\"2\" halign=\"left\">one</th>\n",
       "      <th colspan=\"2\" halign=\"left\">two</th>\n",
       "    </tr>\n",
       "    <tr>\n",
       "      <th>c</th>\n",
       "      <th>dull</th>\n",
       "      <th>shiny</th>\n",
       "      <th>dull</th>\n",
       "      <th>shiny</th>\n",
       "    </tr>\n",
       "    <tr>\n",
       "      <th>a</th>\n",
       "      <th></th>\n",
       "      <th></th>\n",
       "      <th></th>\n",
       "      <th></th>\n",
       "    </tr>\n",
       "  </thead>\n",
       "  <tbody>\n",
       "    <tr>\n",
       "      <th>bar</th>\n",
       "      <td>1</td>\n",
       "      <td>2</td>\n",
       "      <td>1</td>\n",
       "      <td>0</td>\n",
       "    </tr>\n",
       "    <tr>\n",
       "      <th>foo</th>\n",
       "      <td>2</td>\n",
       "      <td>2</td>\n",
       "      <td>1</td>\n",
       "      <td>2</td>\n",
       "    </tr>\n",
       "  </tbody>\n",
       "</table>\n",
       "</div>"
      ],
      "text/plain": [
       "b    one        two      \n",
       "c   dull shiny dull shiny\n",
       "a                        \n",
       "bar    1     2    1     0\n",
       "foo    2     2    1     2"
      ]
     },
     "execution_count": 48,
     "metadata": {},
     "output_type": "execute_result"
    }
   ],
   "source": [
    "a = np.array([\"foo\", \"foo\", \"foo\", \"foo\", \"bar\", \"bar\",\n",
    "              \"bar\", \"bar\", \"foo\", \"foo\", \"foo\"], dtype=object)\n",
    "b = np.array([\"one\", \"one\", \"one\", \"two\", \"one\", \"one\",\n",
    "              \"one\", \"two\", \"two\", \"two\", \"one\"], dtype=object)\n",
    "c = np.array([\"dull\", \"dull\", \"shiny\", \"dull\", \"dull\", \"shiny\",\n",
    "              \"shiny\", \"dull\", \"shiny\", \"shiny\", \"shiny\"],\n",
    "             dtype=object)\n",
    "pd.crosstab(a, [b, c], rownames=['a'], colnames=['b', 'c'])"
   ]
  },
  {
   "cell_type": "code",
   "execution_count": null,
   "id": "c32863ea",
   "metadata": {},
   "outputs": [],
   "source": [
    "cross tab   -  ( val,val2 , freq. )"
   ]
  },
  {
   "cell_type": "code",
   "execution_count": null,
   "id": "ec4b2ccb",
   "metadata": {},
   "outputs": [],
   "source": [
    "dull , shiny \n",
    "bar    bar         1 , 1"
   ]
  },
  {
   "cell_type": "code",
   "execution_count": 52,
   "id": "1c7cec35",
   "metadata": {},
   "outputs": [],
   "source": [
    "# plotting \n",
    "\n",
    "\n",
    "import matplotlib.pyplot as plt"
   ]
  },
  {
   "cell_type": "code",
   "execution_count": 53,
   "id": "3dfcaa1b",
   "metadata": {},
   "outputs": [],
   "source": [
    "ts = pd.Series(np.random.randn(1000) , index = pd.date_range(\"1/1/2000\",periods=1000))"
   ]
  },
  {
   "cell_type": "code",
   "execution_count": 55,
   "id": "c4007ce1",
   "metadata": {},
   "outputs": [],
   "source": [
    "ts = ts.cumsum()"
   ]
  },
  {
   "cell_type": "code",
   "execution_count": 57,
   "id": "0c81a996",
   "metadata": {},
   "outputs": [
    {
     "data": {
      "text/plain": [
       "<AxesSubplot:>"
      ]
     },
     "execution_count": 57,
     "metadata": {},
     "output_type": "execute_result"
    },
    {
     "data": {
      "image/png": "[encoded data removed]",
      "text/plain": [
       "<Figure size 432x288 with 1 Axes>"
      ]
     },
     "metadata": {
      "needs_background": "light"
     },
     "output_type": "display_data"
    }
   ],
   "source": [
    "ts.plot()"
   ]
  },
  {
   "cell_type": "code",
   "execution_count": 59,
   "id": "dd103b33",
   "metadata": {},
   "outputs": [],
   "source": [
    "ts = pd.DataFrame(np.random.randn(1000,4) , index =ts.index , columns = [\"A\",\"B\",\"C\",\"D\"])"
   ]
  },
  {
   "cell_type": "code",
   "execution_count": 60,
   "id": "ce3982f9",
   "metadata": {},
   "outputs": [
    {
     "data": {
      "text/html": [
       "<div>\n",
       "<style scoped>\n",
       "    .dataframe tbody tr th:only-of-type {\n",
       "        vertical-align: middle;\n",
       "    }\n",
       "\n",
       "    .dataframe tbody tr th {\n",
       "        vertical-align: top;\n",
       "    }\n",
       "\n",
       "    .dataframe thead th {\n",
       "        text-align: right;\n",
       "    }\n",
       "</style>\n",
       "<table border=\"1\" class=\"dataframe\">\n",
       "  <thead>\n",
       "    <tr style=\"text-align: right;\">\n",
       "      <th></th>\n",
       "      <th>A</th>\n",
       "      <th>B</th>\n",
       "      <th>C</th>\n",
       "      <th>D</th>\n",
       "    </tr>\n",
       "  </thead>\n",
       "  <tbody>\n",
       "    <tr>\n",
       "      <th>2000-01-01</th>\n",
       "      <td>0.227951</td>\n",
       "      <td>0.079285</td>\n",
       "      <td>-0.259926</td>\n",
       "      <td>1.036064</td>\n",
       "    </tr>\n",
       "    <tr>\n",
       "      <th>2000-01-02</th>\n",
       "      <td>-0.829103</td>\n",
       "      <td>-2.944814</td>\n",
       "      <td>-1.010394</td>\n",
       "      <td>0.306749</td>\n",
       "    </tr>\n",
       "    <tr>\n",
       "      <th>2000-01-03</th>\n",
       "      <td>0.015486</td>\n",
       "      <td>-0.987344</td>\n",
       "      <td>0.914900</td>\n",
       "      <td>2.874266</td>\n",
       "    </tr>\n",
       "    <tr>\n",
       "      <th>2000-01-04</th>\n",
       "      <td>1.039191</td>\n",
       "      <td>0.177334</td>\n",
       "      <td>0.536906</td>\n",
       "      <td>2.235000</td>\n",
       "    </tr>\n",
       "    <tr>\n",
       "      <th>2000-01-05</th>\n",
       "      <td>0.191143</td>\n",
       "      <td>2.066482</td>\n",
       "      <td>0.385038</td>\n",
       "      <td>0.458676</td>\n",
       "    </tr>\n",
       "    <tr>\n",
       "      <th>...</th>\n",
       "      <td>...</td>\n",
       "      <td>...</td>\n",
       "      <td>...</td>\n",
       "      <td>...</td>\n",
       "    </tr>\n",
       "    <tr>\n",
       "      <th>2002-09-22</th>\n",
       "      <td>0.750414</td>\n",
       "      <td>0.858922</td>\n",
       "      <td>0.252567</td>\n",
       "      <td>-0.336445</td>\n",
       "    </tr>\n",
       "    <tr>\n",
       "      <th>2002-09-23</th>\n",
       "      <td>0.121069</td>\n",
       "      <td>1.589496</td>\n",
       "      <td>-0.922506</td>\n",
       "      <td>0.329844</td>\n",
       "    </tr>\n",
       "    <tr>\n",
       "      <th>2002-09-24</th>\n",
       "      <td>-0.839964</td>\n",
       "      <td>-0.484044</td>\n",
       "      <td>-0.269325</td>\n",
       "      <td>-0.830378</td>\n",
       "    </tr>\n",
       "    <tr>\n",
       "      <th>2002-09-25</th>\n",
       "      <td>-0.291657</td>\n",
       "      <td>2.568953</td>\n",
       "      <td>0.126615</td>\n",
       "      <td>0.702771</td>\n",
       "    </tr>\n",
       "    <tr>\n",
       "      <th>2002-09-26</th>\n",
       "      <td>0.202542</td>\n",
       "      <td>0.272486</td>\n",
       "      <td>-0.109749</td>\n",
       "      <td>1.065453</td>\n",
       "    </tr>\n",
       "  </tbody>\n",
       "</table>\n",
       "<p>1000 rows × 4 columns</p>\n",
       "</div>"
      ],
      "text/plain": [
       "                   A         B         C         D\n",
       "2000-01-01  0.227951  0.079285 -0.259926  1.036064\n",
       "2000-01-02 -0.829103 -2.944814 -1.010394  0.306749\n",
       "2000-01-03  0.015486 -0.987344  0.914900  2.874266\n",
       "2000-01-04  1.039191  0.177334  0.536906  2.235000\n",
       "2000-01-05  0.191143  2.066482  0.385038  0.458676\n",
       "...              ...       ...       ...       ...\n",
       "2002-09-22  0.750414  0.858922  0.252567 -0.336445\n",
       "2002-09-23  0.121069  1.589496 -0.922506  0.329844\n",
       "2002-09-24 -0.839964 -0.484044 -0.269325 -0.830378\n",
       "2002-09-25 -0.291657  2.568953  0.126615  0.702771\n",
       "2002-09-26  0.202542  0.272486 -0.109749  1.065453\n",
       "\n",
       "[1000 rows x 4 columns]"
      ]
     },
     "execution_count": 60,
     "metadata": {},
     "output_type": "execute_result"
    }
   ],
   "source": [
    "ts"
   ]
  },
  {
   "cell_type": "code",
   "execution_count": 63,
   "id": "c2c98a96",
   "metadata": {},
   "outputs": [],
   "source": [
    "ts = ts.cumsum()"
   ]
  },
  {
   "cell_type": "code",
   "execution_count": 64,
   "id": "874e0b74",
   "metadata": {},
   "outputs": [
    {
     "data": {
      "text/html": [
       "<div>\n",
       "<style scoped>\n",
       "    .dataframe tbody tr th:only-of-type {\n",
       "        vertical-align: middle;\n",
       "    }\n",
       "\n",
       "    .dataframe tbody tr th {\n",
       "        vertical-align: top;\n",
       "    }\n",
       "\n",
       "    .dataframe thead th {\n",
       "        text-align: right;\n",
       "    }\n",
       "</style>\n",
       "<table border=\"1\" class=\"dataframe\">\n",
       "  <thead>\n",
       "    <tr style=\"text-align: right;\">\n",
       "      <th></th>\n",
       "      <th>A</th>\n",
       "      <th>B</th>\n",
       "      <th>C</th>\n",
       "      <th>D</th>\n",
       "    </tr>\n",
       "  </thead>\n",
       "  <tbody>\n",
       "    <tr>\n",
       "      <th>2000-01-01</th>\n",
       "      <td>0.227951</td>\n",
       "      <td>0.079285</td>\n",
       "      <td>-0.259926</td>\n",
       "      <td>1.036064</td>\n",
       "    </tr>\n",
       "    <tr>\n",
       "      <th>2000-01-02</th>\n",
       "      <td>-0.601152</td>\n",
       "      <td>-2.865529</td>\n",
       "      <td>-1.270320</td>\n",
       "      <td>1.342813</td>\n",
       "    </tr>\n",
       "    <tr>\n",
       "      <th>2000-01-03</th>\n",
       "      <td>-0.585667</td>\n",
       "      <td>-3.852873</td>\n",
       "      <td>-0.355420</td>\n",
       "      <td>4.217078</td>\n",
       "    </tr>\n",
       "    <tr>\n",
       "      <th>2000-01-04</th>\n",
       "      <td>0.453524</td>\n",
       "      <td>-3.675539</td>\n",
       "      <td>0.181486</td>\n",
       "      <td>6.452078</td>\n",
       "    </tr>\n",
       "    <tr>\n",
       "      <th>2000-01-05</th>\n",
       "      <td>0.644668</td>\n",
       "      <td>-1.609058</td>\n",
       "      <td>0.566524</td>\n",
       "      <td>6.910755</td>\n",
       "    </tr>\n",
       "    <tr>\n",
       "      <th>...</th>\n",
       "      <td>...</td>\n",
       "      <td>...</td>\n",
       "      <td>...</td>\n",
       "      <td>...</td>\n",
       "    </tr>\n",
       "    <tr>\n",
       "      <th>2002-09-22</th>\n",
       "      <td>-0.361137</td>\n",
       "      <td>37.941816</td>\n",
       "      <td>20.637845</td>\n",
       "      <td>18.710379</td>\n",
       "    </tr>\n",
       "    <tr>\n",
       "      <th>2002-09-23</th>\n",
       "      <td>-0.240068</td>\n",
       "      <td>39.531312</td>\n",
       "      <td>19.715339</td>\n",
       "      <td>19.040223</td>\n",
       "    </tr>\n",
       "    <tr>\n",
       "      <th>2002-09-24</th>\n",
       "      <td>-1.080033</td>\n",
       "      <td>39.047268</td>\n",
       "      <td>19.446014</td>\n",
       "      <td>18.209846</td>\n",
       "    </tr>\n",
       "    <tr>\n",
       "      <th>2002-09-25</th>\n",
       "      <td>-1.371690</td>\n",
       "      <td>41.616221</td>\n",
       "      <td>19.572629</td>\n",
       "      <td>18.912616</td>\n",
       "    </tr>\n",
       "    <tr>\n",
       "      <th>2002-09-26</th>\n",
       "      <td>-1.169148</td>\n",
       "      <td>41.888707</td>\n",
       "      <td>19.462880</td>\n",
       "      <td>19.978070</td>\n",
       "    </tr>\n",
       "  </tbody>\n",
       "</table>\n",
       "<p>1000 rows × 4 columns</p>\n",
       "</div>"
      ],
      "text/plain": [
       "                   A          B          C          D\n",
       "2000-01-01  0.227951   0.079285  -0.259926   1.036064\n",
       "2000-01-02 -0.601152  -2.865529  -1.270320   1.342813\n",
       "2000-01-03 -0.585667  -3.852873  -0.355420   4.217078\n",
       "2000-01-04  0.453524  -3.675539   0.181486   6.452078\n",
       "2000-01-05  0.644668  -1.609058   0.566524   6.910755\n",
       "...              ...        ...        ...        ...\n",
       "2002-09-22 -0.361137  37.941816  20.637845  18.710379\n",
       "2002-09-23 -0.240068  39.531312  19.715339  19.040223\n",
       "2002-09-24 -1.080033  39.047268  19.446014  18.209846\n",
       "2002-09-25 -1.371690  41.616221  19.572629  18.912616\n",
       "2002-09-26 -1.169148  41.888707  19.462880  19.978070\n",
       "\n",
       "[1000 rows x 4 columns]"
      ]
     },
     "execution_count": 64,
     "metadata": {},
     "output_type": "execute_result"
    }
   ],
   "source": [
    "ts"
   ]
  },
  {
   "cell_type": "code",
   "execution_count": 65,
   "id": "e89f31a7",
   "metadata": {},
   "outputs": [
    {
     "data": {
      "text/plain": [
       "<AxesSubplot:>"
      ]
     },
     "execution_count": 65,
     "metadata": {},
     "output_type": "execute_result"
    },
    {
     "data": {
      "text/plain": [
       "<Figure size 432x288 with 0 Axes>"
      ]
     },
     "metadata": {},
     "output_type": "display_data"
    },
    {
     "data": {
      "image/png": "[encoded data removed]",
      "text/plain": [
       "<Figure size 432x288 with 1 Axes>"
      ]
     },
     "metadata": {
      "needs_background": "light"
     },
     "output_type": "display_data"
    }
   ],
   "source": [
    "plt.figure()\n",
    "ts.plot()"
   ]
  },
  {
   "cell_type": "code",
   "execution_count": 74,
   "id": "2b3e1235",
   "metadata": {},
   "outputs": [],
   "source": [
    "x = np.array([1,8])\n",
    "y = np.array([3,10])"
   ]
  },
  {
   "cell_type": "code",
   "execution_count": 79,
   "id": "8b86c35a",
   "metadata": {},
   "outputs": [
    {
     "data": {
      "text/plain": [
       "[<matplotlib.lines.Line2D at 0x22077dc2a60>]"
      ]
     },
     "execution_count": 79,
     "metadata": {},
     "output_type": "execute_result"
    },
    {
     "data": {
      "image/png": "[encoded data removed]",
      "text/plain": [
       "<Figure size 432x288 with 1 Axes>"
      ]
     },
     "metadata": {
      "needs_background": "light"
     },
     "output_type": "display_data"
    }
   ],
   "source": [
    "plt.plot(x,y,marker = 'D')"
   ]
  },
  {
   "cell_type": "code",
   "execution_count": 80,
   "id": "24602efe",
   "metadata": {},
   "outputs": [],
   "source": [
    "y = np.array([3,8,1,10])"
   ]
  },
  {
   "cell_type": "code",
   "execution_count": 81,
   "id": "cf2ed90c",
   "metadata": {},
   "outputs": [
    {
     "data": {
      "text/plain": [
       "array([ 3,  8,  1, 10])"
      ]
     },
     "execution_count": 81,
     "metadata": {},
     "output_type": "execute_result"
    }
   ],
   "source": [
    "y"
   ]
  },
  {
   "cell_type": "code",
   "execution_count": 85,
   "id": "87ce1f16",
   "metadata": {},
   "outputs": [
    {
     "data": {
      "text/plain": [
       "[<matplotlib.lines.Line2D at 0x2207dc23df0>]"
      ]
     },
     "execution_count": 85,
     "metadata": {},
     "output_type": "execute_result"
    },
    {
     "data": {
      "image/png": "[encoded data removed]",
      "text/plain": [
       "<Figure size 432x288 with 1 Axes>"
      ]
     },
     "metadata": {
      "needs_background": "light"
     },
     "output_type": "display_data"
    }
   ],
   "source": [
    "plt.plot(y,marker = 'o' , ms=20 ,mec = 'r' )"
   ]
  },
  {
   "cell_type": "code",
   "execution_count": 87,
   "id": "fb775b5c",
   "metadata": {},
   "outputs": [
    {
     "data": {
      "text/plain": [
       "[<matplotlib.lines.Line2D at 0x2207dce6ee0>]"
      ]
     },
     "execution_count": 87,
     "metadata": {},
     "output_type": "execute_result"
    },
    {
     "data": {
      "image/png": "[encoded data removed]",
      "text/plain": [
       "<Figure size 432x288 with 1 Axes>"
      ]
     },
     "metadata": {
      "needs_background": "light"
     },
     "output_type": "display_data"
    }
   ],
   "source": [
    "plt.plot(y,marker = 'o' , ms=20 ,mfc = '#4CAF50')"
   ]
  },
  {
   "cell_type": "code",
   "execution_count": 92,
   "id": "b6977579",
   "metadata": {},
   "outputs": [
    {
     "data": {
      "text/plain": [
       "[<matplotlib.lines.Line2D at 0x22001afaa00>]"
      ]
     },
     "execution_count": 92,
     "metadata": {},
     "output_type": "execute_result"
    },
    {
     "data": {
      "image/png": "[encoded data removed]",
      "text/plain": [
       "<Figure size 432x288 with 1 Axes>"
      ]
     },
     "metadata": {
      "needs_background": "light"
     },
     "output_type": "display_data"
    }
   ],
   "source": [
    "plt.plot(x,marker = 'o' , ms=20 ,mfc = '#4CAF50')"
   ]
  },
  {
   "cell_type": "code",
   "execution_count": 97,
   "id": "e3a3ca5f",
   "metadata": {},
   "outputs": [],
   "source": [
    "y1 = np.array([3,8,1,10])\n",
    "y2 = np.array([6,2,7,11])\n",
    "x1 = np.array([0,1,2,3])\n",
    "x2 = np.array([0,1,2,3])"
   ]
  },
  {
   "cell_type": "code",
   "execution_count": 104,
   "id": "ef564c21",
   "metadata": {},
   "outputs": [
    {
     "data": {
      "image/png": "[encoded data removed]",
      "text/plain": [
       "<Figure size 432x288 with 1 Axes>"
      ]
     },
     "metadata": {
      "needs_background": "light"
     },
     "output_type": "display_data"
    }
   ],
   "source": [
    "plt.plot(x1,y1,x2,y2)\n",
    "plt.xlabel(\" X axis \")\n",
    "plt.ylabel(\" Avg vale\")\n",
    "plt.title(\"  data sceince in charts \",loc = 'left')\n",
    "plt.grid(axis = 'x')\n",
    "# plt.plot(y)"
   ]
  },
  {
   "cell_type": "code",
   "execution_count": 105,
   "id": "dd4d15af",
   "metadata": {},
   "outputs": [
    {
     "data": {
      "image/png": "[encoded data removed]",
      "text/plain": [
       "<Figure size 432x288 with 1 Axes>"
      ]
     },
     "metadata": {
      "needs_background": "light"
     },
     "output_type": "display_data"
    }
   ],
   "source": [
    "plt.plot(x1,y1,x2,y2)\n",
    "plt.xlabel(\" X axis \")\n",
    "plt.ylabel(\" Avg vale\")\n",
    "plt.title(\"  data sceince in charts \",loc = 'left')\n",
    "plt.grid(axis = 'y')\n",
    "# plt.plot(y)"
   ]
  },
  {
   "cell_type": "code",
   "execution_count": 109,
   "id": "70ae09f1",
   "metadata": {},
   "outputs": [
    {
     "data": {
      "image/png": "[encoded data removed]",
      "text/plain": [
       "<Figure size 432x288 with 1 Axes>"
      ]
     },
     "metadata": {
      "needs_background": "light"
     },
     "output_type": "display_data"
    }
   ],
   "source": [
    "plt.plot(x1,y1,x2,y2)\n",
    "plt.xlabel(\" X axis \")\n",
    "plt.ylabel(\" Avg vale\")\n",
    "plt.title(\"  data sceince in charts \",loc = 'left')\n",
    "plt.grid(color = 'green',linestyle = '--',linewidth = 1)\n",
    "# plt.plot(y)"
   ]
  },
  {
   "cell_type": "code",
   "execution_count": 110,
   "id": "60c3f4ed",
   "metadata": {},
   "outputs": [
    {
     "data": {
      "image/png": "[encoded data removed]",
      "text/plain": [
       "<Figure size 432x288 with 1 Axes>"
      ]
     },
     "metadata": {
      "needs_background": "light"
     },
     "output_type": "display_data"
    }
   ],
   "source": [
    "import matplotlib.pyplot as plt\n",
    "import numpy as np\n",
    "\n",
    "x = np.array([5,7,8,7,2,17,2,9,4,11,12,9,6])\n",
    "y = np.array([99,86,87,88,111,86,103,87,94,78,77,85,86])\n",
    "\n",
    "plt.scatter(x, y)\n",
    "plt.show()"
   ]
  },
  {
   "cell_type": "code",
   "execution_count": 111,
   "id": "2eb1ede6",
   "metadata": {},
   "outputs": [
    {
     "data": {
      "image/png": "[encoded data removed]",
      "text/plain": [
       "<Figure size 432x288 with 1 Axes>"
      ]
     },
     "metadata": {
      "needs_background": "light"
     },
     "output_type": "display_data"
    }
   ],
   "source": [
    "import matplotlib.pyplot as plt\n",
    "import numpy as np\n",
    "\n",
    "#day one, the age and speed of 13 cars:\n",
    "x = np.array([5,7,8,7,2,17,2,9,4,11,12,9,6])\n",
    "y = np.array([99,86,87,88,111,86,103,87,94,78,77,85,86])\n",
    "plt.scatter(x, y)\n",
    "\n",
    "#day two, the age and speed of 15 cars:\n",
    "x = np.array([2,2,8,1,15,8,12,9,7,3,11,4,7,14,12])\n",
    "y = np.array([100,105,84,105,90,99,90,95,94,100,79,112,91,80,85])\n",
    "plt.scatter(x, y)\n",
    "\n",
    "plt.show()"
   ]
  },
  {
   "cell_type": "code",
   "execution_count": null,
   "id": "143bc3eb",
   "metadata": {},
   "outputs": [],
   "source": []
  },
  {
   "cell_type": "code",
   "execution_count": 113,
   "id": "38da24d1",
   "metadata": {},
   "outputs": [
    {
     "data": {
      "image/png": "[encoded data removed]",
      "text/plain": [
       "<Figure size 432x288 with 1 Axes>"
      ]
     },
     "metadata": {
      "needs_background": "light"
     },
     "output_type": "display_data"
    }
   ],
   "source": [
    "import matplotlib.pyplot as plt\n",
    "import numpy as np\n",
    "\n",
    "x = np.array([5,7,8,7,2,17,2,9,4,11,12,9,6])\n",
    "y = np.array([99,86,87,88,111,86,103,87,94,78,77,85,86])\n",
    "plt.scatter(x, y, color = 'hotpink')\n",
    "\n",
    "x = np.array([2,2,8,1,15,8,12,9,7,3,11,4,7,14,12])\n",
    "y = np.array([100,105,84,105,90,99,90,95,94,100,79,112,91,80,85])\n",
    "plt.scatter(x, y, color = '#88c999')\n",
    "\n",
    "plt.show()"
   ]
  },
  {
   "cell_type": "code",
   "execution_count": null,
   "id": "30691e31",
   "metadata": {},
   "outputs": [],
   "source": []
  },
  {
   "cell_type": "code",
   "execution_count": 114,
   "id": "bdc92d92",
   "metadata": {},
   "outputs": [
    {
     "data": {
      "image/png": "[encoded data removed]",
      "text/plain": [
       "<Figure size 432x288 with 1 Axes>"
      ]
     },
     "metadata": {
      "needs_background": "light"
     },
     "output_type": "display_data"
    }
   ],
   "source": [
    "import matplotlib.pyplot as plt\n",
    "import numpy as np\n",
    "\n",
    "x = np.array([\"A\", \"B\", \"C\", \"D\"])\n",
    "y = np.array([3, 8, 1, 10])\n",
    "\n",
    "plt.bar(x,y)\n",
    "plt.show()"
   ]
  },
  {
   "cell_type": "code",
   "execution_count": 115,
   "id": "d6a741fd",
   "metadata": {},
   "outputs": [
    {
     "data": {
      "image/png": "[encoded data removed]",
      "text/plain": [
       "<Figure size 432x288 with 1 Axes>"
      ]
     },
     "metadata": {
      "needs_background": "light"
     },
     "output_type": "display_data"
    }
   ],
   "source": [
    "import matplotlib.pyplot as plt\n",
    "import numpy as np\n",
    "\n",
    "x = np.array([\"A\", \"B\", \"C\", \"D\"])\n",
    "y = np.array([3, 8, 1, 10])\n",
    "\n",
    "plt.barh(x, y)\n",
    "plt.show()"
   ]
  },
  {
   "cell_type": "code",
   "execution_count": null,
   "id": "3ffedcb7",
   "metadata": {},
   "outputs": [],
   "source": []
  },
  {
   "cell_type": "code",
   "execution_count": 118,
   "id": "56d08902",
   "metadata": {},
   "outputs": [
    {
     "data": {
      "image/png": "[encoded data removed]",
      "text/plain": [
       "<Figure size 432x288 with 1 Axes>"
      ]
     },
     "metadata": {
      "needs_background": "light"
     },
     "output_type": "display_data"
    }
   ],
   "source": [
    "import matplotlib.pyplot as plt\n",
    "import numpy as np\n",
    "\n",
    "x = np.array([\"A\", \"B\", \"C\", \"D\"])\n",
    "y = np.array([3, 8, 1, 10])\n",
    "\n",
    "plt.bar(x, y, color = [\"red\",\"green\",\"orange\",\"blue\"])\n",
    "plt.show()"
   ]
  },
  {
   "cell_type": "code",
   "execution_count": 119,
   "id": "466c6641",
   "metadata": {},
   "outputs": [
    {
     "data": {
      "image/png": "[encoded data removed]",
      "text/plain": [
       "<Figure size 432x288 with 1 Axes>"
      ]
     },
     "metadata": {
      "needs_background": "light"
     },
     "output_type": "display_data"
    }
   ],
   "source": [
    "import matplotlib.pyplot as plt\n",
    "import numpy as np\n",
    "\n",
    "x = np.array([\"A\", \"B\", \"C\", \"D\"])\n",
    "y = np.array([3, 8, 1, 10])\n",
    "\n",
    "plt.bar(x, y, width = 0.1)\n",
    "plt.show()"
   ]
  },
  {
   "cell_type": "code",
   "execution_count": null,
   "id": "ecec044a",
   "metadata": {},
   "outputs": [],
   "source": []
  },
  {
   "cell_type": "code",
   "execution_count": 120,
   "id": "53832423",
   "metadata": {},
   "outputs": [
    {
     "data": {
      "image/png": "[encoded data removed]",
      "text/plain": [
       "<Figure size 432x288 with 1 Axes>"
      ]
     },
     "metadata": {},
     "output_type": "display_data"
    }
   ],
   "source": [
    "import matplotlib.pyplot as plt\n",
    "import numpy as np\n",
    "\n",
    "y = np.array([35, 25, 25, 15])\n",
    "\n",
    "plt.pie(y)\n",
    "plt.show() "
   ]
  },
  {
   "cell_type": "code",
   "execution_count": null,
   "id": "bc7ab6dd",
   "metadata": {},
   "outputs": [],
   "source": []
  },
  {
   "cell_type": "code",
   "execution_count": 121,
   "id": "e05fe296",
   "metadata": {},
   "outputs": [
    {
     "data": {
      "image/png": "[encoded data removed]",
      "text/plain": [
       "<Figure size 432x288 with 1 Axes>"
      ]
     },
     "metadata": {},
     "output_type": "display_data"
    }
   ],
   "source": [
    "import matplotlib.pyplot as plt\n",
    "import numpy as np\n",
    "\n",
    "y = np.array([35, 25, 25, 15])\n",
    "mylabels = [\"Apples\", \"Bananas\", \"Cherries\", \"Dates\"]\n",
    "\n",
    "plt.pie(y, labels = mylabels)\n",
    "plt.show() "
   ]
  },
  {
   "cell_type": "code",
   "execution_count": null,
   "id": "00e415e0",
   "metadata": {},
   "outputs": [],
   "source": []
  },
  {
   "cell_type": "code",
   "execution_count": 122,
   "id": "a43a5580",
   "metadata": {},
   "outputs": [
    {
     "data": {
      "image/png": "[encoded data removed]",
      "text/plain": [
       "<Figure size 432x288 with 1 Axes>"
      ]
     },
     "metadata": {},
     "output_type": "display_data"
    }
   ],
   "source": [
    "import matplotlib.pyplot as plt\n",
    "import numpy as np\n",
    "\n",
    "y = np.array([35, 25, 25, 15])\n",
    "mylabels = [\"Apples\", \"Bananas\", \"Cherries\", \"Dates\"]\n",
    "\n",
    "plt.pie(y, labels = mylabels, startangle = 90)\n",
    "plt.show() "
   ]
  },
  {
   "cell_type": "code",
   "execution_count": null,
   "id": "1f5be2ee",
   "metadata": {},
   "outputs": [],
   "source": []
  },
  {
   "cell_type": "code",
   "execution_count": 126,
   "id": "a2594a19",
   "metadata": {},
   "outputs": [
    {
     "data": {
      "image/png": "[encoded data removed]",
      "text/plain": [
       "<Figure size 432x288 with 1 Axes>"
      ]
     },
     "metadata": {},
     "output_type": "display_data"
    }
   ],
   "source": [
    "import matplotlib.pyplot as plt\n",
    "import numpy as np\n",
    "\n",
    "y = np.array([35, 25, 25, 15])\n",
    "mylabels = [\"Apples\", \"Bananas\", \"Cherries\", \"Dates\"]\n",
    "myexplode = [0.2, 0,0,0]\n",
    "\n",
    "plt.pie(y, labels = mylabels, explode = myexplode)\n",
    "plt.show() "
   ]
  },
  {
   "cell_type": "code",
   "execution_count": null,
   "id": "91f53c56",
   "metadata": {},
   "outputs": [],
   "source": []
  },
  {
   "cell_type": "code",
   "execution_count": null,
   "id": "e49523a4",
   "metadata": {},
   "outputs": [],
   "source": [
    "list comprehesion \n",
    "\n",
    "consists of brackets containing expression , which execute along with loop for python list.\n",
    "short synatx for creating list based on existing list\n",
    "\n",
    "advantanges:\n",
    "    \n",
    "more efficient \n",
    "fewer line of codes\n",
    "transformation\n"
   ]
  },
  {
   "cell_type": "code",
   "execution_count": null,
   "id": "1b9c6949",
   "metadata": {},
   "outputs": [],
   "source": [
    "Synatax:\n",
    "    \n",
    "    newlist  = [ expression for element in oldlist if condtion ]"
   ]
  },
  {
   "cell_type": "code",
   "execution_count": 6,
   "id": "3df6f028",
   "metadata": {},
   "outputs": [
    {
     "name": "stdout",
     "output_type": "stream",
     "text": [
      "[1, 2, 3]\n"
     ]
    }
   ],
   "source": [
    "ls = [ character for character in [1,2,3] ]\n",
    "print(ls)"
   ]
  },
  {
   "cell_type": "code",
   "execution_count": 7,
   "id": "c935acaa",
   "metadata": {},
   "outputs": [
    {
     "name": "stdout",
     "output_type": "stream",
     "text": [
      "[4, 5, 6]\n"
     ]
    }
   ],
   "source": [
    "# print(ls)\n",
    "y = [4,5,6]\n",
    "newls = [x for x in y]\n",
    "print(newls)"
   ]
  },
  {
   "cell_type": "code",
   "execution_count": null,
   "id": "27296837",
   "metadata": {},
   "outputs": [],
   "source": [
    "# for i in [1,2,3]:\n",
    "#     print(i)"
   ]
  },
  {
   "cell_type": "code",
   "execution_count": 8,
   "id": "275308cc",
   "metadata": {},
   "outputs": [
    {
     "name": "stdout",
     "output_type": "stream",
     "text": [
      "[0, 2, 4, 6, 8, 10]\n"
     ]
    }
   ],
   "source": [
    "ls1 = [i for i in range(11) if i * 2]\n",
    "print(ls1)"
   ]
  },
  {
   "cell_type": "code",
   "execution_count": 11,
   "id": "c92698e3",
   "metadata": {},
   "outputs": [
    {
     "name": "stdout",
     "output_type": "stream",
     "text": [
      "[0, 1, 2, 3, 4, 5, 6, 7, 8, 9, 10]\n"
     ]
    }
   ],
   "source": [
    "ls1 = [i for i in range(11) if i % 2 == 1 or i % 2 ==0]\n",
    "print(ls1)"
   ]
  },
  {
   "cell_type": "code",
   "execution_count": 12,
   "id": "f6afcb4a",
   "metadata": {},
   "outputs": [
    {
     "name": "stdout",
     "output_type": "stream",
     "text": [
      "[[0, 1, 2], [0, 1, 2], [0, 1, 2]]\n"
     ]
    }
   ],
   "source": [
    "matr = [ [j  for j in range(3)] for i in range(3)]  - j - 0,1,2    i =0\n",
    "print(matr)                                            j-0,1,2     i = 1\n",
    "                                                       j-0,1,2     i = 2"
   ]
  },
  {
   "cell_type": "code",
   "execution_count": 15,
   "id": "1992f795",
   "metadata": {},
   "outputs": [
    {
     "name": "stdout",
     "output_type": "stream",
     "text": [
      "[0, 2, 4, 6, 8, 10, 12, 14, 16, 18, 20]\n"
     ]
    }
   ],
   "source": [
    "ls = [ i*2 for i in range(11)]\n",
    "print(ls)"
   ]
  },
  {
   "cell_type": "code",
   "execution_count": 16,
   "id": "5772c744",
   "metadata": {},
   "outputs": [
    {
     "name": "stdout",
     "output_type": "stream",
     "text": [
      "['p', 'y', 't', 'h', 'o', 'n']\n"
     ]
    }
   ],
   "source": [
    "ls = []\n",
    "for x in 'python':\n",
    "    ls.append(x)\n",
    "print(ls)"
   ]
  },
  {
   "cell_type": "code",
   "execution_count": 17,
   "id": "945b1575",
   "metadata": {},
   "outputs": [
    {
     "name": "stdout",
     "output_type": "stream",
     "text": [
      "['p', 'y', 't', 'h', 'o', 'n']\n"
     ]
    }
   ],
   "source": [
    "ls = [x for x in 'python']\n",
    "print(ls)"
   ]
  },
  {
   "cell_type": "code",
   "execution_count": null,
   "id": "01314b0a",
   "metadata": {},
   "outputs": [],
   "source": [
    "create list comprehension for lcm  "
   ]
  },
  {
   "cell_type": "code",
   "execution_count": 18,
   "id": "96b01762",
   "metadata": {},
   "outputs": [
    {
     "name": "stdout",
     "output_type": "stream",
     "text": [
      "[[0, 0, 0], [0, 1, 2], [0, 2, 2]]\n"
     ]
    }
   ],
   "source": [
    "import math\n",
    "lcm1=[[math.lcm(i,j) for i in range(3)] for j in range(3)]\n",
    "print(lcm1)\n"
   ]
  },
  {
   "cell_type": "code",
   "execution_count": 23,
   "id": "56d26fef",
   "metadata": {},
   "outputs": [
    {
     "name": "stdout",
     "output_type": "stream",
     "text": [
      "0\n",
      "1\n",
      "2\n",
      "3\n"
     ]
    }
   ],
   "source": [
    "for i,j in enumerate(range(4)):\n",
    "#     print(i,j)\n",
    "    print(math.lcm(i,j))"
   ]
  },
  {
   "cell_type": "code",
   "execution_count": 24,
   "id": "9ab8ea59",
   "metadata": {},
   "outputs": [
    {
     "name": "stdout",
     "output_type": "stream",
     "text": [
      "[0, 1, 2, 3, 4]\n"
     ]
    }
   ],
   "source": [
    "lcm = [math.lcm(i,j) for i,j in enumerate(range(5))]\n",
    "print(lcm)"
   ]
  },
  {
   "cell_type": "code",
   "execution_count": 28,
   "id": "f84ff420",
   "metadata": {},
   "outputs": [],
   "source": [
    "# class LCM1():\n",
    "#   a=0\n",
    "#   b=0\n",
    "#   lcm=0\n",
    "\n",
    "#   def __init__(self,a,b):\n",
    "#     self.a=a\n",
    "#     self.b=b\n",
    "#   def display(self):\n",
    "\n",
    "#     if self.a>self.b:\n",
    "#       greater=self.a\n",
    "#     else:\n",
    "#       greater=self.b\n",
    "#     while(True):\n",
    "#       if((greater%self.a==0) and greater%self.b==0):\n",
    "#         lcm=greater\n",
    "#         break\n",
    "#       greater=greater+1\n",
    "#     return lcm\n",
    "\n",
    "# y=LCM1(3,7)\n",
    "# y.display()\n"
   ]
  },
  {
   "cell_type": "code",
   "execution_count": 29,
   "id": "cba42e2a",
   "metadata": {},
   "outputs": [],
   "source": [
    "# ls = [x for x in ]"
   ]
  },
  {
   "cell_type": "code",
   "execution_count": 30,
   "id": "45eaf6ac",
   "metadata": {},
   "outputs": [],
   "source": [
    "import time"
   ]
  },
  {
   "cell_type": "code",
   "execution_count": 31,
   "id": "ed57e130",
   "metadata": {},
   "outputs": [],
   "source": [
    "def for_loop(n):\n",
    "    res = []\n",
    "    for i in range(n):\n",
    "        res.append(i**2)\n",
    "    return res\n",
    "    "
   ]
  },
  {
   "cell_type": "code",
   "execution_count": 44,
   "id": "f05cab9a",
   "metadata": {},
   "outputs": [
    {
     "name": "stdout",
     "output_type": "stream",
     "text": [
      "0.46\n"
     ]
    }
   ],
   "source": [
    "begin = time.time()\n",
    "for_loop(10**6)\n",
    "end = time.time()\n",
    "print(round(end-begin,2))"
   ]
  },
  {
   "cell_type": "code",
   "execution_count": 40,
   "id": "67494d58",
   "metadata": {},
   "outputs": [],
   "source": [
    "def list_comp(n):\n",
    "    return [i**2 for i in range(n)]"
   ]
  },
  {
   "cell_type": "code",
   "execution_count": 46,
   "id": "3b3d9558",
   "metadata": {},
   "outputs": [
    {
     "name": "stdout",
     "output_type": "stream",
     "text": [
      "0.37\n"
     ]
    }
   ],
   "source": [
    "begin1 = time.time()\n",
    "list_comp(10**6)\n",
    "end1 = time.time()\n",
    "print(round(end1-begin1,2))"
   ]
  },
  {
   "cell_type": "markdown",
   "id": "693d8c7d",
   "metadata": {},
   "source": [
    "# Nested list comprehension"
   ]
  },
  {
   "cell_type": "code",
   "execution_count": 47,
   "id": "492ec81f",
   "metadata": {},
   "outputs": [],
   "source": [
    "matrix = []"
   ]
  },
  {
   "cell_type": "code",
   "execution_count": 48,
   "id": "56acc450",
   "metadata": {},
   "outputs": [
    {
     "name": "stdout",
     "output_type": "stream",
     "text": [
      "[[0, 1, 2, 3, 4], [0, 1, 2, 3, 4], [0, 1, 2, 3, 4]]\n"
     ]
    }
   ],
   "source": [
    "for i in range(3):\n",
    "    matrix.append([])\n",
    "    for j in range(5):\n",
    "        matrix[i].append(j)\n",
    "print(matrix)"
   ]
  },
  {
   "cell_type": "code",
   "execution_count": 50,
   "id": "faa1ad99",
   "metadata": {},
   "outputs": [],
   "source": [
    "matrix = [ [ j for j in range(5)] for i in range(3) ]"
   ]
  },
  {
   "cell_type": "code",
   "execution_count": 51,
   "id": "28b2c9a1",
   "metadata": {},
   "outputs": [
    {
     "data": {
      "text/plain": [
       "[[0, 1, 2, 3, 4], [0, 1, 2, 3, 4], [0, 1, 2, 3, 4]]"
      ]
     },
     "execution_count": 51,
     "metadata": {},
     "output_type": "execute_result"
    }
   ],
   "source": [
    "matrix"
   ]
  },
  {
   "cell_type": "code",
   "execution_count": 52,
   "id": "c3598d6c",
   "metadata": {},
   "outputs": [
    {
     "name": "stdout",
     "output_type": "stream",
     "text": [
      "[10, 20, 30, 40, 50]\n"
     ]
    }
   ],
   "source": [
    "# lambda fucntion in list compreension\n",
    "\n",
    "numbers = []\n",
    "for i in range(1,6):\n",
    "    numbers.append(i*10)\n",
    "print(numbers)\n",
    "\n"
   ]
  },
  {
   "cell_type": "code",
   "execution_count": 53,
   "id": "8d491694",
   "metadata": {},
   "outputs": [],
   "source": [
    "nu = [i * 10  for i in range(1,6)]"
   ]
  },
  {
   "cell_type": "code",
   "execution_count": 54,
   "id": "bc662855",
   "metadata": {},
   "outputs": [
    {
     "data": {
      "text/plain": [
       "[10, 20, 30, 40, 50]"
      ]
     },
     "execution_count": 54,
     "metadata": {},
     "output_type": "execute_result"
    }
   ],
   "source": [
    "nu"
   ]
  },
  {
   "cell_type": "code",
   "execution_count": 55,
   "id": "ef33b369",
   "metadata": {},
   "outputs": [],
   "source": [
    "numbers = list(map(lambda i:i* 10 ,[i for i in range(1,6)]))"
   ]
  },
  {
   "cell_type": "code",
   "execution_count": 56,
   "id": "06e5f551",
   "metadata": {},
   "outputs": [
    {
     "data": {
      "text/plain": [
       "[10, 20, 30, 40, 50]"
      ]
     },
     "execution_count": 56,
     "metadata": {},
     "output_type": "execute_result"
    }
   ],
   "source": [
    "numbers"
   ]
  },
  {
   "cell_type": "code",
   "execution_count": 58,
   "id": "1311b29c",
   "metadata": {},
   "outputs": [
    {
     "name": "stdout",
     "output_type": "stream",
     "text": [
      "['even number', 'odd number', 'even number', 'odd number', 'even number']\n"
     ]
    }
   ],
   "source": [
    "lis = [\"even number\" if i %2 ==0 else \"odd number\"  for i in range(5)]\n",
    "print(lis)"
   ]
  },
  {
   "cell_type": "code",
   "execution_count": 63,
   "id": "4d6244bc",
   "metadata": {},
   "outputs": [],
   "source": [
    "# number which is divisible by 5 ,10\n",
    "\n",
    "div5_10 = [ num for num in range(100)\n",
    "            if num %5 ==0 \n",
    "            if num %10 ==0\n",
    "          ]"
   ]
  },
  {
   "cell_type": "code",
   "execution_count": 64,
   "id": "72f209d4",
   "metadata": {},
   "outputs": [
    {
     "data": {
      "text/plain": [
       "[0, 10, 20, 30, 40, 50, 60, 70, 80, 90]"
      ]
     },
     "execution_count": 64,
     "metadata": {},
     "output_type": "execute_result"
    }
   ],
   "source": [
    "div5_10"
   ]
  },
  {
   "cell_type": "code",
   "execution_count": 72,
   "id": "16badc31",
   "metadata": {},
   "outputs": [],
   "source": [
    "div5_10 = [ num for num in range(100)\n",
    "            if num %5 ==0 and num %8 ==0\n",
    "          ]"
   ]
  },
  {
   "cell_type": "code",
   "execution_count": 73,
   "id": "cb5bbf02",
   "metadata": {
    "collapsed": true
   },
   "outputs": [
    {
     "data": {
      "text/plain": [
       "[0,\n",
       " 5,\n",
       " 8,\n",
       " 10,\n",
       " 15,\n",
       " 16,\n",
       " 20,\n",
       " 24,\n",
       " 25,\n",
       " 30,\n",
       " 32,\n",
       " 35,\n",
       " 40,\n",
       " 45,\n",
       " 48,\n",
       " 50,\n",
       " 55,\n",
       " 56,\n",
       " 60,\n",
       " 64,\n",
       " 65,\n",
       " 70,\n",
       " 72,\n",
       " 75,\n",
       " 80,\n",
       " 85,\n",
       " 88,\n",
       " 90,\n",
       " 95,\n",
       " 96]"
      ]
     },
     "execution_count": 73,
     "metadata": {},
     "output_type": "execute_result"
    }
   ],
   "source": [
    "div5_10"
   ]
  },
  {
   "cell_type": "code",
   "execution_count": 74,
   "id": "e21d97bc",
   "metadata": {},
   "outputs": [],
   "source": [
    "# dispaly the square numbers from 1 to 10\n",
    "\n",
    "sq = [ n**2 for n in range(1,11) ]"
   ]
  },
  {
   "cell_type": "code",
   "execution_count": 75,
   "id": "05f3adf1",
   "metadata": {},
   "outputs": [
    {
     "data": {
      "text/plain": [
       "[1, 4, 9, 16, 25, 36, 49, 64, 81, 100]"
      ]
     },
     "execution_count": 75,
     "metadata": {},
     "output_type": "execute_result"
    }
   ],
   "source": [
    "sq"
   ]
  },
  {
   "cell_type": "code",
   "execution_count": 76,
   "id": "e83361f0",
   "metadata": {},
   "outputs": [],
   "source": [
    "# diaplay transpose of matrix\n",
    "\n",
    "mat = [ [10,20,30],\n",
    "        [40,50,60],\n",
    "        [70,80,90]\n",
    "      ]\n"
   ]
  },
  {
   "cell_type": "code",
   "execution_count": 92,
   "id": "b3cbbfbd",
   "metadata": {},
   "outputs": [
    {
     "data": {
      "text/plain": [
       "[[10, 20, 30], [40, 50, 60], [70, 80, 90]]"
      ]
     },
     "execution_count": 92,
     "metadata": {},
     "output_type": "execute_result"
    }
   ],
   "source": [
    "[i for i in mat]"
   ]
  },
  {
   "cell_type": "code",
   "execution_count": 98,
   "id": "124ec36c",
   "metadata": {},
   "outputs": [
    {
     "data": {
      "text/plain": [
       "[0, 1, 2]"
      ]
     },
     "execution_count": 98,
     "metadata": {},
     "output_type": "execute_result"
    }
   ],
   "source": [
    "[j for j in range(len(mat)) ]"
   ]
  },
  {
   "cell_type": "code",
   "execution_count": 93,
   "id": "0f92d3c6",
   "metadata": {},
   "outputs": [],
   "source": [
    "trans = [ [i[j] for i in mat] \n",
    "         for j in range(len(mat)) ]"
   ]
  },
  {
   "cell_type": "code",
   "execution_count": 81,
   "id": "2a910f49",
   "metadata": {},
   "outputs": [
    {
     "data": {
      "text/plain": [
       "[[10, 40, 70], [20, 50, 80], [30, 60, 90]]"
      ]
     },
     "execution_count": 81,
     "metadata": {},
     "output_type": "execute_result"
    }
   ],
   "source": [
    "trans  , j - 0,1,2"
   ]
  },
  {
   "cell_type": "code",
   "execution_count": 101,
   "id": "cda8a97b",
   "metadata": {},
   "outputs": [],
   "source": [
    "# reverse string\n",
    "\n",
    "ls = [ x[::-1] for x in (\"pop\",\"madam\",\"next\") ]"
   ]
  },
  {
   "cell_type": "code",
   "execution_count": 102,
   "id": "58454c54",
   "metadata": {},
   "outputs": [
    {
     "data": {
      "text/plain": [
       "['pop', 'madam', 'txen']"
      ]
     },
     "execution_count": 102,
     "metadata": {},
     "output_type": "execute_result"
    }
   ],
   "source": [
    "ls"
   ]
  },
  {
   "cell_type": "code",
   "execution_count": null,
   "id": "539194d0",
   "metadata": {},
   "outputs": [],
   "source": [
    "display the sum of digits for all the odd elements in list\n",
    "Ex. [ 456 , 123 , 111]  = [ 1+2+3 , 1+1+1] = [6,3]"
   ]
  },
  {
   "cell_type": "code",
   "execution_count": 126,
   "id": "72f345b4",
   "metadata": {},
   "outputs": [],
   "source": [
    "\n",
    "def sum(n):\n",
    "    dsum = 0\n",
    "    for i in str(n):\n",
    "        dsum = dsum+int(i)\n",
    "    return dsum"
   ]
  },
  {
   "cell_type": "code",
   "execution_count": 129,
   "id": "06984e17",
   "metadata": {},
   "outputs": [
    {
     "data": {
      "text/plain": [
       "[6, 3]"
      ]
     },
     "execution_count": 129,
     "metadata": {},
     "output_type": "execute_result"
    }
   ],
   "source": [
    "\n",
    "[  sum(i) for i in [ 456 , 123 , 111]   if i  and i%2==1]"
   ]
  },
  {
   "cell_type": "code",
   "execution_count": 130,
   "id": "f287555b",
   "metadata": {},
   "outputs": [],
   "source": [
    "# Data compression \n",
    "\n",
    "import zlib\n"
   ]
  },
  {
   "cell_type": "code",
   "execution_count": 131,
   "id": "47570c11",
   "metadata": {},
   "outputs": [],
   "source": [
    "s = b\"the python is very easy to learn\""
   ]
  },
  {
   "cell_type": "code",
   "execution_count": 132,
   "id": "6e32d1fd",
   "metadata": {},
   "outputs": [
    {
     "name": "stdout",
     "output_type": "stream",
     "text": [
      "32\n"
     ]
    }
   ],
   "source": [
    "print(len(s))"
   ]
  },
  {
   "cell_type": "code",
   "execution_count": 149,
   "id": "aaf0a166",
   "metadata": {},
   "outputs": [],
   "source": [
    "t = zlib.compress(s)"
   ]
  },
  {
   "cell_type": "code",
   "execution_count": 135,
   "id": "27ee665b",
   "metadata": {},
   "outputs": [
    {
     "data": {
      "text/plain": [
       "40"
      ]
     },
     "execution_count": 135,
     "metadata": {},
     "output_type": "execute_result"
    }
   ],
   "source": [
    "len(t)"
   ]
  },
  {
   "cell_type": "code",
   "execution_count": 138,
   "id": "aa58e23b",
   "metadata": {},
   "outputs": [],
   "source": [
    "# t.decode()"
   ]
  },
  {
   "cell_type": "code",
   "execution_count": 144,
   "id": "2c84576d",
   "metadata": {},
   "outputs": [],
   "source": [
    "data = b\"hello world\"\n",
    "import binascii"
   ]
  },
  {
   "cell_type": "code",
   "execution_count": 146,
   "id": "c975d73a",
   "metadata": {},
   "outputs": [
    {
     "ename": "TypeError",
     "evalue": "a bytes-like object is required, not 'str'",
     "output_type": "error",
     "traceback": [
      "\u001b[1;31m---------------------------------------------------------------------------\u001b[0m",
      "\u001b[1;31mTypeError\u001b[0m                                 Traceback (most recent call last)",
      "Input \u001b[1;32mIn [146]\u001b[0m, in \u001b[0;36m<cell line: 1>\u001b[1;34m()\u001b[0m\n\u001b[1;32m----> 1\u001b[0m \u001b[43mzlib\u001b[49m\u001b[38;5;241;43m.\u001b[39;49m\u001b[43mcompress\u001b[49m\u001b[43m(\u001b[49m\u001b[38;5;124;43m\"\u001b[39;49m\u001b[38;5;124;43mhello  world\u001b[39;49m\u001b[38;5;124;43m\"\u001b[39;49m\u001b[43m)\u001b[49m\n",
      "\u001b[1;31mTypeError\u001b[0m: a bytes-like object is required, not 'str'"
     ]
    }
   ],
   "source": [
    "\n",
    "zlib.compress(\"hello  world\")"
   ]
  },
  {
   "cell_type": "code",
   "execution_count": 148,
   "id": "61977a08",
   "metadata": {},
   "outputs": [
    {
     "ename": "TypeError",
     "evalue": "a bytes-like object is required, not 'str'",
     "output_type": "error",
     "traceback": [
      "\u001b[1;31m---------------------------------------------------------------------------\u001b[0m",
      "\u001b[1;31mTypeError\u001b[0m                                 Traceback (most recent call last)",
      "Input \u001b[1;32mIn [148]\u001b[0m, in \u001b[0;36m<cell line: 9>\u001b[1;34m()\u001b[0m\n\u001b[0;32m      4\u001b[0m data \u001b[38;5;241m=\u001b[39m \u001b[38;5;124m'\u001b[39m\u001b[38;5;124mHello world\u001b[39m\u001b[38;5;124m'\u001b[39m\n\u001b[0;32m      6\u001b[0m \u001b[38;5;66;03m# compressed_data = zlib.compress(data, 2)\u001b[39;00m\n\u001b[0;32m      7\u001b[0m \n\u001b[0;32m      8\u001b[0m \u001b[38;5;66;03m# print('Original data: ' +  data)\u001b[39;00m\n\u001b[1;32m----> 9\u001b[0m \u001b[38;5;28mprint\u001b[39m(\u001b[38;5;124m'\u001b[39m\u001b[38;5;124mCompressed data: \u001b[39m\u001b[38;5;124m'\u001b[39m \u001b[38;5;241m+\u001b[39m \u001b[43mbinascii\u001b[49m\u001b[38;5;241;43m.\u001b[39;49m\u001b[43mhexlify\u001b[49m\u001b[43m(\u001b[49m\u001b[38;5;124;43m\"\u001b[39;49m\u001b[38;5;124;43mhello world\u001b[39;49m\u001b[38;5;124;43m\"\u001b[39;49m\u001b[43m)\u001b[49m)\n",
      "\u001b[1;31mTypeError\u001b[0m: a bytes-like object is required, not 'str'"
     ]
    }
   ],
   "source": [
    "import zlib\n",
    "import binascii\n",
    "\n",
    "data = 'Hello world'\n",
    "\n",
    "# compressed_data = zlib.compress(data, 2)\n",
    "\n",
    "# print('Original data: ' +  data)\n",
    "print('Compressed data: ' + binascii.hexlify(\"hello world\"))"
   ]
  },
  {
   "cell_type": "code",
   "execution_count": 150,
   "id": "4d9ba94f",
   "metadata": {},
   "outputs": [
    {
     "data": {
      "text/plain": [
       "b'the python is very easy to learn'"
      ]
     },
     "execution_count": 150,
     "metadata": {},
     "output_type": "execute_result"
    }
   ],
   "source": [
    "zlib.decompress(t)"
   ]
  },
  {
   "cell_type": "code",
   "execution_count": null,
   "id": "c361cb4f",
   "metadata": {},
   "outputs": [],
   "source": []
  },
  {
   "cell_type": "code",
   "execution_count": null,
   "id": "ee66993c",
   "metadata": {},
   "outputs": [],
   "source": []
  },
  {
   "cell_type": "code",
   "execution_count": 125,
   "id": "69ed44f2",
   "metadata": {},
   "outputs": [
    {
     "name": "stdout",
     "output_type": "stream",
     "text": [
      "234\n"
     ]
    }
   ],
   "source": [
    "num=[456,123,111]\n",
    "newnum=0\n",
    "for i in num:\n",
    "     if i%2!=0:\n",
    "            newnum=newnum+i\n",
    "            \n",
    "print(newnum)\n"
   ]
  },
  {
   "cell_type": "code",
   "execution_count": null,
   "id": "e5dbffbe",
   "metadata": {},
   "outputs": [],
   "source": []
  }
 ],
 "metadata": {
  "kernelspec": {
   "display_name": "Python 3 (ipykernel)",
   "language": "python",
   "name": "python3"
  },
  "language_info": {
   "codemirror_mode": {
    "name": "ipython",
    "version": 3
   },
   "file_extension": ".py",
   "mimetype": "text/x-python",
   "name": "python",
   "nbconvert_exporter": "python",
   "pygments_lexer": "ipython3",
   "version": "3.9.12"
  }
 },
 "nbformat": 4,
 "nbformat_minor": 5
}
