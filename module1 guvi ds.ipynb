{
 "cells": [
  {
   "cell_type": "code",
   "execution_count": null,
   "id": "51154604",
   "metadata": {},
   "outputs": [],
   "source": [
    "simple coding "
   ]
  },
  {
   "cell_type": "code",
   "execution_count": 1,
   "id": "ddb1f880",
   "metadata": {},
   "outputs": [
    {
     "data": {
      "text/plain": [
       "4"
      ]
     },
     "execution_count": 1,
     "metadata": {},
     "output_type": "execute_result"
    }
   ],
   "source": [
    "2 + 2 "
   ]
  },
  {
   "cell_type": "code",
   "execution_count": 2,
   "id": "b087e561",
   "metadata": {},
   "outputs": [
    {
     "data": {
      "text/plain": [
       "1"
      ]
     },
     "execution_count": 2,
     "metadata": {},
     "output_type": "execute_result"
    }
   ],
   "source": [
    "4 - 3"
   ]
  },
  {
   "cell_type": "code",
   "execution_count": 3,
   "id": "f3511bbc",
   "metadata": {},
   "outputs": [
    {
     "data": {
      "text/plain": [
       "12"
      ]
     },
     "execution_count": 3,
     "metadata": {},
     "output_type": "execute_result"
    }
   ],
   "source": [
    "4*3"
   ]
  },
  {
   "cell_type": "code",
   "execution_count": 4,
   "id": "e488ca81",
   "metadata": {},
   "outputs": [
    {
     "data": {
      "text/plain": [
       "2.0"
      ]
     },
     "execution_count": 4,
     "metadata": {},
     "output_type": "execute_result"
    }
   ],
   "source": [
    "4/2"
   ]
  },
  {
   "cell_type": "code",
   "execution_count": 5,
   "id": "41c174ec",
   "metadata": {},
   "outputs": [
    {
     "name": "stdout",
     "output_type": "stream",
     "text": [
      "hello world\n"
     ]
    }
   ],
   "source": [
    "print( \"hello world\" )"
   ]
  },
  {
   "cell_type": "code",
   "execution_count": 6,
   "id": "01935da0",
   "metadata": {},
   "outputs": [
    {
     "name": "stdout",
     "output_type": "stream",
     "text": [
      " hello every one\n"
     ]
    }
   ],
   "source": [
    "print( \" hello every one\")"
   ]
  },
  {
   "cell_type": "code",
   "execution_count": 7,
   "id": "5b86b80b",
   "metadata": {},
   "outputs": [],
   "source": [
    "x = 2"
   ]
  },
  {
   "cell_type": "code",
   "execution_count": 8,
   "id": "40f843a2",
   "metadata": {},
   "outputs": [
    {
     "name": "stdout",
     "output_type": "stream",
     "text": [
      "2\n"
     ]
    }
   ],
   "source": [
    "print(x)"
   ]
  },
  {
   "cell_type": "code",
   "execution_count": 9,
   "id": "a5c01e0e",
   "metadata": {},
   "outputs": [
    {
     "data": {
      "text/plain": [
       "int"
      ]
     },
     "execution_count": 9,
     "metadata": {},
     "output_type": "execute_result"
    }
   ],
   "source": [
    "type(x)"
   ]
  },
  {
   "cell_type": "code",
   "execution_count": 10,
   "id": "ebd66489",
   "metadata": {},
   "outputs": [],
   "source": [
    "name = \"kumar\""
   ]
  },
  {
   "cell_type": "code",
   "execution_count": 11,
   "id": "0f470789",
   "metadata": {},
   "outputs": [
    {
     "name": "stdout",
     "output_type": "stream",
     "text": [
      "kumar\n"
     ]
    }
   ],
   "source": [
    "print(name)"
   ]
  },
  {
   "cell_type": "code",
   "execution_count": 12,
   "id": "3ccaddc9",
   "metadata": {},
   "outputs": [
    {
     "data": {
      "text/plain": [
       "str"
      ]
     },
     "execution_count": 12,
     "metadata": {},
     "output_type": "execute_result"
    }
   ],
   "source": [
    "type(name)"
   ]
  },
  {
   "cell_type": "code",
   "execution_count": 13,
   "id": "7c564645",
   "metadata": {},
   "outputs": [],
   "source": [
    "i = 7.5"
   ]
  },
  {
   "cell_type": "code",
   "execution_count": 14,
   "id": "9e7fddb5",
   "metadata": {},
   "outputs": [
    {
     "name": "stdout",
     "output_type": "stream",
     "text": [
      "7.5\n"
     ]
    }
   ],
   "source": [
    "print(i)"
   ]
  },
  {
   "cell_type": "code",
   "execution_count": 15,
   "id": "21c3404b",
   "metadata": {},
   "outputs": [
    {
     "data": {
      "text/plain": [
       "float"
      ]
     },
     "execution_count": 15,
     "metadata": {},
     "output_type": "execute_result"
    }
   ],
   "source": [
    "type(i)"
   ]
  },
  {
   "cell_type": "code",
   "execution_count": null,
   "id": "8b752c34",
   "metadata": {},
   "outputs": [],
   "source": [
    "int , float , str - Data types"
   ]
  },
  {
   "cell_type": "code",
   "execution_count": 21,
   "id": "f2c110d2",
   "metadata": {},
   "outputs": [
    {
     "name": "stdout",
     "output_type": "stream",
     "text": [
      "7\n"
     ]
    }
   ],
   "source": [
    "x = 2\n",
    "y = 5\n",
    "\n",
    "x+y\n",
    "print(x+y)"
   ]
  },
  {
   "cell_type": "code",
   "execution_count": 19,
   "id": "d038e9a7",
   "metadata": {},
   "outputs": [],
   "source": [
    "import numpy"
   ]
  },
  {
   "cell_type": "code",
   "execution_count": null,
   "id": "c0a1e27c",
   "metadata": {},
   "outputs": [],
   "source": [
    "# numpy.TAB button"
   ]
  },
  {
   "cell_type": "code",
   "execution_count": 20,
   "id": "818230e8",
   "metadata": {},
   "outputs": [
    {
     "data": {
      "text/plain": [
       "3.0"
      ]
     },
     "execution_count": 20,
     "metadata": {},
     "output_type": "execute_result"
    }
   ],
   "source": [
    "numpy.sqrt(9)"
   ]
  },
  {
   "cell_type": "code",
   "execution_count": 22,
   "id": "92662d36",
   "metadata": {},
   "outputs": [
    {
     "data": {
      "text/plain": [
       "array([3., 4., 5., 7., 9.])"
      ]
     },
     "execution_count": 22,
     "metadata": {},
     "output_type": "execute_result"
    }
   ],
   "source": [
    "numpy.sqrt([9,16,25,49,81])"
   ]
  },
  {
   "cell_type": "code",
   "execution_count": null,
   "id": "1415d9ad",
   "metadata": {},
   "outputs": [],
   "source": [
    "[] - list create square brackets"
   ]
  },
  {
   "cell_type": "code",
   "execution_count": 23,
   "id": "e7b33e7f",
   "metadata": {},
   "outputs": [],
   "source": [
    "lis1 = [9,16,49,81,144]"
   ]
  },
  {
   "cell_type": "code",
   "execution_count": 24,
   "id": "fee2d081",
   "metadata": {},
   "outputs": [
    {
     "name": "stdout",
     "output_type": "stream",
     "text": [
      "[9, 16, 49, 81, 144]\n"
     ]
    }
   ],
   "source": [
    "print(lis1)"
   ]
  },
  {
   "cell_type": "code",
   "execution_count": 41,
   "id": "6bca1628",
   "metadata": {},
   "outputs": [
    {
     "data": {
      "text/plain": [
       "array([ 3.,  4.,  7.,  9., 12.])"
      ]
     },
     "execution_count": 41,
     "metadata": {},
     "output_type": "execute_result"
    }
   ],
   "source": [
    "numpy.sqrt(lis1)"
   ]
  },
  {
   "cell_type": "code",
   "execution_count": 35,
   "id": "74252ed1",
   "metadata": {},
   "outputs": [],
   "source": [
    "x = int(2)\n",
    "y = str(2.5)\n"
   ]
  },
  {
   "cell_type": "code",
   "execution_count": 37,
   "id": "077c2ebf",
   "metadata": {},
   "outputs": [],
   "source": [
    "# x = int(\"thillai\")"
   ]
  },
  {
   "cell_type": "code",
   "execution_count": 27,
   "id": "136b8d34",
   "metadata": {},
   "outputs": [
    {
     "name": "stdout",
     "output_type": "stream",
     "text": [
      "2 2\n"
     ]
    }
   ],
   "source": [
    "print(x,y)"
   ]
  },
  {
   "cell_type": "code",
   "execution_count": 28,
   "id": "6e77e6f0",
   "metadata": {},
   "outputs": [
    {
     "data": {
      "text/plain": [
       "(int, str)"
      ]
     },
     "execution_count": 28,
     "metadata": {},
     "output_type": "execute_result"
    }
   ],
   "source": [
    "type(x),type(y)"
   ]
  },
  {
   "cell_type": "code",
   "execution_count": 38,
   "id": "78cfb274",
   "metadata": {},
   "outputs": [],
   "source": [
    "x = \" values 3 $ % & lfjdlsfj 9--03\" "
   ]
  },
  {
   "cell_type": "code",
   "execution_count": 39,
   "id": "712d22f3",
   "metadata": {},
   "outputs": [
    {
     "data": {
      "text/plain": [
       "' values 3 $ % & lfjdlsfj 9--03'"
      ]
     },
     "execution_count": 39,
     "metadata": {},
     "output_type": "execute_result"
    }
   ],
   "source": [
    "x"
   ]
  },
  {
   "cell_type": "code",
   "execution_count": 40,
   "id": "84c2a374",
   "metadata": {},
   "outputs": [
    {
     "data": {
      "text/plain": [
       "str"
      ]
     },
     "execution_count": 40,
     "metadata": {},
     "output_type": "execute_result"
    }
   ],
   "source": [
    "type(x)"
   ]
  },
  {
   "cell_type": "code",
   "execution_count": 42,
   "id": "b66e9d70",
   "metadata": {},
   "outputs": [],
   "source": [
    "x  =6\n",
    "y = \"lkdfjdslk\""
   ]
  },
  {
   "cell_type": "code",
   "execution_count": 43,
   "id": "02ac0d47",
   "metadata": {},
   "outputs": [
    {
     "name": "stdout",
     "output_type": "stream",
     "text": [
      "enter ur name :guvi\n"
     ]
    }
   ],
   "source": [
    "name = input(\"enter ur name :\")"
   ]
  },
  {
   "cell_type": "code",
   "execution_count": 44,
   "id": "982261ee",
   "metadata": {},
   "outputs": [
    {
     "name": "stdout",
     "output_type": "stream",
     "text": [
      "guvi\n"
     ]
    }
   ],
   "source": [
    "print(name)"
   ]
  },
  {
   "cell_type": "code",
   "execution_count": 47,
   "id": "242497f9",
   "metadata": {},
   "outputs": [
    {
     "name": "stdout",
     "output_type": "stream",
     "text": [
      "50\n"
     ]
    }
   ],
   "source": [
    "age = int(input())"
   ]
  },
  {
   "cell_type": "code",
   "execution_count": 48,
   "id": "8e0817b4",
   "metadata": {},
   "outputs": [
    {
     "data": {
      "text/plain": [
       "50"
      ]
     },
     "execution_count": 48,
     "metadata": {},
     "output_type": "execute_result"
    }
   ],
   "source": [
    "age"
   ]
  },
  {
   "cell_type": "code",
   "execution_count": 49,
   "id": "93196cab",
   "metadata": {},
   "outputs": [
    {
     "name": "stdout",
     "output_type": "stream",
     "text": [
      "lkjflskdfjslkd9\n"
     ]
    }
   ],
   "source": [
    "address = str(input())"
   ]
  },
  {
   "cell_type": "code",
   "execution_count": 50,
   "id": "ca12b682",
   "metadata": {},
   "outputs": [
    {
     "name": "stdout",
     "output_type": "stream",
     "text": [
      "5.4\n"
     ]
    }
   ],
   "source": [
    "percentage = float(input())"
   ]
  },
  {
   "cell_type": "code",
   "execution_count": 51,
   "id": "42cd5fbd",
   "metadata": {},
   "outputs": [
    {
     "data": {
      "text/plain": [
       "5.4"
      ]
     },
     "execution_count": 51,
     "metadata": {},
     "output_type": "execute_result"
    }
   ],
   "source": [
    "percentage"
   ]
  },
  {
   "cell_type": "code",
   "execution_count": null,
   "id": "d3fafd4b",
   "metadata": {},
   "outputs": [],
   "source": [
    "Python data types:\n",
    "    \n",
    "    text type  - str\n",
    "    numeric  - int, float\n",
    "    sequence type - list , tuples,range\n",
    "    mapping type  - dict\n",
    "    set type - set\n",
    "    boolean type - bool\n",
    "    None type - None   \n",
    "    "
   ]
  },
  {
   "cell_type": "code",
   "execution_count": 61,
   "id": "a6d7688a",
   "metadata": {},
   "outputs": [],
   "source": [
    "lis = ['a',\"b\",'c',1,2,3]  - list"
   ]
  },
  {
   "cell_type": "code",
   "execution_count": 55,
   "id": "e5867089",
   "metadata": {},
   "outputs": [],
   "source": [
    "tup = ( 'a','b','c',1,2,3)  - tuples"
   ]
  },
  {
   "cell_type": "code",
   "execution_count": 54,
   "id": "ca59b852",
   "metadata": {},
   "outputs": [
    {
     "data": {
      "text/plain": [
       "tuple"
      ]
     },
     "execution_count": 54,
     "metadata": {},
     "output_type": "execute_result"
    }
   ],
   "source": [
    "type(tup)"
   ]
  },
  {
   "cell_type": "code",
   "execution_count": null,
   "id": "dae5e0fc",
   "metadata": {},
   "outputs": [],
   "source": [
    "tuples - will nt allow duplicate , immutable\n",
    "list -    mutable , allow duplicates\n"
   ]
  },
  {
   "cell_type": "code",
   "execution_count": null,
   "id": "781a31a8",
   "metadata": {},
   "outputs": [],
   "source": [
    "range - budet , range "
   ]
  },
  {
   "cell_type": "code",
   "execution_count": 57,
   "id": "fa7df6c3",
   "metadata": {},
   "outputs": [],
   "source": [
    " s = range(1000,2000)"
   ]
  },
  {
   "cell_type": "code",
   "execution_count": 59,
   "id": "58987fd5",
   "metadata": {},
   "outputs": [
    {
     "data": {
      "text/plain": [
       "range(0, 6)"
      ]
     },
     "execution_count": 59,
     "metadata": {},
     "output_type": "execute_result"
    }
   ],
   "source": [
    "range(6)"
   ]
  },
  {
   "cell_type": "code",
   "execution_count": null,
   "id": "355815b8",
   "metadata": {},
   "outputs": [],
   "source": [
    "looping concepts - for , do loops"
   ]
  },
  {
   "cell_type": "code",
   "execution_count": null,
   "id": "ae526929",
   "metadata": {},
   "outputs": [],
   "source": [
    "dictionary data type\n",
    "\n",
    "key      -  values\n",
    "interest - vatti , aarvam\n"
   ]
  },
  {
   "cell_type": "code",
   "execution_count": 62,
   "id": "eaa25310",
   "metadata": {},
   "outputs": [],
   "source": [
    "x = {\"interest\" : \"vatti\" , \"facination\": \"attraction\"}"
   ]
  },
  {
   "cell_type": "code",
   "execution_count": 63,
   "id": "e1f67e8d",
   "metadata": {},
   "outputs": [
    {
     "data": {
      "text/plain": [
       "dict"
      ]
     },
     "execution_count": 63,
     "metadata": {},
     "output_type": "execute_result"
    }
   ],
   "source": [
    "type(x)"
   ]
  },
  {
   "cell_type": "code",
   "execution_count": 67,
   "id": "ece2d513",
   "metadata": {},
   "outputs": [
    {
     "data": {
      "text/plain": [
       "'vatti'"
      ]
     },
     "execution_count": 67,
     "metadata": {},
     "output_type": "execute_result"
    }
   ],
   "source": [
    "\n",
    "x[\"interest\"]  - key - slice , dice , index"
   ]
  },
  {
   "cell_type": "code",
   "execution_count": 68,
   "id": "5f92d07b",
   "metadata": {},
   "outputs": [
    {
     "data": {
      "text/plain": [
       "'attraction'"
      ]
     },
     "execution_count": 68,
     "metadata": {},
     "output_type": "execute_result"
    }
   ],
   "source": [
    "x[\"facination\"] - keys"
   ]
  },
  {
   "cell_type": "code",
   "execution_count": 69,
   "id": "7e196524",
   "metadata": {},
   "outputs": [
    {
     "data": {
      "text/plain": [
       "dict_keys(['interest', 'facination'])"
      ]
     },
     "execution_count": 69,
     "metadata": {},
     "output_type": "execute_result"
    }
   ],
   "source": [
    "x.keys()"
   ]
  },
  {
   "cell_type": "code",
   "execution_count": 70,
   "id": "7f3cbbd1",
   "metadata": {},
   "outputs": [
    {
     "data": {
      "text/plain": [
       "dict_values(['vatti', 'attraction'])"
      ]
     },
     "execution_count": 70,
     "metadata": {},
     "output_type": "execute_result"
    }
   ],
   "source": [
    "x.values()"
   ]
  },
  {
   "cell_type": "code",
   "execution_count": null,
   "id": "59523b89",
   "metadata": {},
   "outputs": [],
   "source": [
    "a = {1,2,3} , b  = {2,4}"
   ]
  },
  {
   "cell_type": "code",
   "execution_count": null,
   "id": "1a26730e",
   "metadata": {},
   "outputs": [],
   "source": [
    "dict1 = {'key':'val'}"
   ]
  },
  {
   "cell_type": "code",
   "execution_count": 78,
   "id": "60c3f25d",
   "metadata": {},
   "outputs": [],
   "source": [
    "x = bool(5)"
   ]
  },
  {
   "cell_type": "code",
   "execution_count": 79,
   "id": "df46285f",
   "metadata": {},
   "outputs": [
    {
     "data": {
      "text/plain": [
       "bool"
      ]
     },
     "execution_count": 79,
     "metadata": {},
     "output_type": "execute_result"
    }
   ],
   "source": [
    "type(x)"
   ]
  },
  {
   "cell_type": "code",
   "execution_count": 80,
   "id": "ec1be7b5",
   "metadata": {},
   "outputs": [
    {
     "data": {
      "text/plain": [
       "True"
      ]
     },
     "execution_count": 80,
     "metadata": {},
     "output_type": "execute_result"
    }
   ],
   "source": [
    "yes or no , true or false"
   ]
  },
  {
   "cell_type": "code",
   "execution_count": 81,
   "id": "5a6cdf1a",
   "metadata": {},
   "outputs": [
    {
     "name": "stdout",
     "output_type": "stream",
     "text": [
      "True\n"
     ]
    }
   ],
   "source": [
    "print(10>9)"
   ]
  },
  {
   "cell_type": "code",
   "execution_count": 82,
   "id": "a31c1239",
   "metadata": {},
   "outputs": [
    {
     "data": {
      "text/plain": [
       "False"
      ]
     },
     "execution_count": 82,
     "metadata": {},
     "output_type": "execute_result"
    }
   ],
   "source": [
    "10>9\n",
    "10 == 9\n",
    "10 < 9"
   ]
  },
  {
   "cell_type": "code",
   "execution_count": 76,
   "id": "b0955f8e",
   "metadata": {},
   "outputs": [],
   "source": [
    "# None , NAN  \n",
    "\n",
    "x = None"
   ]
  },
  {
   "cell_type": "code",
   "execution_count": 77,
   "id": "a4c9874d",
   "metadata": {},
   "outputs": [
    {
     "data": {
      "text/plain": [
       "NoneType"
      ]
     },
     "execution_count": 77,
     "metadata": {},
     "output_type": "execute_result"
    }
   ],
   "source": [
    "type(x)"
   ]
  },
  {
   "cell_type": "code",
   "execution_count": null,
   "id": "29ab0489",
   "metadata": {},
   "outputs": [],
   "source": [
    "AUB   , A intersection B  , \n",
    "\n",
    "set theory \n",
    "a = {1,2,3} b = {2,4}\n",
    "A inersection B -- 2 , AUB = {1,2,3,4}"
   ]
  },
  {
   "cell_type": "code",
   "execution_count": 71,
   "id": "ee3f8a08",
   "metadata": {},
   "outputs": [],
   "source": [
    "a = {1,2,3}"
   ]
  },
  {
   "cell_type": "code",
   "execution_count": 72,
   "id": "99d103f0",
   "metadata": {},
   "outputs": [
    {
     "data": {
      "text/plain": [
       "set"
      ]
     },
     "execution_count": 72,
     "metadata": {},
     "output_type": "execute_result"
    }
   ],
   "source": [
    "type(a)"
   ]
  },
  {
   "cell_type": "code",
   "execution_count": null,
   "id": "2eb22942",
   "metadata": {},
   "outputs": [],
   "source": []
  },
  {
   "cell_type": "code",
   "execution_count": null,
   "id": "e22e97d2",
   "metadata": {},
   "outputs": [],
   "source": [
    "    set type - set\n",
    "    boolean type - bool\n",
    "    None type - None   \n",
    "    "
   ]
  },
  {
   "cell_type": "code",
   "execution_count": null,
   "id": "2d7372fb",
   "metadata": {},
   "outputs": [],
   "source": [
    "NAN , None , NaT   - blanks "
   ]
  },
  {
   "cell_type": "code",
   "execution_count": 83,
   "id": "0e085100",
   "metadata": {},
   "outputs": [],
   "source": [
    "lis2 = [1,2,3,None,4]"
   ]
  },
  {
   "cell_type": "code",
   "execution_count": 88,
   "id": "b96416cf",
   "metadata": {},
   "outputs": [],
   "source": [
    "\n",
    "if cond:\n",
    "    sttatment  - indent\n",
    "else if or elif cond:\n",
    "    sttt                  multiple condition ( nested if )\n",
    "elif cond:\n",
    "    stttt\n",
    "    ...\n",
    "else:\n",
    "    sttatment\n",
    "    "
   ]
  },
  {
   "cell_type": "code",
   "execution_count": 89,
   "id": "e30a4e36",
   "metadata": {},
   "outputs": [
    {
     "name": "stdout",
     "output_type": "stream",
     "text": [
      "b is not gt a\n"
     ]
    }
   ],
   "source": [
    "a = 200\n",
    "b = 33\n",
    "\n",
    "if b > a:\n",
    "    print(\"b is gt a\")\n",
    "else:\n",
    "    print(\"b is not gt a\")"
   ]
  },
  {
   "cell_type": "code",
   "execution_count": 92,
   "id": "056a1d3b",
   "metadata": {},
   "outputs": [
    {
     "name": "stdout",
     "output_type": "stream",
     "text": [
      "b is gt a\n"
     ]
    }
   ],
   "source": [
    "a = 10\n",
    "b = 5\n",
    "if (b > a) and (b<a) or (b != a)  :\n",
    "    print(\"b is gt a\")\n",
    "elif a == b:\n",
    "    print( \"a&b are eqaul\")\n",
    "else:\n",
    "    print(\"b is not gt a\")"
   ]
  },
  {
   "cell_type": "code",
   "execution_count": 94,
   "id": "cf61e0e9",
   "metadata": {},
   "outputs": [
    {
     "name": "stdout",
     "output_type": "stream",
     "text": [
      "No\n"
     ]
    }
   ],
   "source": [
    "a= 10\n",
    "b=5\n",
    "if (b<a) and (b==a):\n",
    "    print(\"yes\")\n",
    "else:\n",
    "    print(\"No\")\n",
    "    \n",
    "    "
   ]
  },
  {
   "cell_type": "code",
   "execution_count": 95,
   "id": "0250d3dc",
   "metadata": {},
   "outputs": [],
   "source": [
    "# list operations\n",
    "\n",
    "sample = [\"apple\",\"banana\",\"cherry\",\"apple\"]\n",
    "\n"
   ]
  },
  {
   "cell_type": "code",
   "execution_count": 96,
   "id": "6c63b323",
   "metadata": {},
   "outputs": [
    {
     "data": {
      "text/plain": [
       "['apple', 'banana', 'cherry', 'apple']"
      ]
     },
     "execution_count": 96,
     "metadata": {},
     "output_type": "execute_result"
    }
   ],
   "source": [
    "sample"
   ]
  },
  {
   "cell_type": "code",
   "execution_count": null,
   "id": "32778b6b",
   "metadata": {},
   "outputs": [],
   "source": [
    "list - Ordered changable allow duplicates"
   ]
  },
  {
   "cell_type": "code",
   "execution_count": null,
   "id": "44178974",
   "metadata": {},
   "outputs": [],
   "source": [
    "index - always start zero 0"
   ]
  },
  {
   "cell_type": "code",
   "execution_count": 97,
   "id": "276f9f30",
   "metadata": {},
   "outputs": [
    {
     "data": {
      "text/plain": [
       "'apple'"
      ]
     },
     "execution_count": 97,
     "metadata": {},
     "output_type": "execute_result"
    }
   ],
   "source": [
    "sample[0]"
   ]
  },
  {
   "cell_type": "code",
   "execution_count": 98,
   "id": "ede8917b",
   "metadata": {},
   "outputs": [
    {
     "data": {
      "text/plain": [
       "['apple']"
      ]
     },
     "execution_count": 98,
     "metadata": {},
     "output_type": "execute_result"
    }
   ],
   "source": [
    "sample[0:1]   ( 1-1 = 0 )"
   ]
  },
  {
   "cell_type": "code",
   "execution_count": 99,
   "id": "4b85c88b",
   "metadata": {},
   "outputs": [
    {
     "data": {
      "text/plain": [
       "['apple', 'banana']"
      ]
     },
     "execution_count": 99,
     "metadata": {},
     "output_type": "execute_result"
    }
   ],
   "source": [
    "sample[0:2] ( 0 , 2-1 =1 -> 0 ,1)"
   ]
  },
  {
   "cell_type": "code",
   "execution_count": 100,
   "id": "d7a9bf5c",
   "metadata": {},
   "outputs": [
    {
     "data": {
      "text/plain": [
       "['banana', 'cherry', 'apple']"
      ]
     },
     "execution_count": 100,
     "metadata": {},
     "output_type": "execute_result"
    }
   ],
   "source": [
    "sample[1:4] ( 1,2,3(4-1))"
   ]
  },
  {
   "cell_type": "code",
   "execution_count": 103,
   "id": "68c4c110",
   "metadata": {},
   "outputs": [
    {
     "ename": "IndexError",
     "evalue": "list index out of range",
     "output_type": "error",
     "traceback": [
      "\u001b[1;31m---------------------------------------------------------------------------\u001b[0m",
      "\u001b[1;31mIndexError\u001b[0m                                Traceback (most recent call last)",
      "Input \u001b[1;32mIn [103]\u001b[0m, in \u001b[0;36m<cell line: 1>\u001b[1;34m()\u001b[0m\n\u001b[1;32m----> 1\u001b[0m \u001b[43msample\u001b[49m\u001b[43m[\u001b[49m\u001b[38;5;241;43m5\u001b[39;49m\u001b[43m]\u001b[49m\n",
      "\u001b[1;31mIndexError\u001b[0m: list index out of range"
     ]
    }
   ],
   "source": [
    "sample[5]"
   ]
  },
  {
   "cell_type": "code",
   "execution_count": null,
   "id": "e5bd784f",
   "metadata": {},
   "outputs": [],
   "source": [
    "['apple', 'banana', 'cherry', 'apple']"
   ]
  },
  {
   "cell_type": "code",
   "execution_count": null,
   "id": "6ae5cd26",
   "metadata": {},
   "outputs": [],
   "source": [
    "list - ia collection which is oredered and changable , allow dup memeber\n",
    "tuple - ia collection which is oredered and unchangable , allow dup memeber"
   ]
  },
  {
   "cell_type": "code",
   "execution_count": null,
   "id": "61549105",
   "metadata": {},
   "outputs": [],
   "source": [
    "set - is a colleciton which is unordered , unchangable , unindexed,no dup."
   ]
  },
  {
   "cell_type": "code",
   "execution_count": null,
   "id": "f73602d2",
   "metadata": {},
   "outputs": [],
   "source": [
    "dict - is a colleciton which is ordered and chnagable , no dup"
   ]
  },
  {
   "cell_type": "code",
   "execution_count": 104,
   "id": "9ab80274",
   "metadata": {},
   "outputs": [],
   "source": [
    "x = (12,3,1,3,1,3)"
   ]
  },
  {
   "cell_type": "code",
   "execution_count": 105,
   "id": "4134a838",
   "metadata": {},
   "outputs": [
    {
     "data": {
      "text/plain": [
       "(12, 3, 1, 3, 1, 3)"
      ]
     },
     "execution_count": 105,
     "metadata": {},
     "output_type": "execute_result"
    }
   ],
   "source": [
    "x"
   ]
  },
  {
   "cell_type": "code",
   "execution_count": 106,
   "id": "7fcdfad5",
   "metadata": {},
   "outputs": [
    {
     "data": {
      "text/plain": [
       "['apple', 'banana', 'cherry', 'apple']"
      ]
     },
     "execution_count": 106,
     "metadata": {},
     "output_type": "execute_result"
    }
   ],
   "source": [
    "sample"
   ]
  },
  {
   "cell_type": "code",
   "execution_count": 107,
   "id": "5aeedb9d",
   "metadata": {},
   "outputs": [],
   "source": [
    "sample[0] = \"tree\""
   ]
  },
  {
   "cell_type": "code",
   "execution_count": 108,
   "id": "0e9c3314",
   "metadata": {},
   "outputs": [
    {
     "data": {
      "text/plain": [
       "['tree', 'banana', 'cherry', 'apple']"
      ]
     },
     "execution_count": 108,
     "metadata": {},
     "output_type": "execute_result"
    }
   ],
   "source": [
    "sample"
   ]
  },
  {
   "cell_type": "code",
   "execution_count": 109,
   "id": "94f63e58",
   "metadata": {},
   "outputs": [
    {
     "data": {
      "text/plain": [
       "'apple'"
      ]
     },
     "execution_count": 109,
     "metadata": {},
     "output_type": "execute_result"
    }
   ],
   "source": [
    "sample[-1]"
   ]
  },
  {
   "cell_type": "code",
   "execution_count": 128,
   "id": "e0bb94b6",
   "metadata": {},
   "outputs": [],
   "source": [
    "sample = ['apple', 'banana', 'cherry', 'apple']"
   ]
  },
  {
   "cell_type": "code",
   "execution_count": 129,
   "id": "2639927c",
   "metadata": {},
   "outputs": [
    {
     "data": {
      "text/plain": [
       "['apple', 'banana', 'cherry', 'apple']"
      ]
     },
     "execution_count": 129,
     "metadata": {},
     "output_type": "execute_result"
    }
   ],
   "source": [
    "sample"
   ]
  },
  {
   "cell_type": "code",
   "execution_count": null,
   "id": "4173ab5d",
   "metadata": {},
   "outputs": [],
   "source": [
    "list ops:\n",
    "insert \n",
    "append\n",
    "extend\n",
    "remove\n",
    "clear"
   ]
  },
  {
   "cell_type": "code",
   "execution_count": 130,
   "id": "d0cb6a6e",
   "metadata": {},
   "outputs": [],
   "source": [
    "sample.append(\"orange\")"
   ]
  },
  {
   "cell_type": "code",
   "execution_count": 131,
   "id": "e47bc56f",
   "metadata": {},
   "outputs": [
    {
     "data": {
      "text/plain": [
       "['apple', 'banana', 'cherry', 'apple', 'orange']"
      ]
     },
     "execution_count": 131,
     "metadata": {},
     "output_type": "execute_result"
    }
   ],
   "source": [
    "sample"
   ]
  },
  {
   "cell_type": "code",
   "execution_count": 132,
   "id": "2bf9bc48",
   "metadata": {},
   "outputs": [],
   "source": [
    "sample.insert(1,\"tree\")"
   ]
  },
  {
   "cell_type": "code",
   "execution_count": 133,
   "id": "7bb31901",
   "metadata": {},
   "outputs": [
    {
     "data": {
      "text/plain": [
       "['apple', 'tree', 'banana', 'cherry', 'apple', 'orange']"
      ]
     },
     "execution_count": 133,
     "metadata": {},
     "output_type": "execute_result"
    }
   ],
   "source": [
    "sample"
   ]
  },
  {
   "cell_type": "code",
   "execution_count": 134,
   "id": "70379ced",
   "metadata": {},
   "outputs": [],
   "source": [
    "sub = [\"mango\",1,2]"
   ]
  },
  {
   "cell_type": "code",
   "execution_count": 135,
   "id": "28168b34",
   "metadata": {},
   "outputs": [],
   "source": [
    "sample.extend(sub)"
   ]
  },
  {
   "cell_type": "code",
   "execution_count": 136,
   "id": "adec67ee",
   "metadata": {},
   "outputs": [
    {
     "data": {
      "text/plain": [
       "['apple', 'tree', 'banana', 'cherry', 'apple', 'orange', 'mango', 1, 2]"
      ]
     },
     "execution_count": 136,
     "metadata": {},
     "output_type": "execute_result"
    }
   ],
   "source": [
    "sample"
   ]
  },
  {
   "cell_type": "code",
   "execution_count": 137,
   "id": "a2d4d673",
   "metadata": {},
   "outputs": [],
   "source": [
    "sub.extend(sample)"
   ]
  },
  {
   "cell_type": "code",
   "execution_count": 139,
   "id": "d061e486",
   "metadata": {},
   "outputs": [],
   "source": [
    "# sub"
   ]
  },
  {
   "cell_type": "code",
   "execution_count": 140,
   "id": "dc76f93a",
   "metadata": {},
   "outputs": [],
   "source": [
    "del sample"
   ]
  },
  {
   "cell_type": "code",
   "execution_count": 141,
   "id": "ab959170",
   "metadata": {},
   "outputs": [],
   "source": [
    "# sample"
   ]
  },
  {
   "cell_type": "code",
   "execution_count": 125,
   "id": "772817cc",
   "metadata": {},
   "outputs": [
    {
     "data": {
      "text/plain": [
       "['mango', 1, 2]"
      ]
     },
     "execution_count": 125,
     "metadata": {},
     "output_type": "execute_result"
    }
   ],
   "source": [
    "sub"
   ]
  },
  {
   "cell_type": "code",
   "execution_count": 142,
   "id": "1f2c424a",
   "metadata": {},
   "outputs": [],
   "source": [
    "sub.clear()"
   ]
  },
  {
   "cell_type": "code",
   "execution_count": 143,
   "id": "3fb075dd",
   "metadata": {},
   "outputs": [
    {
     "data": {
      "text/plain": [
       "[]"
      ]
     },
     "execution_count": 143,
     "metadata": {},
     "output_type": "execute_result"
    }
   ],
   "source": [
    "sub"
   ]
  },
  {
   "cell_type": "code",
   "execution_count": 144,
   "id": "2a16ca14",
   "metadata": {},
   "outputs": [],
   "source": [
    "sample = [\"apple\",\"mango\",\"banan\"]"
   ]
  },
  {
   "cell_type": "code",
   "execution_count": 145,
   "id": "685b91d3",
   "metadata": {},
   "outputs": [
    {
     "data": {
      "text/plain": [
       "['apple', 'mango', 'banan']"
      ]
     },
     "execution_count": 145,
     "metadata": {},
     "output_type": "execute_result"
    }
   ],
   "source": [
    "sample"
   ]
  },
  {
   "cell_type": "code",
   "execution_count": 148,
   "id": "c260a0a0",
   "metadata": {},
   "outputs": [
    {
     "data": {
      "text/plain": [
       "3"
      ]
     },
     "execution_count": 148,
     "metadata": {},
     "output_type": "execute_result"
    }
   ],
   "source": [
    "len(sample)"
   ]
  },
  {
   "cell_type": "code",
   "execution_count": null,
   "id": "00a941df",
   "metadata": {},
   "outputs": [],
   "source": [
    "# loop concept: for syntax\n",
    "\n",
    "for i in data type:   repeatation or iterative (process)\n",
    "    sttatmets\n",
    "\n"
   ]
  },
  {
   "cell_type": "code",
   "execution_count": 149,
   "id": "7202b1b4",
   "metadata": {},
   "outputs": [
    {
     "name": "stdout",
     "output_type": "stream",
     "text": [
      "apple\n",
      "mango\n",
      "banan\n"
     ]
    }
   ],
   "source": [
    "for i in sample: \n",
    "    print(i)"
   ]
  },
  {
   "cell_type": "code",
   "execution_count": null,
   "id": "5a8e250b",
   "metadata": {},
   "outputs": [],
   "source": [
    "sample[0] , sample[1] , sample[2]"
   ]
  },
  {
   "cell_type": "code",
   "execution_count": 150,
   "id": "a83a18b1",
   "metadata": {},
   "outputs": [
    {
     "name": "stdout",
     "output_type": "stream",
     "text": [
      "apple\n",
      "mango\n",
      "banan\n"
     ]
    }
   ],
   "source": [
    "for i in range(1,len(sample)): \n",
    "    print(sample[i])"
   ]
  },
  {
   "cell_type": "code",
   "execution_count": null,
   "id": "7b8a74a3",
   "metadata": {},
   "outputs": [],
   "source": [
    "range(0,6)\n",
    "range(6)"
   ]
  },
  {
   "cell_type": "code",
   "execution_count": 151,
   "id": "595a6eb4",
   "metadata": {},
   "outputs": [
    {
     "name": "stdout",
     "output_type": "stream",
     "text": [
      "apple\n",
      "mango\n",
      "banan\n"
     ]
    }
   ],
   "source": [
    "for i in range(len(sample)): \n",
    "    print(sample[i])"
   ]
  },
  {
   "cell_type": "code",
   "execution_count": 154,
   "id": "b30dbf28",
   "metadata": {},
   "outputs": [],
   "source": [
    "fruits = [\"apple\",\"banana\",\"cherry\",\"kiwi\",\"mango\"]"
   ]
  },
  {
   "cell_type": "code",
   "execution_count": 160,
   "id": "c6cb03fc",
   "metadata": {},
   "outputs": [],
   "source": [
    "newlist = []"
   ]
  },
  {
   "cell_type": "code",
   "execution_count": 161,
   "id": "d8bf246d",
   "metadata": {},
   "outputs": [
    {
     "name": "stdout",
     "output_type": "stream",
     "text": [
      "['apple']\n"
     ]
    }
   ],
   "source": [
    "for x in fruits: \n",
    "    if \"a\" in x[0:1]:             \n",
    "        newlist.append(x)     \n",
    "print(newlist)"
   ]
  },
  {
   "cell_type": "code",
   "execution_count": 158,
   "id": "0216a3f6",
   "metadata": {},
   "outputs": [
    {
     "data": {
      "text/plain": [
       "'a'"
      ]
     },
     "execution_count": 158,
     "metadata": {},
     "output_type": "execute_result"
    }
   ],
   "source": [
    "fruits[0][0:1]"
   ]
  },
  {
   "cell_type": "code",
   "execution_count": 165,
   "id": "aeadf2b5",
   "metadata": {},
   "outputs": [],
   "source": [
    "fruits.sort(reverse = True) - desc"
   ]
  },
  {
   "cell_type": "code",
   "execution_count": 166,
   "id": "dd9cd156",
   "metadata": {},
   "outputs": [
    {
     "data": {
      "text/plain": [
       "['mango', 'kiwi', 'cherry', 'banana', 'apple']"
      ]
     },
     "execution_count": 166,
     "metadata": {},
     "output_type": "execute_result"
    }
   ],
   "source": [
    "fruits"
   ]
  },
  {
   "cell_type": "code",
   "execution_count": null,
   "id": "9738c4ab",
   "metadata": {},
   "outputs": [],
   "source": [
    "sort ( ascedning ) "
   ]
  },
  {
   "cell_type": "code",
   "execution_count": 173,
   "id": "b6d4a67d",
   "metadata": {},
   "outputs": [
    {
     "name": "stdout",
     "output_type": "stream",
     "text": [
      "m\n",
      "['mango']\n"
     ]
    }
   ],
   "source": [
    "newlist = []\n",
    "cond = input()\n",
    "for x in fruits: \n",
    "    if cond in x:             \n",
    "        newlist.append(x)     \n",
    "print(newlist)"
   ]
  },
  {
   "cell_type": "code",
   "execution_count": null,
   "id": "e5814add",
   "metadata": {},
   "outputs": [],
   "source": [
    "list methods:\n",
    "    \n",
    "append() , clear(),copy(),count(),extent,index,pop()\n",
    "    "
   ]
  },
  {
   "cell_type": "code",
   "execution_count": 174,
   "id": "927e86f8",
   "metadata": {},
   "outputs": [],
   "source": [
    "name = \"murali\""
   ]
  },
  {
   "cell_type": "code",
   "execution_count": 175,
   "id": "be56d208",
   "metadata": {},
   "outputs": [
    {
     "data": {
      "text/plain": [
       "False"
      ]
     },
     "execution_count": 175,
     "metadata": {},
     "output_type": "execute_result"
    }
   ],
   "source": [
    "name.isupper()"
   ]
  },
  {
   "cell_type": "code",
   "execution_count": 176,
   "id": "bc68f7a3",
   "metadata": {},
   "outputs": [
    {
     "data": {
      "text/plain": [
       "'murali'"
      ]
     },
     "execution_count": 176,
     "metadata": {},
     "output_type": "execute_result"
    }
   ],
   "source": [
    "name.lower()"
   ]
  },
  {
   "cell_type": "code",
   "execution_count": 177,
   "id": "fad63768",
   "metadata": {},
   "outputs": [
    {
     "data": {
      "text/plain": [
       "'MURALI'"
      ]
     },
     "execution_count": 177,
     "metadata": {},
     "output_type": "execute_result"
    }
   ],
   "source": [
    "name.upper()"
   ]
  },
  {
   "cell_type": "code",
   "execution_count": 178,
   "id": "60140aaa",
   "metadata": {},
   "outputs": [
    {
     "data": {
      "text/plain": [
       "'murali'"
      ]
     },
     "execution_count": 178,
     "metadata": {},
     "output_type": "execute_result"
    }
   ],
   "source": [
    "name.strip()"
   ]
  },
  {
   "cell_type": "code",
   "execution_count": 179,
   "id": "f400859b",
   "metadata": {},
   "outputs": [],
   "source": [
    "# string funcitions"
   ]
  },
  {
   "cell_type": "code",
   "execution_count": 180,
   "id": "95242f5e",
   "metadata": {},
   "outputs": [],
   "source": [
    "name = \"   murali   \"\n"
   ]
  },
  {
   "cell_type": "code",
   "execution_count": 181,
   "id": "f445216d",
   "metadata": {},
   "outputs": [
    {
     "data": {
      "text/plain": [
       "'murali'"
      ]
     },
     "execution_count": 181,
     "metadata": {},
     "output_type": "execute_result"
    }
   ],
   "source": [
    "name.strip()"
   ]
  },
  {
   "cell_type": "code",
   "execution_count": null,
   "id": "e8598cf0",
   "metadata": {},
   "outputs": [],
   "source": [
    "# custom funciton create \n",
    "\n",
    "# my own fucntion \n"
   ]
  },
  {
   "cell_type": "code",
   "execution_count": 182,
   "id": "6b47ad54",
   "metadata": {},
   "outputs": [],
   "source": [
    "fname = \"murali\"\n",
    "lname = \"sss\""
   ]
  },
  {
   "cell_type": "code",
   "execution_count": 184,
   "id": "cb3159f5",
   "metadata": {},
   "outputs": [
    {
     "data": {
      "text/plain": [
       "'murali sss'"
      ]
     },
     "execution_count": 184,
     "metadata": {},
     "output_type": "execute_result"
    }
   ],
   "source": [
    "fname + ' ' + lname"
   ]
  },
  {
   "cell_type": "code",
   "execution_count": null,
   "id": "b8909722",
   "metadata": {},
   "outputs": [],
   "source": [
    "funcition create - syntax def\n",
    "def funcitonname:\n",
    "    statment or ops\n",
    "    return values"
   ]
  },
  {
   "cell_type": "code",
   "execution_count": 191,
   "id": "b92e1f25",
   "metadata": {},
   "outputs": [],
   "source": [
    "def myfunction(fname,lname):\n",
    "    x = fname + lname\n",
    "    return x\n",
    "    "
   ]
  },
  {
   "cell_type": "code",
   "execution_count": 192,
   "id": "0d5d9fab",
   "metadata": {},
   "outputs": [
    {
     "data": {
      "text/plain": [
       "'muraliram'"
      ]
     },
     "execution_count": 192,
     "metadata": {},
     "output_type": "execute_result"
    }
   ],
   "source": [
    "myfunction(\"murali\",\"ram\")\n"
   ]
  },
  {
   "cell_type": "code",
   "execution_count": 193,
   "id": "52d6c346",
   "metadata": {},
   "outputs": [
    {
     "data": {
      "text/plain": [
       "'guvids'"
      ]
     },
     "execution_count": 193,
     "metadata": {},
     "output_type": "execute_result"
    }
   ],
   "source": [
    "myfunction(\"guvi\",\"ds\")"
   ]
  },
  {
   "cell_type": "code",
   "execution_count": 194,
   "id": "82d18c0f",
   "metadata": {},
   "outputs": [
    {
     "data": {
      "text/plain": [
       "'pythonloop'"
      ]
     },
     "execution_count": 194,
     "metadata": {},
     "output_type": "execute_result"
    }
   ],
   "source": [
    "myfunction(\"python\",\"loop\")"
   ]
  },
  {
   "cell_type": "code",
   "execution_count": null,
   "id": "6809ee61",
   "metadata": {},
   "outputs": [],
   "source": [
    "y = 9x2 + 8x + 12  ( quardardic eqn) 10th graph -- parabolla"
   ]
  },
  {
   "cell_type": "code",
   "execution_count": 195,
   "id": "733531f7",
   "metadata": {},
   "outputs": [],
   "source": [
    "import numpy\n",
    "def parabolla_eqn(x):\n",
    "    y = 9* ( x ** 2) + (8 * x) + 12\n",
    "    z = 9* (numpy.square(x)) + (8 * x) + 12\n",
    "    return y,z"
   ]
  },
  {
   "cell_type": "code",
   "execution_count": 196,
   "id": "3aaade88",
   "metadata": {},
   "outputs": [
    {
     "data": {
      "text/plain": [
       "(64, 64)"
      ]
     },
     "execution_count": 196,
     "metadata": {},
     "output_type": "execute_result"
    }
   ],
   "source": [
    "illakiya_Python_expert(2)"
   ]
  },
  {
   "cell_type": "code",
   "execution_count": 197,
   "id": "e05d1070",
   "metadata": {},
   "outputs": [
    {
     "name": "stdout",
     "output_type": "stream",
     "text": [
      "(12, 12)\n",
      "(29, 29)\n",
      "(64, 64)\n",
      "(117, 117)\n",
      "(188, 188)\n"
     ]
    }
   ],
   "source": [
    "for i in range(0,5):\n",
    "    print(illakiya_Python_expert(i))\n",
    "    "
   ]
  },
  {
   "cell_type": "code",
   "execution_count": null,
   "id": "1224a89a",
   "metadata": {},
   "outputs": [],
   "source": [
    "# cycle , two wheeler \n",
    "\n",
    "Road signal , red , yellow , green\n",
    "\n",
    "take value input \n",
    "1.red - print(\"stop\")\n",
    "2.yellow - print(\"ready\")\n",
    "3.green - print(go)\n",
    "4.other - na\n",
    "\n"
   ]
  },
  {
   "cell_type": "code",
   "execution_count": 202,
   "id": "acad01d5",
   "metadata": {},
   "outputs": [
    {
     "name": "stdout",
     "output_type": "stream",
     "text": [
      "black\n",
      "NA\n"
     ]
    }
   ],
   "source": [
    "val = input()\n",
    "\n",
    "if val == \"red\":\n",
    "    print(\"stop\")\n",
    "elif val == \"yellow\":\n",
    "    print(\"ready\")\n",
    "elif val == \"green\":\n",
    "    print(\"go\")\n",
    "else:\n",
    "    print(\"NA\")"
   ]
  },
  {
   "cell_type": "code",
   "execution_count": 203,
   "id": "bc724c13",
   "metadata": {},
   "outputs": [
    {
     "data": {
      "text/plain": [
       "4"
      ]
     },
     "execution_count": 203,
     "metadata": {},
     "output_type": "execute_result"
    }
   ],
   "source": [
    "2+2"
   ]
  },
  {
   "cell_type": "code",
   "execution_count": 205,
   "id": "ec798ea0",
   "metadata": {},
   "outputs": [],
   "source": [
    "# string functions\n",
    "\n",
    "name = \"thillaikkarasan murali\""
   ]
  },
  {
   "cell_type": "code",
   "execution_count": 206,
   "id": "ebbbcfc2",
   "metadata": {},
   "outputs": [
    {
     "data": {
      "text/plain": [
       "str"
      ]
     },
     "execution_count": 206,
     "metadata": {},
     "output_type": "execute_result"
    }
   ],
   "source": [
    "type(name)"
   ]
  },
  {
   "cell_type": "code",
   "execution_count": null,
   "id": "89804062",
   "metadata": {},
   "outputs": [],
   "source": [
    "name.TAB button"
   ]
  },
  {
   "cell_type": "code",
   "execution_count": 207,
   "id": "a5b9e417",
   "metadata": {},
   "outputs": [
    {
     "data": {
      "text/plain": [
       "False"
      ]
     },
     "execution_count": 207,
     "metadata": {},
     "output_type": "execute_result"
    }
   ],
   "source": [
    "name.isdigit()"
   ]
  },
  {
   "cell_type": "code",
   "execution_count": 208,
   "id": "bcb31ce4",
   "metadata": {},
   "outputs": [
    {
     "data": {
      "text/plain": [
       "False"
      ]
     },
     "execution_count": 208,
     "metadata": {},
     "output_type": "execute_result"
    }
   ],
   "source": [
    "name.isalpha()"
   ]
  },
  {
   "cell_type": "code",
   "execution_count": 209,
   "id": "077e11df",
   "metadata": {},
   "outputs": [
    {
     "data": {
      "text/plain": [
       "True"
      ]
     },
     "execution_count": 209,
     "metadata": {},
     "output_type": "execute_result"
    }
   ],
   "source": [
    "name.islower()"
   ]
  },
  {
   "cell_type": "code",
   "execution_count": 210,
   "id": "1895baf2",
   "metadata": {},
   "outputs": [
    {
     "data": {
      "text/plain": [
       "'THILLAIKKARASAN MURALI'"
      ]
     },
     "execution_count": 210,
     "metadata": {},
     "output_type": "execute_result"
    }
   ],
   "source": [
    "name.upper()"
   ]
  },
  {
   "cell_type": "code",
   "execution_count": 211,
   "id": "3d2e6a6f",
   "metadata": {},
   "outputs": [
    {
     "data": {
      "text/plain": [
       "'thillaikkarasan murali'"
      ]
     },
     "execution_count": 211,
     "metadata": {},
     "output_type": "execute_result"
    }
   ],
   "source": [
    "name.lower()"
   ]
  },
  {
   "cell_type": "code",
   "execution_count": null,
   "id": "2f8132ff",
   "metadata": {},
   "outputs": [],
   "source": [
    "string function already in python we have used..."
   ]
  },
  {
   "cell_type": "code",
   "execution_count": null,
   "id": "35c714cc",
   "metadata": {},
   "outputs": [],
   "source": [
    "# create my own customs funciton\n",
    "\n",
    "syntax:\n",
    "def functionname(parmater1,parameter2,...):\n",
    "    statement\n",
    "    return value"
   ]
  },
  {
   "cell_type": "code",
   "execution_count": 214,
   "id": "16c7a1a6",
   "metadata": {},
   "outputs": [],
   "source": [
    "def ramkumar(x,m,c):\n",
    "    y = m * x + c     \n",
    "    return y"
   ]
  },
  {
   "cell_type": "code",
   "execution_count": 216,
   "id": "5b6c04f6",
   "metadata": {},
   "outputs": [
    {
     "data": {
      "text/plain": [
       "17"
      ]
     },
     "execution_count": 216,
     "metadata": {},
     "output_type": "execute_result"
    }
   ],
   "source": [
    "ramkumar(4,3,5)"
   ]
  },
  {
   "cell_type": "code",
   "execution_count": 225,
   "id": "8462d41e",
   "metadata": {},
   "outputs": [],
   "source": [
    "def kamal(fname,lname):\n",
    "    x = fname + ' ' +lname\n",
    "    x = x.upper()\n",
    "#     x = fname  + lname\n",
    "    return x"
   ]
  },
  {
   "cell_type": "code",
   "execution_count": 226,
   "id": "8c5b2979",
   "metadata": {},
   "outputs": [
    {
     "data": {
      "text/plain": [
       "'RESHMA JEFFRIN'"
      ]
     },
     "execution_count": 226,
     "metadata": {},
     "output_type": "execute_result"
    }
   ],
   "source": [
    "kamal(\"reshma\",\"jeffrin\")"
   ]
  },
  {
   "cell_type": "code",
   "execution_count": null,
   "id": "1fa842a7",
   "metadata": {},
   "outputs": [],
   "source": [
    "class - multiple funcitons we can create... "
   ]
  },
  {
   "cell_type": "code",
   "execution_count": 227,
   "id": "7a7332da",
   "metadata": {},
   "outputs": [],
   "source": [
    "import numpy\n",
    "class rajinikanth:\n",
    "    \n",
    "    def parabolla_eqn(x):\n",
    "        y = 9* ( x ** 2) + (8 * x) + 12\n",
    "        z = 9* (numpy.square(x)) + (8 * x) + 12\n",
    "        return y,z\n",
    "    \n",
    "    def ramkumar(x,m,c):\n",
    "        y = m * x + c     \n",
    "        return y\n",
    "\n",
    "    def kamal(fname,lname):\n",
    "        x = fname + ' ' +lname\n",
    "        x = x.upper()\n",
    "    #     x = fname  + lname\n",
    "        return x"
   ]
  },
  {
   "cell_type": "code",
   "execution_count": 235,
   "id": "545cc2f7",
   "metadata": {},
   "outputs": [
    {
     "data": {
      "text/plain": [
       "type"
      ]
     },
     "execution_count": 235,
     "metadata": {},
     "output_type": "execute_result"
    }
   ],
   "source": [
    "type(c)"
   ]
  },
  {
   "cell_type": "code",
   "execution_count": 230,
   "id": "df3f827d",
   "metadata": {},
   "outputs": [],
   "source": [
    "c = rajinikanth"
   ]
  },
  {
   "cell_type": "code",
   "execution_count": 231,
   "id": "dde69945",
   "metadata": {},
   "outputs": [
    {
     "data": {
      "text/plain": [
       "'THILLAI MURALI'"
      ]
     },
     "execution_count": 231,
     "metadata": {},
     "output_type": "execute_result"
    }
   ],
   "source": [
    "c.kamal(\"thillai\",\"murali\")"
   ]
  },
  {
   "cell_type": "code",
   "execution_count": 232,
   "id": "069759b9",
   "metadata": {},
   "outputs": [
    {
     "data": {
      "text/plain": [
       "5"
      ]
     },
     "execution_count": 232,
     "metadata": {},
     "output_type": "execute_result"
    }
   ],
   "source": [
    "c.ramkumar(1,2,3)"
   ]
  },
  {
   "cell_type": "code",
   "execution_count": 233,
   "id": "f266e370",
   "metadata": {},
   "outputs": [
    {
     "data": {
      "text/plain": [
       "(992, 992)"
      ]
     },
     "execution_count": 233,
     "metadata": {},
     "output_type": "execute_result"
    }
   ],
   "source": [
    "c.parabolla_eqn(10)"
   ]
  },
  {
   "cell_type": "code",
   "execution_count": null,
   "id": "b3200690",
   "metadata": {},
   "outputs": [],
   "source": [
    "class name:\n",
    "\n",
    "def \n",
    "def\n",
    "... "
   ]
  },
  {
   "cell_type": "code",
   "execution_count": null,
   "id": "2866effe",
   "metadata": {},
   "outputs": [],
   "source": [
    "class classname(parameter1,p2,...):\n",
    "    \n",
    "    def kamal"
   ]
  },
  {
   "cell_type": "code",
   "execution_count": 212,
   "id": "63e15476",
   "metadata": {},
   "outputs": [
    {
     "data": {
      "text/plain": [
       "'thillaikkarasan murali'"
      ]
     },
     "execution_count": 212,
     "metadata": {},
     "output_type": "execute_result"
    }
   ],
   "source": [
    "name.lower()   - lower function in built"
   ]
  },
  {
   "cell_type": "code",
   "execution_count": null,
   "id": "18b7ccdf",
   "metadata": {},
   "outputs": [],
   "source": [
    "project:\n",
    "step 1 : data clean\n",
    "step 2  : basic stats\n",
    "step 3 : Data analyse\n",
    "step 4 : report "
   ]
  },
  {
   "cell_type": "code",
   "execution_count": null,
   "id": "692da3e1",
   "metadata": {},
   "outputs": [],
   "source": [
    "step 1 : cutomer detail\n",
    "    steps 2 : customer sum assured amout\n",
    "    step 3 : nomination and docnet\n",
    "    step 4  : witness & documen thand over"
   ]
  },
  {
   "cell_type": "code",
   "execution_count": null,
   "id": "7295bbe8",
   "metadata": {},
   "outputs": [],
   "source": []
  },
  {
   "cell_type": "code",
   "execution_count": null,
   "id": "1589e5cb",
   "metadata": {},
   "outputs": [],
   "source": [
    "class insurance(longterm):\n",
    "\n",
    "    def customer(name,addrers):\n",
    "        ...\n",
    "    def elligble(salary,pan,adhar,I)\n",
    "    calc\n",
    "    return ellifgle sum assure\n",
    "\n",
    "    def ...\n",
    "        "
   ]
  },
  {
   "cell_type": "code",
   "execution_count": null,
   "id": "f262fb30",
   "metadata": {},
   "outputs": [],
   "source": [
    "c1 = instum(p1,p2...)"
   ]
  },
  {
   "cell_type": "code",
   "execution_count": null,
   "id": "2ae9acb6",
   "metadata": {},
   "outputs": [],
   "source": [
    "c2 = detail ... 1000000"
   ]
  },
  {
   "cell_type": "markdown",
   "id": "3440cf35",
   "metadata": {},
   "source": [
    "# List comprehension\n"
   ]
  },
  {
   "cell_type": "code",
   "execution_count": null,
   "id": "023a6cc3",
   "metadata": {},
   "outputs": [],
   "source": [
    "list - collection of objects"
   ]
  },
  {
   "cell_type": "code",
   "execution_count": 236,
   "id": "3408ebd9",
   "metadata": {},
   "outputs": [],
   "source": [
    "new = [ \"milk\" , \"peper\" , \"masala\" , \"vegtables\" ]"
   ]
  },
  {
   "cell_type": "code",
   "execution_count": 242,
   "id": "36615238",
   "metadata": {},
   "outputs": [
    {
     "data": {
      "text/plain": [
       "['peper', 'masala']"
      ]
     },
     "execution_count": 242,
     "metadata": {},
     "output_type": "execute_result"
    }
   ],
   "source": [
    "new[1:3]"
   ]
  },
  {
   "cell_type": "code",
   "execution_count": 238,
   "id": "1bbe5ffb",
   "metadata": {},
   "outputs": [
    {
     "data": {
      "text/plain": [
       "list"
      ]
     },
     "execution_count": 238,
     "metadata": {},
     "output_type": "execute_result"
    }
   ],
   "source": [
    "type(new)"
   ]
  },
  {
   "cell_type": "code",
   "execution_count": null,
   "id": "be6351f9",
   "metadata": {},
   "outputs": [],
   "source": [
    "list comp  :  short syntax for creating new list based on existing list"
   ]
  },
  {
   "cell_type": "code",
   "execution_count": null,
   "id": "c6d420d5",
   "metadata": {},
   "outputs": [],
   "source": []
  },
  {
   "cell_type": "code",
   "execution_count": null,
   "id": "f07c72e6",
   "metadata": {},
   "outputs": [],
   "source": [
    "Advantages:\n",
    "    time efficient\n",
    "    require fewer lines ( short line of codes)\n",
    "    transform iterative statsments ( transformationation)"
   ]
  },
  {
   "cell_type": "code",
   "execution_count": null,
   "id": "eede799b",
   "metadata": {},
   "outputs": [],
   "source": [
    "syntax:\n",
    "    \n",
    "    newlist  = [  expression(element) for element in oldlist if condtion  ]"
   ]
  },
  {
   "cell_type": "code",
   "execution_count": 250,
   "id": "ed72f469",
   "metadata": {},
   "outputs": [],
   "source": [
    "ls = [  reshma for reshma in new ]"
   ]
  },
  {
   "cell_type": "code",
   "execution_count": 251,
   "id": "00957b91",
   "metadata": {},
   "outputs": [
    {
     "data": {
      "text/plain": [
       "['milk', 'peper', 'masala', 'vegtables']"
      ]
     },
     "execution_count": 251,
     "metadata": {},
     "output_type": "execute_result"
    }
   ],
   "source": [
    "ls"
   ]
  },
  {
   "cell_type": "code",
   "execution_count": 255,
   "id": "93a32a9d",
   "metadata": {},
   "outputs": [
    {
     "name": "stdout",
     "output_type": "stream",
     "text": [
      "[0, 2, 4, 6, 8, 10]\n"
     ]
    }
   ],
   "source": [
    "# Example 2:\n",
    "\n",
    "# even number print\n",
    "\n",
    "even = [ i for i in range(0,11) if i % 2 == 0 ]\n",
    "print(even)"
   ]
  },
  {
   "cell_type": "code",
   "execution_count": null,
   "id": "97b46781",
   "metadata": {},
   "outputs": [],
   "source": [
    "for i in datatype: i assign , increamnet\n",
    "    sttt"
   ]
  },
  {
   "cell_type": "code",
   "execution_count": 259,
   "id": "3764c3e5",
   "metadata": {},
   "outputs": [],
   "source": [
    "# new\n",
    "# for i in range(1,10): ( 10 -1 = 9)\n",
    "#     print(i)"
   ]
  },
  {
   "cell_type": "code",
   "execution_count": null,
   "id": "7056c913",
   "metadata": {},
   "outputs": [],
   "source": [
    "# 0,1,2,3,...,11-1 = 10   , 0/2 = R=0 even else odd\n",
    "range\n",
    "list\n",
    "dict\n",
    "tuple\n",
    "int\n",
    "str\n",
    "set\n",
    "bool\n",
    "None\n",
    "float\n"
   ]
  },
  {
   "cell_type": "code",
   "execution_count": 260,
   "id": "ac63ce8f",
   "metadata": {},
   "outputs": [
    {
     "name": "stdout",
     "output_type": "stream",
     "text": [
      "time forloop 0.58\n",
      "time listcomp 0.34\n"
     ]
    }
   ],
   "source": [
    "# difference between list comprehence & other\n",
    "\n",
    "import time\n",
    "def kamal(n):\n",
    "    result = []\n",
    "    for i in range(n):\n",
    "        result.append(i ** 2)\n",
    "    return result\n",
    "def rajinikanth(n):\n",
    "    x = [i**2 for i in range(n)]\n",
    "    return x\n",
    "begin = time.time()\n",
    "kamal(100000)  \n",
    "end = time.time()\n",
    "print(\"time forloop\", round(end-begin,2))\n",
    "\n",
    "begin = time.time()\n",
    "rajinikanth(100000)\n",
    "end = time.time()\n",
    "print(\"time listcomp\", round(end-begin,2))\n"
   ]
  },
  {
   "cell_type": "code",
   "execution_count": 275,
   "id": "d67526b9",
   "metadata": {},
   "outputs": [],
   "source": [
    "# List =[three for three in range(0,101) if three%3== 0]\n",
    "# List\n",
    "\n",
    "list=i for in range(100) if i%3==0\n",
    "\n",
    "!=  or ne "
   ]
  },
  {
   "cell_type": "code",
   "execution_count": 271,
   "id": "345c6046",
   "metadata": {},
   "outputs": [],
   "source": [
    "# Odd = [i for i in range(101) if i0]"
   ]
  },
  {
   "cell_type": "code",
   "execution_count": 266,
   "id": "aa42b340",
   "metadata": {},
   "outputs": [
    {
     "name": "stdout",
     "output_type": "stream",
     "text": [
      "['even', 'odd', 'even', 'odd', 'even', 'odd', 'even', 'odd', 'even', 'odd', 'even']\n"
     ]
    }
   ],
   "source": [
    "lst=['even' if i%2==0 else 'odd' for i in range(11)  ]\n",
    "print(lst)"
   ]
  },
  {
   "cell_type": "code",
   "execution_count": 265,
   "id": "f7d15f09",
   "metadata": {},
   "outputs": [
    {
     "name": "stdout",
     "output_type": "stream",
     "text": [
      "[0, 3, 6, 9, 12, 15, 18, 21, 24, 27, 30, 33, 36, 39, 42, 45, 48, 51, 54, 57, 60, 63, 66, 69, 72, 75, 78, 81, 84, 87, 90, 93, 96, 99]\n"
     ]
    }
   ],
   "source": [
    "three=[i for i in range(101)if i%3==0]\n",
    "print(three)"
   ]
  },
  {
   "cell_type": "code",
   "execution_count": 264,
   "id": "21d854db",
   "metadata": {},
   "outputs": [],
   "source": [
    "# Pasupathi P.N 4:18 PM\n",
    "# lst=['even' if i%2==0 else 'odd' for i in range(11)  ]\n",
    "# print(lst)\n",
    "# Arunkumar S  to  You (Direct Message) 4:19 PM\n",
    "# three=[i for i in range(101)if i%3==0]\n",
    "# print(three)\n",
    "# Pasupathi P.N  to  You (Direct Message) 4:19 PM\n",
    "# lst=[i for i in range(1,101) if i%3==0 ]\n",
    "# print(lst)\n",
    "# Kumar 4:20 PM\n",
    "# for i in range(1,101):\n",
    "#     if i % 3 == 0:\n",
    "#         print(i)\n",
    "        \n",
    "# Ram =[i for i in range(100) if i%3==0]\n",
    "# print(Ram)\n",
    "\n"
   ]
  },
  {
   "cell_type": "code",
   "execution_count": null,
   "id": "fd45a6ea",
   "metadata": {},
   "outputs": [],
   "source": []
  },
  {
   "cell_type": "code",
   "execution_count": 277,
   "id": "e509988a",
   "metadata": {},
   "outputs": [],
   "source": [
    "# for i in range(1,101):\n",
    "#     if i % 3 == 0:\n",
    "#         print(i)"
   ]
  },
  {
   "cell_type": "code",
   "execution_count": 279,
   "id": "9925e3fe",
   "metadata": {},
   "outputs": [],
   "source": [
    "Even=[i for i in range (0,100)if i %2==0]"
   ]
  },
  {
   "cell_type": "code",
   "execution_count": null,
   "id": "c8bfe1ed",
   "metadata": {},
   "outputs": [],
   "source": [
    "8   -- 2,4,8 , 10 - 5,10  , 6 - 2,3,6"
   ]
  },
  {
   "cell_type": "code",
   "execution_count": 290,
   "id": "aed05569",
   "metadata": {},
   "outputs": [],
   "source": [
    "# lis = [ i for i in range(101) if i %5 == 0  ]\n",
    "# lis"
   ]
  },
  {
   "cell_type": "code",
   "execution_count": 284,
   "id": "29eefeee",
   "metadata": {},
   "outputs": [],
   "source": [
    "1,2,..,100  -> 5  ->  5,10,15,20,25,...\n",
    "               10 ->  10,20,30,..."
   ]
  },
  {
   "cell_type": "markdown",
   "id": "8e04aa91",
   "metadata": {},
   "source": [
    "# File handling"
   ]
  },
  {
   "cell_type": "code",
   "execution_count": null,
   "id": "9bd7d80f",
   "metadata": {},
   "outputs": [],
   "source": [
    "\n",
    "# tkinter - package library\n",
    "# import tkinter\n",
    "\n",
    "file = open(filename , mode)"
   ]
  },
  {
   "cell_type": "code",
   "execution_count": 294,
   "id": "f4c4ed1c",
   "metadata": {},
   "outputs": [
    {
     "data": {
      "text/plain": [
       "'hello'"
      ]
     },
     "execution_count": 294,
     "metadata": {},
     "output_type": "execute_result"
    }
   ],
   "source": [
    "file = open('guvi.txt','r')\n",
    "file.read()"
   ]
  },
  {
   "cell_type": "code",
   "execution_count": null,
   "id": "636d4ab4",
   "metadata": {},
   "outputs": [],
   "source": [
    "r - open existing file for read ops.\n",
    "w - open existing file for write ops\n",
    "a - open a file for append ops"
   ]
  },
  {
   "cell_type": "code",
   "execution_count": 295,
   "id": "d01cc1a5",
   "metadata": {},
   "outputs": [],
   "source": [
    "file = open('guvi.txt','w')\n",
    "file.write(\"python is easy\")\n",
    "file.write(\"data science in python\")\n",
    "file.close()"
   ]
  },
  {
   "cell_type": "code",
   "execution_count": 296,
   "id": "02855715",
   "metadata": {},
   "outputs": [],
   "source": [
    "file = open('guvi.txt','a')\n",
    "file.write(\"we are learning python\")\n",
    "file.close()"
   ]
  },
  {
   "cell_type": "code",
   "execution_count": 301,
   "id": "54b903f3",
   "metadata": {},
   "outputs": [],
   "source": [
    "file = open('guvi.txt','a')\n",
    "file.write(\"pytho\")\n",
    "file.write(\"\\n c++\")\n",
    "file.write(\"\\n R \")\n",
    "file.close()\n"
   ]
  },
  {
   "cell_type": "code",
   "execution_count": 302,
   "id": "da312312",
   "metadata": {},
   "outputs": [],
   "source": [
    "file = open('guvi.txt','w')\n",
    "lis = ['this is delhi \\n',\"chennia\\n\",\"bangalore\\n\"]\n",
    "file.writelines(lis)\n",
    "file.close()"
   ]
  },
  {
   "cell_type": "code",
   "execution_count": null,
   "id": "95f32065",
   "metadata": {},
   "outputs": [],
   "source": [
    "# import os\n",
    "# os.chdir(r'path)\n",
    "# list = os.list()"
   ]
  },
  {
   "cell_type": "markdown",
   "id": "8cbdad2d",
   "metadata": {},
   "source": [
    "# Regular Expression (RegEx)"
   ]
  },
  {
   "cell_type": "code",
   "execution_count": 303,
   "id": "d12f34f6",
   "metadata": {},
   "outputs": [],
   "source": [
    "import re  - search some pattern , detect string , find or search"
   ]
  },
  {
   "cell_type": "code",
   "execution_count": 304,
   "id": "5e965e59",
   "metadata": {},
   "outputs": [],
   "source": [
    "name = 'python is a tool in guvi platform'\n",
    "\n",
    "        012345678910...."
   ]
  },
  {
   "cell_type": "code",
   "execution_count": 306,
   "id": "4b8254d7",
   "metadata": {},
   "outputs": [],
   "source": [
    "x = re.search('python',name)"
   ]
  },
  {
   "cell_type": "code",
   "execution_count": 308,
   "id": "9e865f0a",
   "metadata": {},
   "outputs": [],
   "source": [
    "x = re.search('guvi',name)"
   ]
  },
  {
   "cell_type": "code",
   "execution_count": 309,
   "id": "c961ac6d",
   "metadata": {},
   "outputs": [
    {
     "data": {
      "text/plain": [
       "<re.Match object; span=(20, 24), match='guvi'>"
      ]
     },
     "execution_count": 309,
     "metadata": {},
     "output_type": "execute_result"
    }
   ],
   "source": [
    "x"
   ]
  },
  {
   "cell_type": "code",
   "execution_count": 310,
   "id": "93b5690d",
   "metadata": {},
   "outputs": [],
   "source": [
    "string = \"helloo my number is 27207420347023 and my friend no is 888888\""
   ]
  },
  {
   "cell_type": "code",
   "execution_count": 321,
   "id": "bbe57699",
   "metadata": {},
   "outputs": [],
   "source": [
    "ph = re.findall(\"\\d+\",string)[1]"
   ]
  },
  {
   "cell_type": "code",
   "execution_count": 322,
   "id": "9a2d922c",
   "metadata": {},
   "outputs": [
    {
     "data": {
      "text/plain": [
       "'888888'"
      ]
     },
     "execution_count": 322,
     "metadata": {},
     "output_type": "execute_result"
    }
   ],
   "source": [
    "d = numbers , d+ - actual values"
   ]
  },
  {
   "cell_type": "code",
   "execution_count": 334,
   "id": "2508a5dd",
   "metadata": {},
   "outputs": [],
   "source": [
    "name = \"afor\"\n",
    "re.search(\"\\a\",name)"
   ]
  },
  {
   "cell_type": "code",
   "execution_count": null,
   "id": "e527466c",
   "metadata": {},
   "outputs": [],
   "source": [
    "re.sub(pattern,repl,strin)"
   ]
  },
  {
   "cell_type": "code",
   "execution_count": 335,
   "id": "a70bbff5",
   "metadata": {},
   "outputs": [
    {
     "data": {
      "text/plain": [
       "'s****ject has ****er booked already'"
      ]
     },
     "execution_count": 335,
     "metadata": {},
     "output_type": "execute_result"
    }
   ],
   "source": [
    "re.sub('ub','****','subject has uber booked already')"
   ]
  },
  {
   "cell_type": "code",
   "execution_count": 336,
   "id": "76ff5b4b",
   "metadata": {},
   "outputs": [
    {
     "data": {
      "text/plain": [
       "'the ***** id password '"
      ]
     },
     "execution_count": 336,
     "metadata": {},
     "output_type": "execute_result"
    }
   ],
   "source": [
    "re.sub('user','*****',\"the user id password \")"
   ]
  },
  {
   "cell_type": "code",
   "execution_count": 340,
   "id": "02770a67",
   "metadata": {},
   "outputs": [
    {
     "data": {
      "text/plain": [
       "'the user id pwd '"
      ]
     },
     "execution_count": 340,
     "metadata": {},
     "output_type": "execute_result"
    }
   ],
   "source": [
    "re.sub('password','pwd',\"the user id password \")"
   ]
  },
  {
   "cell_type": "code",
   "execution_count": null,
   "id": "35a44e38",
   "metadata": {},
   "outputs": [],
   "source": []
  },
  {
   "cell_type": "code",
   "execution_count": null,
   "id": "b160e855",
   "metadata": {},
   "outputs": [],
   "source": []
  },
  {
   "cell_type": "code",
   "execution_count": null,
   "id": "030c2f20",
   "metadata": {},
   "outputs": [],
   "source": []
  },
  {
   "cell_type": "code",
   "execution_count": null,
   "id": "6fb0e714",
   "metadata": {},
   "outputs": [],
   "source": []
  },
  {
   "cell_type": "code",
   "execution_count": null,
   "id": "f471751f",
   "metadata": {},
   "outputs": [],
   "source": []
  },
  {
   "cell_type": "code",
   "execution_count": 1,
   "id": "b0007338",
   "metadata": {},
   "outputs": [],
   "source": [
    "# \\A   - begin with A  Ex.   \\Afor\n",
    "# \\b  - begin with b \\bge\n",
    "\n",
    "# \\d  - number\n",
    "# \\D - characters\n",
    "# \\s  - white space\n",
    "# \\S - non white space\n"
   ]
  },
  {
   "cell_type": "code",
   "execution_count": null,
   "id": "2238e63a",
   "metadata": {},
   "outputs": [],
   "source": [
    "pip  -  python insall packages"
   ]
  },
  {
   "cell_type": "code",
   "execution_count": 3,
   "id": "37ca26f3",
   "metadata": {},
   "outputs": [],
   "source": [
    "# import tkinter"
   ]
  },
  {
   "cell_type": "code",
   "execution_count": 4,
   "id": "6e59ff2e",
   "metadata": {},
   "outputs": [],
   "source": [
    "# import openpyxl"
   ]
  },
  {
   "cell_type": "code",
   "execution_count": 5,
   "id": "19a9a031",
   "metadata": {},
   "outputs": [],
   "source": [
    "# import seaborn"
   ]
  },
  {
   "cell_type": "code",
   "execution_count": 7,
   "id": "859e6300",
   "metadata": {},
   "outputs": [],
   "source": [
    "# import xlsx\n",
    "\n",
    "# PIP option "
   ]
  },
  {
   "cell_type": "code",
   "execution_count": null,
   "id": "320e7b80",
   "metadata": {},
   "outputs": [],
   "source": [
    "python Lambda function "
   ]
  },
  {
   "cell_type": "code",
   "execution_count": 8,
   "id": "cd057eb4",
   "metadata": {},
   "outputs": [],
   "source": [
    "name = \"thillai\""
   ]
  },
  {
   "cell_type": "code",
   "execution_count": 9,
   "id": "fe3a0cef",
   "metadata": {},
   "outputs": [
    {
     "data": {
      "text/plain": [
       "'Thillai'"
      ]
     },
     "execution_count": 9,
     "metadata": {},
     "output_type": "execute_result"
    }
   ],
   "source": [
    "name.capitalize()"
   ]
  },
  {
   "cell_type": "code",
   "execution_count": null,
   "id": "e29c16e0",
   "metadata": {},
   "outputs": [],
   "source": [
    "def kamal(p1,p2,..):\n",
    "    stt"
   ]
  },
  {
   "cell_type": "code",
   "execution_count": null,
   "id": "61cd79ff",
   "metadata": {},
   "outputs": [],
   "source": [
    "lambda - anonymous function "
   ]
  },
  {
   "cell_type": "code",
   "execution_count": null,
   "id": "2884e436",
   "metadata": {},
   "outputs": [],
   "source": [
    "lambda arguments : experession"
   ]
  },
  {
   "cell_type": "code",
   "execution_count": 10,
   "id": "25f68ff2",
   "metadata": {},
   "outputs": [],
   "source": [
    "x = lambda price : price * 10"
   ]
  },
  {
   "cell_type": "code",
   "execution_count": 13,
   "id": "5ac47a44",
   "metadata": {},
   "outputs": [
    {
     "data": {
      "text/plain": [
       "200"
      ]
     },
     "execution_count": 13,
     "metadata": {},
     "output_type": "execute_result"
    }
   ],
   "source": [
    "x(20)"
   ]
  },
  {
   "cell_type": "code",
   "execution_count": null,
   "id": "7d63302d",
   "metadata": {},
   "outputs": [],
   "source": [
    "kamal()"
   ]
  },
  {
   "cell_type": "code",
   "execution_count": null,
   "id": "7724ed69",
   "metadata": {},
   "outputs": [],
   "source": [
    "module 1 \n",
    "\n",
    "\n",
    "python data types:\n",
    "int float string bool , none    , tuples , list , dict , set , range\n"
   ]
  },
  {
   "cell_type": "code",
   "execution_count": 2,
   "id": "750e7e03",
   "metadata": {},
   "outputs": [],
   "source": [
    "# variable create\n",
    "\n",
    "x = 5"
   ]
  },
  {
   "cell_type": "code",
   "execution_count": 3,
   "id": "5395f0ef",
   "metadata": {},
   "outputs": [
    {
     "data": {
      "text/plain": [
       "int"
      ]
     },
     "execution_count": 3,
     "metadata": {},
     "output_type": "execute_result"
    }
   ],
   "source": [
    "type(x)"
   ]
  },
  {
   "cell_type": "code",
   "execution_count": 4,
   "id": "d6e45040",
   "metadata": {},
   "outputs": [],
   "source": [
    "name = \"thillai murali\""
   ]
  },
  {
   "cell_type": "code",
   "execution_count": 5,
   "id": "14badb9b",
   "metadata": {},
   "outputs": [
    {
     "data": {
      "text/plain": [
       "str"
      ]
     },
     "execution_count": 5,
     "metadata": {},
     "output_type": "execute_result"
    }
   ],
   "source": [
    "type(name)"
   ]
  },
  {
   "cell_type": "code",
   "execution_count": 6,
   "id": "1270df89",
   "metadata": {},
   "outputs": [],
   "source": [
    "nnn22423423 = \"ldfgldfhg\""
   ]
  },
  {
   "cell_type": "code",
   "execution_count": null,
   "id": "d7bc5d8f",
   "metadata": {},
   "outputs": [],
   "source": [
    "int - 1,2,3,4,5....,inf\n",
    "\n",
    "string - \"  values \"\n",
    "\n",
    "float , 1.2930248239 . "
   ]
  },
  {
   "cell_type": "code",
   "execution_count": null,
   "id": "2898c340",
   "metadata": {},
   "outputs": [],
   "source": [
    "variabe_name = value"
   ]
  },
  {
   "cell_type": "code",
   "execution_count": 7,
   "id": "49d08945",
   "metadata": {},
   "outputs": [
    {
     "name": "stdout",
     "output_type": "stream",
     "text": [
      "5\n"
     ]
    }
   ],
   "source": [
    "print(x)"
   ]
  },
  {
   "cell_type": "code",
   "execution_count": 8,
   "id": "dd988586",
   "metadata": {},
   "outputs": [
    {
     "name": "stdout",
     "output_type": "stream",
     "text": [
      "msg print\n"
     ]
    }
   ],
   "source": [
    "print(\"msg print\")"
   ]
  },
  {
   "cell_type": "code",
   "execution_count": 9,
   "id": "41df1413",
   "metadata": {},
   "outputs": [
    {
     "data": {
      "text/plain": [
       "int"
      ]
     },
     "execution_count": 9,
     "metadata": {},
     "output_type": "execute_result"
    }
   ],
   "source": [
    "type(x)"
   ]
  },
  {
   "cell_type": "code",
   "execution_count": null,
   "id": "6f6620fc",
   "metadata": {},
   "outputs": [],
   "source": [
    "dtype - data type"
   ]
  },
  {
   "cell_type": "code",
   "execution_count": null,
   "id": "c83ae664",
   "metadata": {},
   "outputs": [],
   "source": [
    "print , type , data type , variable creation"
   ]
  },
  {
   "cell_type": "code",
   "execution_count": null,
   "id": "f2c1be22",
   "metadata": {},
   "outputs": [],
   "source": [
    "data types:\n",
    "    \n",
    "    grocessories or new year or family memeber \n",
    "    \n",
    "    list - collection of item"
   ]
  },
  {
   "cell_type": "code",
   "execution_count": 10,
   "id": "d3fde82f",
   "metadata": {},
   "outputs": [],
   "source": [
    "x = 5"
   ]
  },
  {
   "cell_type": "code",
   "execution_count": 11,
   "id": "d3d7f771",
   "metadata": {},
   "outputs": [],
   "source": [
    "x = [ 1,2,3,\"masala\",\"appearlas\",\"slippers\",\"new year\",\"cakes\" ]\n",
    "\n",
    "\n",
    "    0,1,2,3......."
   ]
  },
  {
   "cell_type": "code",
   "execution_count": 12,
   "id": "ab6107b3",
   "metadata": {},
   "outputs": [
    {
     "data": {
      "text/plain": [
       "list"
      ]
     },
     "execution_count": 12,
     "metadata": {},
     "output_type": "execute_result"
    }
   ],
   "source": [
    "type(x)"
   ]
  },
  {
   "cell_type": "code",
   "execution_count": 14,
   "id": "80b9b6cb",
   "metadata": {},
   "outputs": [],
   "source": [
    "k = list([1,23])"
   ]
  },
  {
   "cell_type": "code",
   "execution_count": 15,
   "id": "34f83f1c",
   "metadata": {},
   "outputs": [
    {
     "data": {
      "text/plain": [
       "[1, 23]"
      ]
     },
     "execution_count": 15,
     "metadata": {},
     "output_type": "execute_result"
    }
   ],
   "source": [
    "k"
   ]
  },
  {
   "cell_type": "code",
   "execution_count": 17,
   "id": "9e947043",
   "metadata": {},
   "outputs": [],
   "source": [
    "bb = ( 1,2,3,4,\"kkk\"  )"
   ]
  },
  {
   "cell_type": "code",
   "execution_count": 18,
   "id": "7fdefdff",
   "metadata": {},
   "outputs": [
    {
     "data": {
      "text/plain": [
       "tuple"
      ]
     },
     "execution_count": 18,
     "metadata": {},
     "output_type": "execute_result"
    }
   ],
   "source": [
    "type(bb)"
   ]
  },
  {
   "cell_type": "code",
   "execution_count": null,
   "id": "3f28b7d8",
   "metadata": {},
   "outputs": [],
   "source": [
    "dictionary \n",
    "\n",
    "\n",
    "interest - wish \n",
    "key - value"
   ]
  },
  {
   "cell_type": "code",
   "execution_count": null,
   "id": "7112f9f5",
   "metadata": {},
   "outputs": [],
   "source": [
    "mapping referece \n",
    "\n",
    "\n",
    "apple - mac book\n"
   ]
  },
  {
   "cell_type": "code",
   "execution_count": 20,
   "id": "8ab7725c",
   "metadata": {},
   "outputs": [],
   "source": [
    "dd = dict({ \"interest\" : \"wish\" , \"apple\":\"mac book\" })"
   ]
  },
  {
   "cell_type": "code",
   "execution_count": 21,
   "id": "e70a5df3",
   "metadata": {},
   "outputs": [
    {
     "data": {
      "text/plain": [
       "dict"
      ]
     },
     "execution_count": 21,
     "metadata": {},
     "output_type": "execute_result"
    }
   ],
   "source": [
    "type(dd)"
   ]
  },
  {
   "cell_type": "code",
   "execution_count": 22,
   "id": "b0c544bc",
   "metadata": {},
   "outputs": [
    {
     "data": {
      "text/plain": [
       "dict_keys(['interest', 'apple'])"
      ]
     },
     "execution_count": 22,
     "metadata": {},
     "output_type": "execute_result"
    }
   ],
   "source": [
    "dd.keys()"
   ]
  },
  {
   "cell_type": "code",
   "execution_count": 23,
   "id": "1d122d18",
   "metadata": {},
   "outputs": [
    {
     "data": {
      "text/plain": [
       "dict_values(['wish', 'mac book'])"
      ]
     },
     "execution_count": 23,
     "metadata": {},
     "output_type": "execute_result"
    }
   ],
   "source": [
    "dd.values()"
   ]
  },
  {
   "cell_type": "code",
   "execution_count": 24,
   "id": "b33e6651",
   "metadata": {},
   "outputs": [],
   "source": [
    "x = \"the apple is good than orange\""
   ]
  },
  {
   "cell_type": "code",
   "execution_count": 31,
   "id": "c12046c6",
   "metadata": {},
   "outputs": [
    {
     "data": {
      "text/plain": [
       "'the mac book is good than orange'"
      ]
     },
     "execution_count": 31,
     "metadata": {},
     "output_type": "execute_result"
    }
   ],
   "source": [
    "x.replace(\"apple\",\"mac book\")\n"
   ]
  },
  {
   "cell_type": "code",
   "execution_count": null,
   "id": "966c3395",
   "metadata": {},
   "outputs": [],
   "source": [
    "x.replace(dd.keys())"
   ]
  },
  {
   "cell_type": "code",
   "execution_count": 32,
   "id": "474126fd",
   "metadata": {},
   "outputs": [
    {
     "data": {
      "text/plain": [
       "dict_keys(['interest', 'apple'])"
      ]
     },
     "execution_count": 32,
     "metadata": {},
     "output_type": "execute_result"
    }
   ],
   "source": [
    "dd.keys()"
   ]
  },
  {
   "cell_type": "code",
   "execution_count": 33,
   "id": "07774cd5",
   "metadata": {},
   "outputs": [],
   "source": [
    "# for i in dd.keys():\n",
    "#     dd.values()"
   ]
  },
  {
   "cell_type": "code",
   "execution_count": null,
   "id": "601a8f3a",
   "metadata": {},
   "outputs": [],
   "source": [
    "range - 0-1000 "
   ]
  },
  {
   "cell_type": "code",
   "execution_count": 41,
   "id": "1417fcfd",
   "metadata": {},
   "outputs": [],
   "source": [
    "x = range(500,1000)"
   ]
  },
  {
   "cell_type": "code",
   "execution_count": 42,
   "id": "b54e7bda",
   "metadata": {},
   "outputs": [
    {
     "data": {
      "text/plain": [
       "range(500, 1000)"
      ]
     },
     "execution_count": 42,
     "metadata": {},
     "output_type": "execute_result"
    }
   ],
   "source": [
    "x"
   ]
  },
  {
   "cell_type": "code",
   "execution_count": null,
   "id": "193fdd72",
   "metadata": {},
   "outputs": [],
   "source": [
    "0 - 100 meter (3)"
   ]
  },
  {
   "cell_type": "code",
   "execution_count": 43,
   "id": "f43141a0",
   "metadata": {},
   "outputs": [],
   "source": [
    "dict = dict({ \"num1\" : 34 , \"Num2\" : 45})"
   ]
  },
  {
   "cell_type": "code",
   "execution_count": 44,
   "id": "2efaeffd",
   "metadata": {},
   "outputs": [
    {
     "data": {
      "text/plain": [
       "range(0, 88888888)"
      ]
     },
     "execution_count": 44,
     "metadata": {},
     "output_type": "execute_result"
    }
   ],
   "source": [
    "range(88888888)"
   ]
  },
  {
   "cell_type": "code",
   "execution_count": 45,
   "id": "30db7274",
   "metadata": {},
   "outputs": [
    {
     "name": "stdout",
     "output_type": "stream",
     "text": [
      "hello world \n"
     ]
    }
   ],
   "source": [
    "print(\"hello world \")"
   ]
  },
  {
   "cell_type": "code",
   "execution_count": 51,
   "id": "30f2b7e1",
   "metadata": {},
   "outputs": [],
   "source": [
    "# set \n",
    "\n",
    "\n",
    "a = {1,2,3} \n",
    "b = {8989}"
   ]
  },
  {
   "cell_type": "code",
   "execution_count": 47,
   "id": "da7ae1a9",
   "metadata": {},
   "outputs": [
    {
     "data": {
      "text/plain": [
       "set"
      ]
     },
     "execution_count": 47,
     "metadata": {},
     "output_type": "execute_result"
    }
   ],
   "source": [
    "type(a)"
   ]
  },
  {
   "cell_type": "code",
   "execution_count": 50,
   "id": "53b6e509",
   "metadata": {},
   "outputs": [],
   "source": [
    "# dd1 = dict({\"keys\":\"value\"})"
   ]
  },
  {
   "cell_type": "code",
   "execution_count": 52,
   "id": "f801c9b4",
   "metadata": {},
   "outputs": [
    {
     "data": {
      "text/plain": [
       "set"
      ]
     },
     "execution_count": 52,
     "metadata": {},
     "output_type": "execute_result"
    }
   ],
   "source": [
    "type(b)"
   ]
  },
  {
   "cell_type": "code",
   "execution_count": 53,
   "id": "6610285a",
   "metadata": {},
   "outputs": [
    {
     "name": "stdout",
     "output_type": "stream",
     "text": [
      "{1, 2, 3}\n"
     ]
    }
   ],
   "source": [
    "print(a)"
   ]
  },
  {
   "cell_type": "code",
   "execution_count": 54,
   "id": "e656030d",
   "metadata": {},
   "outputs": [
    {
     "data": {
      "text/plain": [
       "{'interest': 'wish', 'apple': 'mac book'}"
      ]
     },
     "execution_count": 54,
     "metadata": {},
     "output_type": "execute_result"
    }
   ],
   "source": [
    "dd"
   ]
  },
  {
   "cell_type": "code",
   "execution_count": 55,
   "id": "d938ece2",
   "metadata": {},
   "outputs": [
    {
     "data": {
      "text/plain": [
       "dict_keys(['interest', 'apple'])"
      ]
     },
     "execution_count": 55,
     "metadata": {},
     "output_type": "execute_result"
    }
   ],
   "source": [
    "dd.keys()"
   ]
  },
  {
   "cell_type": "code",
   "execution_count": 56,
   "id": "8d7a6919",
   "metadata": {},
   "outputs": [
    {
     "data": {
      "text/plain": [
       "dict_values(['wish', 'mac book'])"
      ]
     },
     "execution_count": 56,
     "metadata": {},
     "output_type": "execute_result"
    }
   ],
   "source": [
    "dd.values()"
   ]
  },
  {
   "cell_type": "code",
   "execution_count": 57,
   "id": "3eab6cc6",
   "metadata": {},
   "outputs": [
    {
     "data": {
      "text/plain": [
       "dict_items([('interest', 'wish'), ('apple', 'mac book')])"
      ]
     },
     "execution_count": 57,
     "metadata": {},
     "output_type": "execute_result"
    }
   ],
   "source": [
    "dd.items()"
   ]
  },
  {
   "cell_type": "code",
   "execution_count": 60,
   "id": "90c4ca35",
   "metadata": {},
   "outputs": [
    {
     "data": {
      "text/plain": [
       "{'apple': 'mac book'}"
      ]
     },
     "execution_count": 60,
     "metadata": {},
     "output_type": "execute_result"
    }
   ],
   "source": [
    "word={'apple':'mac book'}\n",
    "word"
   ]
  },
  {
   "cell_type": "code",
   "execution_count": 61,
   "id": "0b3f6282",
   "metadata": {},
   "outputs": [
    {
     "name": "stdout",
     "output_type": "stream",
     "text": [
      "mac book is good product\n"
     ]
    }
   ],
   "source": [
    "\n",
    "s='apple is good product'\n",
    "for key,value in word.items():\n",
    "    if key in word:\n",
    "        r=s.replace('apple',value)\n",
    "        print(r)"
   ]
  },
  {
   "cell_type": "code",
   "execution_count": 66,
   "id": "8a2cc170",
   "metadata": {},
   "outputs": [
    {
     "data": {
      "text/plain": [
       "'mac book'"
      ]
     },
     "execution_count": 66,
     "metadata": {},
     "output_type": "execute_result"
    }
   ],
   "source": [
    "dd[\"apple\"]"
   ]
  },
  {
   "cell_type": "code",
   "execution_count": 91,
   "id": "01c4ffce",
   "metadata": {},
   "outputs": [
    {
     "data": {
      "text/plain": [
       "{'orange': 'mac book'}"
      ]
     },
     "execution_count": 91,
     "metadata": {},
     "output_type": "execute_result"
    }
   ],
   "source": [
    "x = \"apple is good friut\"\n",
    "dd1 = {'orange':'mac book'}\n",
    "dd1"
   ]
  },
  {
   "cell_type": "code",
   "execution_count": 90,
   "id": "265b1a08",
   "metadata": {},
   "outputs": [],
   "source": [
    "# v = dd1.values()\n"
   ]
  },
  {
   "cell_type": "code",
   "execution_count": 85,
   "id": "df4f0a62",
   "metadata": {},
   "outputs": [
    {
     "name": "stdout",
     "output_type": "stream",
     "text": [
      "yess\n"
     ]
    }
   ],
   "source": [
    "for i in dd1.keys():\n",
    "    if i in x:\n",
    "#         print(\"yess\")\n",
    "        x = x.replace(i,\"mac book\") , dd1.values()\n",
    "    "
   ]
  },
  {
   "cell_type": "code",
   "execution_count": 86,
   "id": "e413dde7",
   "metadata": {},
   "outputs": [
    {
     "data": {
      "text/plain": [
       "'mac book is good friut'"
      ]
     },
     "execution_count": 86,
     "metadata": {},
     "output_type": "execute_result"
    }
   ],
   "source": [
    "x"
   ]
  },
  {
   "cell_type": "code",
   "execution_count": null,
   "id": "d9396367",
   "metadata": {},
   "outputs": [],
   "source": [
    "# conditional statsments\n",
    "\n",
    "if cond:\n",
    "    print(\"success\")\n",
    "else:\n",
    "    print(\"failure\")"
   ]
  },
  {
   "cell_type": "code",
   "execution_count": 92,
   "id": "bd88863a",
   "metadata": {},
   "outputs": [],
   "source": [
    "a = 10\n",
    "b = 5\n",
    "\n",
    "gt\n",
    "lt\n",
    "eq\n",
    "not eq"
   ]
  },
  {
   "cell_type": "code",
   "execution_count": 96,
   "id": "c3645b3d",
   "metadata": {},
   "outputs": [
    {
     "name": "stdout",
     "output_type": "stream",
     "text": [
      "failed\n"
     ]
    }
   ],
   "source": [
    "if a < b:      \n",
    "    print(\"yes\",a)\n",
    "else:\n",
    "    print(\"failed\")"
   ]
  },
  {
   "cell_type": "code",
   "execution_count": null,
   "id": "a7348c07",
   "metadata": {},
   "outputs": [],
   "source": [
    "for loop\n",
    "\n",
    "c = 0 , c < n , c++ -> not necessary"
   ]
  },
  {
   "cell_type": "code",
   "execution_count": null,
   "id": "27513319",
   "metadata": {},
   "outputs": [],
   "source": [
    "for loop will give input as data type"
   ]
  },
  {
   "cell_type": "code",
   "execution_count": 98,
   "id": "a32fd36b",
   "metadata": {},
   "outputs": [],
   "source": [
    "x = [1,2,3,4,5]"
   ]
  },
  {
   "cell_type": "code",
   "execution_count": 102,
   "id": "743a345d",
   "metadata": {},
   "outputs": [
    {
     "data": {
      "text/plain": [
       "5"
      ]
     },
     "execution_count": 102,
     "metadata": {},
     "output_type": "execute_result"
    }
   ],
   "source": [
    "len(x)"
   ]
  },
  {
   "cell_type": "code",
   "execution_count": null,
   "id": "374e1f3f",
   "metadata": {},
   "outputs": [],
   "source": [
    "syntax:\n",
    "    for i in data type or val:\n",
    "        sttt\n",
    "        "
   ]
  },
  {
   "cell_type": "code",
   "execution_count": 101,
   "id": "a7e2f4dc",
   "metadata": {},
   "outputs": [
    {
     "name": "stdout",
     "output_type": "stream",
     "text": [
      "1\n",
      "2\n",
      "3\n",
      "4\n",
      "5\n"
     ]
    }
   ],
   "source": [
    "for i in x:\n",
    "    print(i)"
   ]
  },
  {
   "cell_type": "code",
   "execution_count": 109,
   "id": "eda5b517",
   "metadata": {},
   "outputs": [],
   "source": [
    "l = [\"python\",\"c\",\"jave\"]\n",
    "t = (\"python\",\"c++\")\n",
    "s = \"murali\"\n",
    "word={'apple':'mac book'}"
   ]
  },
  {
   "cell_type": "code",
   "execution_count": 110,
   "id": "50e501a2",
   "metadata": {
    "collapsed": true
   },
   "outputs": [
    {
     "name": "stdout",
     "output_type": "stream",
     "text": [
      "python\n",
      "c\n",
      "jave\n"
     ]
    }
   ],
   "source": [
    "for i in l:\n",
    "    print(i)"
   ]
  },
  {
   "cell_type": "code",
   "execution_count": 111,
   "id": "411fcd16",
   "metadata": {
    "collapsed": true
   },
   "outputs": [
    {
     "name": "stdout",
     "output_type": "stream",
     "text": [
      "python\n",
      "c++\n"
     ]
    }
   ],
   "source": [
    "for i in t:\n",
    "    print(i)"
   ]
  },
  {
   "cell_type": "code",
   "execution_count": 112,
   "id": "971b8946",
   "metadata": {
    "collapsed": true
   },
   "outputs": [
    {
     "name": "stdout",
     "output_type": "stream",
     "text": [
      "m\n",
      "u\n",
      "r\n",
      "a\n",
      "l\n",
      "i\n"
     ]
    }
   ],
   "source": [
    "for i in s:\n",
    "    print(i)"
   ]
  },
  {
   "cell_type": "code",
   "execution_count": 117,
   "id": "a7e0de61",
   "metadata": {},
   "outputs": [
    {
     "name": "stdout",
     "output_type": "stream",
     "text": [
      "apple mac book\n"
     ]
    }
   ],
   "source": [
    "for i,j in word.items():\n",
    "    print(i,j)"
   ]
  },
  {
   "cell_type": "code",
   "execution_count": 114,
   "id": "662dfd0e",
   "metadata": {
    "collapsed": true
   },
   "outputs": [
    {
     "name": "stdout",
     "output_type": "stream",
     "text": [
      "0\n",
      "1\n",
      "2\n",
      "3\n",
      "4\n",
      "5\n"
     ]
    }
   ],
   "source": [
    "for i in range(0,6):\n",
    "    print(i)"
   ]
  },
  {
   "cell_type": "code",
   "execution_count": 115,
   "id": "826658b5",
   "metadata": {},
   "outputs": [
    {
     "data": {
      "text/plain": [
       "{'apple': 'mac book'}"
      ]
     },
     "execution_count": 115,
     "metadata": {},
     "output_type": "execute_result"
    }
   ],
   "source": [
    "word"
   ]
  },
  {
   "cell_type": "code",
   "execution_count": 118,
   "id": "3732215b",
   "metadata": {},
   "outputs": [],
   "source": [
    "x = 5"
   ]
  },
  {
   "cell_type": "code",
   "execution_count": 119,
   "id": "1198d026",
   "metadata": {},
   "outputs": [],
   "source": [
    "import numpy"
   ]
  },
  {
   "cell_type": "code",
   "execution_count": 120,
   "id": "b47a1b93",
   "metadata": {},
   "outputs": [
    {
     "data": {
      "text/plain": [
       "5"
      ]
     },
     "execution_count": 120,
     "metadata": {},
     "output_type": "execute_result"
    }
   ],
   "source": [
    "numpy.abs(5)"
   ]
  },
  {
   "cell_type": "code",
   "execution_count": 122,
   "id": "04a612cc",
   "metadata": {},
   "outputs": [
    {
     "data": {
      "text/plain": [
       "5"
      ]
     },
     "execution_count": 122,
     "metadata": {},
     "output_type": "execute_result"
    }
   ],
   "source": [
    "numpy.abs(x)"
   ]
  },
  {
   "cell_type": "code",
   "execution_count": 124,
   "id": "9e215ead",
   "metadata": {},
   "outputs": [
    {
     "data": {
      "text/plain": [
       "5"
      ]
     },
     "execution_count": 124,
     "metadata": {},
     "output_type": "execute_result"
    }
   ],
   "source": [
    "x.numerator"
   ]
  },
  {
   "cell_type": "code",
   "execution_count": null,
   "id": "7dc5da8e",
   "metadata": {},
   "outputs": [],
   "source": [
    "number function - numpy"
   ]
  },
  {
   "cell_type": "code",
   "execution_count": 125,
   "id": "33413f4f",
   "metadata": {},
   "outputs": [
    {
     "data": {
      "text/plain": [
       "2.23606797749979"
      ]
     },
     "execution_count": 125,
     "metadata": {},
     "output_type": "execute_result"
    }
   ],
   "source": [
    "numpy.sqrt(x)"
   ]
  },
  {
   "cell_type": "code",
   "execution_count": 126,
   "id": "474b48f9",
   "metadata": {},
   "outputs": [],
   "source": [
    "x = \"murali\""
   ]
  },
  {
   "cell_type": "code",
   "execution_count": 127,
   "id": "cbdf38f8",
   "metadata": {},
   "outputs": [
    {
     "data": {
      "text/plain": [
       "'Murali'"
      ]
     },
     "execution_count": 127,
     "metadata": {},
     "output_type": "execute_result"
    }
   ],
   "source": [
    "x.capitalize()"
   ]
  },
  {
   "cell_type": "code",
   "execution_count": 128,
   "id": "5efecb89",
   "metadata": {},
   "outputs": [],
   "source": [
    "# string funcitons"
   ]
  },
  {
   "cell_type": "code",
   "execution_count": 129,
   "id": "165a245a",
   "metadata": {},
   "outputs": [],
   "source": [
    "x = int(5)"
   ]
  },
  {
   "cell_type": "code",
   "execution_count": 130,
   "id": "3d58e68a",
   "metadata": {},
   "outputs": [
    {
     "name": "stdout",
     "output_type": "stream",
     "text": [
      "s;g;sgjksdg\n"
     ]
    },
    {
     "ename": "ValueError",
     "evalue": "invalid literal for int() with base 10: 's;g;sgjksdg'",
     "output_type": "error",
     "traceback": [
      "\u001b[1;31m---------------------------------------------------------------------------\u001b[0m",
      "\u001b[1;31mValueError\u001b[0m                                Traceback (most recent call last)",
      "\u001b[1;32m~\\AppData\\Local\\Temp\\ipykernel_19212\\118739619.py\u001b[0m in \u001b[0;36m<module>\u001b[1;34m\u001b[0m\n\u001b[1;32m----> 1\u001b[1;33m \u001b[0mx\u001b[0m \u001b[1;33m=\u001b[0m \u001b[0mint\u001b[0m\u001b[1;33m(\u001b[0m\u001b[0minput\u001b[0m\u001b[1;33m(\u001b[0m\u001b[1;33m)\u001b[0m\u001b[1;33m)\u001b[0m\u001b[1;33m\u001b[0m\u001b[1;33m\u001b[0m\u001b[0m\n\u001b[0m",
      "\u001b[1;31mValueError\u001b[0m: invalid literal for int() with base 10: 's;g;sgjksdg'"
     ]
    }
   ],
   "source": [
    "x = int(input())"
   ]
  },
  {
   "cell_type": "code",
   "execution_count": 131,
   "id": "5e0712d0",
   "metadata": {},
   "outputs": [
    {
     "ename": "ZeroDivisionError",
     "evalue": "division by zero",
     "output_type": "error",
     "traceback": [
      "\u001b[1;31m---------------------------------------------------------------------------\u001b[0m",
      "\u001b[1;31mZeroDivisionError\u001b[0m                         Traceback (most recent call last)",
      "\u001b[1;32m~\\AppData\\Local\\Temp\\ipykernel_19212\\2354412189.py\u001b[0m in \u001b[0;36m<module>\u001b[1;34m\u001b[0m\n\u001b[1;32m----> 1\u001b[1;33m \u001b[1;36m1\u001b[0m\u001b[1;33m/\u001b[0m\u001b[1;36m0\u001b[0m\u001b[1;33m\u001b[0m\u001b[1;33m\u001b[0m\u001b[0m\n\u001b[0m",
      "\u001b[1;31mZeroDivisionError\u001b[0m: division by zero"
     ]
    }
   ],
   "source": [
    "1/0"
   ]
  },
  {
   "cell_type": "code",
   "execution_count": 132,
   "id": "fbdfed3c",
   "metadata": {},
   "outputs": [
    {
     "ename": "IndentationError",
     "evalue": "expected an indented block (3666779265.py, line 2)",
     "output_type": "error",
     "traceback": [
      "\u001b[1;36m  File \u001b[1;32m\"C:\\Users\\Disha\\AppData\\Local\\Temp\\ipykernel_19212\\3666779265.py\"\u001b[1;36m, line \u001b[1;32m2\u001b[0m\n\u001b[1;33m    print(i)\u001b[0m\n\u001b[1;37m    ^\u001b[0m\n\u001b[1;31mIndentationError\u001b[0m\u001b[1;31m:\u001b[0m expected an indented block\n"
     ]
    }
   ],
   "source": [
    "for i in range(0,6):\n",
    "print(i)"
   ]
  },
  {
   "cell_type": "code",
   "execution_count": 133,
   "id": "15b8b7b3",
   "metadata": {},
   "outputs": [
    {
     "ename": "SyntaxError",
     "evalue": "invalid syntax (574342232.py, line 1)",
     "output_type": "error",
     "traceback": [
      "\u001b[1;36m  File \u001b[1;32m\"C:\\Users\\Disha\\AppData\\Local\\Temp\\ipykernel_19212\\574342232.py\"\u001b[1;36m, line \u001b[1;32m1\u001b[0m\n\u001b[1;33m    fro i in range(6):\u001b[0m\n\u001b[1;37m        ^\u001b[0m\n\u001b[1;31mSyntaxError\u001b[0m\u001b[1;31m:\u001b[0m invalid syntax\n"
     ]
    }
   ],
   "source": [
    "fro i in range(6):\n",
    "    print(i)"
   ]
  },
  {
   "cell_type": "code",
   "execution_count": 134,
   "id": "533610da",
   "metadata": {},
   "outputs": [],
   "source": [
    "x = 6"
   ]
  },
  {
   "cell_type": "code",
   "execution_count": 135,
   "id": "0db81634",
   "metadata": {},
   "outputs": [
    {
     "ename": "NameError",
     "evalue": "name 'X' is not defined",
     "output_type": "error",
     "traceback": [
      "\u001b[1;31m---------------------------------------------------------------------------\u001b[0m",
      "\u001b[1;31mNameError\u001b[0m                                 Traceback (most recent call last)",
      "\u001b[1;32m~\\AppData\\Local\\Temp\\ipykernel_19212\\1775643888.py\u001b[0m in \u001b[0;36m<module>\u001b[1;34m\u001b[0m\n\u001b[1;32m----> 1\u001b[1;33m \u001b[0mprint\u001b[0m\u001b[1;33m(\u001b[0m\u001b[0mX\u001b[0m\u001b[1;33m)\u001b[0m\u001b[1;33m\u001b[0m\u001b[1;33m\u001b[0m\u001b[0m\n\u001b[0m",
      "\u001b[1;31mNameError\u001b[0m: name 'X' is not defined"
     ]
    }
   ],
   "source": [
    "print(X)"
   ]
  },
  {
   "cell_type": "code",
   "execution_count": 136,
   "id": "abe4edcc",
   "metadata": {},
   "outputs": [],
   "source": [
    "tup=('a','b')"
   ]
  },
  {
   "cell_type": "code",
   "execution_count": 160,
   "id": "72e34a0a",
   "metadata": {},
   "outputs": [],
   "source": [
    "# while loop:"
   ]
  },
  {
   "cell_type": "code",
   "execution_count": null,
   "id": "7455035e",
   "metadata": {},
   "outputs": [],
   "source": [
    "syntax:\n",
    "i = 1      \n",
    "while i < limit:  conditional pass until\n",
    "    sttt\n",
    "    i = i+1"
   ]
  },
  {
   "cell_type": "code",
   "execution_count": 166,
   "id": "65211be7",
   "metadata": {
    "collapsed": true
   },
   "outputs": [
    {
     "name": "stdout",
     "output_type": "stream",
     "text": [
      "0\n",
      "1\n",
      "2\n",
      "3\n",
      "4\n",
      "5\n"
     ]
    }
   ],
   "source": [
    "i = 0\n",
    "while i < 6:\n",
    "    ls  = [1,1,22]\n",
    "    \n",
    "    i = i+1"
   ]
  },
  {
   "cell_type": "code",
   "execution_count": 164,
   "id": "6d47ced9",
   "metadata": {
    "collapsed": true
   },
   "outputs": [
    {
     "name": "stdout",
     "output_type": "stream",
     "text": [
      "0\n",
      "1\n",
      "2\n",
      "3\n",
      "4\n",
      "5\n"
     ]
    }
   ],
   "source": [
    "for i in range(0,6):\n",
    "    print(i)"
   ]
  },
  {
   "cell_type": "code",
   "execution_count": 167,
   "id": "038324d4",
   "metadata": {},
   "outputs": [],
   "source": [
    "v = {\"name\":\"murali\" , \"lis\":[1,2,3,4]}"
   ]
  },
  {
   "cell_type": "code",
   "execution_count": 168,
   "id": "bbdfa0a5",
   "metadata": {},
   "outputs": [
    {
     "data": {
      "text/plain": [
       "{'name': 'murali', 'lis': [1, 2, 3, 4]}"
      ]
     },
     "execution_count": 168,
     "metadata": {},
     "output_type": "execute_result"
    }
   ],
   "source": [
    "v"
   ]
  },
  {
   "cell_type": "code",
   "execution_count": 169,
   "id": "42afb028",
   "metadata": {},
   "outputs": [],
   "source": [
    "cred = {\"user\":\"mural099\" , \"pwd\":'passwrod'}"
   ]
  },
  {
   "cell_type": "code",
   "execution_count": 170,
   "id": "8d886bb3",
   "metadata": {},
   "outputs": [
    {
     "data": {
      "text/plain": [
       "'passwrod'"
      ]
     },
     "execution_count": 170,
     "metadata": {},
     "output_type": "execute_result"
    }
   ],
   "source": [
    "if login in cred[\"pwd\"]:\n",
    "    login to server"
   ]
  },
  {
   "cell_type": "code",
   "execution_count": 174,
   "id": "5f5359cb",
   "metadata": {
    "collapsed": true
   },
   "outputs": [
    {
     "name": "stdout",
     "output_type": "stream",
     "text": [
      "0\n",
      "1\n",
      "2\n",
      "3\n",
      "4\n",
      "5\n",
      "6\n"
     ]
    }
   ],
   "source": [
    "for sabari in range(7):\n",
    "    print(sabari)"
   ]
  },
  {
   "cell_type": "code",
   "execution_count": null,
   "id": "18e80dbe",
   "metadata": {},
   "outputs": [],
   "source": [
    "\n",
    "module1 - Tasks\n",
    "\n",
    "1.create list with your eductaion details\n",
    "2.create dictionary with your family details\n",
    "3.create python data type with values btn 40 to 500\n",
    "4.your 10th marks is gt 300 then grade c , gt 400 grade b , gt 450 grade a,\n",
    "lt 200 fail , no matches others\n",
    "5.pass the task 1 to 3 to loop , print the values\n",
    "6.create string data type and save it in to variable \"string\" apply string funtions\n",
    "7.create numer variable then apply numeric function from numpy library\n",
    "8.create name error with example\n",
    "9.create one class with function of upper , lower , left , right \n",
    "    - pass the value task 6 then show the each fucntion result\n",
    "10.create function for sqrt , a+b ^2 , a+b ^3 ,C =  9x^2+8y+10z\n"
   ]
  },
  {
   "cell_type": "code",
   "execution_count": 195,
   "id": "987476dc",
   "metadata": {},
   "outputs": [
    {
     "ename": "SyntaxError",
     "evalue": "invalid syntax (1762179986.py, line 3)",
     "output_type": "error",
     "traceback": [
      "\u001b[1;36m  File \u001b[1;32m\"C:\\Users\\Disha\\AppData\\Local\\Temp\\ipykernel_19212\\1762179986.py\"\u001b[1;36m, line \u001b[1;32m3\u001b[0m\n\u001b[1;33m    next()  - move to next item for iterable ( return value)\u001b[0m\n\u001b[1;37m                   ^\u001b[0m\n\u001b[1;31mSyntaxError\u001b[0m\u001b[1;31m:\u001b[0m invalid syntax\n"
     ]
    }
   ],
   "source": [
    "# iterators \n",
    "iter - initalize\n",
    "next()  - move to next item for iterable ( return value)\n"
   ]
  },
  {
   "cell_type": "code",
   "execution_count": 196,
   "id": "76237de9",
   "metadata": {},
   "outputs": [],
   "source": [
    "string = \"python\""
   ]
  },
  {
   "cell_type": "code",
   "execution_count": 197,
   "id": "913f678f",
   "metadata": {},
   "outputs": [
    {
     "data": {
      "text/plain": [
       "str"
      ]
     },
     "execution_count": 197,
     "metadata": {},
     "output_type": "execute_result"
    }
   ],
   "source": [
    "type(string)"
   ]
  },
  {
   "cell_type": "code",
   "execution_count": 198,
   "id": "252d787b",
   "metadata": {},
   "outputs": [],
   "source": [
    "char = iter(string)"
   ]
  },
  {
   "cell_type": "code",
   "execution_count": 199,
   "id": "3be1dcf1",
   "metadata": {},
   "outputs": [
    {
     "data": {
      "text/plain": [
       "<str_iterator at 0x291578ecca0>"
      ]
     },
     "execution_count": 199,
     "metadata": {},
     "output_type": "execute_result"
    }
   ],
   "source": [
    "char"
   ]
  },
  {
   "cell_type": "code",
   "execution_count": 209,
   "id": "1a1249a6",
   "metadata": {},
   "outputs": [],
   "source": [
    "next(char)"
   ]
  },
  {
   "cell_type": "code",
   "execution_count": null,
   "id": "f30b17c8",
   "metadata": {},
   "outputs": [],
   "source": []
  },
  {
   "cell_type": "code",
   "execution_count": 206,
   "id": "854c6931",
   "metadata": {},
   "outputs": [
    {
     "data": {
      "text/plain": [
       "('a', 'b')"
      ]
     },
     "execution_count": 206,
     "metadata": {},
     "output_type": "execute_result"
    }
   ],
   "source": [
    "tup = ('a,'b')"
   ]
  },
  {
   "cell_type": "code",
   "execution_count": 214,
   "id": "ff01667f",
   "metadata": {},
   "outputs": [
    {
     "data": {
      "text/plain": [
       "'a'"
      ]
     },
     "execution_count": 214,
     "metadata": {},
     "output_type": "execute_result"
    }
   ],
   "source": [
    "tupe = iter(tup)\n",
    "next(tupe)"
   ]
  },
  {
   "cell_type": "code",
   "execution_count": 212,
   "id": "f79fa598",
   "metadata": {},
   "outputs": [
    {
     "name": "stdout",
     "output_type": "stream",
     "text": [
      "a\n",
      "b\n"
     ]
    }
   ],
   "source": [
    "for item in tup:\n",
    "    print(item)"
   ]
  },
  {
   "cell_type": "code",
   "execution_count": 140,
   "id": "d9a5b807",
   "metadata": {},
   "outputs": [],
   "source": [
    "string = \"ptyhon\""
   ]
  },
  {
   "cell_type": "code",
   "execution_count": 141,
   "id": "b3ddbfac",
   "metadata": {},
   "outputs": [],
   "source": [
    "c = iter(string)"
   ]
  },
  {
   "cell_type": "code",
   "execution_count": 144,
   "id": "0eef4aac",
   "metadata": {},
   "outputs": [
    {
     "data": {
      "text/plain": [
       "'y'"
      ]
     },
     "execution_count": 144,
     "metadata": {},
     "output_type": "execute_result"
    }
   ],
   "source": [
    "next(c)"
   ]
  },
  {
   "cell_type": "code",
   "execution_count": 217,
   "id": "ee620c50",
   "metadata": {},
   "outputs": [],
   "source": [
    "import pickle\n",
    "x = 5"
   ]
  },
  {
   "cell_type": "code",
   "execution_count": 218,
   "id": "ac16c3fe",
   "metadata": {},
   "outputs": [],
   "source": [
    "y = 10"
   ]
  },
  {
   "cell_type": "code",
   "execution_count": 219,
   "id": "bc9f1a30",
   "metadata": {},
   "outputs": [],
   "source": [
    "# 20 tera bite  , data base , data repository , cloud ( huge volume of file)"
   ]
  },
  {
   "cell_type": "code",
   "execution_count": null,
   "id": "7e0b16e7",
   "metadata": {},
   "outputs": [],
   "source": [
    ".pkl ( dump )\n",
    ".csv\n",
    ".txt\n",
    ".xlsx"
   ]
  },
  {
   "cell_type": "markdown",
   "id": "419f4e8f",
   "metadata": {},
   "source": [
    "# pickling in python"
   ]
  },
  {
   "cell_type": "code",
   "execution_count": 145,
   "id": "742f4a5f",
   "metadata": {},
   "outputs": [],
   "source": [
    "# Python pickle module is used for serializing and de-serializing a Python object structure. Any object in Python can be pickled so that it can be saved on disk. What pickle does is that it “serializes” the object first before writing it to file. Pickling is a way to convert a python object (list, dict, etc.) into a character stream. The idea is that this character stream contains all the information necessary to reconstruct the object in another python script."
   ]
  },
  {
   "cell_type": "code",
   "execution_count": 224,
   "id": "59030d7f",
   "metadata": {},
   "outputs": [],
   "source": [
    "\n",
    "    Omkar = {'key' : 'Omkar', 'name' : 'Omkar Pathak',\n",
    "    'age' : 21, 'pay' : 40000}\n",
    "    Jagdish = {'key' : 'Jagdish', 'name' : 'Jagdish Pathak',\n",
    "    'age' : 50, 'pay' : 50000}\n",
    "  \n"
   ]
  },
  {
   "cell_type": "code",
   "execution_count": 222,
   "id": "4636fae1",
   "metadata": {},
   "outputs": [
    {
     "data": {
      "text/plain": [
       "{'key': 'Omkar', 'name': 'Omkar Pathak', 'age': 21, 'pay': 40000}"
      ]
     },
     "execution_count": 222,
     "metadata": {},
     "output_type": "execute_result"
    }
   ],
   "source": [
    "Omkar"
   ]
  },
  {
   "cell_type": "code",
   "execution_count": 225,
   "id": "6e5409ee",
   "metadata": {},
   "outputs": [
    {
     "data": {
      "text/plain": [
       "{'key': 'Jagdish', 'name': 'Jagdish Pathak', 'age': 50, 'pay': 50000}"
      ]
     },
     "execution_count": 225,
     "metadata": {},
     "output_type": "execute_result"
    }
   ],
   "source": [
    "Jagdish"
   ]
  },
  {
   "cell_type": "code",
   "execution_count": 230,
   "id": "8c3b23a5",
   "metadata": {},
   "outputs": [],
   "source": [
    "  \n",
    "    # database\n",
    "    db = {}\n",
    "    db['kamal'] = Omkar  - 222\n",
    "    db['rajini'] = Jagdish - 225"
   ]
  },
  {
   "cell_type": "code",
   "execution_count": 231,
   "id": "195ed002",
   "metadata": {},
   "outputs": [
    {
     "data": {
      "text/plain": [
       "{'kamal': {'key': 'Omkar', 'name': 'Omkar Pathak', 'age': 21, 'pay': 40000},\n",
       " 'rajini': {'key': 'Jagdish',\n",
       "  'name': 'Jagdish Pathak',\n",
       "  'age': 50,\n",
       "  'pay': 50000}}"
      ]
     },
     "execution_count": 231,
     "metadata": {},
     "output_type": "execute_result"
    }
   ],
   "source": [
    "db"
   ]
  },
  {
   "cell_type": "code",
   "execution_count": null,
   "id": "abcbcc6d",
   "metadata": {},
   "outputs": [],
   "source": []
  },
  {
   "cell_type": "code",
   "execution_count": 256,
   "id": "ae18690e",
   "metadata": {},
   "outputs": [],
   "source": [
    "import pickle\n",
    "  \n",
    "def storeData():\n",
    "    # initializing data to be stored in db\n",
    "    Omkar = {'key' : 'Omkar', 'name' : 'Omkar Pathak',\n",
    "    'age' : 21, 'pay' : 40000}\n",
    "    Jagdish = {'key' : 'Jagdish', 'name' : 'Jagdish Pathak',\n",
    "    'age' : 50, 'pay' : 50000}\n",
    "  \n",
    "    # database\n",
    "    db = {}\n",
    "    db['Omkar'] = Omkar\n",
    "    db['Jagdish'] = Jagdish\n",
    "      \n",
    "    # Its important to use binary mode  - file handling\n",
    "    dbfile = open('examplePickle', 'ab')\n",
    "      \n",
    "    # source, destination\n",
    "    import pickle\n",
    "    pickle.dump(db, dbfile)                     \n",
    "    dbfile.close()\n",
    "    \n",
    "  "
   ]
  },
  {
   "cell_type": "code",
   "execution_count": 257,
   "id": "2a366dd3",
   "metadata": {},
   "outputs": [],
   "source": [
    "# storeData()"
   ]
  },
  {
   "cell_type": "code",
   "execution_count": null,
   "id": "88286f6a",
   "metadata": {},
   "outputs": [],
   "source": []
  },
  {
   "cell_type": "code",
   "execution_count": 241,
   "id": "ad32d7af",
   "metadata": {},
   "outputs": [],
   "source": [
    "# import pandas\n",
    "# x = pandas.read_pickle(r\"C:\\Users\\Disha\\Documents\\examplePickle.pkl\")"
   ]
  },
  {
   "cell_type": "code",
   "execution_count": 234,
   "id": "e5cabe1f",
   "metadata": {},
   "outputs": [
    {
     "data": {
      "text/plain": [
       "'C:\\\\Users\\\\Disha\\\\Documents'"
      ]
     },
     "execution_count": 234,
     "metadata": {},
     "output_type": "execute_result"
    }
   ],
   "source": [
    "import os\n",
    "os.getcwd()"
   ]
  },
  {
   "cell_type": "code",
   "execution_count": 258,
   "id": "bc2e0fe0",
   "metadata": {},
   "outputs": [],
   "source": [
    "def loadData():\n",
    "    # for reading also binary mode is important\n",
    "    dbfile = open('examplePickle', 'rb')     \n",
    "    db = pickle.load(dbfile)\n",
    "    for keys in db:\n",
    "        print(keys, '=>', db[keys])\n",
    "    dbfile.close()"
   ]
  },
  {
   "cell_type": "code",
   "execution_count": 259,
   "id": "47506936",
   "metadata": {},
   "outputs": [
    {
     "name": "stdout",
     "output_type": "stream",
     "text": [
      "Omkar => {'key': 'Omkar', 'name': 'Omkar Pathak', 'age': 21, 'pay': 40000}\n",
      "Jagdish => {'key': 'Jagdish', 'name': 'Jagdish Pathak', 'age': 50, 'pay': 50000}\n"
     ]
    }
   ],
   "source": [
    "storeData()\n",
    "loadData()"
   ]
  },
  {
   "cell_type": "code",
   "execution_count": 260,
   "id": "0ae6e54e",
   "metadata": {},
   "outputs": [],
   "source": [
    "# initializing data to be stored in db\n",
    "Omkar = {'key' : 'Omkar', 'name' : 'Omkar Pathak', \n",
    "'age' : 21, 'pay' : 40000}\n",
    "Jagdish = {'key' : 'Jagdish', 'name' : 'Jagdish Pathak',\n",
    "'age' : 50, 'pay' : 50000}\n",
    "  \n",
    "# database\n",
    "db = {}\n",
    "db['Omkar'] = Omkar\n",
    "db['Jagdish'] = Jagdish\n"
   ]
  },
  {
   "cell_type": "code",
   "execution_count": 261,
   "id": "5a570d65",
   "metadata": {},
   "outputs": [],
   "source": [
    "# myEntry\n",
    "\n",
    "b = pickle.dumps(db)"
   ]
  },
  {
   "cell_type": "code",
   "execution_count": 262,
   "id": "dcf4a570",
   "metadata": {},
   "outputs": [
    {
     "data": {
      "text/plain": [
       "b'\\x80\\x04\\x95n\\x00\\x00\\x00\\x00\\x00\\x00\\x00}\\x94(\\x8c\\x05Omkar\\x94}\\x94(\\x8c\\x03key\\x94h\\x01\\x8c\\x04name\\x94\\x8c\\x0cOmkar Pathak\\x94\\x8c\\x03age\\x94K\\x15\\x8c\\x03pay\\x94M@\\x9cu\\x8c\\x07Jagdish\\x94}\\x94(h\\x03h\\x08h\\x04\\x8c\\x0eJagdish Pathak\\x94h\\x06K2h\\x07MP\\xc3uu.'"
      ]
     },
     "execution_count": 262,
     "metadata": {},
     "output_type": "execute_result"
    }
   ],
   "source": [
    "b"
   ]
  },
  {
   "cell_type": "code",
   "execution_count": 263,
   "id": "d6b1ae66",
   "metadata": {},
   "outputs": [
    {
     "name": "stdout",
     "output_type": "stream",
     "text": [
      "{'Omkar': {'key': 'Omkar', 'name': 'Omkar Pathak', 'age': 21, 'pay': 40000}, 'Jagdish': {'key': 'Jagdish', 'name': 'Jagdish Pathak', 'age': 50, 'pay': 50000}}\n"
     ]
    }
   ],
   "source": [
    "  \n",
    "# For storing\n",
    "b = pickle.dumps(db)       \n",
    "  \n",
    "# For loading\n",
    "myEntry = pickle.loads(b)\n",
    "print(myEntry)"
   ]
  },
  {
   "cell_type": "code",
   "execution_count": 153,
   "id": "d905ae87",
   "metadata": {},
   "outputs": [],
   "source": [
    "# Advantages of using Pickle Module:\n",
    "\n",
    "# Recursive objects (objects containing references to themselves): Pickle keeps track of the objects it has already serialized, so later references to the same object won’t be serialized again. (The marshal module breaks for this.)\n",
    "# Object sharing (references to the same object in different places): This is similar to self- referencing objects; pickle stores the object once, and ensures that all other references point to the master copy. Shared objects remain shared, which can be very important for mutable objects.\n",
    "# User-defined classes and their instances: Marshal does not support these at all, but pickle can save and restore class instances transparently. The class definition must be importable and live in the same module as when the object was stored."
   ]
  },
  {
   "cell_type": "markdown",
   "id": "1c7a1e4a",
   "metadata": {},
   "source": [
    "# iterators"
   ]
  },
  {
   "cell_type": "code",
   "execution_count": 159,
   "id": "b8b9ce88",
   "metadata": {},
   "outputs": [],
   "source": [
    "Iterator in Python is an object that is used to iterate over iterable objects like lists, tuples, dicts, and sets. The iterator object is initialized using the iter() method. It uses the next() method for iteration.\n",
    "\n",
    "__iter__(): The iter() method is called for the initialization of an iterator. This returns an iterator object\n",
    "__next__(): The next method returns the next value for the iterable. When we use a for loop to traverse any iterable object, internally it uses the iter() method to get an iterator object, which further uses the next() method to iterate over. This method raises a StopIteration to signal the end of the iteration."
   ]
  },
  {
   "cell_type": "code",
   "execution_count": null,
   "id": "6fd8233e",
   "metadata": {},
   "outputs": [],
   "source": []
  },
  {
   "cell_type": "code",
   "execution_count": 215,
   "id": "d41c09db",
   "metadata": {},
   "outputs": [
    {
     "name": "stdout",
     "output_type": "stream",
     "text": [
      "10\n",
      "11\n",
      "12\n",
      "13\n",
      "14\n",
      "15\n"
     ]
    }
   ],
   "source": [
    "class Test:\n",
    " \n",
    "\n",
    "    def __init__(self, limit):\n",
    "        self.limit = limit\n",
    " \n",
    "    def __iter__(self):\n",
    "        self.x = 10\n",
    "        return self\n",
    "    def __next__(self):\n",
    " \n",
    "\n",
    "        x = self.x\n",
    "\n",
    "        if x > self.limit:\n",
    "            raise StopIteration\n",
    " \n",
    "        # Else increment and return old value\n",
    "        self.x = x + 1;\n",
    "        return x\n",
    " \n",
    "# Prints numbers from 10 to 15\n",
    "for i in Test(15):\n",
    "    print(i)\n",
    " \n",
    "# Prints nothing\n",
    "for i in Test(5):\n",
    "    print(i)"
   ]
  },
  {
   "cell_type": "code",
   "execution_count": null,
   "id": "770495a1",
   "metadata": {},
   "outputs": [],
   "source": [
    " "
   ]
  }
 ],
 "metadata": {
  "kernelspec": {
   "display_name": "Python 3 (ipykernel)",
   "language": "python",
   "name": "python3"
  },
  "language_info": {
   "codemirror_mode": {
    "name": "ipython",
    "version": 3
   },
   "file_extension": ".py",
   "mimetype": "text/x-python",
   "name": "python",
   "nbconvert_exporter": "python",
   "pygments_lexer": "ipython3",
   "version": "3.9.13"
  }
 },
 "nbformat": 4,
 "nbformat_minor": 5
}
